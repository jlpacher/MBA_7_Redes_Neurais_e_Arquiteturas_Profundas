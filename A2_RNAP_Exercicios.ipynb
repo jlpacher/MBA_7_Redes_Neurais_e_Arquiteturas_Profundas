{
 "cells": [
  {
   "cell_type": "markdown",
   "metadata": {},
   "source": [
    "## MBA em Ciência de Dados\n",
    "# Redes Neurais e Arquiteturas Profundas\n",
    "\n",
    "### <span style=\"color:darkred\">Módulo II - Redes Neurais Convolucionais (CNNs)</span>\n",
    "\n",
    "\n",
    "### <span style=\"color:darkred\">Exercícios com soluções</span>\n",
    "\n",
    "Moacir Antonelli Ponti\n",
    "\n",
    "CeMEAI - ICMC/USP São Carlos\n",
    "\n",
    "---\n",
    "\n",
    "#### <span style=\"color:red\">Recomenda-se fortemente que os exercícios sejam feitos sem consultar as respostas antecipadamente.</span>\n",
    "\n",
    "---"
   ]
  },
  {
   "cell_type": "markdown",
   "metadata": {},
   "source": [
    "### Exercício 1)\n",
    "\n",
    "Como se comparam uma camada densa e uma camada convolucional?\n",
    " \n",
    " (a) Camadas densas são formadas por filtros que processam os dados localmente, enquanto as convolucionais permitem obter combinações lineares de todos os dados de entrada e por isso possuem menor quantidade de parâmetros<br>\n",
    "(b) As camadas convolucionais se diferenciam das densas por não assumir independência entre os dados de entrada</font><br>\n",
    " (c) As camadas densas realizam uma combinação linear de todos os elementos de entrada, enquanto as camadas convolucionais também processam todos os elementos da entrada, mas são consideradas não lineares<br>\n",
    "<font color='red'>  (d) Camadas convolucionais atuam sobre valores de campo receptivo local, processando localmente valores da entrada com os mesmos pesos, enquanto camadas densas possuem um peso para cada elemento da entrada.</font><br><br>"
   ]
  },
  {
   "cell_type": "markdown",
   "metadata": {},
   "source": [
    "Convolucionais: Dependência espacial, combinaçao linear local tendo como saída 1 escalar por posição (neurônio), aplicação de um filtro que sempre tem os mesmos pesos num campo receptivo local.\n",
    "\n",
    "Densas (MLP): Independência entre os dados, combinação linear de todos os exemplos tendo como saída 1 escalar, aplicação de pesos diferentes para cada atributo de entrada."
   ]
  },
  {
   "cell_type": "markdown",
   "metadata": {},
   "source": [
    "---\n",
    "\n",
    "### Exercício 2)\n",
    "\n",
    "A operação de convolução consiste em, centrada em um ponto de uma matriz ou tensor, fazer uma combinação linear de valores na região da posição central, gerando como saída um único valor, escalar. \n",
    "\n",
    "Considere que a convolução opera numa região de tamanho $5\\times 5$ com stride = 1, isso significa que para cada conjunto local de $5 \\times 5$ valores, produziremos um único de saída. Se a entrada é uma matriz com tamanho $10 \\times 10$, e caso não seja utilizado nenhum pré-processamento nos dados, qual o tamanho da saída?\n",
    "\n",
    " (a) $10\\times 10$<br>\n",
    "<font color='red'> (b) $6\\times 6$</font><br>\n",
    " (c) $8\\times 8$<br>\n",
    " (d) $5\\times 5$<br>\n"
   ]
  },
  {
   "cell_type": "markdown",
   "metadata": {},
   "source": [
    "Entrada: 10 linhas x 10 colunas\n",
    "\n",
    "Sem pré-processamento, serão eliminadas as 2 linhas iniciais, as 2 linhas finais, as 2 colunas da borda superior e 2 colunas da borda inferior, tendo como saída 6x6"
   ]
  },
  {
   "cell_type": "markdown",
   "metadata": {},
   "source": [
    "---\n",
    "### Exercício 3)\n",
    "\n",
    "Cada camada convolucional com $k$ neurônios (filtros de convolução) gera $k$ saídas distintas. Enquanto na camada densa as $k$ saídas são valores individuais (escalares), na convolucional as saídas são mapas de ativação (ou mapas de características). Porque eles recebem esse nome?\n",
    "\n",
    " (a) Pois podemos escolher os filtros de convolução de forma a processar imagens de entrada e obter características como borda, textura e regiões planas com cores.<br>\n",
    "<font color='red'> (b) Pois podem ser interpretados como representações dos dados de entrada, aprendidas por meio da otimização da função de custo/perda da rede neural convolucional</font><br>\n",
    " (c) Pois os filtros convolucionais extraem de forma aleatória características da entrada de forma que essas características, ou ativações, melhorem a capacidade de classificar novos exemplos<br>\n",
    " (d) Pois foram baseadas em funções de ativação das redes neurais Multilayer Perceptron, as quais também realizam um tipo de processamento de características das entradas<br>"
   ]
  },
  {
   "cell_type": "markdown",
   "metadata": {},
   "source": [
    "---\n",
    "### Exercício 4)\n",
    "\n",
    "Assuma uma entrada de tamanho $256 \\times 256 \\times 3$, e duas camadas convolucionais, sequenciais. A primeira possui 8 neurônios de tamanho $3\\times 3 \\times 3$ e *não* usa zero-padding. A segunda possui 16 neurônios de tamanho $3 \\times 3 \\times p$ e aplica zero-padding. \n",
    "\n",
    "Quantos mapas de ativação são gerados pela segunda camada convolucional, qual o tamanho final da saída da segunda camada e qual o valor de $p$?\n",
    "\n",
    "<font color='red'> (a) 16 mapas, saída $254 \\times 254 \\times 16$, $p = 8$</font><br>\n",
    " (a) 24 mapas, saída $254 \\times 254 \\times 8$, $p = 8$<br>\n",
    " (c) 16 mapas, saída $252 \\times 252 \\times 8$, $p = 16$<br>\n",
    " (d) 24 mapas, saída $256 \\times 256 \\times 16$, $p = 8$<br>"
   ]
  },
  {
   "cell_type": "markdown",
   "metadata": {},
   "source": [
    "p = profundidade ou dimensões = 3 <br>\n",
    "zero-padding = adiciona zeros em torno da matriz de entrada de forma a não perder elementos <br>\n",
    "\n",
    "Primeira camada: \n",
    "Filtro: 3 x 3 x 3 ( k1 x k2 x p: pesos dos filtros)\n",
    "p = 3 dimensões (resultante dos 3 dimensões da matriz de entrada)\n",
    "Sem zero-padding: perde-se 2 linhas e 2 colunas\n",
    "Saída: 8 neurônios = 8 mapas de dimensões 254 x 254 x 8\n",
    "\n",
    "Segunda camada: \n",
    "Filtro: 3 x 3 x p  ( k1 x k2 x p: pesos dos filtros)\n",
    "p = 8 dimensões (resultante dos 8 neurônios da camada anterior)\n",
    "Com zero-padding: não se perde linhas ou colunas\n",
    "Saída: 16 neurônios = 16 mapas de dimensões 254 x 254 x 16\n",
    "\n"
   ]
  },
  {
   "cell_type": "markdown",
   "metadata": {},
   "source": [
    "---\n",
    "\n",
    "### Exercício 5)\n",
    "\n",
    "Camadas convolucionais costumam gerar saídas de alta dimensionalidade, o que pode tornar difícil a otimização do modelo. Desejamos manter o aprendizado de mapas de ativação, mas reduzir a dimensionalidade espacial dos dados ao longo da rede neural. Marque a alternativa com a estratégia que melhor se adequa ao efeito desejado.\n",
    "\n",
    "(a) Utilizar filtros de convolucão de tamanho menor<br>\n",
    "(b) Aumentar a quantidade de camadas de convolucão<br>\n",
    "<font color='red'>(c) Utilizar camadas de pooling ou convoluções com stride maior do que 1</font><br>\n",
    "(d) Substituir todas as camadas convolucionais por camadas de pooling\n"
   ]
  },
  {
   "cell_type": "markdown",
   "metadata": {},
   "source": [
    "Para se reduzir as dimensões, pode-se utilizar 2 técnicas principais:<br>\n",
    "1- Stride(passo) > 1<br>\n",
    "2- Usar camadas de Pooling (sub-amostragem) operando sobre o mapa de ativação (feature maps)"
   ]
  },
  {
   "cell_type": "markdown",
   "metadata": {},
   "source": [
    "---\n",
    "\n",
    "### Exercício 6)\n",
    "\n",
    "Utilizando a biblioteca Keras, formule duas arquiteturas de rede neural sequencial convolucional, cuja entrada seja preparada para receber um vetor unidimensional de $1024$ dimensões.\n",
    "\n",
    "Arquitetura A\n",
    "1. camada convolucional 1 com 16 filtros de tamanho $1\\times 8$, com padding\n",
    "2. camada max pooling de tamanho $4$\n",
    "3. camada convolucional 2 com 32 filtros de tamanho $1\\times 8$, com padding\n",
    "4. camada max pooling de tamanho $4$\n",
    "5. camada convolucional 3 com 8 filtros de tamanho $1\\times 1$, com padding\n",
    "5. camada densa de saída com 3 neurônios.\n",
    "\n",
    "Arquitetura B\n",
    "1. camada convolucional 1 com 16 filtros de tamanho  $1\\times 8$ e stride 4, com padding\n",
    "2. camada convolucional 2 com 32 filtros de tamanho  $1\\times 8$ e stride 4, com padding\n",
    "3. camada convolucional 3 com 8 filtros de tamanho $1\\times 1$, com padding\n",
    "4. camada densa de saída com 3 neurônios.\n",
    "\n",
    "Qual o tamanho da saída das camadas convolucionais 2 e 3, e o total de parâmetros de cada rede?\n",
    "\n",
    "(a) A: conv2=(256,32), conv3=(64,8), total=6075; B: conv2=(64,32), conv3=(64,8), total=4075 <br>\n",
    "(b) A: conv2=(64,32), conv3=(64,8), total=6075; B: conv2=(64,32), conv3=(64,8), total=6075 <br>\n",
    "(c) A: conv2=(64,32), conv3=(1,8), total=4128; B: conv2=(64,32), conv3=(1,8), total=1539 <br>\n",
    "<font color='red'>(d) A: conv2=(256,32), conv3=(64,8), total=6075; B: conv2=(64,32), conv3=(64,8), total=6075 </font> <br>"
   ]
  },
  {
   "cell_type": "code",
   "execution_count": 1,
   "metadata": {
    "scrolled": true
   },
   "outputs": [],
   "source": [
    "import tensorflow as tf\n",
    "from tensorflow import keras\n",
    "import numpy as np\n",
    "import matplotlib.pyplot as plt\n"
   ]
  },
  {
   "cell_type": "code",
   "execution_count": 4,
   "metadata": {},
   "outputs": [
    {
     "name": "stdout",
     "output_type": "stream",
     "text": [
      "Model: \"sequential_2\"\n",
      "_________________________________________________________________\n",
      "Layer (type)                 Output Shape              Param #   \n",
      "=================================================================\n",
      "conv1d_1 (Conv1D)            (None, 1024, 16)          144       \n",
      "_________________________________________________________________\n",
      "max_pooling1d (MaxPooling1D) (None, 256, 16)           0         \n",
      "_________________________________________________________________\n",
      "conv1d_2 (Conv1D)            (None, 256, 32)           4128      \n",
      "_________________________________________________________________\n",
      "max_pooling1d_1 (MaxPooling1 (None, 64, 32)            0         \n",
      "_________________________________________________________________\n",
      "conv1d_3 (Conv1D)            (None, 64, 8)             264       \n",
      "_________________________________________________________________\n",
      "flatten (Flatten)            (None, 512)               0         \n",
      "_________________________________________________________________\n",
      "dense (Dense)                (None, 3)                 1539      \n",
      "=================================================================\n",
      "Total params: 6,075\n",
      "Trainable params: 6,075\n",
      "Non-trainable params: 0\n",
      "_________________________________________________________________\n"
     ]
    }
   ],
   "source": [
    "# Arquitetura A\n",
    "input_shape=(1024,1)\n",
    "CNN1 = keras.Sequential()\n",
    "CNN1.add(keras.layers.Conv1D(16, kernel_size=8, padding='same', activation='relu', input_shape=input_shape))\n",
    "CNN1.add(keras.layers.MaxPooling1D(pool_size=4))\n",
    "CNN1.add(keras.layers.Conv1D(32, kernel_size=8, padding='same', activation='relu'))\n",
    "CNN1.add(keras.layers.MaxPooling1D(pool_size=4))\n",
    "CNN1.add(keras.layers.Conv1D(8, kernel_size=1, padding='same', activation='relu'))\n",
    "CNN1.add(keras.layers.Flatten())\n",
    "\n",
    "CNN1.add(keras.layers.Dense(3, activation='softmax'))\n",
    "CNN1.summary()"
   ]
  },
  {
   "cell_type": "code",
   "execution_count": 5,
   "metadata": {},
   "outputs": [
    {
     "name": "stdout",
     "output_type": "stream",
     "text": [
      "Model: \"sequential_3\"\n",
      "_________________________________________________________________\n",
      "Layer (type)                 Output Shape              Param #   \n",
      "=================================================================\n",
      "conv1d_4 (Conv1D)            (None, 256, 16)           144       \n",
      "_________________________________________________________________\n",
      "conv1d_5 (Conv1D)            (None, 64, 32)            4128      \n",
      "_________________________________________________________________\n",
      "conv1d_6 (Conv1D)            (None, 64, 8)             264       \n",
      "_________________________________________________________________\n",
      "flatten_1 (Flatten)          (None, 512)               0         \n",
      "_________________________________________________________________\n",
      "dense_1 (Dense)              (None, 3)                 1539      \n",
      "=================================================================\n",
      "Total params: 6,075\n",
      "Trainable params: 6,075\n",
      "Non-trainable params: 0\n",
      "_________________________________________________________________\n"
     ]
    }
   ],
   "source": [
    "# Arquitetura B\n",
    "input_shape=(1024,1)\n",
    "CNN2 = keras.Sequential()\n",
    "CNN2.add(keras.layers.Conv1D(16, kernel_size=8, strides=4, padding='same', activation='relu', input_shape=input_shape))\n",
    "CNN2.add(keras.layers.Conv1D(32, kernel_size=8, strides=4, padding='same', activation='relu'))\n",
    "CNN2.add(keras.layers.Conv1D(8, kernel_size=1, padding='same', activation='relu'))\n",
    "CNN2.add(keras.layers.Flatten())\n",
    "\n",
    "CNN2.add(keras.layers.Dense(3, activation='softmax'))\n",
    "CNN2.summary()"
   ]
  },
  {
   "cell_type": "markdown",
   "metadata": {},
   "source": [
    "---\n",
    "\n",
    "### Exercício 7)\n",
    "\n",
    "Utilizando a biblioteca Keras, formule uma arquiteturas de rede neural profunda, cuja entrada seja preparada para receber uma matriz com $1024 \\times 1024$ dimensões e a seguinte arquitetura com 5 camadas:\n",
    "\n",
    "1. camada convolucional 1 com 32 filtros de tamanho $3\\times 3$, com padding e stride 2 (nas duas direções)\n",
    "2. camada convolucional 2 com 64 filtros de tamanho $1\\times 3$, com padding e stride $1,2$\n",
    "3. camada convolucional 3 com 64 filtros de tamanho $3\\times 1$, com padding e stride $2,1$\n",
    "4. camada convolucional 4 com 128 filtros de tamanho $3\\times 3$, sem padding e stride 3 (nas duas direções)\n",
    "5. camada global average pooling\n",
    "\n",
    "Qual o tamanho da saída das camadas conv2, conv3, conv4 e global_avg_pooling?\n",
    "\n",
    "(a) conv2=(512,512,32), conv3=(256,256,64), conv4=(64,64,128) e global_avg_pooling=(128,128)<br>\n",
    "<font color='red'>(b) conv2=(512,256,64), conv3=(256,256,64), conv4=(85,85,128) e global_avg_pooling=(128)</font><br>\n",
    "(c) conv2=(256,512,32), conv3=(256,256,64), conv4=(64,64,128) e global_avg_pooling=(128) <br>\n",
    "(d) conv2=(512,256,32), conv3=(128,256,64), conv4=(85,85,128) e global_avg_pooling=(128,128)<br>\n"
   ]
  },
  {
   "cell_type": "code",
   "execution_count": 6,
   "metadata": {},
   "outputs": [
    {
     "name": "stdout",
     "output_type": "stream",
     "text": [
      "Model: \"sequential_4\"\n",
      "_________________________________________________________________\n",
      "Layer (type)                 Output Shape              Param #   \n",
      "=================================================================\n",
      "conv2d_1 (Conv2D)            (None, 512, 512, 32)      320       \n",
      "_________________________________________________________________\n",
      "conv2d_2 (Conv2D)            (None, 512, 256, 64)      6208      \n",
      "_________________________________________________________________\n",
      "conv2d_3 (Conv2D)            (None, 256, 256, 64)      12352     \n",
      "_________________________________________________________________\n",
      "conv2d_4 (Conv2D)            (None, 85, 85, 128)       73856     \n",
      "_________________________________________________________________\n",
      "global_average_pooling2d (Gl (None, 128)               0         \n",
      "=================================================================\n",
      "Total params: 92,736\n",
      "Trainable params: 92,736\n",
      "Non-trainable params: 0\n",
      "_________________________________________________________________\n"
     ]
    }
   ],
   "source": [
    "# Arquitetura\n",
    "input_shape=(1024,1024,1)\n",
    "CNN = keras.Sequential()\n",
    "CNN.add(keras.layers.Conv2D(32, kernel_size=(3,3), strides=(2,2), padding='same', activation='relu', input_shape=input_shape))\n",
    "CNN.add(keras.layers.Conv2D(64, kernel_size=(1,3), strides=(1,2), padding='same', activation='relu'))\n",
    "CNN.add(keras.layers.Conv2D(64, kernel_size=(3,1), strides=(2,1), padding='same', activation='relu'))\n",
    "CNN.add(keras.layers.Conv2D(128, kernel_size=(3,3), strides=(3,3), padding='valid', activation='relu'))\n",
    "CNN.add(keras.layers.GlobalAveragePooling2D())\n",
    "CNN.summary()"
   ]
  },
  {
   "cell_type": "markdown",
   "metadata": {},
   "source": [
    "---\n",
    "\n",
    "### Exercício 8)\n",
    "\n",
    "Carregue a base de dados CIFAR-100 e exiba as 10 primeiras imagens dessa base de dados. Normalize os dados das imagens de forma a que os valores estejam entre 0 e 1, depois converta as classes para o tipo categórico utilizando o ` tf.keras.utils.to_categorical`.\n",
    "\n",
    "A seguir, adapte a arquitetura da questão anterior para que a rede seja capaz de receber como entrada imagens dessa base. Todas as camadas da rede, exceto a última, devem ter funções de ativação do tipo `relu`. Crie uma camada densa no final que permita classificar as imagens nos rótulos disponíveis no conjunto de treinamento, usando a função de ativação adequada. \n",
    "\n",
    "Qual o tamanho da saída das duas últimas camadas da rede (global average pooling e densa), e o total de parâmetros da mesma rede?\n",
    "\n",
    "(a) global average pooling = 128, densa = 128, parâmetros = 106212<br>\n",
    "(b) global average pooling = 128, densa = 100, parâmetros = 12900<br>\n",
    "(c) global average pooling = 128, densa = 20, parâmetros = 12900<br>\n",
    "<font color='red'>(d) global average pooling = 128, densa = 100, parâmetros = 106212</font><br>"
   ]
  },
  {
   "cell_type": "code",
   "execution_count": 14,
   "metadata": {},
   "outputs": [],
   "source": [
    "# Para ignorar o certificado de segurança na importação do dataset\n",
    "import requests\n",
    "requests.packages.urllib3.disable_warnings()\n",
    "import ssl\n",
    "\n",
    "try:\n",
    "    _create_unverified_https_context = ssl._create_unverified_context\n",
    "except AttributeError:\n",
    "    # Legacy Python that doesn't verify HTTPS certificates by default\n",
    "    pass\n",
    "else:\n",
    "    # Handle target environment that doesn't support HTTPS verification\n",
    "    ssl._create_default_https_context = _create_unverified_https_context"
   ]
  },
  {
   "cell_type": "code",
   "execution_count": 15,
   "metadata": {},
   "outputs": [
    {
     "name": "stdout",
     "output_type": "stream",
     "text": [
      "Downloading data from https://www.cs.toronto.edu/~kriz/cifar-100-python.tar.gz\n",
      "169009152/169001437 [==============================] - 14s 0us/step\n",
      "169017344/169001437 [==============================] - 14s 0us/step\n"
     ]
    }
   ],
   "source": [
    "from tensorflow.keras.datasets import cifar100\n",
    "(x_train, y_train), (x_test, y_test) = cifar100.load_data()\n",
    "\n"
   ]
  },
  {
   "cell_type": "code",
   "execution_count": 16,
   "metadata": {},
   "outputs": [
    {
     "data": {
      "image/png": "[encoded data removed]",
      "text/plain": [
       "<Figure size 1152x144 with 10 Axes>"
      ]
     },
     "metadata": {
      "needs_background": "light"
     },
     "output_type": "display_data"
    }
   ],
   "source": [
    "# visualizando 10 imagens do dataset\n",
    "fig, axes = plt.subplots(1,10, figsize=(16,2))\n",
    "ax = axes.ravel()\n",
    "for i in range(10):\n",
    "    ax[i].imshow(x_train[i], cmap=\"gray\")\n",
    "    ax[i].set_title(\"%d\" % (y_train[i]))\n",
    "    ax[i].axis('off')"
   ]
  },
  {
   "cell_type": "code",
   "execution_count": 17,
   "metadata": {},
   "outputs": [
    {
     "name": "stdout",
     "output_type": "stream",
     "text": [
      "(50000, 32, 32, 3)\n",
      "Classes:  100\n"
     ]
    }
   ],
   "source": [
    "# obtendo informações das imagens (resolucao) e dos rótulos (número de classes)\n",
    "img_lin, img_col = x_train.shape[1], x_train.shape[2]\n",
    "num_classes = len(np.unique(y_train))\n",
    "print(x_train.shape)\n",
    "print('Classes: ', num_classes)"
   ]
  },
  {
   "cell_type": "markdown",
   "metadata": {},
   "source": [
    "Temos portanto 50 mil exemplos de treinamento\n",
    "\n",
    "Imagens de tamanho 32×32 e 100 classes."
   ]
  },
  {
   "cell_type": "code",
   "execution_count": 18,
   "metadata": {},
   "outputs": [
    {
     "name": "stdout",
     "output_type": "stream",
     "text": [
      "Antes da transformação:  [19]\n",
      "Após transformação:  [0. 0. 0. 0. 0. 0. 0. 0. 0. 0. 0. 0. 0. 0. 0. 0. 0. 0. 0. 1. 0. 0. 0. 0.\n",
      " 0. 0. 0. 0. 0. 0. 0. 0. 0. 0. 0. 0. 0. 0. 0. 0. 0. 0. 0. 0. 0. 0. 0. 0.\n",
      " 0. 0. 0. 0. 0. 0. 0. 0. 0. 0. 0. 0. 0. 0. 0. 0. 0. 0. 0. 0. 0. 0. 0. 0.\n",
      " 0. 0. 0. 0. 0. 0. 0. 0. 0. 0. 0. 0. 0. 0. 0. 0. 0. 0. 0. 0. 0. 0. 0. 0.\n",
      " 0. 0. 0. 0.]\n"
     ]
    }
   ],
   "source": [
    "# dividir por 255 para obter normalizacao\n",
    "x_train = x_train.astype('float32') / 255.0\n",
    "x_test = x_test.astype('float32') / 255.0\n",
    "\n",
    "print(\"Antes da transformação: \", y_train[0])\n",
    "# transformar categorias em one-hot-encoding\n",
    "y_train = keras.utils.to_categorical(y_train, num_classes)\n",
    "y_test = keras.utils.to_categorical(y_test, num_classes)\n",
    "\n",
    "print(\"Após transformação: \", y_train[0])"
   ]
  },
  {
   "cell_type": "code",
   "execution_count": 19,
   "metadata": {},
   "outputs": [
    {
     "name": "stdout",
     "output_type": "stream",
     "text": [
      "Shape:  (32, 32, 3)\n"
     ]
    }
   ],
   "source": [
    "# verifica imagens da base de dados tem 3 canais (RGB) ou apenas 1 (escala de cinza)\n",
    "if (len(x_train.shape) == 3):\n",
    "      n_channels = 1\n",
    "else:\n",
    "      n_channels = x_train.shape[3]\n",
    "\n",
    "# re-formata o array de forma a encontrar o formato da entrada (input_shape)\n",
    "# se a dimensão dos canais vem primeiro ou após a imagem\n",
    "if keras.backend.image_data_format() == 'channels_first':\n",
    "    x_train = x_train.reshape(x_train.shape[0], n_channels, img_lin, img_col)\n",
    "    x_test = x_test.reshape(x_test.shape[0], n_channels, img_lin, img_col)\n",
    "    input_shape = (n_channels, img_lin, img_col)\n",
    "else:\n",
    "    x_train = x_train.reshape(x_train.shape[0], img_lin, img_col, n_channels)\n",
    "    x_test = x_test.reshape(x_test.shape[0], img_lin, img_col, n_channels)\n",
    "    input_shape = (img_lin, img_col, n_channels)\n",
    "\n",
    "print(\"Shape: \", input_shape)"
   ]
  },
  {
   "cell_type": "code",
   "execution_count": 20,
   "metadata": {},
   "outputs": [
    {
     "name": "stdout",
     "output_type": "stream",
     "text": [
      "Model: \"sequential_5\"\n",
      "_________________________________________________________________\n",
      "Layer (type)                 Output Shape              Param #   \n",
      "=================================================================\n",
      "conv2d_5 (Conv2D)            (None, 16, 16, 32)        896       \n",
      "_________________________________________________________________\n",
      "conv2d_6 (Conv2D)            (None, 16, 8, 64)         6208      \n",
      "_________________________________________________________________\n",
      "conv2d_7 (Conv2D)            (None, 8, 8, 64)          12352     \n",
      "_________________________________________________________________\n",
      "conv2d_8 (Conv2D)            (None, 2, 2, 128)         73856     \n",
      "_________________________________________________________________\n",
      "global_average_pooling2d_1 ( (None, 128)               0         \n",
      "_________________________________________________________________\n",
      "dense_2 (Dense)              (None, 100)               12900     \n",
      "=================================================================\n",
      "Total params: 106,212\n",
      "Trainable params: 106,212\n",
      "Non-trainable params: 0\n",
      "_________________________________________________________________\n"
     ]
    }
   ],
   "source": [
    "# Arquitetura\n",
    "CNN = keras.Sequential()\n",
    "CNN.add(keras.layers.Conv2D(32, kernel_size=(3,3), strides=(2,2), padding='same', activation='relu', input_shape=input_shape))\n",
    "CNN.add(keras.layers.Conv2D(64, kernel_size=(1,3), strides=(1,2), padding='same', activation='relu'))\n",
    "CNN.add(keras.layers.Conv2D(64, kernel_size=(3,1), strides=(2,1), padding='same', activation='relu'))\n",
    "CNN.add(keras.layers.Conv2D(128, kernel_size=(3,3), strides=(3,3), padding='valid', activation='relu'))\n",
    "CNN.add(keras.layers.GlobalAveragePooling2D())\n",
    "CNN.add(keras.layers.Dense(num_classes, activation=\"softmax\"))\n",
    "CNN.summary()"
   ]
  },
  {
   "cell_type": "markdown",
   "metadata": {},
   "source": [
    "---\n",
    "\n",
    "### Exercício 9)\n",
    "\n",
    "Defina as sementes aleatórias do numpy para 1 e do tensorflow para 2. Depois, utilizando a arquitetura definida no exercício anterior, configure a rede para treinar com a configuração abaixo, salvando o histórico da perda e acurácia para as épocas.\n",
    "* otimizador: SGD\n",
    "* taxa de aprendizado: 0.09\n",
    "* função de custo: `categorical_crossentropy`\n",
    "* métrica: `accuracy`\n",
    "* épocas: 10\n",
    "* batchsize: 64\n",
    "\n",
    "Após as 10 épocas, exiba e analise gráfico da função de custo no conjunto de treinamento ao longo das épocas e avalie a acurácia no conjunto de testes. Considerando: (1) a convergência da função de custo e (2) comparando a acurácia no conjunto de testes com o que seria a acurácia de um classificador aleatório para a base de dados CIFAR-100, escolha a alternativa correta.\n",
    "\n",
    "(a) A função de custo indica estabilização, alcançando uma acurácia 25 vezes superior a de um classificador aleatório<br>\n",
    "(b) A função de custo indica que ainda há espaço para o treinamento de mais épocas, a acurácia obtida é mais do que 50 vezes superior do que um classificador aleatório<br>\n",
    "<font color='red'>(c) A função de custo indica que ainda há espaço para o treinamento de mais épocas, e a acurácia obtida é mais do que 15 vezes superior do que um classificador aleatório</font><br>\n",
    "(d) A função de custo indica um valor baixo de custo e assim, treinar por mais épocas não irá beneficiar o modelo, a acurácia obtida é apenas ligeiramente superior a um classificador aleatório<br>\n"
   ]
  },
  {
   "cell_type": "code",
   "execution_count": 28,
   "metadata": {},
   "outputs": [],
   "source": [
    "from numpy.random import seed\n",
    "seed(1)\n",
    "from tensorflow.random import set_seed\n",
    "set_seed(2)\n"
   ]
  },
  {
   "cell_type": "code",
   "execution_count": 21,
   "metadata": {
    "scrolled": true
   },
   "outputs": [],
   "source": [
    "CNN.compile(loss='categorical_crossentropy',\n",
    "              optimizer=tf.keras.optimizers.SGD(learning_rate=0.09),\n",
    "              metrics=['accuracy'])"
   ]
  },
  {
   "cell_type": "code",
   "execution_count": 22,
   "metadata": {},
   "outputs": [
    {
     "name": "stdout",
     "output_type": "stream",
     "text": [
      "Epoch 1/10\n",
      "782/782 [==============================] - 11s 13ms/step - loss: 4.4749 - accuracy: 0.0233\n",
      "Epoch 2/10\n",
      "782/782 [==============================] - 10s 13ms/step - loss: 4.1412 - accuracy: 0.0617\n",
      "Epoch 3/10\n",
      "782/782 [==============================] - 11s 14ms/step - loss: 3.9214 - accuracy: 0.0954\n",
      "Epoch 4/10\n",
      "782/782 [==============================] - 11s 14ms/step - loss: 3.7742 - accuracy: 0.1228\n",
      "Epoch 5/10\n",
      "782/782 [==============================] - 11s 14ms/step - loss: 3.6456 - accuracy: 0.1429\n",
      "Epoch 6/10\n",
      "782/782 [==============================] - 11s 14ms/step - loss: 3.5393 - accuracy: 0.1637\n",
      "Epoch 7/10\n",
      "782/782 [==============================] - 11s 14ms/step - loss: 3.4451 - accuracy: 0.1798\n",
      "Epoch 8/10\n",
      "782/782 [==============================] - 12s 15ms/step - loss: 3.3651 - accuracy: 0.1954\n",
      "Epoch 9/10\n",
      "782/782 [==============================] - 12s 15ms/step - loss: 3.2902 - accuracy: 0.2074\n",
      "Epoch 10/10\n",
      "782/782 [==============================] - 12s 16ms/step - loss: 3.2263 - accuracy: 0.2204\n"
     ]
    }
   ],
   "source": [
    "batch_size = 64\n",
    "epochs = 10\n",
    "\n",
    "# a variável history guarda os dados do processo de treinamento para análise posterior\n",
    "history = CNN.fit(x_train, y_train,\n",
    "                    batch_size=batch_size,\n",
    "                    epochs=epochs,\n",
    "                    verbose=1)"
   ]
  },
  {
   "cell_type": "code",
   "execution_count": 23,
   "metadata": {},
   "outputs": [
    {
     "data": {
      "image/png": "[encoded data removed]",
      "text/plain": [
       "<Figure size 432x288 with 1 Axes>"
      ]
     },
     "metadata": {
      "needs_background": "light"
     },
     "output_type": "display_data"
    }
   ],
   "source": [
    "plt.plot(history.history['loss'])\n",
    "plt.ylabel('Perda')\n",
    "plt.show()"
   ]
  },
  {
   "cell_type": "code",
   "execution_count": 25,
   "metadata": {},
   "outputs": [
    {
     "name": "stdout",
     "output_type": "stream",
     "text": [
      "Acurácia: 0.1914 (aleatório = 0.0100)\n"
     ]
    }
   ],
   "source": [
    "score = CNN.evaluate(x_test, y_test, verbose = 0)\n",
    "print(\"Acurácia: %.4f (aleatório = %.4f)\" % (score[1], 1/num_classes))"
   ]
  },
  {
   "cell_type": "code",
   "execution_count": null,
   "metadata": {},
   "outputs": [],
   "source": []
  },
  {
   "cell_type": "markdown",
   "metadata": {},
   "source": [
    "---\n",
    "\n",
    "### Exercício 10)\n",
    "\n",
    "\n",
    "Crie uma nova rede neural com base na anterior mas adicionando, logo após a 3.a camada convolucional, e antes da 4.a camada convolucional, outras 2 camadas no formato:\n",
    "\n",
    "* camada convolucional com 64 filtros de tamanho $1\\times 3$, com padding e stride $1,2$\n",
    "* camada convolucional com 64 filtros de tamanho $3\\times 1$, com padding e stride $2,1$\n",
    "\n",
    "Defina as sementes aleatórias do numpy para 1 e do tensorflow para 2, e a seguir execute o treinamento dessa rede utilizando os parâmetros conforme a questão anterior, mas aumente o número de épocas para 15.\n",
    "\n",
    "Considerando:\n",
    "1. a diferença no valor da função de custo obtida nas épocas 1 e 10 (para permitir comparar com a anterior), e\n",
    "2. a acurácia no conjunto de testes após o treinamento completo\n",
    "\n",
    "Escolha a alternativa correta:\n",
    "\n",
    "\n",
    "(a) A diferença do valor da função de custo da 1.a para a 10.a época é menor nessa nova arquitetura, indicando convergência mais lenta, e ao final a acurácia atinge valor superior a 25% com essa arquitetura mais profunda<br>\n",
    "(b) A diferença do valor da função de custo da 1.a para a 10.a época é maior nessa nova arquitetura, mostrando a superioridade da arquitetura mais profunda, que ao final atinge acurácia atinge valor acima de 50%<br>\n",
    "<font color='red'>(c) A diferença do custo da 1.a para a 10.a época é maior nessa nova arquitetura, indicando convergência mais rápida, e ao final a acurácia atinge valor superior a 25% com a arquitetura mais profunda</font><br>\n",
    "(d) A diferença do valor da função de custo da 1.a para a 10.a época é menor nessa nova arquitetura, indicando que a arquitetura menos profunda é mais estável, e ao final a acurácia atinge valor próxmo a 10% com essa arquitetura mais profunda<br>"
   ]
  },
  {
   "cell_type": "code",
   "execution_count": 30,
   "metadata": {
    "scrolled": true
   },
   "outputs": [
    {
     "name": "stdout",
     "output_type": "stream",
     "text": [
      "Model: \"sequential_7\"\n",
      "_________________________________________________________________\n",
      "Layer (type)                 Output Shape              Param #   \n",
      "=================================================================\n",
      "conv2d_15 (Conv2D)           (None, 16, 16, 32)        896       \n",
      "_________________________________________________________________\n",
      "conv2d_16 (Conv2D)           (None, 16, 8, 64)         6208      \n",
      "_________________________________________________________________\n",
      "conv2d_17 (Conv2D)           (None, 8, 8, 64)          12352     \n",
      "_________________________________________________________________\n",
      "conv2d_18 (Conv2D)           (None, 8, 4, 64)          12352     \n",
      "_________________________________________________________________\n",
      "conv2d_19 (Conv2D)           (None, 4, 4, 64)          12352     \n",
      "_________________________________________________________________\n",
      "conv2d_20 (Conv2D)           (None, 1, 1, 128)         73856     \n",
      "_________________________________________________________________\n",
      "global_average_pooling2d_3 ( (None, 128)               0         \n",
      "_________________________________________________________________\n",
      "dense_4 (Dense)              (None, 100)               12900     \n",
      "=================================================================\n",
      "Total params: 130,916\n",
      "Trainable params: 130,916\n",
      "Non-trainable params: 0\n",
      "_________________________________________________________________\n"
     ]
    }
   ],
   "source": [
    "# Arquitetura\n",
    "# Mudando o ome do modelo para que não utilize o treinamento anterior como ponto de partida\n",
    "CNN_10 = keras.Sequential()\n",
    "CNN_10.add(keras.layers.Conv2D(32, kernel_size=(3,3), strides=(2,2), padding='same', activation='relu', input_shape=input_shape))\n",
    "CNN_10.add(keras.layers.Conv2D(64, kernel_size=(1,3), strides=(1,2), padding='same', activation='relu'))\n",
    "CNN_10.add(keras.layers.Conv2D(64, kernel_size=(3,1), strides=(2,1), padding='same', activation='relu'))\n",
    "CNN_10.add(keras.layers.Conv2D(64, kernel_size=(1,3), strides=(1,2), padding='same', activation='relu'))\n",
    "CNN_10.add(keras.layers.Conv2D(64, kernel_size=(3,1), strides=(2,1), padding='same', activation='relu'))\n",
    "CNN_10.add(keras.layers.Conv2D(128, kernel_size=(3,3), strides=(3,3), padding='valid', activation='relu'))\n",
    "CNN_10.add(keras.layers.GlobalAveragePooling2D())\n",
    "CNN_10.add(keras.layers.Dense(num_classes, activation=\"softmax\"))\n",
    "CNN_10.summary()"
   ]
  },
  {
   "cell_type": "code",
   "execution_count": 31,
   "metadata": {},
   "outputs": [],
   "source": [
    "seed(1)\n",
    "set_seed(2)\n"
   ]
  },
  {
   "cell_type": "code",
   "execution_count": 32,
   "metadata": {},
   "outputs": [],
   "source": [
    "CNN_10.compile(loss='categorical_crossentropy',\n",
    "              optimizer=tf.keras.optimizers.SGD(learning_rate=0.09),\n",
    "              metrics=['accuracy'])"
   ]
  },
  {
   "cell_type": "code",
   "execution_count": 33,
   "metadata": {},
   "outputs": [
    {
     "name": "stdout",
     "output_type": "stream",
     "text": [
      "Epoch 1/15\n",
      "782/782 [==============================] - 13s 16ms/step - loss: 4.4682 - accuracy: 0.0271\n",
      "Epoch 2/15\n",
      "782/782 [==============================] - 13s 17ms/step - loss: 3.8786 - accuracy: 0.1063\n",
      "Epoch 3/15\n",
      "782/782 [==============================] - 14s 17ms/step - loss: 3.5689 - accuracy: 0.1592\n",
      "Epoch 4/15\n",
      "782/782 [==============================] - 14s 18ms/step - loss: 3.3269 - accuracy: 0.2042\n",
      "Epoch 5/15\n",
      "782/782 [==============================] - 15s 19ms/step - loss: 3.1322 - accuracy: 0.2385\n",
      "Epoch 6/15\n",
      "782/782 [==============================] - 15s 19ms/step - loss: 2.9826 - accuracy: 0.2647\n",
      "Epoch 7/15\n",
      "782/782 [==============================] - 14s 18ms/step - loss: 2.8505 - accuracy: 0.2914\n",
      "Epoch 8/15\n",
      "782/782 [==============================] - 14s 18ms/step - loss: 2.7446 - accuracy: 0.3116\n",
      "Epoch 9/15\n",
      "782/782 [==============================] - 15s 19ms/step - loss: 2.6528 - accuracy: 0.3297\n",
      "Epoch 10/15\n",
      "782/782 [==============================] - 15s 19ms/step - loss: 2.5622 - accuracy: 0.3470\n",
      "Epoch 11/15\n",
      "782/782 [==============================] - 15s 19ms/step - loss: 2.4786 - accuracy: 0.3635\n",
      "Epoch 12/15\n",
      "782/782 [==============================] - 16s 20ms/step - loss: 2.4048 - accuracy: 0.3796\n",
      "Epoch 13/15\n",
      "782/782 [==============================] - 16s 20ms/step - loss: 2.3344 - accuracy: 0.3972\n",
      "Epoch 14/15\n",
      "782/782 [==============================] - 16s 21ms/step - loss: 2.2709 - accuracy: 0.4081\n",
      "Epoch 15/15\n",
      "782/782 [==============================] - 16s 20ms/step - loss: 2.1998 - accuracy: 0.4231\n"
     ]
    }
   ],
   "source": [
    "batch_size = 64\n",
    "epochs = 15\n",
    "\n",
    "# a variável history guarda os dados do processo de treinamento para análise posterior\n",
    "history = CNN_10.fit(x_train, y_train,\n",
    "                    batch_size=batch_size,\n",
    "                    epochs=epochs,\n",
    "                    verbose=1)"
   ]
  },
  {
   "cell_type": "code",
   "execution_count": 34,
   "metadata": {},
   "outputs": [
    {
     "data": {
      "image/png": "[encoded data removed]",
      "text/plain": [
       "<Figure size 432x288 with 1 Axes>"
      ]
     },
     "metadata": {
      "needs_background": "light"
     },
     "output_type": "display_data"
    }
   ],
   "source": [
    "plt.plot(history.history['loss'])\n",
    "plt.ylabel('Perda')\n",
    "plt.show()"
   ]
  },
  {
   "cell_type": "code",
   "execution_count": 35,
   "metadata": {},
   "outputs": [
    {
     "name": "stdout",
     "output_type": "stream",
     "text": [
      "Acurácia: 0.2856 (aleatório = 0.0100)\n"
     ]
    }
   ],
   "source": [
    "score = CNN_10.evaluate(x_test, y_test, verbose = 0)\n",
    "print(\"Acurácia: %.4f (aleatório = %.4f)\" % (score[1], 1/num_classes))"
   ]
  },
  {
   "cell_type": "code",
   "execution_count": null,
   "metadata": {},
   "outputs": [],
   "source": []
  }
 ],
 "metadata": {
  "kernelspec": {
   "display_name": "Python 3",
   "language": "python",
   "name": "python3"
  },
  "language_info": {
   "codemirror_mode": {
    "name": "ipython",
    "version": 3
   },
   "file_extension": ".py",
   "mimetype": "text/x-python",
   "name": "python",
   "nbconvert_exporter": "python",
   "pygments_lexer": "ipython3",
   "version": "3.8.10"
  }
 },
 "nbformat": 4,
 "nbformat_minor": 4
}
