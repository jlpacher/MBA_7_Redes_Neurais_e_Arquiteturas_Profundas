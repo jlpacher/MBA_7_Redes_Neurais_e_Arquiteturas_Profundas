{
 "cells": [
  {
   "cell_type": "markdown",
   "metadata": {
    "id": "K8CDQUj8yqpq"
   },
   "source": [
    "## MBA em Ciência de Dados\n",
    "# Redes Neurais e Arquiteturas Profundas\n",
    "\n",
    "### <span style=\"color:darkred\">Módulo VI - Redes neurais para dados sequenciais</span>\n",
    "\n",
    "\n",
    "### <span style=\"color:darkred\">Exercícios (com soluções)</span>\n",
    "\n",
    "Moacir Antonelli Ponti\n",
    "\n",
    "CeMEAI - ICMC/USP São Carlos\n",
    "\n",
    "---\n",
    "\n",
    "#### <span style=\"color:red\">Recomenda-se fortemente que os exercícios sejam feitos sem consultar as respostas antecipadamente.</span>\n",
    "\n",
    "---"
   ]
  },
  {
   "cell_type": "markdown",
   "metadata": {
    "id": "kZeMRbMPI0ko"
   },
   "source": [
    "## Parte 1: Exercícios essenciais"
   ]
  },
  {
   "cell_type": "markdown",
   "metadata": {
    "id": "xMJ4IFd7yqpt"
   },
   "source": [
    "### Exercício 1)\n",
    "\n",
    "Considerando o treinamento de uma rede neural em que é utilizado um exemplo por vez para adaptar os pesos, qual das alternativas abaixo indica a diferença de uma unidade recorrente para uma não recorrente?\n",
    "\n",
    " (a) Unidades recorrentes consideram que há dependência entre exemplos de cada iteração sucessiva e por isso mantêm uma memória relacionada unicamente ao exemplo imediamente anterior ao atual<br>\n",
    " (b) Unidades recorrentes possuem uma quantidade relativamente menor de parâmetros a serem computados quando comparada às não recorrentes<br>\n",
    " (c) Unidades recorrentes consideram que cada exemplo é independente dos demais e portanto apenas o exemplo atual é considerado na atualização de seus pesos<br>\n",
    " <font color='red'>(d) Unidades recorrentes possuem uma memória interna que é construída com base nos exemplos de iterações anteriores e que influencia na saída da iteração atual.<br></font>\n",
    " \n",
    " **Justificativa**: a memória ou estado interno contém informação de exemplos vistos anteriormente, não apenas do imediatamente anterior. Essa memória resulta na necessidade de aprender mais parâmetros para controlar a combinação entre os dados atuais e os vistos anteriormente.\n"
   ]
  },
  {
   "cell_type": "markdown",
   "metadata": {
    "id": "038CuS5syqqL"
   },
   "source": [
    "---\n",
    "\n",
    "### Exercício 2)\n",
    "\n",
    "Considere o cenário de classificação de séries temporais em que desejamos classificar a qualidade de uma ligação telefônica em: ruim, regular, boa. Como entrada, cada instância é uma série temporal contendo 12000 observações amostradas de uma ligação telefônica durante 10 segundos, ou seja, a uma taxa de 1200 por segundo. Os dados são sempre normalizados com valores entre 0 e 1. Assuma que, para realizar essa classificação, tenhamos redes neurais cuja camada de saída tenha 3 neurônios (camada densa) e ativação softmax. Considere duas opções de camadas anteriores à de saída\n",
    "\n",
    "A. 2 camadas densas, contendo 512 neurônios cada.<br>\n",
    "B. 2 camadas recorrentes (LSTM ou GRU) contendo 256 neurônios cada\n",
    "\n",
    "Qual alternativa descreve corretamente a comparação das arquiteturas considerando convergência (minimização) do custo de classificação e uso prático no problema em questão?\n",
    "\n",
    " (a) Apenas a arquitetura B irá convergir e funcionar para o problema pois a arquitetura A não considera o aspecto dinâmico/temporal dos dados e portanto seu resultado será próximo de um classificador aleatório.<br>\n",
    " (b) Apenas a arquitetura A irá convergir e funcionar para o problema pois se trata de um problema de classificação e não de regressão ou predição de valores futuros mais adequado à arquitetura B<br>\n",
    " <font color='red'>(c) Ambas podem ser utilizadas e devem convergir, porém na arquitetura A as 12 mil observações serão consideradas sem observar sua sequência, enquanto a arquitetura B assume que cada observação é afetada pela anterior e que sua ordenação é importante para a classificação.<br></font>\n",
    " (d) Ambas podem ser utilizadas e devem convergir, porém na arquitetura B as 12 mil observações serão consideradas sem observar sua sequência, enquanto a arquitetura A assume que cada observação é afetada pela anterior e que sua ordenação é importante para a classificação<br>\n",
    " \n",
    " **Justificativa**: Camadas densas combinam as observações de entrada sem considerar sua ordem, aprendendo a partir de qualquer permutação das 12 mil observações de cada instância. Assim, a arquitetura A não considera o aspecto dinâmico/temporal dos dados, mas ainda assim é capaz de obter um modelo de classificação para o problema, o que tornam incorretas as alternativas (a) e (d). Já a arquitetura B se projetada com unidades recorrentes é capaz de manter uma memória relativa a sequência (ou ordenação) dos dados, de forma que os pesos/parâmetros serão computados de forma a serem influenciados por dados observados anteriormente. Esse tipo de arquitetura pode ser usada tanto para regressão quanto classificação, tornando a alternativa (c) correta e a (b) incorreta.\n"
   ]
  },
  {
   "cell_type": "markdown",
   "metadata": {
    "id": "nJQ0-S3myqqL"
   },
   "source": [
    "---\n",
    "### Exercício 3)\n",
    "\n",
    "Qual a principal diferença entre o \"output gate\" da LSTM e o \"update gate\" da GRU?\n",
    "\n",
    " (a) O update gate (GRU) filtra qual parte do sumário anterior será mantida e qual será descartada, e o output gate (LSTM) filtra qual parte do estado de célula anterior será mantida e qual será descartada<br>\n",
    " (b) O update gate (GRU) realiza uma combinação entre o sumário atual e o anterior enquanto o output gate (LSTM) faz uma combinação entre o estado de célula atual e o anterior <br>\n",
    " <font color='red'>(c) O update gate (GRU) realiza uma combinação entre o sumário atual e o anterior enquanto o output gate (LSTM) utiliza do estado de célula para ponderar uma combinação entre a entrada atual e o sumário anterior</font><br>\n",
    " (d) O update gate (GRU) realiza uma combinação entre a entrada atual e o sumário atual enquanto o output gate (LSTM) realiza combinação entre o estado de célula atual e o anterior<br>\n",
    " \n",
    " **Justificativa**: O output gate realiza a operação $h_t = f(W_o h_{t-1} + W_o x_{t} + b_o) * tanh(C_t)$ e portanto utiliza o estado de célula $C_t$ para poderar a entrada atual $x_t$ e o sumário anterior $h_{t-1}$, já o update gate da GRU não mantêm um estado de célula, apenas combinando um sumário candidato atual $\\tilde{h}_t$ e o anterior $h_{t-1}$."
   ]
  },
  {
   "cell_type": "markdown",
   "metadata": {
    "id": "6exl-MrVyqqT"
   },
   "source": [
    "---\n",
    "### Exercício 4)\n",
    "\n",
    "Representa uma opção menos adequada para o projeto de redes neurais aplicadas a dados sequenciais:\n",
    "\n",
    "(a) O uso de convoluções para capturar o posicionamento local de dados sequenciais <br>\n",
    "<font color='red'>(b) O uso de unidades densas para melhor aprender a relação entre dados correlacionados sequencialmente<br></font>\n",
    "(c) O uso de unidades do tipo recorrente para capturar dependências na ordem em que os exemplos são vistos pela rede neural<br>\n",
    "(d) O uso de mecanismos de atenção para identificar relações entre representações sequenciais<br>\n",
    "\n",
    "**Justificativa**: as unidades densas podem aprender relações entre dados sequenciais, mas é a menos adequada por não possuir um mecanismo explícito para capturar dependências, em particular de mais longo prazo."
   ]
  },
  {
   "cell_type": "markdown",
   "metadata": {
    "id": "lN93dOcNI0ks"
   },
   "source": [
    "---\n",
    "\n",
    "### Exercício 5)\n",
    "\n",
    "O mecanismo de atenção no contexto de dados sequenciais é implementado para:\n",
    "\n",
    "<font color='red'>(a) Capturar a importância de características vistas anteriormente com relação a uma características do exemplo atual<br></font>\n",
    "(b) Simular um tipo de recorrência no aspecto espacial dos dados<br>\n",
    "(c) Ponderar as características de um exemplo de entrada atual com relação a exemplos futuros<br>\n",
    "(d) Realizar seleção de características numa base de dados difícil<br>\n",
    "\n",
    "**Justificativa**: a atenção é computada por meio do alinhamento de características vistas anteriormente com características de um exemplo atual. Ainda que isso substitua a recorrência não há um mecanismo explícito de recorrência, não é possível ponderar com relação a dados futuros, e não está relacionada a seleção de características."
   ]
  },
  {
   "cell_type": "markdown",
   "metadata": {
    "id": "Yfnm0YgLyqqU"
   },
   "source": [
    "---\n",
    "\n",
    "### Exercício 6)\n",
    "\n",
    "Nesse exercício vamos juntar comparar redes neurais recorrentes num problema de regressão de séries temporais:\n",
    "\n",
    "Carregue a base de dados price_of_ground_chuck.csv, com uma divisão hold-out utilizando os 70% exemplos iniciais para treinamento e os restantes para teste e normalize o treinamento no intervalo 0-1. Utilizaremos 4 time steps, ou seja, as observações serão passadas de 4 em 4 para realização de cada predição.\n",
    "\n",
    "Considerando as arquiteturas:\n",
    "- LSTM: 2 camada lstm com 32 e 16 neurônios respectivamente, ativação relu.\n",
    "- GRU: 2 camada GRU 32 e 16 neurônios respectivamente, ativação relu.\n",
    "\n",
    "Nos 2 casos, apos as camadas recorrentes, adicione uma camada dropout com 25% de probabilidade, e uma camada final densa com 1 neurônio (predição) com ativação relu.\n",
    "\n",
    "Observação: Nos casos da LSTM e GRU, para empilhar mais do que uma camada, essas devem ter o parâmetro `return_sequences=True`, exceto a última. Isso faz com que a saída da camada inclua seu estado/sumário. Exemplo com 4 camadas em sequência:\n",
    "\n",
    "`model.add(LSTM(dim, return_sequences=True, input_shape=(1,1)))`<br>\n",
    "`model.add(LSTM(dim, return_sequences=True))`<br>\n",
    "`model.add(LSTM(dim, return_sequences=True))`<br>\n",
    "`model.add(LSTM(dim))`\n",
    "\n",
    "Repita 3 experimentos, treinando os modelos por 25 épocas, batch size 2, com o otimizador Adam, learning rate 0.0001 e loss MSE. Para isso use as seguintes sementes antes de instanciar, compilar e treinar cada modelo: 0, 2, 4. Obtenha a média do custo (MSE) de treinamento e teste nas 3 execuções.\n",
    "\n",
    "Como foi o resultado do experimento considerando as médias para os modelos LSTM e GRU, considerando o resultado com 3 casas decimais?\n",
    "\n",
    " a) Ambas produziram MSE similar no treinamento e no teste<br>\n",
    " b) LSTM obteve MSE igual no treinamento e maior no teste quando comparada à GRU<br>\n",
    " c) LSTM obteve menor MSE no treinamento e maior no teste quando comparada à GRU<br>\n",
    " d) <font color=\"red\"> GRU obteve menor MSE no treinamento e maior no teste quando comparada à LSTM</font><br>\n",
    "\n",
    "  **Justificativa**: ver código"
   ]
  },
  {
   "cell_type": "code",
   "execution_count": null,
   "metadata": {
    "id": "jduSKWbbI0ku",
    "outputId": "fb9f886b-6c6e-474a-e2ff-6f644c9e9b84"
   },
   "outputs": [
    {
     "name": "stderr",
     "output_type": "stream",
     "text": [
      "2021-11-08 12:29:35.272549: I tensorflow/stream_executor/platform/default/dso_loader.cc:53] Successfully opened dynamic library libcudart.so.11.0\n"
     ]
    }
   ],
   "source": [
    "import numpy as np\n",
    "import pandas as pd\n",
    "\n",
    "import matplotlib.pyplot as plt\n",
    "import tensorflow as tf\n",
    "from tensorflow import keras\n",
    "\n",
    "from numpy.random import seed\n",
    "from tensorflow.random import set_seed\n",
    "\n",
    "from sklearn.metrics import mean_squared_error\n",
    "from math import sqrt\n",
    "\n",
    "import matplotlib.pyplot as plt\n",
    "import seaborn as sns\n",
    "sns.set()"
   ]
  },
  {
   "cell_type": "code",
   "execution_count": null,
   "metadata": {
    "id": "IIW2v0K6I0kw",
    "outputId": "f77bc985-e4c7-4420-ac97-f2c7a738fe37"
   },
   "outputs": [
    {
     "data": {
      "text/plain": [
       "[<matplotlib.lines.Line2D at 0x7f7d280214f0>]"
      ]
     },
     "execution_count": 2,
     "metadata": {},
     "output_type": "execute_result"
    },
    {
     "data": {
      "image/png": "[encoded data removed]",
      "text/plain": [
       "<Figure size 432x288 with 1 Axes>"
      ]
     },
     "metadata": {},
     "output_type": "display_data"
    }
   ],
   "source": [
    "df = pd.read_csv(\"data/price_of_ground_chuck.csv\")\n",
    "\n",
    "# pega segunda coluna do dataframe\n",
    "var = df.columns.values[1]\n",
    "series = np.array(df[var])\n",
    "plt.plot(series)"
   ]
  },
  {
   "cell_type": "code",
   "execution_count": null,
   "metadata": {
    "id": "1wr_vNf5I0kx",
    "outputId": "2499f0a1-fd7e-4271-ed85-fc7a400084f4"
   },
   "outputs": [
    {
     "name": "stdout",
     "output_type": "stream",
     "text": [
      "Exemplos de Treinamento:  168\n",
      "Exemplos de Teste:  74\n"
     ]
    }
   ],
   "source": [
    "# variaveis que definem divisao em treinamento e teste e controlam adição de ruído\n",
    "porc_treinamento = 70\n",
    "\n",
    "# calcula tamanhos dos dados de treinamento (n_train) e teste (n_test)\n",
    "n_train = int(len(series)*(porc_treinamento/100.0))\n",
    "n_test = len(series)-n_train+1\n",
    "\n",
    "train_x = series[:n_train]\n",
    "test_x = series[n_train-1:]\n",
    "\n",
    "# normalização min-max com base no treinamento\n",
    "vmax = train_x.max()\n",
    "vmin = train_x.min()\n",
    "\n",
    "train_x_norm = (train_x - vmin)/(vmax - vmin)\n",
    "test_x_norm = (test_x - vmin)/(vmax - vmin)\n",
    "\n",
    "print(\"Exemplos de Treinamento: \", n_train)\n",
    "print(\"Exemplos de Teste: \", n_test)"
   ]
  },
  {
   "cell_type": "code",
   "execution_count": null,
   "metadata": {
    "id": "lMite7NDI0ky"
   },
   "outputs": [],
   "source": [
    "# formato deve ser [samples, time steps, features]\n",
    "def recurrent_array(train_x,time_steps=1):\n",
    "    \n",
    "    array = np.array(np.reshape(train_x, (-1, 1)), copy=True)\n",
    "    \n",
    "    train_y_ts = array[time_steps:]\n",
    "    train_x_ts = []\n",
    "    for i in range(0, len(array) - time_steps):\n",
    "        train_x_ts.append(array[i:i+time_steps])\n",
    "        \n",
    "    train_x_ts = np.array(train_x_ts)\n",
    "    \n",
    "    #rec_array = np.reshape(array, (array.shape[0], time_steps, array.shape[1]))\n",
    "    return train_x_ts, train_y_ts"
   ]
  },
  {
   "cell_type": "code",
   "execution_count": null,
   "metadata": {
    "id": "J66XdfXnI0ky"
   },
   "outputs": [],
   "source": [
    "time_steps = 4\n",
    "\n",
    "train_x_rec, train_y_rec = recurrent_array(train_x_norm, time_steps=time_steps)\n",
    "test_x_rec, test_y_rec = recurrent_array(test_x_norm, time_steps=time_steps)"
   ]
  },
  {
   "cell_type": "code",
   "execution_count": null,
   "metadata": {
    "id": "AJF6kpyiI0kz",
    "outputId": "d0f61550-aa8a-44af-eff5-bfe739e93841"
   },
   "outputs": [
    {
     "name": "stdout",
     "output_type": "stream",
     "text": [
      "Tamanho dos arrays de treinamento x e y\n",
      "(164, 4, 1)\n",
      "(164, 1)\n",
      "\n",
      "Primeiros 4 elementos de x e y\n",
      "[[[0.03051643]\n",
      "  [0.01408451]\n",
      "  [0.01349765]\n",
      "  [0.00117371]]\n",
      "\n",
      " [[0.01408451]\n",
      "  [0.01349765]\n",
      "  [0.00117371]\n",
      "  [0.00293427]]\n",
      "\n",
      " [[0.01349765]\n",
      "  [0.00117371]\n",
      "  [0.00293427]\n",
      "  [0.        ]]\n",
      "\n",
      " [[0.00117371]\n",
      "  [0.00293427]\n",
      "  [0.        ]\n",
      "  [0.00938967]]]\n",
      "\n",
      "[[0.00293427]\n",
      " [0.        ]\n",
      " [0.00938967]\n",
      " [0.02464789]]\n"
     ]
    }
   ],
   "source": [
    "# numero de features na série\n",
    "no_features = train_x_rec.shape[2]\n",
    "\n",
    "print('Tamanho dos arrays de treinamento x e y')\n",
    "print(train_x_rec.shape)\n",
    "print(train_y_rec.shape)\n",
    "\n",
    "print('\\nPrimeiros 4 elementos de x e y')\n",
    "print(train_x_rec[:4])\n",
    "print()\n",
    "print(train_y_rec[:4])"
   ]
  },
  {
   "cell_type": "code",
   "execution_count": null,
   "metadata": {
    "id": "r2gDWTG8I0kz"
   },
   "outputs": [],
   "source": [
    "def model_LSTM(time_steps):\n",
    "    modelLSTM = keras.models.Sequential()\n",
    "    modelLSTM.add(keras.layers.LSTM(32, return_sequences=True, activation='relu', input_shape=(time_steps,1)))\n",
    "    modelLSTM.add(keras.layers.LSTM(16, activation='relu'))\n",
    "    modelLSTM.add(keras.layers.Dropout(0.25))\n",
    "    modelLSTM.add(keras.layers.Dense(1, activation='relu'))\n",
    "    return modelLSTM"
   ]
  },
  {
   "cell_type": "code",
   "execution_count": null,
   "metadata": {
    "id": "TGPTCdnwI0kz"
   },
   "outputs": [],
   "source": [
    "def model_GRU(time_steps):\n",
    "    modelGRU = keras.models.Sequential()\n",
    "    modelGRU.add(keras.layers.GRU(32, return_sequences=True, activation='relu', input_shape=(time_steps,1)))\n",
    "    modelGRU.add(keras.layers.GRU(16, activation='relu'))\n",
    "    modelGRU.add(keras.layers.Dropout(0.25))\n",
    "    modelGRU.add(keras.layers.Dense(1, activation='relu'))\n",
    "    return modelGRU"
   ]
  },
  {
   "cell_type": "code",
   "execution_count": null,
   "metadata": {
    "id": "9ASh2ag3I0k0",
    "outputId": "28bb3ec5-85bf-40ca-9637-24b185763d58"
   },
   "outputs": [
    {
     "name": "stdout",
     "output_type": "stream",
     "text": [
      "GRU\n",
      "WARNING:tensorflow:Layer gru_30 will not use cuDNN kernels since it doesn't meet the criteria. It will use a generic GPU kernel as fallback when running on GPU.\n",
      "WARNING:tensorflow:Layer gru_31 will not use cuDNN kernels since it doesn't meet the criteria. It will use a generic GPU kernel as fallback when running on GPU.\n",
      "\t0.006274\n",
      "WARNING:tensorflow:Layer gru_32 will not use cuDNN kernels since it doesn't meet the criteria. It will use a generic GPU kernel as fallback when running on GPU.\n",
      "WARNING:tensorflow:Layer gru_33 will not use cuDNN kernels since it doesn't meet the criteria. It will use a generic GPU kernel as fallback when running on GPU.\n",
      "\t0.002227\n",
      "WARNING:tensorflow:Layer gru_34 will not use cuDNN kernels since it doesn't meet the criteria. It will use a generic GPU kernel as fallback when running on GPU.\n",
      "WARNING:tensorflow:Layer gru_35 will not use cuDNN kernels since it doesn't meet the criteria. It will use a generic GPU kernel as fallback when running on GPU.\n",
      "\t0.001906\n",
      "LSTM\n",
      "WARNING:tensorflow:Layer lstm_24 will not use cuDNN kernels since it doesn't meet the criteria. It will use a generic GPU kernel as fallback when running on GPU.\n",
      "WARNING:tensorflow:Layer lstm_25 will not use cuDNN kernels since it doesn't meet the criteria. It will use a generic GPU kernel as fallback when running on GPU.\n",
      "\t0.007896\n",
      "WARNING:tensorflow:Layer lstm_26 will not use cuDNN kernels since it doesn't meet the criteria. It will use a generic GPU kernel as fallback when running on GPU.\n",
      "WARNING:tensorflow:Layer lstm_27 will not use cuDNN kernels since it doesn't meet the criteria. It will use a generic GPU kernel as fallback when running on GPU.\n",
      "\t0.003064\n",
      "WARNING:tensorflow:Layer lstm_28 will not use cuDNN kernels since it doesn't meet the criteria. It will use a generic GPU kernel as fallback when running on GPU.\n",
      "WARNING:tensorflow:Layer lstm_29 will not use cuDNN kernels since it doesn't meet the criteria. It will use a generic GPU kernel as fallback when running on GPU.\n",
      "\t0.002361\n"
     ]
    }
   ],
   "source": [
    "import warnings\n",
    "warnings.filterwarnings('ignore')\n",
    "\n",
    "# Models é um dicionário com o primeiro elemento o conjunto de treino,\n",
    "# o segundo o de teste e por último a rede em si.\n",
    "# Perceba que a rede densa não usa o mesmo input que as RNNs.\n",
    "batch_size = 2\n",
    "epochs = 25\n",
    "learning_rate = 0.0001\n",
    "\n",
    "seeds = [0, 2, 4]\n",
    "\n",
    "models_mse = []\n",
    "models_training_mse = []\n",
    "print(\"GRU\")\n",
    "for i in seeds:\n",
    "    seed(i)\n",
    "    set_seed(i)\n",
    "    modelG = model_GRU(time_steps)\n",
    "    modelG.compile(loss='mean_squared_error', \n",
    "                     optimizer=keras.optimizers.Adam(learning_rate=learning_rate))\n",
    "    \n",
    "    hist = modelG.fit(train_x_rec, train_y_rec, epochs=epochs, \n",
    "                     batch_size=batch_size, \n",
    "                     verbose=0, shuffle=False)\n",
    "    \n",
    "    pred = modelG.predict(test_x_rec).reshape(-1)\n",
    "    mse = mean_squared_error(test_y_rec, pred)\n",
    "    \n",
    "    pred_t = modelG.predict(train_x_rec).reshape(-1)\n",
    "    mse_t = mean_squared_error(train_y_rec, pred_t)\n",
    "    \n",
    "    print(f\"\\t{mse_t:.4}\")\n",
    "    models_mse.append(mse)\n",
    "    models_training_mse.append(mse_t)\n",
    "\n",
    "\n",
    "models_mseL = []\n",
    "models_training_mseL = []\n",
    "print(\"LSTM\")\n",
    "for i in seeds:\n",
    "    seed(i)\n",
    "    set_seed(i)\n",
    "    modelL = model_LSTM(time_steps)\n",
    "    modelL.compile(loss='mean_squared_error', \n",
    "                     optimizer=keras.optimizers.Adam(learning_rate=learning_rate))\n",
    "    \n",
    "    hist = modelL.fit(train_x_rec, train_y_rec, epochs=epochs, \n",
    "                     batch_size=batch_size, \n",
    "                     verbose=0, shuffle=False)\n",
    "    \n",
    "    pred = modelL.predict(test_x_rec).reshape(-1)\n",
    "    mse = mean_squared_error(test_y_rec, pred)\n",
    "    \n",
    "    pred_t = modelL.predict(train_x_rec).reshape(-1)\n",
    "    mse_t = mean_squared_error(train_y_rec, pred_t)\n",
    "    \n",
    "    print(f\"\\t{mse_t:.4}\")\n",
    "    models_mseL.append(mse)\n",
    "    models_training_mseL.append(mse_t)"
   ]
  },
  {
   "cell_type": "code",
   "execution_count": null,
   "metadata": {
    "id": "NuXKb9a59G62",
    "outputId": "b695e0c7-f356-4d9d-a1c6-b83036081221"
   },
   "outputs": [
    {
     "name": "stdout",
     "output_type": "stream",
     "text": [
      "GRU\n",
      "\tTrain Avg: 0.003\n",
      "\tTest  Avg: 0.032\n",
      "LSTM\n",
      "\tTrain Avg: 0.004\n",
      "\tTest  Avg: 0.018\n"
     ]
    }
   ],
   "source": [
    "print(\"GRU\")\n",
    "print(\"\\tTrain Avg: %.3f\" % np.mean(models_training_mse))\n",
    "print(\"\\tTest  Avg: %.3f\" % np.mean(models_mse))\n",
    "    \n",
    "print(\"LSTM\")\n",
    "print(\"\\tTrain Avg: %.3f\" % np.mean(models_training_mseL))\n",
    "print(\"\\tTest  Avg: %.3f\" % np.mean(models_mseL))"
   ]
  },
  {
   "cell_type": "code",
   "execution_count": null,
   "metadata": {
    "id": "ZUi6TLq8I0k1"
   },
   "outputs": [],
   "source": [
    "# realiza predicoes com os dados de treinamento e teste\n",
    "train_y_predL = modelL.predict(train_x_rec)\n",
    "train_y_predL = np.reshape(train_y_predL, (-1, 1))[time_steps:]\n",
    "\n",
    "test_y_predL = modelL.predict(test_x_rec)\n",
    "test_y_predL = np.reshape(test_y_predL, (-1, 1))[time_steps:]\n",
    "\n",
    "# realiza predicoes com os dados de treinamento e teste\n",
    "train_y_predG = modelG.predict(train_x_rec)\n",
    "train_y_predG = np.reshape(train_y_predG, (-1, 1))[time_steps:]\n",
    "\n",
    "test_y_predG = modelG.predict(test_x_rec)\n",
    "test_y_predG = np.reshape(test_y_predG, (-1, 1))[time_steps:]"
   ]
  },
  {
   "cell_type": "code",
   "execution_count": null,
   "metadata": {
    "id": "aYCoUw2LI0k1",
    "outputId": "94400139-bea8-4c6a-d523-3b49908171e3"
   },
   "outputs": [
    {
     "data": {
      "image/png": "[encoded data removed]",
      "text/plain": [
       "<Figure size 648x432 with 1 Axes>"
      ]
     },
     "metadata": {},
     "output_type": "display_data"
    }
   ],
   "source": [
    "fig = plt.figure(figsize=(9,6))\n",
    "#plt.plot(np.arange(time_steps,len(train_y_predL)+time_steps), train_y_predL, label='pred train')\n",
    "#plt.plot(train_y_dense[:-time_steps],'--', label ='train')\n",
    "plt.plot(np.arange(len(train_y_predL)+time_steps, len(train_y_predL)+time_steps+len(test_y_predL)), test_y_predG, label='pred GRU')\n",
    "plt.plot(np.arange(len(train_y_predL)+time_steps, len(train_y_predL)+time_steps+len(test_y_predL)), test_y_predL, label='pred LSTM')\n",
    "plt.plot(np.arange(len(train_y_predL)+time_steps, len(train_y_predL)+time_steps+len(test_y_rec[:-time_steps])), test_y_rec.reshape(-1,1)[:-time_steps], '--', label='test')\n",
    "plt.legend()\n",
    "axt = plt.title('Training + Testing')\n",
    "plt.show()"
   ]
  },
  {
   "cell_type": "markdown",
   "metadata": {
    "id": "J6VfUMk8yqqW"
   },
   "source": [
    "---\n",
    "\n",
    "### Exercício 7)\n",
    "\n",
    "Carregue o arquivo `livro1.txt` conforme indicado abaixo, bem como o word embedding Glove com 50 dimensões em português utilizado em aula. Obtenha uma vetorização de texto com número máximo de tokens 5000 e tamanho da sentença com no máximo 30 tokens. A seguir obtenha a matriz de embeddings a partir das palavras desse arquivo e imprima palavras não convertidas. Qual a natureza da maior parte das palavras em que houveram falhas?\n",
    "\n",
    "<font color='red'>(a) Palavras com hífens, números e em outro idioma<br></font>\n",
    "(b) Nomes próprios e caracteres especiais isolados<br>\n",
    "(c) Palavras com caracteres não codificados corretamente no UTF-16<br>\n",
    "(d) Palavras em outro idioma e caracteres isolados<br>\n",
    "\n",
    " **Justificativa**: Veja abaixo. As palavras que usam hífens como em \"queixava-se\" deveriam ter sido pré-processadas e usando o vectorizer não foram reconhecidas. Também números e palavras em outros idiomas foram encontradas e não existem no vocabulário utilizado."
   ]
  },
  {
   "cell_type": "code",
   "execution_count": null,
   "metadata": {
    "id": "4JNCKnbwI0k2"
   },
   "outputs": [],
   "source": [
    "import os\n",
    "import numpy as np\n",
    "import matplotlib.pyplot as plt\n",
    "import tensorflow as tf\n",
    "import pandas as pd\n",
    "from tensorflow import keras\n",
    "from tensorflow.keras import layers\n",
    "from tensorflow.keras import models\n",
    "from numpy.random import seed\n",
    "from tensorflow.random import set_seed"
   ]
  },
  {
   "cell_type": "code",
   "execution_count": null,
   "metadata": {
    "id": "64StkBVJI0k2"
   },
   "outputs": [],
   "source": [
    "# colab ou execucao uma unica vez local\n",
    "#!wget http://143.107.183.175:22980/download.php?file=embeddings/glove/glove_s50.zip\n",
    "#!mv download.php?file=embeddings%2Fglove%2Fglove_s50.zip glove_s50.zip\n",
    "!unzip -q glove_s50.zip"
   ]
  },
  {
   "cell_type": "code",
   "execution_count": null,
   "metadata": {
    "id": "02ln3mIYI0k2",
    "outputId": "1df70f49-a105-4320-b91b-0d0cbc4b845d",
    "scrolled": true
   },
   "outputs": [
    {
     "name": "stderr",
     "output_type": "stream",
     "text": [
      "/tmp/ipykernel_7870/991280104.py:13: DeprecationWarning: string or file could not be read to its end due to unmatched data; this will raise a ValueError in the future.\n",
      "  coefs = np.fromstring(coefs, \"f\", sep=\" \")\n"
     ]
    },
    {
     "name": "stdout",
     "output_type": "stream",
     "text": [
      "Encontrados 929594 word vectors.\n"
     ]
    }
   ],
   "source": [
    "# codigo colab\n",
    "#path_to_glove_file = os.path.join(\n",
    "#    os.path.expanduser(\"~\"), \"/content/glove_s50.txt\" # colab\n",
    "#)\n",
    "\n",
    "# codigo local\n",
    "path_to_glove_file = \"./glove_s50.txt\"\n",
    "\n",
    "embeddings_index = {}\n",
    "with open(path_to_glove_file, encoding='utf8', mode='r') as f:\n",
    "    for line in f:\n",
    "        word, coefs = line.split(maxsplit=1)\n",
    "        coefs = np.fromstring(coefs, \"f\", sep=\" \")\n",
    "        embeddings_index[word] = coefs\n",
    "\n",
    "print(\"Encontrados %s word vectors.\" % len(embeddings_index))"
   ]
  },
  {
   "cell_type": "code",
   "execution_count": null,
   "metadata": {
    "id": "BIMUS7A3I0k3",
    "outputId": "6e7e3bda-2df3-4c89-bd75-4ddb2be2187b"
   },
   "outputs": [
    {
     "data": {
      "text/html": [
       "<div>\n",
       "<style scoped>\n",
       "    .dataframe tbody tr th:only-of-type {\n",
       "        vertical-align: middle;\n",
       "    }\n",
       "\n",
       "    .dataframe tbody tr th {\n",
       "        vertical-align: top;\n",
       "    }\n",
       "\n",
       "    .dataframe thead th {\n",
       "        text-align: right;\n",
       "    }\n",
       "</style>\n",
       "<table border=\"1\" class=\"dataframe\">\n",
       "  <thead>\n",
       "    <tr style=\"text-align: right;\">\n",
       "      <th></th>\n",
       "      <th>0</th>\n",
       "    </tr>\n",
       "  </thead>\n",
       "  <tbody>\n",
       "    <tr>\n",
       "      <th>0</th>\n",
       "      <td>Os curiosos acontecimentos que são o objeto de...</td>\n",
       "    </tr>\n",
       "    <tr>\n",
       "      <th>1</th>\n",
       "      <td>Segundo a opinião geral, estavam deslocados, j...</td>\n",
       "    </tr>\n",
       "    <tr>\n",
       "      <th>2</th>\n",
       "      <td>À primeira vista, Oran é, na verdade, uma cida...</td>\n",
       "    </tr>\n",
       "    <tr>\n",
       "      <th>3</th>\n",
       "      <td>A própria cidade, vamos admiti-lo, é feia</td>\n",
       "    </tr>\n",
       "    <tr>\n",
       "      <th>4</th>\n",
       "      <td>com seu aspecto tranquilo, é preciso algum tem...</td>\n",
       "    </tr>\n",
       "    <tr>\n",
       "      <th>...</th>\n",
       "      <td>...</td>\n",
       "    </tr>\n",
       "    <tr>\n",
       "      <th>538</th>\n",
       "      <td>Queimava, na verdade, mas nem mais nem menos d...</td>\n",
       "    </tr>\n",
       "    <tr>\n",
       "      <th>539</th>\n",
       "      <td>Toda a cidade estava com febre</td>\n",
       "    </tr>\n",
       "    <tr>\n",
       "      <th>540</th>\n",
       "      <td>Era essa pelo menos a impressão que perseguia ...</td>\n",
       "    </tr>\n",
       "    <tr>\n",
       "      <th>541</th>\n",
       "      <td>Mas essa impressão parecia-lhe insensata</td>\n",
       "    </tr>\n",
       "    <tr>\n",
       "      <th>542</th>\n",
       "      <td>Atribuía-a ao enervamento e às preocupações qu...</td>\n",
       "    </tr>\n",
       "  </tbody>\n",
       "</table>\n",
       "<p>543 rows × 1 columns</p>\n",
       "</div>"
      ],
      "text/plain": [
       "                                                     0\n",
       "0    Os curiosos acontecimentos que são o objeto de...\n",
       "1    Segundo a opinião geral, estavam deslocados, j...\n",
       "2    À primeira vista, Oran é, na verdade, uma cida...\n",
       "3            A própria cidade, vamos admiti-lo, é feia\n",
       "4    com seu aspecto tranquilo, é preciso algum tem...\n",
       "..                                                 ...\n",
       "538  Queimava, na verdade, mas nem mais nem menos d...\n",
       "539                     Toda a cidade estava com febre\n",
       "540  Era essa pelo menos a impressão que perseguia ...\n",
       "541           Mas essa impressão parecia-lhe insensata\n",
       "542  Atribuía-a ao enervamento e às preocupações qu...\n",
       "\n",
       "[543 rows x 1 columns]"
      ]
     },
     "execution_count": 5,
     "metadata": {},
     "output_type": "execute_result"
    }
   ],
   "source": [
    "df = pd.read_csv(\"data/livro1.txt\", delimiter='[\\n\\r]+', header=None, engine='python')\n",
    "df"
   ]
  },
  {
   "cell_type": "code",
   "execution_count": null,
   "metadata": {
    "id": "4ckCteUQI0k3",
    "outputId": "73ca94da-a076-4ee9-f0ea-864271f8186f"
   },
   "outputs": [
    {
     "name": "stdout",
     "output_type": "stream",
     "text": [
      "[['Os curiosos acontecimentos que são o objeto desta crônica ocorreram em 194x, em Oran']\n",
      " ['Segundo a opinião geral, estavam deslocados, já que saíam um pouco do comum']\n",
      " ['À primeira vista, Oran é, na verdade, uma cidade comum e não passa de uma prefeitura francesa na costa argelina']\n",
      " ['A própria cidade, vamos admiti-lo, é feia']\n",
      " ['com seu aspecto tranquilo, é preciso algum tempo para se perceber o que a torna diferente de tantas outras cidades comerciais em todas as latitudes']]\n",
      "(543, 1)\n"
     ]
    }
   ],
   "source": [
    "texto = np.array(df)\n",
    "print(texto[:5])\n",
    "print(texto.shape)"
   ]
  },
  {
   "cell_type": "code",
   "execution_count": null,
   "metadata": {
    "id": "NYtDC1f-I0k3",
    "outputId": "cbde35f0-3f07-41df-b831-c944068bcf71"
   },
   "outputs": [
    {
     "name": "stderr",
     "output_type": "stream",
     "text": [
      "2021-11-11 09:54:23.882593: I tensorflow/stream_executor/cuda/cuda_gpu_executor.cc:939] successful NUMA node read from SysFS had negative value (-1), but there must be at least one NUMA node, so returning NUMA node zero\n",
      "2021-11-11 09:54:23.910244: W tensorflow/stream_executor/platform/default/dso_loader.cc:64] Could not load dynamic library 'libcusolver.so.11'; dlerror: libcusolver.so.11: cannot open shared object file: No such file or directory\n",
      "2021-11-11 09:54:23.914108: W tensorflow/core/common_runtime/gpu/gpu_device.cc:1850] Cannot dlopen some GPU libraries. Please make sure the missing libraries mentioned above are installed properly if you would like to use GPU. Follow the guide at https://www.tensorflow.org/install/gpu for how to download and setup the required libraries for your platform.\n",
      "Skipping registering GPU devices...\n",
      "2021-11-11 09:54:23.914705: I tensorflow/core/platform/cpu_feature_guard.cc:151] This TensorFlow binary is optimized with oneAPI Deep Neural Network Library (oneDNN) to use the following CPU instructions in performance-critical operations:  AVX2 FMA\n",
      "To enable them in other operations, rebuild TensorFlow with the appropriate compiler flags.\n"
     ]
    }
   ],
   "source": [
    "seed(1)\n",
    "set_seed(2)\n",
    "\n",
    "from tensorflow.keras.layers.experimental.preprocessing import TextVectorization\n",
    "\n",
    "vectorizer = TextVectorization(max_tokens=5000, output_sequence_length=30)\n",
    "text_ds = tf.data.Dataset.from_tensor_slices(texto).batch(16)\n",
    "vectorizer.adapt(text_ds)\n",
    "\n",
    "voc = vectorizer.get_vocabulary()\n",
    "word_index = dict(zip(voc, range(len(voc))))"
   ]
  },
  {
   "cell_type": "code",
   "execution_count": null,
   "metadata": {
    "id": "ggrG8T88I0k4",
    "outputId": "b708add7-444b-402c-b52a-09b76ad355cd",
    "scrolled": false
   },
   "outputs": [
    {
     "name": "stdout",
     "output_type": "stream",
     "text": [
      "Número de tokens:  2194\n",
      "(2194, 50)\n",
      "\n",
      "[UNK]\n",
      "à\n",
      "É\n",
      "tarrou\n",
      "às\n",
      "À\n",
      "paneloux\n",
      "cottard\n",
      "vigiálo\n",
      "tinhamno\n",
      "respondilhe\n",
      "ransdoc\n",
      "queixavase\n",
      "ocupouse\n",
      "acompanhouo\n",
      "18\n",
      "voltavalhe\n",
      "veiolhe\n",
      "veemse\n",
      "têlos\n",
      "tratarao\n",
      "tinhamlhe\n",
      "sentilo\n",
      "sentiamse\n",
      "sentase\n",
      "saintjust\n",
      "ríchard\n",
      "reúnemse\n",
      "purgava\n",
      "proíboo\n",
      "preparavase\n",
      "perdiase\n",
      "percebese\n",
      "pareceralhe\n",
      "parecelhe\n",
      "ouviamse\n",
      "olhavaos\n",
      "ocupamse\n",
      "obrigavao\n",
      "leválas\n",
      "lançarse\n",
      "jogouse\n",
      "isolálo\n",
      "interrogálo\n",
      "interessamse\n",
      "instalavaa\n",
      "instalamse\n",
      "inquietarse\n",
      "inclinavase\n",
      "gracejadores\n",
      "fungosidades\n",
      "frontdemer\n",
      "fixarase\n",
      "fechála\n",
      "faziao\n",
      "explicarlhe\n",
      "exigiamse\n",
      "esperouos\n",
      "escarrara\n",
      "encontrálos\n",
      "encontrála\n",
      "encontravamnos\n",
      "empoleirarse\n",
      "dãolhe\n",
      "distraise\n",
      "dirseia\n",
      "detevese\n",
      "desconhecese\n",
      "desateio\n",
      "demorouse\n",
      "deitese\n",
      "darmes\n",
      "curvavamse\n",
      "cuidese\n",
      "contemplouo\n",
      "consolálo\n",
      "compreendiase\n",
      "carroleito\n",
      "boulomanes\n",
      "bemeducados\n",
      "bemeducada\n",
      "aviseme\n",
      "atribuíaa\n",
      "atirálos\n",
      "atirouse\n",
      "assuou\n",
      "apressavamse\n",
      "apoiavase\n",
      "apertoulhe\n",
      "amicales\n",
      "alastravamse\n",
      "agravouse\n",
      "agitouse\n",
      "afligiase\n",
      "afastase\n",
      "adormecese\n",
      "admitilo\n",
      "acusavamse\n",
      "acalmese\n",
      "abraçoua\n",
      "abateramse\n",
      "30\n",
      "28\n",
      "25\n",
      "194x\n",
      "17\n",
      "16\n",
      "1\n",
      "Palavras convertidas: 2083 / não convertidas: 109)\n"
     ]
    }
   ],
   "source": [
    "num_tokens = len(voc) + 2\n",
    "print(\"Número de tokens: \", num_tokens)\n",
    "embedding_dim = 50\n",
    "convertidas = 0\n",
    "falhas = 0\n",
    "\n",
    "embedding_matrix = np.zeros((num_tokens, embedding_dim))\n",
    "print(embedding_matrix.shape)\n",
    "for word, i in word_index.items():\n",
    "    embedding_vector = embeddings_index.get(word)\n",
    "    if embedding_vector is not None:\n",
    "        if (embedding_vector.shape[0] != embedding_dim):\n",
    "            falhas += 1\n",
    "        else:\n",
    "            embedding_matrix[i] = embedding_vector\n",
    "            convertidas += 1\n",
    "    else:\n",
    "        falhas += 1\n",
    "        print(word)\n",
    "\n",
    "print(\"Palavras convertidas: %d / não convertidas: %d)\" % (convertidas, falhas))"
   ]
  },
  {
   "cell_type": "markdown",
   "metadata": {
    "id": "_IY01ODqI0k4"
   },
   "source": [
    "---\n",
    "\n",
    "### Exercício 8)\n",
    "\n",
    "\n",
    "A matriz de embedding  (`embedding_matrix`) contém a mesma representação para uma dada palavra do que o índice de embedding  (`embedding_index`), mas a quantidade de elementos da matriz é limitada ao vocabulário da base de dados que estamos trabalhando. Imprima a quantidade de elementos em ambos para conferir a diferença.\n",
    "\n",
    "Utilize a configuração obtida no exercício anterior (base de texto e word embedding carregados), e obtenha os índices das palavras: `rato`, `médico`, `cidade` e `febre` calculados pelo vetorizador. \n",
    "\n",
    "A seguir, obtenha a soma da diferença absoluta (ou distância L1) entre as representações da palavra `rato` e aqueles obtidos por meio dos índices encontrados das palavras `médico`, `ouro`, `cidade` e `febre` na matriz de embedding (`embedding_matrix`), ou seja, dentre as palavras convertidas.\n",
    "\n",
    "Qual palavra, das citadas acima dentro do vocabulário, é mais próxima de `rato` segundo o word embedding utilizado?\n",
    "\n",
    "<font color='red'>(a) Febre<br></font>\n",
    "(b) Ouro<br>\n",
    "(c) Médico<br>\n",
    "(d) Médico e Febre empatados<br>\n",
    "\n",
    " **Justificativa**: Veja abaixo, a palavra \"ouro\" não está no vocabulário, sendo atribuído o índice 1. Assim, a palavra mais próxima dentro do vocabulário é \"Febre\""
   ]
  },
  {
   "cell_type": "code",
   "execution_count": null,
   "metadata": {
    "id": "sGtgsD4hI0k4",
    "outputId": "1ad129d5-770d-482f-fe85-ae86d7e30680"
   },
   "outputs": [
    {
     "name": "stdout",
     "output_type": "stream",
     "text": [
      "Tamanho do índice:  929594\n",
      "Tamanho da matriz:  2194\n"
     ]
    }
   ],
   "source": [
    "print(\"Tamanho do índice: \", len(embeddings_index))\n",
    "print(\"Tamanho da matriz: \", embedding_matrix.shape[0])"
   ]
  },
  {
   "cell_type": "code",
   "execution_count": null,
   "metadata": {
    "id": "S_3OvDOgI0k4",
    "outputId": "2461c23a-bd8d-4a8a-8d4d-9551856125ce",
    "scrolled": true
   },
   "outputs": [
    {
     "data": {
      "text/plain": [
       "<tf.Tensor: shape=(1, 30), dtype=int64, numpy=\n",
       "array([[ 82,  33,   1,  27, 110,   0,   0,   0,   0,   0,   0,   0,   0,\n",
       "          0,   0,   0,   0,   0,   0,   0,   0,   0,   0,   0,   0,   0,\n",
       "          0,   0,   0,   0]])>"
      ]
     },
     "execution_count": 10,
     "metadata": {},
     "output_type": "execute_result"
    }
   ],
   "source": [
    "output = vectorizer([[\"rato médico ouro cidade febre\"]])\n",
    "output"
   ]
  },
  {
   "cell_type": "code",
   "execution_count": null,
   "metadata": {
    "id": "4IfVa23fI0k5",
    "outputId": "d085e9c6-2978-47d1-ad15-bf3e5fe193c7"
   },
   "outputs": [
    {
     "name": "stdout",
     "output_type": "stream",
     "text": [
      "Médico:  33.421877262182534\n",
      "Cidade:  39.917805386241525\n",
      "Ouro:  22.207107034511864\n",
      "Febre:  31.358608989976346\n"
     ]
    }
   ],
   "source": [
    "print(\"Médico: \", np.sum(np.abs(embedding_matrix[33]-embedding_matrix[82])))\n",
    "print(\"Cidade: \", np.sum(np.abs(embedding_matrix[27]-embedding_matrix[82])))\n",
    "print(\"Ouro: \", np.sum(np.abs(embedding_matrix[1]-embedding_matrix[82])))\n",
    "print(\"Febre: \", np.sum(np.abs(embedding_matrix[110]-embedding_matrix[82])))"
   ]
  },
  {
   "cell_type": "markdown",
   "metadata": {
    "id": "4OX6N1X5I0k5"
   },
   "source": [
    "---\n",
    "## Parte 2: Exercícios complementares"
   ]
  },
  {
   "cell_type": "markdown",
   "metadata": {
    "id": "C1sh5GgYyqqY"
   },
   "source": [
    "---\n",
    "\n",
    "### Exercício 9)\n",
    "\n",
    "Word2Vec com aprendizado de uma rede recorrente para classificação de sentenças.\n",
    "\n",
    "Iremos treinar uma rede neural capaz de diferenciar frases de dois livros diferentes, contidos nos arquivos `livro1.txt` e `livro2.txt`.\n",
    "\n",
    "Com base no processo realizado nos exercícios anteriores, carregue os arquivos citados. Gere o vetorizador com máximo de tokens 5000 e sequência com máximo de 60 elementos/tokens e realize a conversão com os textos de ambos os livros em conjunto.\n",
    "\n",
    "Depois crie o conjunto de treinamento e teste da seguinte forma:\n",
    "* o conjunto de treinamento terá as 75% primeiras frases do livro1 seguida das 75% primeiras frases do livro2\n",
    "* o conjunto de teste terá as 25% frases restantes do livro1 seguida das 25% frases restantes do livro 2\n",
    "* monte vetores com os rótulos de treinamento e teste de forma que livro 1 seja a classe 0 e livro 2 seja a classe 1.\n",
    "\n",
    "Projete uma rede Recorrente com as seguintes camadas (todas com ativação ReLU exceto especificado outra)\n",
    "* Embedding layer\n",
    "* GRU com 64 unidades e ativação relu\n",
    "* Dropout com taxa 25%\n",
    "* Densa com 1 unidade e ativação sigmoide\n",
    "\n",
    "Configure as sementes com seed(1) e set_seed(2), depois compile com a função entropia cruzada binária, otimizador adam (com seus parâmetros padrão) e compute a acurácia. Treine por 20 épocas com batch size 16.\n",
    "\n",
    "Após o treinamento, o valor da acurácia no conjunto de teste (use o método `evaluate`) estão em qual intervalo?\n",
    "\n",
    "(a) [99, 100]<br>\n",
    "<font color='red'>(c) [92, 98]<br></font>\n",
    "(b) [80, 88]<br>\n",
    "(d) [69, 78]<br>\n",
    "\n",
    " **Justificativa**: Veja abaixo o código"
   ]
  },
  {
   "cell_type": "code",
   "execution_count": null,
   "metadata": {
    "id": "GkUgHRI9I0k5",
    "outputId": "6ac85b6b-bc08-436e-b9c4-9c139af25add"
   },
   "outputs": [
    {
     "data": {
      "text/html": [
       "<div>\n",
       "<style scoped>\n",
       "    .dataframe tbody tr th:only-of-type {\n",
       "        vertical-align: middle;\n",
       "    }\n",
       "\n",
       "    .dataframe tbody tr th {\n",
       "        vertical-align: top;\n",
       "    }\n",
       "\n",
       "    .dataframe thead th {\n",
       "        text-align: right;\n",
       "    }\n",
       "</style>\n",
       "<table border=\"1\" class=\"dataframe\">\n",
       "  <thead>\n",
       "    <tr style=\"text-align: right;\">\n",
       "      <th></th>\n",
       "      <th>0</th>\n",
       "    </tr>\n",
       "  </thead>\n",
       "  <tbody>\n",
       "    <tr>\n",
       "      <th>0</th>\n",
       "      <td>No princípio era o Verbo e o Verbo estava junt...</td>\n",
       "    </tr>\n",
       "    <tr>\n",
       "      <th>1</th>\n",
       "      <td>Ele estava no princípio junto a Deus e dever d...</td>\n",
       "    </tr>\n",
       "    <tr>\n",
       "      <th>2</th>\n",
       "      <td>Mas videmus nunc per speculum et in aenigmate ...</td>\n",
       "    </tr>\n",
       "    <tr>\n",
       "      <th>3</th>\n",
       "      <td>Chegando ao fim desta minha vida de pecador, e...</td>\n",
       "    </tr>\n",
       "    <tr>\n",
       "      <th>4</th>\n",
       "      <td>Conceda-me o Senhor a graça de ser testemunha ...</td>\n",
       "    </tr>\n",
       "    <tr>\n",
       "      <th>...</th>\n",
       "      <td>...</td>\n",
       "    </tr>\n",
       "    <tr>\n",
       "      <th>96</th>\n",
       "      <td>Pela mole, e pela forma, o Edifício me pareceu...</td>\n",
       "    </tr>\n",
       "    <tr>\n",
       "      <th>97</th>\n",
       "      <td>E é sorte que, sendo uma límpida manhã de inve...</td>\n",
       "    </tr>\n",
       "    <tr>\n",
       "      <th>98</th>\n",
       "      <td>Não direi de modo algum que ela sugerisse sent...</td>\n",
       "    </tr>\n",
       "    <tr>\n",
       "      <th>99</th>\n",
       "      <td>Trouxe-me espanto, e uma inquietação sutil</td>\n",
       "    </tr>\n",
       "    <tr>\n",
       "      <th>100</th>\n",
       "      <td>Deus sabe que não eram fantasmas de minha alma...</td>\n",
       "    </tr>\n",
       "  </tbody>\n",
       "</table>\n",
       "<p>101 rows × 1 columns</p>\n",
       "</div>"
      ],
      "text/plain": [
       "                                                     0\n",
       "0    No princípio era o Verbo e o Verbo estava junt...\n",
       "1    Ele estava no princípio junto a Deus e dever d...\n",
       "2    Mas videmus nunc per speculum et in aenigmate ...\n",
       "3    Chegando ao fim desta minha vida de pecador, e...\n",
       "4    Conceda-me o Senhor a graça de ser testemunha ...\n",
       "..                                                 ...\n",
       "96   Pela mole, e pela forma, o Edifício me pareceu...\n",
       "97   E é sorte que, sendo uma límpida manhã de inve...\n",
       "98   Não direi de modo algum que ela sugerisse sent...\n",
       "99          Trouxe-me espanto, e uma inquietação sutil\n",
       "100  Deus sabe que não eram fantasmas de minha alma...\n",
       "\n",
       "[101 rows x 1 columns]"
      ]
     },
     "execution_count": 12,
     "metadata": {},
     "output_type": "execute_result"
    }
   ],
   "source": [
    "df2 = pd.read_csv(\"data/livro2.txt\", delimiter='[\\n\\r]+', header=None, engine='python')\n",
    "df2"
   ]
  },
  {
   "cell_type": "code",
   "execution_count": null,
   "metadata": {
    "id": "W-3XL-ThI0k6",
    "outputId": "aea1e615-f2a7-4075-f2fc-56c5bb840d69",
    "scrolled": true
   },
   "outputs": [
    {
     "name": "stdout",
     "output_type": "stream",
     "text": [
      "[['No princípio era o Verbo e o Verbo estava junto a Deus, e o Verbo era Deus']\n",
      " ['Ele estava no princípio junto a Deus e dever do monge fiel seria repetir cada dia com salmodiante humildade o único evento imodificável do qual se pode confirmar a incontrovertível verdade']\n",
      " ['Mas videmus nunc per speculum et in aenigmate e a verdade, em vez de cara a cara, manifesta-se deixando às vezes rastros (ai, quão ilegíveis) no erro do mundo, tanto que precisamos calculá-lo, soletrando os verdadeiros sinais, mesmo lá onde nos parecem obscuros e quase entremeados por uma vontade totalmente voltada para o mal']\n",
      " ['Chegando ao fim desta minha vida de pecador, enquanto, encanecido, envelheço como o mundo, à espera de perder-me no abismo sem fundo da divindade silenciosa e deserta, participando da luz inconversível das inteligências angélicas, já entrevado com meu corpo pesado e doente nesta cela do caro mosteiro de Melk, apresto-me a deixar sobre este pergaminho o testemunho dos eventos miríficos e formidáveis a que na juventude me foi dado assistir, repetindo verbatim quanto vi e ouvi, sem me aventurar a tirar disso um desenho, como a deixar aos que virão (se o Anticristo não os preceder) signos de signos, para que sobre eles se exercite a prece da decifração']\n",
      " ['Conceda-me o Senhor a graça de ser testemunha transparente dos acontecimentos que tiveram lugar na abadia da qual é bem e piedoso se cale também afinal o nome, ao findar do ano do Senhor de 1327 em que o imperador Ludovico entrou na Itália para reconstituir a dignidade do sagrado império romano, segundo os desígnios do Altíssimo e a confusão do infame usurpador simoníaco e heresiarca que em Avignon lançou vergonha ao santo nome do apóstolo (falo da alma pecadora de Jacques de Cahors, que os ímpios honraram como João XXII)']]\n",
      "(101, 1)\n"
     ]
    }
   ],
   "source": [
    "texto2 = np.array(df2)\n",
    "print(texto2[:5])\n",
    "print(texto2.shape)"
   ]
  },
  {
   "cell_type": "code",
   "execution_count": null,
   "metadata": {
    "id": "l9onzRL0I0k6"
   },
   "outputs": [],
   "source": [
    "texto_integrado = np.vstack((texto, texto2))"
   ]
  },
  {
   "cell_type": "code",
   "execution_count": null,
   "metadata": {
    "id": "dAQwJXQdI0k6"
   },
   "outputs": [],
   "source": [
    "seed(1)\n",
    "set_seed(2)\n",
    "\n",
    "from tensorflow.keras.layers.experimental.preprocessing import TextVectorization\n",
    "\n",
    "vectorizer2 = TextVectorization(max_tokens=5000, output_sequence_length=60)\n",
    "text_ds2 = tf.data.Dataset.from_tensor_slices(texto_integrado).batch(16)\n",
    "vectorizer2.adapt(text_ds2)\n",
    "\n",
    "voc2 = vectorizer2.get_vocabulary()\n",
    "word_index2 = dict(zip(voc2, range(len(voc2))))"
   ]
  },
  {
   "cell_type": "code",
   "execution_count": null,
   "metadata": {
    "id": "jPgiTlrII0k7",
    "outputId": "3b25613a-e29c-4c32-e09b-5f9ace49a1b1"
   },
   "outputs": [
    {
     "name": "stdout",
     "output_type": "stream",
     "text": [
      "Número de tokens:  3200\n",
      "(3200, 50)\n",
      "Palavras convertidas: 3025 / não convertidas: 173)\n"
     ]
    }
   ],
   "source": [
    "num_tokens = len(voc2) + 2\n",
    "print(\"Número de tokens: \", num_tokens)\n",
    "embedding_dim = 50\n",
    "convertidas = 0\n",
    "falhas = 0\n",
    "\n",
    "embedding_matrix2 = np.zeros((num_tokens, embedding_dim))\n",
    "print(embedding_matrix2.shape)\n",
    "for word, i in word_index2.items():\n",
    "    embedding_vector2 = embeddings_index.get(word)\n",
    "    if embedding_vector2 is not None:\n",
    "        if (embedding_vector2.shape[0] != embedding_dim):\n",
    "            falhas += 1\n",
    "        else:\n",
    "            embedding_matrix2[i] = embedding_vector2\n",
    "            convertidas += 1\n",
    "    else:\n",
    "        falhas += 1\n",
    "\n",
    "print(\"Palavras convertidas: %d / não convertidas: %d)\" % (convertidas, falhas))"
   ]
  },
  {
   "cell_type": "code",
   "execution_count": null,
   "metadata": {
    "id": "t3or8SkjI0k8"
   },
   "outputs": [],
   "source": [
    "from tensorflow.keras.layers import Embedding\n",
    "\n",
    "embedding_layer = Embedding(\n",
    "    num_tokens,\n",
    "    embedding_dim,\n",
    "    embeddings_initializer=keras.initializers.Constant(embedding_matrix2),\n",
    "    trainable=False,\n",
    ")"
   ]
  },
  {
   "cell_type": "code",
   "execution_count": null,
   "metadata": {
    "id": "2Sqsf0wMI0k8",
    "outputId": "3b2e3807-252f-45fb-bbfe-dc7fd20b53db"
   },
   "outputs": [
    {
     "name": "stdout",
     "output_type": "stream",
     "text": [
      "Texto 1:\n",
      "train (x,y): 408,408\n",
      "val (x,y): 135,135\n",
      "Texto 2:\n",
      "train (x,y): 76,76\n",
      "val (x,y): 25,25\n"
     ]
    }
   ],
   "source": [
    "validation_split = 0.25\n",
    "\n",
    "# texto 1\n",
    "num_validation1 = int(validation_split * len(texto))\n",
    "num_train1 = int((1-validation_split) * len(texto))\n",
    "\n",
    "x_train1 = texto[:-num_validation1]\n",
    "y_train1 = np.zeros(num_train1+1)\n",
    "x_val1 = texto[-num_validation1:]\n",
    "y_val1 = np.zeros(num_validation1)\n",
    "print(\"Texto 1:\")\n",
    "print(\"train (x,y): %d,%d\" % (x_train1.shape[0], y_train1.shape[0]))\n",
    "print(\"val (x,y): %d,%d\" % (x_val1.shape[0], y_val1.shape[0]))\n",
    "\n",
    "# texto 2\n",
    "num_validation2 = int(validation_split * len(texto2))\n",
    "num_train2 = int((1-validation_split) * len(texto2))\n",
    "x_train2 = texto2[:-num_validation2]\n",
    "y_train2 = np.ones(num_train2+1)\n",
    "x_val2 = texto2[-num_validation2:]\n",
    "y_val2 = np.ones(num_validation2)\n",
    "print(\"Texto 2:\")\n",
    "print(\"train (x,y): %d,%d\" % (x_train2.shape[0], y_train2.shape[0]))\n",
    "print(\"val (x,y): %d,%d\" % (x_val2.shape[0], y_val2.shape[0]))"
   ]
  },
  {
   "cell_type": "code",
   "execution_count": null,
   "metadata": {
    "id": "AfvFVM8FI0k8",
    "outputId": "9bd490ca-5f59-48f9-c750-42251e58dd3a"
   },
   "outputs": [
    {
     "name": "stdout",
     "output_type": "stream",
     "text": [
      "(484, 1)\n",
      "(160, 1)\n"
     ]
    }
   ],
   "source": [
    "# juntando textos\n",
    "x_train = np.vstack((x_train1, x_train2))\n",
    "x_val = np.vstack((x_val1, x_val2))\n",
    "print(x_train.shape)\n",
    "print(x_val.shape)\n",
    "\n",
    "y_train = np.concatenate((y_train1, y_train2))\n",
    "y_val = np.concatenate((y_val1, y_val2))"
   ]
  },
  {
   "cell_type": "code",
   "execution_count": null,
   "metadata": {
    "id": "4iFxMlWAI0k8",
    "outputId": "117b6146-8da1-481d-fd42-486ac1e70328"
   },
   "outputs": [
    {
     "name": "stdout",
     "output_type": "stream",
     "text": [
      "(484, 30)\n",
      "(160, 30)\n"
     ]
    }
   ],
   "source": [
    "# vetorizacao dos dados\n",
    "x_train_net = vectorizer(np.array([s for s in x_train])).numpy()\n",
    "x_val_net = vectorizer(np.array([s for s in x_val])).numpy()\n",
    "\n",
    "print(x_train_net.shape)\n",
    "print(x_val_net.shape)"
   ]
  },
  {
   "cell_type": "code",
   "execution_count": null,
   "metadata": {
    "id": "oxFn16FHI0k9"
   },
   "outputs": [],
   "source": [
    "def GRU_texto():\n",
    "    int_sequences_input = keras.Input(shape=(None,), dtype=\"int64\")\n",
    "    embedded_sequences = embedding_layer(int_sequences_input)\n",
    "    x = layers.GRU(64, activation=\"relu\")(embedded_sequences)\n",
    "    x = layers.Dropout(0.25)(x)\n",
    "    predsGRUout = layers.Dense(1, activation=\"sigmoid\")(x)\n",
    "    modelGRU = keras.Model(inputs=int_sequences_input, outputs=predsGRUout)\n",
    "    return modelGRU"
   ]
  },
  {
   "cell_type": "code",
   "execution_count": null,
   "metadata": {
    "id": "1cmfGh4sI0k9",
    "outputId": "557a6c09-35db-4a9c-e8be-7272284a8b7a"
   },
   "outputs": [
    {
     "name": "stdout",
     "output_type": "stream",
     "text": [
      "Model: \"model\"\n",
      "_________________________________________________________________\n",
      " Layer (type)                Output Shape              Param #   \n",
      "=================================================================\n",
      " input_1 (InputLayer)        [(None, None)]            0         \n",
      "                                                                 \n",
      " embedding (Embedding)       (None, None, 50)          160000    \n",
      "                                                                 \n",
      " gru (GRU)                   (None, 64)                22272     \n",
      "                                                                 \n",
      " dropout (Dropout)           (None, 64)                0         \n",
      "                                                                 \n",
      " dense (Dense)               (None, 1)                 65        \n",
      "                                                                 \n",
      "=================================================================\n",
      "Total params: 182,337\n",
      "Trainable params: 22,337\n",
      "Non-trainable params: 160,000\n",
      "_________________________________________________________________\n",
      "Epoch 1/20\n",
      "31/31 [==============================] - 2s 15ms/step - loss: 0.6631 - acc: 0.8388 - val_loss: 0.5884 - val_acc: 0.8438\n",
      "Epoch 2/20\n",
      "31/31 [==============================] - 0s 9ms/step - loss: 0.4642 - acc: 0.8492 - val_loss: 0.3670 - val_acc: 0.8562\n",
      "Epoch 3/20\n",
      "31/31 [==============================] - 0s 10ms/step - loss: 0.3111 - acc: 0.8760 - val_loss: 0.3574 - val_acc: 0.8625\n",
      "Epoch 4/20\n",
      "31/31 [==============================] - 0s 9ms/step - loss: 0.2796 - acc: 0.8884 - val_loss: 0.3264 - val_acc: 0.8687\n",
      "Epoch 5/20\n",
      "31/31 [==============================] - 0s 10ms/step - loss: 0.2390 - acc: 0.9091 - val_loss: 0.2819 - val_acc: 0.8750\n",
      "Epoch 6/20\n",
      "31/31 [==============================] - 0s 10ms/step - loss: 0.2141 - acc: 0.9277 - val_loss: 0.3121 - val_acc: 0.8938\n",
      "Epoch 7/20\n",
      "31/31 [==============================] - 0s 10ms/step - loss: 0.1615 - acc: 0.9380 - val_loss: 0.2313 - val_acc: 0.9062\n",
      "Epoch 8/20\n",
      "31/31 [==============================] - 0s 9ms/step - loss: 0.0989 - acc: 0.9669 - val_loss: 0.2017 - val_acc: 0.9563\n",
      "Epoch 9/20\n",
      "31/31 [==============================] - 0s 10ms/step - loss: 0.0550 - acc: 0.9876 - val_loss: 0.2945 - val_acc: 0.9312\n",
      "Epoch 10/20\n",
      "31/31 [==============================] - 0s 9ms/step - loss: 0.0367 - acc: 0.9876 - val_loss: 0.2492 - val_acc: 0.9500\n",
      "Epoch 11/20\n",
      "31/31 [==============================] - 0s 9ms/step - loss: 0.0214 - acc: 0.9917 - val_loss: 0.2846 - val_acc: 0.9500\n",
      "Epoch 12/20\n",
      "31/31 [==============================] - 0s 9ms/step - loss: 0.0102 - acc: 0.9979 - val_loss: 0.4813 - val_acc: 0.9500\n",
      "Epoch 13/20\n",
      "31/31 [==============================] - 0s 9ms/step - loss: 0.0449 - acc: 0.9752 - val_loss: 0.2235 - val_acc: 0.9250\n",
      "Epoch 14/20\n",
      "31/31 [==============================] - 0s 9ms/step - loss: 0.1411 - acc: 0.9463 - val_loss: 0.2356 - val_acc: 0.9062\n",
      "Epoch 15/20\n",
      "31/31 [==============================] - 0s 9ms/step - loss: 0.0771 - acc: 0.9690 - val_loss: 0.1631 - val_acc: 0.9625\n",
      "Epoch 16/20\n",
      "31/31 [==============================] - 0s 10ms/step - loss: 0.0168 - acc: 0.9959 - val_loss: 0.4694 - val_acc: 0.9625\n",
      "Epoch 17/20\n",
      "31/31 [==============================] - 0s 10ms/step - loss: 0.0117 - acc: 0.9959 - val_loss: 0.6929 - val_acc: 0.9625\n",
      "Epoch 18/20\n",
      "31/31 [==============================] - 0s 9ms/step - loss: 0.0064 - acc: 0.9979 - val_loss: 0.5661 - val_acc: 0.9625\n",
      "Epoch 19/20\n",
      "31/31 [==============================] - 0s 9ms/step - loss: 0.0041 - acc: 1.0000 - val_loss: 0.8168 - val_acc: 0.9625\n",
      "Epoch 20/20\n",
      "31/31 [==============================] - 0s 10ms/step - loss: 0.0027 - acc: 1.0000 - val_loss: 0.9116 - val_acc: 0.9563\n"
     ]
    },
    {
     "data": {
      "text/plain": [
       "<keras.callbacks.History at 0x7f5ad8597310>"
      ]
     },
     "execution_count": 22,
     "metadata": {},
     "output_type": "execute_result"
    }
   ],
   "source": [
    "seed(1)\n",
    "set_seed(2)\n",
    "modelGRU = GRU_texto()\n",
    "modelGRU.summary()\n",
    "\n",
    "modelGRU.compile(\n",
    "    loss=\"binary_crossentropy\", optimizer=\"adam\", metrics=[\"acc\"]\n",
    ")\n",
    "modelGRU.fit(x_train_net, y_train, batch_size=16, epochs=20, validation_data=(x_val_net, y_val))"
   ]
  },
  {
   "cell_type": "code",
   "execution_count": null,
   "metadata": {
    "id": "WC-XWieKI0k9",
    "outputId": "c4108606-2c28-4f22-e49c-8387fce12660"
   },
   "outputs": [
    {
     "name": "stdout",
     "output_type": "stream",
     "text": [
      "Perda validação: 0.911614\n",
      "Acurácia validação: 0.956250\n"
     ]
    }
   ],
   "source": [
    "scores = modelGRU.evaluate(x_val_net,y_val, verbose=0)\n",
    "print(\"Perda validação: %f\" % (scores[0]))\n",
    "print(\"Acurácia validação: %f\" % (scores[1]))"
   ]
  },
  {
   "cell_type": "markdown",
   "metadata": {
    "id": "o7fImZVHI0k9"
   },
   "source": [
    "---\n",
    "\n",
    "### Exercício 10)\n",
    "\n",
    "Word2Vec com aprendizado de uma rede totalmente convolucional, com convoluções dilatadas para classificação de sentenças. \n",
    "\n",
    "Considere o mesmo problema anteriormente abordado no exercício 9. Agora vamos utilizar uma redes com convoluções dilatadas que é um método para reduzir dimensionalidade enquanto mantêm o campo receptivo local, utilizada por exemplo para aplicações com áudio (como a WaveNet), mas também aplicável para outros dados sequenciais. Veja uma explicação em: https://www.paperswithcode.com/method/dilated-convolution\n",
    "\n",
    "Projete uma rede neural, a qual chamaremos Conv, com as seguintes camadas\n",
    "* Embedding layer\n",
    "* Conv1D com 32 filtros de tamanho 2, zeropadding e parâmetro `dilation_rate=2`, ativação relu\n",
    "* Conv1D com 32 filtros de tamanho 2, zeropadding e parâmetro `dilation_rate=3`, ativação relu\n",
    "* Conv1D com 64 filtros de tamanho 3, zeropadding e parâmetro `dilation_rate=4`, ativação relu\n",
    "* Dropout com taxa 25%\n",
    "* Camada Flatten: *como temos a entrada representada por (batch_size, seq_len, 1), a saída será (batch_size, seq_len, 1), por isso precisamos de uma camada flatten para achatar as dimensões e permitir uma saída (batch_size, 1)*\n",
    "* Densa com 1 unidade e ativação sigmoide\n",
    "\n",
    "Projete também uma segunda rede, que adicione, logo antes da Camada Dropout, uma camada GRU contendo 64 neurônios e ativação relu. Chamaremos essa rede de Conv+GRU.\n",
    "\n",
    "Para cada rede, configure as sementes com seed(2) e set_seed(2), depois instancie o modelo, compile com a função entropia cruzada binária, otimizador adam (com seus parâmetros padrão). Treine por 20 épocas com batch size 16.\n",
    "\n",
    "A acurácia no conjunto de teste (use o método `evaluate`) está em qual intervalo para cada uma das redes?\n",
    "\n",
    "(a) Conv: [93, 98], Conv+GRU:  [85, 92]<br>\n",
    "<font color='red'>(b) Conv: [93, 98], Conv+GRU: [94, 99]<br></font>\n",
    "(c) Conv: [75, 82], Conv+GRU: [94, 99]<br>\n",
    "(d) Conv: [75, 82], Conv+GRU: [85, 92]<br>\n",
    "\n",
    " **Justificativa**: Veja abaixo o código\n"
   ]
  },
  {
   "cell_type": "code",
   "execution_count": null,
   "metadata": {
    "id": "429iWkE9I0k-"
   },
   "outputs": [],
   "source": [
    "def Conv_texto():\n",
    "    # na arquitetura totalmente convolucional precisamos definir o shape fixo para depois ter uma camada Flatten\n",
    "    int_sequences_input = keras.Input(shape=(30,), dtype=\"int64\")\n",
    "    embedded_sequences = embedding_layer(int_sequences_input)\n",
    "    x = layers.Conv1D(32, 2, activation=\"relu\", dilation_rate=2, padding=\"same\")(embedded_sequences)\n",
    "    x = layers.Conv1D(32, 2, activation=\"relu\", dilation_rate=3, padding=\"same\")(x)\n",
    "    x = layers.Conv1D(64, 3, activation=\"relu\", dilation_rate=4, padding=\"same\")(x)\n",
    "    x = layers.Dropout(0.25)(x)\n",
    "    # como temos a entrada representada por (batch_size, seq_len, 1), a saída será (batch_size, seq_len, 1)\n",
    "    # por isso precisamos de uma camada flatten para achatar as dimensões e permitir uma saída (batch_size, 1)\n",
    "    x = layers.Flatten()(x)\n",
    "    predsConvout = layers.Dense(1, activation=\"sigmoid\")(x)\n",
    "    modelConv = keras.Model(inputs=int_sequences_input, outputs=predsConvout)\n",
    "    return modelConv\n",
    "\n",
    "def ConvGRU_texto():\n",
    "    int_sequences_input = keras.Input(shape=(None,), dtype=\"int64\")\n",
    "    embedded_sequences = embedding_layer(int_sequences_input)\n",
    "    x = layers.Conv1D(32, 2, activation=\"relu\", dilation_rate=2, padding=\"same\")(embedded_sequences)\n",
    "    x = layers.Conv1D(32, 2, activation=\"relu\", dilation_rate=3, padding=\"same\")(x)\n",
    "    #x = layers.Conv1D(64, 3, activation=\"relu\", dilation_rate=4, padding=\"same\")(x) # substituindo uma Conv1D por GRU\n",
    "    x = layers.GRU(64, activation=\"relu\")(x)\n",
    "    x = layers.Dropout(0.25)(x)\n",
    "    predsConvout = layers.Dense(1, activation=\"sigmoid\")(x)\n",
    "    modelConv = keras.Model(inputs=int_sequences_input, outputs=predsConvout)\n",
    "    return modelConv"
   ]
  },
  {
   "cell_type": "code",
   "execution_count": null,
   "metadata": {
    "id": "JqI4c8CSI0k-",
    "outputId": "85a45a19-b0da-4eff-cd7f-7244bcf0ee48"
   },
   "outputs": [
    {
     "data": {
      "text/plain": [
       "<keras.callbacks.History at 0x7f5ad032c670>"
      ]
     },
     "execution_count": 25,
     "metadata": {},
     "output_type": "execute_result"
    }
   ],
   "source": [
    "seed(2); set_seed(2)\n",
    "modelConv = Conv_texto()\n",
    "modelConv.compile(\n",
    "    loss=\"binary_crossentropy\", optimizer=\"adam\", metrics=[\"acc\"]\n",
    ")\n",
    "modelConv.fit(x_train_net, y_train, batch_size=16, epochs=20, validation_data=(x_val_net, y_val), verbose=0)"
   ]
  },
  {
   "cell_type": "code",
   "execution_count": null,
   "metadata": {
    "id": "Zufg-lMqI0k-",
    "outputId": "18e5ea44-9087-4058-9942-26f22f65e08b"
   },
   "outputs": [
    {
     "data": {
      "text/plain": [
       "<keras.callbacks.History at 0x7f5ad00def40>"
      ]
     },
     "execution_count": 26,
     "metadata": {},
     "output_type": "execute_result"
    }
   ],
   "source": [
    "seed(2); set_seed(2)\n",
    "modelConvGRU = ConvGRU_texto()\n",
    "modelConvGRU.compile(\n",
    "    loss=\"binary_crossentropy\", optimizer=\"adam\", metrics=[\"acc\"]\n",
    ")\n",
    "modelConvGRU.fit(x_train_net, y_train, batch_size=16, epochs=20, validation_data=(x_val_net, y_val), verbose=0)"
   ]
  },
  {
   "cell_type": "code",
   "execution_count": null,
   "metadata": {
    "id": "R6qSYT4OI0k_",
    "outputId": "45a10b70-7022-462e-f35e-c97bab6b2d72"
   },
   "outputs": [
    {
     "name": "stdout",
     "output_type": "stream",
     "text": [
      "Convolucional\n",
      "Perda teste: 0.172813\n",
      "Acurácia teste: 0.943750\n",
      "\n",
      "Convolucional+GRU\n",
      "Perda teste: 0.164481\n",
      "Acurácia teste: 0.981250\n"
     ]
    }
   ],
   "source": [
    "scoresC = modelConv.evaluate(x_val_net,y_val, verbose=0)\n",
    "scoresG = modelConvGRU.evaluate(x_val_net,y_val, verbose=0)\n",
    "print(\"Convolucional\")\n",
    "print(\"Perda teste: %f\" % (scoresC[0]))\n",
    "print(\"Acurácia teste: %f\" % (scoresC[1]))\n",
    "print()\n",
    "print(\"Convolucional+GRU\")\n",
    "print(\"Perda teste: %f\" % (scoresG[0]))\n",
    "print(\"Acurácia teste: %f\" % (scoresG[1]))"
   ]
  },
  {
   "cell_type": "code",
   "execution_count": null,
   "metadata": {
    "id": "U0C4UBxaHpuK"
   },
   "outputs": [],
   "source": []
  }
 ],
 "metadata": {
  "accelerator": "GPU",
  "colab": {
   "collapsed_sections": [],
   "name": "RNAP-06-Exercicios_solucoes.ipynb",
   "provenance": []
  },
  "kernelspec": {
   "display_name": "Python 3",
   "language": "python",
   "name": "python3"
  },
  "language_info": {
   "codemirror_mode": {
    "name": "ipython",
    "version": 3
   },
   "file_extension": ".py",
   "mimetype": "text/x-python",
   "name": "python",
   "nbconvert_exporter": "python",
   "pygments_lexer": "ipython3",
   "version": "3.8.10"
  }
 },
 "nbformat": 4,
 "nbformat_minor": 1
}
