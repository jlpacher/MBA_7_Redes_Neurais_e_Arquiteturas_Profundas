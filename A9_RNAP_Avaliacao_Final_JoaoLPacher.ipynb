{
 "cells": [
  {
   "cell_type": "markdown",
   "metadata": {
    "id": "K8CDQUj8yqpq"
   },
   "source": [
    "## MBA em Ciência de Dados\n",
    "# Redes Neurais e Arquiteturas Profundas\n",
    "\n",
    "## <span style=\"color:darkred\">Avaliação Final</span>\n",
    "\n",
    "Moacir Antonelli Ponti\n",
    "\n",
    "CeMEAI - ICMC/USP São Carlos\n",
    "\n",
    "---"
   ]
  },
  {
   "cell_type": "markdown",
   "metadata": {
    "id": "ZchRBVZYtlZO"
   },
   "source": [
    "Nessa avaliação será utilizado o dataset `smartphone_activity.csv` que contém 561 colunas, cujo objetivo é classificar uma entre 6 ações de uma pessoa com base em sensores disponíveis no smartphone. Vamos assumir um cenário com alta disponibilidade de exemplos não rotulados, e baixa de exemplos rotulados. Para tal, pré-treinaremos camadas de uma rede neural com dados não anotados, a qual posteriormente será usada para compor um modelo inicial de classificação.\n",
    "\n",
    "Conforme código abaixo, use como características de entrada as 561 primeiras colunas e como classe a última coluna (activity). \n",
    "\n",
    "As tarefas a realizar são as seguintes:\n",
    "\n",
    "1. **Prepare** os dados conforme o código fornecido (leia abaixo e estude o código para entender):\n",
    "    * carregue o dataset e organize as features e rótulos\n",
    "    * conjunto S = 2% dos dados iniciais como treinamento com rótulo (assumiremos que temos rótulos apenas para esses 2%), no formato par (x,y)\n",
    "    * conjunto U = 50% dos dados iniciais como treinamento não anotado (note que S está contido em U), \n",
    "    * conjunto T = o restante dos 50% para teste, no formato par (x,y).<br><br>\n",
    "    \n",
    "1.  (3,0 pt) **Modelo A**: projete e treine um undercomplete autoencoder com dropout na entrada para pré-treinamento baseado em auto-supervisão. Esse autoencoder aprende a preencher os valores eliminados na camada de entrada. A arquitetura deve ter a seguinte estrutura:\n",
    "    1. Encoder:\n",
    "        * entrada com 561 valores\n",
    "        * dropout com taxa de 0.25\n",
    "        * normalização em batch\n",
    "        * densa 256 neurônios, relu\n",
    "        * densa 256 neurônios, relu\n",
    "        * densa 64 neurônios, ativação linear \n",
    "        * normalização em batch (consideraremos essa camada como sendo o código produzido pelo encoder)\n",
    "        * ativação relu\n",
    "        * dropout 0.25\n",
    "    2. Decoder:\n",
    "        * densa 256 neurônios, ativação tanh\n",
    "        * densa 256 neurônios, ativação tanh\n",
    "        * densa 561 neurônios, ativação tanh\n",
    "    * Usar Adam com taxa de aprendizado inicial de 0.005 e com decaimento exponencial a -0.1<br>\n",
    "    * Treinar com perda MSE por 20 épocas com batch size 16 utilizando o conjunto **U**<br>\n",
    "    * Exiba a perda final MSE após as 20 utilizando o conjunto **U** (use o evaluate para isso)<br>\n",
    "    * Obtenha o código (saída do encoder relativa a normalização em batch após a camada de 64 dimensões) para os dados de treinamento (conjunto **U**) e armazene-o num array `code_train`. Exiba na tela esse código para a primeira instância de treinamento (índice 0)<br><br>\n",
    "    \n",
    "1. (3,5 pt)  **Modelo B**: rede neural profunda densa, utilizando como base o encoder do modelo A (inclusive seus pesos pré-treinados), e inserindo uma nova camada densa de classificação (em 6 classes) com ativação softmax (essa inicializada aleatoriamente). Porém **não** deve conter o primeiro dropout (logo após a camada de entrada) do encoder, ou seja a primeira camada dropout deve ser removida.<br>\n",
    "    * A arquitetura deve ter portanto as seguintes camadas:\n",
    "        * entrada\n",
    "        * normalização em batch\n",
    "        * densa 256 neurônios, relu\n",
    "        * densa 256 neurônios, relu\n",
    "        * densa 64 neurônios, ativação linear\n",
    "        * normalização em batch\n",
    "        * ativação relu\n",
    "        * dropout 0.25\n",
    "        * densa 6 neurônios, softmax\n",
    "        \n",
    "    * Utilizar Adam com taxa de aprendizado inicial de 0.001 e com decaimento em todas as épocas exponencial a -0.1\n",
    "    * Treinar com perda entropia cruzada categórica por 50 épocas com batch size 16 \n",
    "    * Compute como métricas, além da perda, precisão e revocação (precision / recall)<br><br>\n",
    "    \n",
    "1. (3,5 pt) **Avalie a rede neural de classificação** (Modelo B): \n",
    "    * Exiba o gráfico da precisão e revocação calculada no treinamento ao longo das épocas para o modelo B\n",
    "    * Exiba precisão e revocação calculada no treinamento S e teste T (use evaluate no modelo B)<br><br>\n",
    "    \n",
    "1. **Bônus:** (+1 ponto extra) \n",
    "    * (0,5) *Análise de projeção das características*: visualize scatterplots com os 2 principais componentes obtidos do PCA com as classes dos exemplos atribuídas com cores ou marcadores diferentes. Projetar em 2D os seguintes espaços:\n",
    "        1. scatterplot com projeção PCA do conjunto de S original (561 dimensões)\n",
    "        1. scatterplot com projeção PCA do código (64 dimensões) do conjunto S após processado pelo \"encoder\" do *Modelo A* (code_train obtido no item/questão 2)\n",
    "        1. scatterplot com projeção PCA do código (64 dimensões) do conjunto S após processado pelo \"encoder\" do *Modelo B* (treinado no item/questão 3)<br><br>    \n",
    "    \n",
    "    * (0,5) Obtenha um classificador SVM com kernel linear, treinado nos dados S obtendo sua representação do código (64 dimensões) da rede de classificação (modelo B). Avalie precisão e revocação no treinamento S e teste T."
   ]
  },
  {
   "cell_type": "code",
   "execution_count": 1,
   "metadata": {
    "id": "EGP5JF8btlZQ"
   },
   "outputs": [],
   "source": [
    "import random\n",
    "import numpy as np\n",
    "import matplotlib.pyplot as plt\n",
    "import tensorflow as tf\n",
    "from numpy.random import seed\n",
    "from tensorflow.random import set_seed\n",
    "from tensorflow import keras\n",
    "from tensorflow.keras import layers"
   ]
  },
  {
   "cell_type": "raw",
   "metadata": {
    "colab": {
     "base_uri": "https://localhost:8080/"
    },
    "id": "luzDuNLUtuBu",
    "outputId": "4d2f63f8-f692-4fc1-d92a-81b0ab916dbc"
   },
   "source": [
    "# from google.colab import drive\n",
    "# drive.mount('/gdrive', force_remount=True)"
   ]
  },
  {
   "cell_type": "code",
   "execution_count": 2,
   "metadata": {
    "colab": {
     "base_uri": "https://localhost:8080/",
     "height": 443
    },
    "id": "PkGYycoktvSB",
    "outputId": "eacf4db8-eb7c-49c4-c6d9-b578e31ba4e5"
   },
   "outputs": [
    {
     "data": {
      "text/html": [
       "<div>\n",
       "<style scoped>\n",
       "    .dataframe tbody tr th:only-of-type {\n",
       "        vertical-align: middle;\n",
       "    }\n",
       "\n",
       "    .dataframe tbody tr th {\n",
       "        vertical-align: top;\n",
       "    }\n",
       "\n",
       "    .dataframe thead th {\n",
       "        text-align: right;\n",
       "    }\n",
       "</style>\n",
       "<table border=\"1\" class=\"dataframe\">\n",
       "  <thead>\n",
       "    <tr style=\"text-align: right;\">\n",
       "      <th></th>\n",
       "      <th>feature_1</th>\n",
       "      <th>feature_2</th>\n",
       "      <th>feature_3</th>\n",
       "      <th>feature_4</th>\n",
       "      <th>feature_5</th>\n",
       "      <th>feature_6</th>\n",
       "      <th>feature_7</th>\n",
       "      <th>feature_8</th>\n",
       "      <th>feature_9</th>\n",
       "      <th>feature_10</th>\n",
       "      <th>...</th>\n",
       "      <th>feature_553</th>\n",
       "      <th>feature_554</th>\n",
       "      <th>feature_555</th>\n",
       "      <th>feature_556</th>\n",
       "      <th>feature_557</th>\n",
       "      <th>feature_558</th>\n",
       "      <th>feature_559</th>\n",
       "      <th>feature_560</th>\n",
       "      <th>feature_561</th>\n",
       "      <th>activity</th>\n",
       "    </tr>\n",
       "  </thead>\n",
       "  <tbody>\n",
       "    <tr>\n",
       "      <th>0</th>\n",
       "      <td>0.289</td>\n",
       "      <td>-0.0203</td>\n",
       "      <td>-0.1330</td>\n",
       "      <td>-0.995</td>\n",
       "      <td>-0.9830</td>\n",
       "      <td>-0.914</td>\n",
       "      <td>-0.995</td>\n",
       "      <td>-0.983</td>\n",
       "      <td>-0.924</td>\n",
       "      <td>-0.93500</td>\n",
       "      <td>...</td>\n",
       "      <td>-0.2990</td>\n",
       "      <td>-0.710</td>\n",
       "      <td>-0.1130</td>\n",
       "      <td>0.03040</td>\n",
       "      <td>-0.465</td>\n",
       "      <td>-0.0184</td>\n",
       "      <td>-0.841</td>\n",
       "      <td>0.180</td>\n",
       "      <td>-0.0586</td>\n",
       "      <td>5</td>\n",
       "    </tr>\n",
       "    <tr>\n",
       "      <th>1</th>\n",
       "      <td>0.278</td>\n",
       "      <td>-0.0164</td>\n",
       "      <td>-0.1240</td>\n",
       "      <td>-0.998</td>\n",
       "      <td>-0.9750</td>\n",
       "      <td>-0.960</td>\n",
       "      <td>-0.999</td>\n",
       "      <td>-0.975</td>\n",
       "      <td>-0.958</td>\n",
       "      <td>-0.94300</td>\n",
       "      <td>...</td>\n",
       "      <td>-0.5950</td>\n",
       "      <td>-0.861</td>\n",
       "      <td>0.0535</td>\n",
       "      <td>-0.00743</td>\n",
       "      <td>-0.733</td>\n",
       "      <td>0.7040</td>\n",
       "      <td>-0.845</td>\n",
       "      <td>0.180</td>\n",
       "      <td>-0.0543</td>\n",
       "      <td>5</td>\n",
       "    </tr>\n",
       "    <tr>\n",
       "      <th>2</th>\n",
       "      <td>0.280</td>\n",
       "      <td>-0.0195</td>\n",
       "      <td>-0.1130</td>\n",
       "      <td>-0.995</td>\n",
       "      <td>-0.9670</td>\n",
       "      <td>-0.979</td>\n",
       "      <td>-0.997</td>\n",
       "      <td>-0.964</td>\n",
       "      <td>-0.977</td>\n",
       "      <td>-0.93900</td>\n",
       "      <td>...</td>\n",
       "      <td>-0.3910</td>\n",
       "      <td>-0.760</td>\n",
       "      <td>-0.1190</td>\n",
       "      <td>0.17800</td>\n",
       "      <td>0.101</td>\n",
       "      <td>0.8090</td>\n",
       "      <td>-0.849</td>\n",
       "      <td>0.181</td>\n",
       "      <td>-0.0491</td>\n",
       "      <td>5</td>\n",
       "    </tr>\n",
       "    <tr>\n",
       "      <th>3</th>\n",
       "      <td>0.279</td>\n",
       "      <td>-0.0262</td>\n",
       "      <td>-0.1230</td>\n",
       "      <td>-0.996</td>\n",
       "      <td>-0.9830</td>\n",
       "      <td>-0.991</td>\n",
       "      <td>-0.997</td>\n",
       "      <td>-0.983</td>\n",
       "      <td>-0.989</td>\n",
       "      <td>-0.93900</td>\n",
       "      <td>...</td>\n",
       "      <td>-0.1170</td>\n",
       "      <td>-0.483</td>\n",
       "      <td>-0.0368</td>\n",
       "      <td>-0.01290</td>\n",
       "      <td>0.640</td>\n",
       "      <td>-0.4850</td>\n",
       "      <td>-0.849</td>\n",
       "      <td>0.182</td>\n",
       "      <td>-0.0477</td>\n",
       "      <td>5</td>\n",
       "    </tr>\n",
       "    <tr>\n",
       "      <th>4</th>\n",
       "      <td>0.277</td>\n",
       "      <td>-0.0166</td>\n",
       "      <td>-0.1150</td>\n",
       "      <td>-0.998</td>\n",
       "      <td>-0.9810</td>\n",
       "      <td>-0.990</td>\n",
       "      <td>-0.998</td>\n",
       "      <td>-0.980</td>\n",
       "      <td>-0.990</td>\n",
       "      <td>-0.94200</td>\n",
       "      <td>...</td>\n",
       "      <td>-0.3510</td>\n",
       "      <td>-0.699</td>\n",
       "      <td>0.1230</td>\n",
       "      <td>0.12300</td>\n",
       "      <td>0.694</td>\n",
       "      <td>-0.6160</td>\n",
       "      <td>-0.848</td>\n",
       "      <td>0.185</td>\n",
       "      <td>-0.0439</td>\n",
       "      <td>5</td>\n",
       "    </tr>\n",
       "    <tr>\n",
       "      <th>...</th>\n",
       "      <td>...</td>\n",
       "      <td>...</td>\n",
       "      <td>...</td>\n",
       "      <td>...</td>\n",
       "      <td>...</td>\n",
       "      <td>...</td>\n",
       "      <td>...</td>\n",
       "      <td>...</td>\n",
       "      <td>...</td>\n",
       "      <td>...</td>\n",
       "      <td>...</td>\n",
       "      <td>...</td>\n",
       "      <td>...</td>\n",
       "      <td>...</td>\n",
       "      <td>...</td>\n",
       "      <td>...</td>\n",
       "      <td>...</td>\n",
       "      <td>...</td>\n",
       "      <td>...</td>\n",
       "      <td>...</td>\n",
       "      <td>...</td>\n",
       "    </tr>\n",
       "    <tr>\n",
       "      <th>10294</th>\n",
       "      <td>0.310</td>\n",
       "      <td>-0.0534</td>\n",
       "      <td>-0.0991</td>\n",
       "      <td>-0.288</td>\n",
       "      <td>-0.1410</td>\n",
       "      <td>-0.215</td>\n",
       "      <td>-0.356</td>\n",
       "      <td>-0.149</td>\n",
       "      <td>-0.232</td>\n",
       "      <td>0.18500</td>\n",
       "      <td>...</td>\n",
       "      <td>-0.3760</td>\n",
       "      <td>-0.751</td>\n",
       "      <td>-0.3370</td>\n",
       "      <td>0.34600</td>\n",
       "      <td>0.885</td>\n",
       "      <td>-0.6990</td>\n",
       "      <td>-0.652</td>\n",
       "      <td>0.275</td>\n",
       "      <td>0.1850</td>\n",
       "      <td>2</td>\n",
       "    </tr>\n",
       "    <tr>\n",
       "      <th>10295</th>\n",
       "      <td>0.363</td>\n",
       "      <td>-0.0392</td>\n",
       "      <td>-0.1060</td>\n",
       "      <td>-0.305</td>\n",
       "      <td>0.0281</td>\n",
       "      <td>-0.196</td>\n",
       "      <td>-0.374</td>\n",
       "      <td>-0.030</td>\n",
       "      <td>-0.270</td>\n",
       "      <td>0.18500</td>\n",
       "      <td>...</td>\n",
       "      <td>-0.3200</td>\n",
       "      <td>-0.700</td>\n",
       "      <td>-0.7370</td>\n",
       "      <td>-0.37300</td>\n",
       "      <td>-0.657</td>\n",
       "      <td>0.3230</td>\n",
       "      <td>-0.655</td>\n",
       "      <td>0.274</td>\n",
       "      <td>0.1820</td>\n",
       "      <td>2</td>\n",
       "    </tr>\n",
       "    <tr>\n",
       "      <th>10296</th>\n",
       "      <td>0.350</td>\n",
       "      <td>0.0301</td>\n",
       "      <td>-0.1160</td>\n",
       "      <td>-0.330</td>\n",
       "      <td>-0.0421</td>\n",
       "      <td>-0.250</td>\n",
       "      <td>-0.388</td>\n",
       "      <td>-0.133</td>\n",
       "      <td>-0.347</td>\n",
       "      <td>0.00747</td>\n",
       "      <td>...</td>\n",
       "      <td>-0.1190</td>\n",
       "      <td>-0.467</td>\n",
       "      <td>-0.1820</td>\n",
       "      <td>0.08860</td>\n",
       "      <td>0.697</td>\n",
       "      <td>0.3630</td>\n",
       "      <td>-0.655</td>\n",
       "      <td>0.274</td>\n",
       "      <td>0.1810</td>\n",
       "      <td>2</td>\n",
       "    </tr>\n",
       "    <tr>\n",
       "      <th>10297</th>\n",
       "      <td>0.238</td>\n",
       "      <td>0.0185</td>\n",
       "      <td>-0.0965</td>\n",
       "      <td>-0.323</td>\n",
       "      <td>-0.2300</td>\n",
       "      <td>-0.208</td>\n",
       "      <td>-0.392</td>\n",
       "      <td>-0.280</td>\n",
       "      <td>-0.289</td>\n",
       "      <td>0.00747</td>\n",
       "      <td>...</td>\n",
       "      <td>-0.2050</td>\n",
       "      <td>-0.618</td>\n",
       "      <td>0.4450</td>\n",
       "      <td>-0.81900</td>\n",
       "      <td>0.929</td>\n",
       "      <td>-0.0084</td>\n",
       "      <td>-0.660</td>\n",
       "      <td>0.265</td>\n",
       "      <td>0.1880</td>\n",
       "      <td>2</td>\n",
       "    </tr>\n",
       "    <tr>\n",
       "      <th>10298</th>\n",
       "      <td>0.154</td>\n",
       "      <td>-0.0184</td>\n",
       "      <td>-0.1370</td>\n",
       "      <td>-0.330</td>\n",
       "      <td>-0.1950</td>\n",
       "      <td>-0.164</td>\n",
       "      <td>-0.431</td>\n",
       "      <td>-0.218</td>\n",
       "      <td>-0.230</td>\n",
       "      <td>-0.11200</td>\n",
       "      <td>...</td>\n",
       "      <td>-0.0722</td>\n",
       "      <td>-0.437</td>\n",
       "      <td>0.5990</td>\n",
       "      <td>-0.28800</td>\n",
       "      <td>0.876</td>\n",
       "      <td>-0.0250</td>\n",
       "      <td>-0.660</td>\n",
       "      <td>0.264</td>\n",
       "      <td>0.1880</td>\n",
       "      <td>2</td>\n",
       "    </tr>\n",
       "  </tbody>\n",
       "</table>\n",
       "<p>10299 rows × 562 columns</p>\n",
       "</div>"
      ],
      "text/plain": [
       "       feature_1  feature_2  feature_3  feature_4  feature_5  feature_6  \\\n",
       "0          0.289    -0.0203    -0.1330     -0.995    -0.9830     -0.914   \n",
       "1          0.278    -0.0164    -0.1240     -0.998    -0.9750     -0.960   \n",
       "2          0.280    -0.0195    -0.1130     -0.995    -0.9670     -0.979   \n",
       "3          0.279    -0.0262    -0.1230     -0.996    -0.9830     -0.991   \n",
       "4          0.277    -0.0166    -0.1150     -0.998    -0.9810     -0.990   \n",
       "...          ...        ...        ...        ...        ...        ...   \n",
       "10294      0.310    -0.0534    -0.0991     -0.288    -0.1410     -0.215   \n",
       "10295      0.363    -0.0392    -0.1060     -0.305     0.0281     -0.196   \n",
       "10296      0.350     0.0301    -0.1160     -0.330    -0.0421     -0.250   \n",
       "10297      0.238     0.0185    -0.0965     -0.323    -0.2300     -0.208   \n",
       "10298      0.154    -0.0184    -0.1370     -0.330    -0.1950     -0.164   \n",
       "\n",
       "       feature_7  feature_8  feature_9  feature_10  ...  feature_553  \\\n",
       "0         -0.995     -0.983     -0.924    -0.93500  ...      -0.2990   \n",
       "1         -0.999     -0.975     -0.958    -0.94300  ...      -0.5950   \n",
       "2         -0.997     -0.964     -0.977    -0.93900  ...      -0.3910   \n",
       "3         -0.997     -0.983     -0.989    -0.93900  ...      -0.1170   \n",
       "4         -0.998     -0.980     -0.990    -0.94200  ...      -0.3510   \n",
       "...          ...        ...        ...         ...  ...          ...   \n",
       "10294     -0.356     -0.149     -0.232     0.18500  ...      -0.3760   \n",
       "10295     -0.374     -0.030     -0.270     0.18500  ...      -0.3200   \n",
       "10296     -0.388     -0.133     -0.347     0.00747  ...      -0.1190   \n",
       "10297     -0.392     -0.280     -0.289     0.00747  ...      -0.2050   \n",
       "10298     -0.431     -0.218     -0.230    -0.11200  ...      -0.0722   \n",
       "\n",
       "       feature_554  feature_555  feature_556  feature_557  feature_558  \\\n",
       "0           -0.710      -0.1130      0.03040       -0.465      -0.0184   \n",
       "1           -0.861       0.0535     -0.00743       -0.733       0.7040   \n",
       "2           -0.760      -0.1190      0.17800        0.101       0.8090   \n",
       "3           -0.483      -0.0368     -0.01290        0.640      -0.4850   \n",
       "4           -0.699       0.1230      0.12300        0.694      -0.6160   \n",
       "...            ...          ...          ...          ...          ...   \n",
       "10294       -0.751      -0.3370      0.34600        0.885      -0.6990   \n",
       "10295       -0.700      -0.7370     -0.37300       -0.657       0.3230   \n",
       "10296       -0.467      -0.1820      0.08860        0.697       0.3630   \n",
       "10297       -0.618       0.4450     -0.81900        0.929      -0.0084   \n",
       "10298       -0.437       0.5990     -0.28800        0.876      -0.0250   \n",
       "\n",
       "       feature_559  feature_560  feature_561  activity  \n",
       "0           -0.841        0.180      -0.0586         5  \n",
       "1           -0.845        0.180      -0.0543         5  \n",
       "2           -0.849        0.181      -0.0491         5  \n",
       "3           -0.849        0.182      -0.0477         5  \n",
       "4           -0.848        0.185      -0.0439         5  \n",
       "...            ...          ...          ...       ...  \n",
       "10294       -0.652        0.275       0.1850         2  \n",
       "10295       -0.655        0.274       0.1820         2  \n",
       "10296       -0.655        0.274       0.1810         2  \n",
       "10297       -0.660        0.265       0.1880         2  \n",
       "10298       -0.660        0.264       0.1880         2  \n",
       "\n",
       "[10299 rows x 562 columns]"
      ]
     },
     "execution_count": 2,
     "metadata": {},
     "output_type": "execute_result"
    }
   ],
   "source": [
    "import pandas as pd\n",
    "# from google.colab import files\n",
    "# Filename = \"smartphone_activity_dataset.csv\"   # colab\n",
    "# Filepath = '/gdrive/MyDrive/Redes Neurais/AF/' + Filename\n",
    "# df = pd.read_csv(Filepath)\n",
    "\n",
    "df = pd.read_csv(\"smartphone_activity_dataset.csv\") # jupyter\n",
    "\n",
    "df"
   ]
  },
  {
   "cell_type": "markdown",
   "metadata": {
    "id": "3iS8F2LNtlZT"
   },
   "source": [
    "### Parte 1: separar dados"
   ]
  },
  {
   "cell_type": "code",
   "execution_count": 3,
   "metadata": {
    "colab": {
     "base_uri": "https://localhost:8080/"
    },
    "id": "tSgGxH5qtlZT",
    "outputId": "e065ddf0-242d-4929-f3e9-912d224ff41e"
   },
   "outputs": [
    {
     "name": "stdout",
     "output_type": "stream",
     "text": [
      "(10299, 561)\n",
      "Tamanho conjunto de treinamento (S):  205\n",
      "Tamanho conjunto de treinamento não rotulado (U):  5149\n",
      "Tamanho conjunto de testes(T):  5149\n"
     ]
    }
   ],
   "source": [
    "from tensorflow.keras.utils import to_categorical\n",
    "\n",
    "rotulos = np.array(df['activity'])-1\n",
    "features = np.array(df.iloc[:, :-1])\n",
    "\n",
    "print(features.shape)\n",
    "perc_train = 0.5\n",
    "perc_rot = 0.02\n",
    "\n",
    "n_train_S = int(features.shape[0]*perc_rot)\n",
    "n_train_U = int(features.shape[0]*perc_train)\n",
    "n_test = int(features.shape[0]*(1-perc_train))\n",
    "print(\"Tamanho conjunto de treinamento (S): \", n_train_S)\n",
    "print(\"Tamanho conjunto de treinamento não rotulado (U): \", n_train_U)\n",
    "print(\"Tamanho conjunto de testes(T): \", n_test)\n",
    "\n",
    "x_trainS = features[:n_train_S,:]\n",
    "y_trainS = to_categorical(rotulos[:n_train_S], 6)\n",
    "# rotulos discretos de treinamento\n",
    "rot_trainS = rotulos[:n_train_S]\n",
    "\n",
    "x_trainU = features[:n_train_U,:]\n",
    "y_trainU = to_categorical(rotulos[:n_train_U], 6)\n",
    "\n",
    "x_test = features[n_train_U:,:]\n",
    "y_test = to_categorical(rotulos[n_train_U:], 6)\n",
    "# rotulos discretos de teste\n",
    "rot_test = rotulos[n_train_U:]"
   ]
  },
  {
   "cell_type": "markdown",
   "metadata": {
    "id": "bwlb37-LtlZU"
   },
   "source": [
    "### Parte 2: Modelo A"
   ]
  },
  {
   "cell_type": "markdown",
   "metadata": {
    "id": "F4YZY03DtlZU"
   },
   "source": [
    "Encoder:\n",
    "entrada com 561 valores\n",
    "--dropout com taxa de 0.25\n",
    "--normalização em batch\n",
    "--densa 256 neurônios, relu\n",
    "--densa 256 neurônios, relu\n",
    "--densa 64 neurônios, ativação linear\n",
    "--normalização em batch (consideraremos essa camada como sendo o código produzido pelo encoder)\n",
    "--ativação relu\n",
    "--dropout 0.25\n",
    "Decoder:\n",
    "--densa 256 neurônios, ativação tanh\n",
    "--densa 256 neurônios, ativação tanh\n",
    "--densa 561 neurônios, ativação tanh\n",
    "--Usar Adam com taxa de aprendizado inicial de 0.005 e com decaimento exponencial a -0.1\n",
    "--Treinar com perda MSE por 20 épocas com batch size 16 utilizando o conjunto U\n",
    "--Exiba a perda final MSE após as 20 utilizando o conjunto U (use o evaluate para isso)\n",
    "--Obtenha o código (saída do encoder relativa a normalização em batch após a camada de 64 dimensões) para os dados de treinamento (conjunto U) e armazene-o num array code_train. \n",
    "--Exiba na tela esse código para a primeira instância de treinamento (índice 0)"
   ]
  },
  {
   "cell_type": "code",
   "execution_count": 4,
   "metadata": {
    "colab": {
     "base_uri": "https://localhost:8080/"
    },
    "id": "qWrNvyZPtlZV",
    "outputId": "fc92f88a-b608-44d0-89cd-1f878832aa4a"
   },
   "outputs": [
    {
     "name": "stdout",
     "output_type": "stream",
     "text": [
      "Model: \"model\"\n",
      "_________________________________________________________________\n",
      "Layer (type)                 Output Shape              Param #   \n",
      "=================================================================\n",
      "input (InputLayer)           [(None, 561)]             0         \n",
      "_________________________________________________________________\n",
      "dropout_1 (Dropout)          (None, 561)               0         \n",
      "_________________________________________________________________\n",
      "bn_1 (BatchNormalization)    (None, 561)               2244      \n",
      "_________________________________________________________________\n",
      "layer_2 (Dense)              (None, 256)               143872    \n",
      "_________________________________________________________________\n",
      "layer_3 (Dense)              (None, 256)               65792     \n",
      "_________________________________________________________________\n",
      "layer_4 (Dense)              (None, 64)                16448     \n",
      "_________________________________________________________________\n",
      "codigo (BatchNormalization)  (None, 64)                256       \n",
      "_________________________________________________________________\n",
      "activation_1 (Activation)    (None, 64)                0         \n",
      "_________________________________________________________________\n",
      "dropout_2 (Dropout)          (None, 64)                0         \n",
      "_________________________________________________________________\n",
      "layer_5 (Dense)              (None, 256)               16640     \n",
      "_________________________________________________________________\n",
      "layer_6 (Dense)              (None, 256)               65792     \n",
      "_________________________________________________________________\n",
      "output (Dense)               (None, 561)               144177    \n",
      "=================================================================\n",
      "Total params: 455,221\n",
      "Trainable params: 453,971\n",
      "Non-trainable params: 1,250\n",
      "_________________________________________________________________\n",
      "Epoch 1/20\n",
      "322/322 [==============================] - 2s 3ms/step - loss: 0.0494\n",
      "Epoch 2/20\n",
      "322/322 [==============================] - 1s 3ms/step - loss: 0.0346\n",
      "Epoch 3/20\n",
      "322/322 [==============================] - 1s 3ms/step - loss: 0.0312\n",
      "Epoch 4/20\n",
      "322/322 [==============================] - 1s 3ms/step - loss: 0.0315\n",
      "Epoch 5/20\n",
      "322/322 [==============================] - 1s 3ms/step - loss: 0.0293\n",
      "Epoch 6/20\n",
      "322/322 [==============================] - 1s 3ms/step - loss: 0.0284\n",
      "Epoch 7/20\n",
      "322/322 [==============================] - 1s 3ms/step - loss: 0.0275\n",
      "Epoch 8/20\n",
      "322/322 [==============================] - 1s 3ms/step - loss: 0.0267A: 0s - loss: 0.\n",
      "Epoch 9/20\n",
      "322/322 [==============================] - 1s 3ms/step - loss: 0.0260\n",
      "Epoch 10/20\n",
      "322/322 [==============================] - 1s 3ms/step - loss: 0.0255\n",
      "Epoch 11/20\n",
      "322/322 [==============================] - 1s 3ms/step - loss: 0.0252\n",
      "Epoch 12/20\n",
      "322/322 [==============================] - 2s 6ms/step - loss: 0.0247\n",
      "Epoch 13/20\n",
      "322/322 [==============================] - 2s 5ms/step - loss: 0.0245\n",
      "Epoch 14/20\n",
      "322/322 [==============================] - 1s 3ms/step - loss: 0.0238\n",
      "Epoch 15/20\n",
      "322/322 [==============================] - 1s 3ms/step - loss: 0.0238\n",
      "Epoch 16/20\n",
      "322/322 [==============================] - 1s 3ms/step - loss: 0.0234\n",
      "Epoch 17/20\n",
      "322/322 [==============================] - 1s 3ms/step - loss: 0.0231\n",
      "Epoch 18/20\n",
      "322/322 [==============================] - 1s 3ms/step - loss: 0.0229\n",
      "Epoch 19/20\n",
      "322/322 [==============================] - 1s 3ms/step - loss: 0.0227\n",
      "Epoch 20/20\n",
      "322/322 [==============================] - 1s 3ms/step - loss: 0.0226\n"
     ]
    }
   ],
   "source": [
    "seed(1)\n",
    "set_seed(2)\n",
    "\n",
    "### instanciar modelo AE\n",
    "def autoencoder(neurons=256, input_dim=features.shape[1], dropout_rate=0.25):\n",
    "    # encoder\n",
    "    input = keras.layers.Input(shape=(input_dim,), name='input')\n",
    "    x = keras.layers.Dropout(dropout_rate, name='dropout_1')(input)\n",
    "    x = keras.layers.BatchNormalization(name='bn_1')(x)\n",
    "    x = keras.layers.Dense(neurons,activation='relu', name='layer_2')(x)\n",
    "    x = keras.layers.Dense(neurons,activation='relu', name='layer_3')(x)\n",
    "    x = keras.layers.Dense(int(neurons/4),activation='linear', name='layer_4')(x)\n",
    "    x = keras.layers.BatchNormalization(name='codigo')(x)\n",
    "    x = keras.layers.Activation(activation='relu', name='activation_1')(x)\n",
    "    x = keras.layers.Dropout(dropout_rate, name='dropout_2')(x)\n",
    "    # decoder\n",
    "    x = keras.layers.Dense(neurons, activation='tanh', name='layer_5')(x)\n",
    "    x = keras.layers.Dense(neurons, activation='tanh', name='layer_6')(x)\n",
    "    output = keras.layers.Dense(input_dim, activation='tanh', name='output')(x)\n",
    "    autoencoder = keras.models.Model(input, output)\n",
    "    return autoencoder\n",
    "\n",
    "modeloA = autoencoder(neurons=256, input_dim=features.shape[1], dropout_rate=0.25)\n",
    "modeloA.summary()\n",
    "\n",
    "### compilar\n",
    "lr = 0.005\n",
    "modeloA.compile(loss='mse', optimizer=keras.optimizers.Adam(learning_rate=lr))\n",
    "\n",
    "### treinar\n",
    "epochs = 20\n",
    "batch_size = 16\n",
    "\n",
    "def scheduler(epoch, lr):\n",
    "    \"\"\"função de decaimento da taxa de aprendizado\"\"\"\n",
    "    return lr * tf.math.exp(-0.1)\n",
    "callbacklr = tf.keras.callbacks.LearningRateScheduler(scheduler)\n",
    "\n",
    "histA = modeloA.fit(x_trainU, x_trainU, callbacks=[callbacklr], batch_size=batch_size, epochs=epochs, verbose=1)"
   ]
  },
  {
   "cell_type": "code",
   "execution_count": 5,
   "metadata": {
    "colab": {
     "base_uri": "https://localhost:8080/"
    },
    "id": "APIbeMIWtlZW",
    "outputId": "300f1503-59ab-4606-bdec-b4c27b91fadc"
   },
   "outputs": [
    {
     "name": "stdout",
     "output_type": "stream",
     "text": [
      "MSE treinamento - conjunto U: 0.0185\n"
     ]
    }
   ],
   "source": [
    "### avaliar MSE no treinamento\n",
    "#Exiba a perda final MSE após as 20 utilizando o conjunto U (use o evaluate para isso)\n",
    "score = modeloA.evaluate(x_trainU, x_trainU, verbose=0)\n",
    "print(\"MSE treinamento - conjunto U: %.4f\" % (score))"
   ]
  },
  {
   "cell_type": "code",
   "execution_count": 6,
   "metadata": {
    "id": "lmIJIscctlZW"
   },
   "outputs": [],
   "source": [
    "### obter código 64d da normalizacao em batch do treinamento\n",
    "code_model_A = keras.models.Model(inputs=modeloA.input, outputs=modeloA.get_layer('codigo').output)\n",
    "code_train_model_A_cjto_S = np.asarray(code_model_A.predict(x_trainS))"
   ]
  },
  {
   "cell_type": "code",
   "execution_count": 7,
   "metadata": {
    "id": "lmIJIscctlZW"
   },
   "outputs": [
    {
     "data": {
      "text/plain": [
       "array([-0.14696082,  0.01260294,  0.06833673,  0.5220796 ,  0.2530887 ,\n",
       "       -0.66171324, -0.5567696 , -0.29384965,  0.39635375, -1.2673304 ,\n",
       "       -0.63285583, -0.6024664 ,  0.4854924 , -1.0070804 , -1.2669904 ,\n",
       "       -0.6230869 , -0.99068934, -0.93855524,  0.30709168,  0.38285637,\n",
       "        0.22502899,  0.20517325, -0.8669499 ,  1.3723116 , -0.09080589,\n",
       "        0.11902407, -0.5096868 ,  0.22659081,  0.33197898, -0.9625013 ,\n",
       "       -0.18377636,  0.6215528 , -1.1593978 ,  0.48628575, -0.22224168,\n",
       "       -0.1831738 , -0.32159427,  0.24246514, -0.8313751 ,  0.1265783 ,\n",
       "       -0.7917011 , -0.11754738, -0.23672041,  0.06783973, -0.8257164 ,\n",
       "       -0.72728187,  1.1910732 ,  0.7023989 , -0.11985949,  0.4773878 ,\n",
       "        0.00864741,  0.13728178,  0.41995856,  0.08500125,  0.71895593,\n",
       "        0.56694216, -0.71133465,  0.8587649 ,  0.45613027,  0.82883465,\n",
       "        0.8449845 ,  0.00280821,  0.8929026 , -0.44578773], dtype=float32)"
      ]
     },
     "execution_count": 7,
     "metadata": {},
     "output_type": "execute_result"
    }
   ],
   "source": [
    "### exibir código da primeira instancia do treinamento\n",
    "code_train_model_A_cjto_S[0]"
   ]
  },
  {
   "cell_type": "markdown",
   "metadata": {
    "id": "CGS9H2fstlZX"
   },
   "source": [
    "### Parte 3: Modelo B"
   ]
  },
  {
   "cell_type": "markdown",
   "metadata": {},
   "source": [
    "Modelo B: rede neural profunda densa, utilizando como base o encoder do modelo A (inclusive seus pesos pré-treinados), e inserindo uma nova camada densa de classificação (em 6 classes) com ativação softmax (essa inicializada aleatoriamente). Porém não deve conter o primeiro dropout (logo após a camada de entrada) do encoder, ou seja a primeira camada dropout deve ser removida.\n",
    "\n",
    "A arquitetura deve ter portanto as seguintes camadas:\n",
    "\n",
    "entrada\n",
    "normalização em batch\n",
    "densa 256 neurônios, relu\n",
    "densa 256 neurônios, relu\n",
    "densa 64 neurônios, ativação linear\n",
    "normalização em batch\n",
    "densa ativação relu\n",
    "dropout 0.25\n",
    "densa 6 neurônios, softmax\n",
    "\n",
    "--Utilizar Adam com taxa de aprendizado inicial de 0.001 e com decaimento em todas as épocas exponencial a -0.1\n",
    "\n",
    "--Treinar com perda entropia cruzada categórica por 50 épocas com batch size 16\n",
    "\n",
    "--Compute como métricas, além da perda, precisão e revocação (precision / recall)"
   ]
  },
  {
   "cell_type": "code",
   "execution_count": 8,
   "metadata": {
    "id": "Mzgbpkv3tlZX"
   },
   "outputs": [
    {
     "data": {
      "text/plain": [
       "[<keras.engine.input_layer.InputLayer at 0x15b58a6d6a0>,\n",
       " <keras.layers.core.Dropout at 0x15b58ab8220>,\n",
       " <keras.layers.normalization.batch_normalization.BatchNormalization at 0x15b58ab8550>,\n",
       " <keras.layers.core.Dense at 0x15b58b0c070>,\n",
       " <keras.layers.core.Dense at 0x15b58b96580>,\n",
       " <keras.layers.core.Dense at 0x15b58c0b430>,\n",
       " <keras.layers.normalization.batch_normalization.BatchNormalization at 0x15b58c13310>,\n",
       " <keras.layers.core.Activation at 0x15b58c0b850>,\n",
       " <keras.layers.core.Dropout at 0x15b58bd4250>,\n",
       " <keras.layers.core.Dense at 0x15b58c19070>,\n",
       " <keras.layers.core.Dense at 0x15b58b0cb20>,\n",
       " <keras.layers.core.Dense at 0x15b58bbff40>]"
      ]
     },
     "execution_count": 8,
     "metadata": {},
     "output_type": "execute_result"
    }
   ],
   "source": [
    "### criar novo modelo usando encoder pré-treinado do modelo A\n",
    "\n",
    "# dica: obter lista de camadas\n",
    "layers = [l for l in modeloA.layers]\n",
    "layers"
   ]
  },
  {
   "cell_type": "code",
   "execution_count": 9,
   "metadata": {},
   "outputs": [
    {
     "name": "stdout",
     "output_type": "stream",
     "text": [
      "Model: \"sequential\"\n",
      "_________________________________________________________________\n",
      "Layer (type)                 Output Shape              Param #   \n",
      "=================================================================\n",
      "bn_1 (BatchNormalization)    (None, 561)               2244      \n",
      "_________________________________________________________________\n",
      "layer_2 (Dense)              (None, 256)               143872    \n",
      "_________________________________________________________________\n",
      "layer_3 (Dense)              (None, 256)               65792     \n",
      "_________________________________________________________________\n",
      "layer_4 (Dense)              (None, 64)                16448     \n",
      "_________________________________________________________________\n",
      "codigo (BatchNormalization)  (None, 64)                256       \n",
      "_________________________________________________________________\n",
      "activation_1 (Activation)    (None, 64)                0         \n",
      "_________________________________________________________________\n",
      "dropout_2 (Dropout)          (None, 64)                0         \n",
      "_________________________________________________________________\n",
      "layer_5 (Dense)              (None, 256)               16640     \n",
      "_________________________________________________________________\n",
      "layer_6 (Dense)              (None, 256)               65792     \n",
      "_________________________________________________________________\n",
      "output (Dense)               (None, 561)               144177    \n",
      "=================================================================\n",
      "Total params: 455,221\n",
      "Trainable params: 453,971\n",
      "Non-trainable params: 1,250\n",
      "_________________________________________________________________\n"
     ]
    }
   ],
   "source": [
    "# montar novo modelo com nova camada de entrada\n",
    "# Criando um modelo temporário pegando todas as camadas do ModeloA menos o dropout_1\n",
    "model_temp = keras.Sequential([layer for layer in modeloA.layers if layer.name != 'dropout_1'])\n",
    "model_temp.summary()"
   ]
  },
  {
   "cell_type": "code",
   "execution_count": 10,
   "metadata": {},
   "outputs": [
    {
     "name": "stdout",
     "output_type": "stream",
     "text": [
      "Model: \"sequential_1\"\n",
      "_________________________________________________________________\n",
      "Layer (type)                 Output Shape              Param #   \n",
      "=================================================================\n",
      "bn_1 (BatchNormalization)    (None, 561)               2244      \n",
      "_________________________________________________________________\n",
      "layer_2 (Dense)              (None, 256)               143872    \n",
      "_________________________________________________________________\n",
      "layer_3 (Dense)              (None, 256)               65792     \n",
      "_________________________________________________________________\n",
      "layer_4 (Dense)              (None, 64)                16448     \n",
      "_________________________________________________________________\n",
      "codigo (BatchNormalization)  (None, 64)                256       \n",
      "=================================================================\n",
      "Total params: 228,612\n",
      "Trainable params: 227,362\n",
      "Non-trainable params: 1,250\n",
      "_________________________________________________________________\n"
     ]
    }
   ],
   "source": [
    "# adicionar camadas anteriores usando novo_modelo.add(layers[i])\n",
    "# Criando o modeloB pegando o model_temp e tirando as últimas camadas\n",
    "modeloB = keras.Sequential()\n",
    "modeloB.add(keras.Input(shape=(features.shape[1],)))\n",
    "for layer in model_temp.layers[:-5]:\n",
    "            modeloB.add(layer)\n",
    "modeloB.summary()"
   ]
  },
  {
   "cell_type": "code",
   "execution_count": 11,
   "metadata": {},
   "outputs": [
    {
     "name": "stdout",
     "output_type": "stream",
     "text": [
      "Model: \"sequential_1\"\n",
      "_________________________________________________________________\n",
      "Layer (type)                 Output Shape              Param #   \n",
      "=================================================================\n",
      "bn_1 (BatchNormalization)    (None, 561)               2244      \n",
      "_________________________________________________________________\n",
      "layer_2 (Dense)              (None, 256)               143872    \n",
      "_________________________________________________________________\n",
      "layer_3 (Dense)              (None, 256)               65792     \n",
      "_________________________________________________________________\n",
      "layer_4 (Dense)              (None, 64)                16448     \n",
      "_________________________________________________________________\n",
      "codigo (BatchNormalization)  (None, 64)                256       \n",
      "_________________________________________________________________\n",
      "dense (Dense)                (None, 6)                 390       \n",
      "=================================================================\n",
      "Total params: 229,002\n",
      "Trainable params: 227,752\n",
      "Non-trainable params: 1,250\n",
      "_________________________________________________________________\n"
     ]
    }
   ],
   "source": [
    "# Adicionando novas camadas\n",
    "modeloB.add(keras.layers.Dense(6, activation='softmax'))\n",
    "modeloB.summary()"
   ]
  },
  {
   "cell_type": "code",
   "execution_count": 12,
   "metadata": {
    "id": "96B29-R8tlZX"
   },
   "outputs": [],
   "source": [
    "# compilar modelo B\n",
    "lr = 0.001\n",
    "modeloB.compile(loss='categorical_crossentropy', optimizer=keras.optimizers.Adam(learning_rate=lr),\n",
    "                metrics = [tf.keras.metrics.Precision(name=\"Precision\"), \n",
    "                           tf.keras.metrics.Recall(name=\"Recall\")]\n",
    "                )"
   ]
  },
  {
   "cell_type": "code",
   "execution_count": 13,
   "metadata": {
    "id": "96B29-R8tlZX",
    "scrolled": true
   },
   "outputs": [
    {
     "name": "stdout",
     "output_type": "stream",
     "text": [
      "Epoch 1/50\n",
      "13/13 [==============================] - 1s 2ms/step - loss: 1.5405 - Precision: 0.5263 - Recall: 0.0488    \n",
      "Epoch 2/50\n",
      "13/13 [==============================] - 0s 2ms/step - loss: 0.9100 - Precision: 0.9529 - Recall: 0.3951\n",
      "Epoch 3/50\n",
      "13/13 [==============================] - 0s 2ms/step - loss: 0.6351 - Precision: 0.9530 - Recall: 0.6927\n",
      "Epoch 4/50\n",
      "13/13 [==============================] - 0s 2ms/step - loss: 0.4634 - Precision: 0.9653 - Recall: 0.8146\n",
      "Epoch 5/50\n",
      "13/13 [==============================] - 0s 2ms/step - loss: 0.3780 - Precision: 0.9784 - Recall: 0.8829\n",
      "Epoch 6/50\n",
      "13/13 [==============================] - 0s 2ms/step - loss: 0.2955 - Precision: 0.9893 - Recall: 0.9024\n",
      "Epoch 7/50\n",
      "13/13 [==============================] - 0s 2ms/step - loss: 0.3314 - Precision: 0.9630 - Recall: 0.8878\n",
      "Epoch 8/50\n",
      "13/13 [==============================] - 0s 2ms/step - loss: 0.2502 - Precision: 0.9697 - Recall: 0.9366\n",
      "Epoch 9/50\n",
      "13/13 [==============================] - 0s 2ms/step - loss: 0.2328 - Precision: 0.9797 - Recall: 0.9415\n",
      "Epoch 10/50\n",
      "13/13 [==============================] - 0s 2ms/step - loss: 0.1829 - Precision: 0.9752 - Recall: 0.9610\n",
      "Epoch 11/50\n",
      "13/13 [==============================] - 0s 2ms/step - loss: 0.2104 - Precision: 0.9847 - Recall: 0.9415\n",
      "Epoch 12/50\n",
      "13/13 [==============================] - 0s 2ms/step - loss: 0.1883 - Precision: 0.9799 - Recall: 0.9512\n",
      "Epoch 13/50\n",
      "13/13 [==============================] - 0s 2ms/step - loss: 0.2044 - Precision: 0.9554 - Recall: 0.9415\n",
      "Epoch 14/50\n",
      "13/13 [==============================] - 0s 2ms/step - loss: 0.1450 - Precision: 0.9901 - Recall: 0.9756\n",
      "Epoch 15/50\n",
      "13/13 [==============================] - 0s 2ms/step - loss: 0.1633 - Precision: 0.9754 - Recall: 0.9659\n",
      "Epoch 16/50\n",
      "13/13 [==============================] - 0s 2ms/step - loss: 0.1763 - Precision: 0.9850 - Recall: 0.9610\n",
      "Epoch 17/50\n",
      "13/13 [==============================] - 0s 2ms/step - loss: 0.1556 - Precision: 0.9804 - Recall: 0.9756\n",
      "Epoch 18/50\n",
      "13/13 [==============================] - 0s 2ms/step - loss: 0.1402 - Precision: 0.9803 - Recall: 0.9707\n",
      "Epoch 19/50\n",
      "13/13 [==============================] - 0s 2ms/step - loss: 0.1529 - Precision: 0.9801 - Recall: 0.9610\n",
      "Epoch 20/50\n",
      "13/13 [==============================] - 0s 2ms/step - loss: 0.1453 - Precision: 0.9851 - Recall: 0.9659\n",
      "Epoch 21/50\n",
      "13/13 [==============================] - 0s 2ms/step - loss: 0.1232 - Precision: 0.9853 - Recall: 0.9805\n",
      "Epoch 22/50\n",
      "13/13 [==============================] - 0s 2ms/step - loss: 0.1509 - Precision: 0.9801 - Recall: 0.9610\n",
      "Epoch 23/50\n",
      "13/13 [==============================] - 0s 2ms/step - loss: 0.1534 - Precision: 0.9703 - Recall: 0.9561\n",
      "Epoch 24/50\n",
      "13/13 [==============================] - 0s 2ms/step - loss: 0.1303 - Precision: 0.9951 - Recall: 0.9902\n",
      "Epoch 25/50\n",
      "13/13 [==============================] - 0s 2ms/step - loss: 0.1187 - Precision: 0.9805 - Recall: 0.9805\n",
      "Epoch 26/50\n",
      "13/13 [==============================] - 0s 2ms/step - loss: 0.1386 - Precision: 0.9704 - Recall: 0.9610\n",
      "Epoch 27/50\n",
      "13/13 [==============================] - 0s 2ms/step - loss: 0.1295 - Precision: 0.9803 - Recall: 0.9707\n",
      "Epoch 28/50\n",
      "13/13 [==============================] - 0s 2ms/step - loss: 0.1134 - Precision: 0.9950 - Recall: 0.9756\n",
      "Epoch 29/50\n",
      "13/13 [==============================] - 0s 2ms/step - loss: 0.1391 - Precision: 0.9803 - Recall: 0.9707\n",
      "Epoch 30/50\n",
      "13/13 [==============================] - 0s 2ms/step - loss: 0.0976 - Precision: 0.9951 - Recall: 0.9854\n",
      "Epoch 31/50\n",
      "13/13 [==============================] - 0s 2ms/step - loss: 0.0965 - Precision: 0.9951 - Recall: 0.9951\n",
      "Epoch 32/50\n",
      "13/13 [==============================] - 0s 2ms/step - loss: 0.1242 - Precision: 0.9901 - Recall: 0.9756\n",
      "Epoch 33/50\n",
      "13/13 [==============================] - 0s 2ms/step - loss: 0.1295 - Precision: 0.9853 - Recall: 0.9805\n",
      "Epoch 34/50\n",
      "13/13 [==============================] - 0s 2ms/step - loss: 0.1407 - Precision: 0.9802 - Recall: 0.9659\n",
      "Epoch 35/50\n",
      "13/13 [==============================] - 0s 2ms/step - loss: 0.1110 - Precision: 0.9951 - Recall: 0.9854\n",
      "Epoch 36/50\n",
      "13/13 [==============================] - 0s 2ms/step - loss: 0.0957 - Precision: 1.0000 - Recall: 0.9854\n",
      "Epoch 37/50\n",
      "13/13 [==============================] - 0s 2ms/step - loss: 0.0877 - Precision: 0.9951 - Recall: 0.9951\n",
      "Epoch 38/50\n",
      "13/13 [==============================] - 0s 2ms/step - loss: 0.1356 - Precision: 0.9751 - Recall: 0.9561\n",
      "Epoch 39/50\n",
      "13/13 [==============================] - 0s 2ms/step - loss: 0.1006 - Precision: 0.9951 - Recall: 0.9854\n",
      "Epoch 40/50\n",
      "13/13 [==============================] - 0s 2ms/step - loss: 0.1041 - Precision: 1.0000 - Recall: 0.9854\n",
      "Epoch 41/50\n",
      "13/13 [==============================] - 0s 2ms/step - loss: 0.1162 - Precision: 0.9854 - Recall: 0.9854\n",
      "Epoch 42/50\n",
      "13/13 [==============================] - 0s 2ms/step - loss: 0.0949 - Precision: 0.9902 - Recall: 0.9854\n",
      "Epoch 43/50\n",
      "13/13 [==============================] - 0s 2ms/step - loss: 0.1184 - Precision: 0.9853 - Recall: 0.9805\n",
      "Epoch 44/50\n",
      "13/13 [==============================] - 0s 2ms/step - loss: 0.1169 - Precision: 0.9901 - Recall: 0.9805\n",
      "Epoch 45/50\n",
      "13/13 [==============================] - 0s 2ms/step - loss: 0.1004 - Precision: 0.9951 - Recall: 0.9854\n",
      "Epoch 46/50\n",
      "13/13 [==============================] - 0s 2ms/step - loss: 0.1307 - Precision: 0.9756 - Recall: 0.9756\n",
      "Epoch 47/50\n",
      "13/13 [==============================] - 0s 2ms/step - loss: 0.1356 - Precision: 0.9902 - Recall: 0.9854\n",
      "Epoch 48/50\n",
      "13/13 [==============================] - 0s 2ms/step - loss: 0.1306 - Precision: 0.9756 - Recall: 0.9756\n",
      "Epoch 49/50\n",
      "13/13 [==============================] - 0s 2ms/step - loss: 0.1407 - Precision: 0.9608 - Recall: 0.9561\n",
      "Epoch 50/50\n",
      "13/13 [==============================] - 0s 2ms/step - loss: 0.1028 - Precision: 0.9854 - Recall: 0.9854\n"
     ]
    }
   ],
   "source": [
    "# treinar modelo B\n",
    "epochs = 50\n",
    "batch_size = 16\n",
    "\n",
    "def scheduler(epoch, lr):\n",
    "    \"\"\"função de decaimento da taxa de aprendizado\"\"\"\n",
    "    return lr * tf.math.exp(-0.1)\n",
    "callbacklr = tf.keras.callbacks.LearningRateScheduler(scheduler)\n",
    "\n",
    "histB = modeloB.fit(x_trainS, y_trainS, callbacks=[callbacklr], batch_size=batch_size, epochs=epochs, verbose=1)\n",
    "#histB = modeloB.fit(x_trainU, y_trainU, callbacks=[callbacklr], batch_size=batch_size, epochs=epochs, verbose=1)"
   ]
  },
  {
   "cell_type": "code",
   "execution_count": 14,
   "metadata": {},
   "outputs": [],
   "source": [
    "### obter código 64d da normalizacao em batch do treinamento\n",
    "code_model_B = keras.models.Model(inputs=modeloA.input, outputs=modeloB.get_layer('codigo').output)\n",
    "code_train_model_B_cjto_S = np.asarray(code_model_B.predict(x_trainS))"
   ]
  },
  {
   "cell_type": "code",
   "execution_count": 15,
   "metadata": {},
   "outputs": [],
   "source": [
    "### obter código 64d da normalizacao em batch do treinamento\n",
    "code_model_B = keras.models.Model(inputs=modeloA.input, outputs=modeloB.get_layer('codigo').output)\n",
    "code_train_model_B_cjto_T = np.asarray(code_model_B.predict(x_test))"
   ]
  },
  {
   "cell_type": "markdown",
   "metadata": {
    "id": "n0HzzCRVtlZY"
   },
   "source": [
    "### Parte 4: Avaliação da rede neural de classificação"
   ]
  },
  {
   "cell_type": "code",
   "execution_count": 16,
   "metadata": {
    "id": "56ZlaL6RtlZY"
   },
   "outputs": [
    {
     "data": {
      "image/png": "[encoded data removed]",
      "text/plain": [
       "<Figure size 432x288 with 1 Axes>"
      ]
     },
     "metadata": {
      "needs_background": "light"
     },
     "output_type": "display_data"
    }
   ],
   "source": [
    "# exibir grafico com precision e recall das épocas\n",
    "plt.plot(histB.history['Precision'], 'r')\n",
    "plt.plot(histB.history['Recall'], 'b:')\n",
    "plt.legend([\"Precision\", \"Recall\"])\n",
    "plt.show()\n"
   ]
  },
  {
   "cell_type": "code",
   "execution_count": 17,
   "metadata": {},
   "outputs": [
    {
     "name": "stdout",
     "output_type": "stream",
     "text": [
      "Precision treinamento - conjunto S: 1.0000\n",
      "Recall treinamento - conjunto S: 1.0000\n",
      "\n",
      "Precision teste - conjunto T: 0.8364\n",
      "Recall teste - conjunto T: 0.7297\n"
     ]
    }
   ],
   "source": [
    "# avalie precision e recall final no treinamento/teste\n",
    "\n",
    "score_train = modeloB.evaluate(x_trainS, y_trainS, verbose=0)\n",
    "score_test = modeloB.evaluate(x_test, y_test, verbose=0)\n",
    "\n",
    "print(\"Precision treinamento - conjunto S: %.4f\" % (score_train[1]))\n",
    "print(\"Recall treinamento - conjunto S: %.4f\" % (score_train[2]))\n",
    "print()\n",
    "print(\"Precision teste - conjunto T: %.4f\" % (score_test[1]))\n",
    "print(\"Recall teste - conjunto T: %.4f\" % (score_test[2]))\n"
   ]
  },
  {
   "cell_type": "markdown",
   "metadata": {
    "id": "nHF3TdF3tlZY"
   },
   "source": [
    "### Bônus\n",
    "\n",
    "#### 1: Análise do espaço de características aprendido (0,5 pt)"
   ]
  },
  {
   "cell_type": "markdown",
   "metadata": {},
   "source": [
    "(0,5) Análise de projeção das características: visualize scatterplots com os 2 principais componentes obtidos do PCA com as classes dos exemplos atribuídas com cores ou marcadores diferentes. Projetar em 2D os seguintes espaços:\n",
    "\n",
    "scatterplot com projeção PCA do conjunto de S original (561 dimensões)\n",
    "scatterplot com projeção PCA do código (64 dimensões) do conjunto S após processado pelo \"encoder\" do Modelo A (code_train obtido no item/questão 2)\n",
    "scatterplot com projeção PCA do código (64 dimensões) do conjunto S após processado pelo \"encoder\" do Modelo B (treinado no item/questão 3)"
   ]
  },
  {
   "cell_type": "code",
   "execution_count": 18,
   "metadata": {
    "id": "hMi03PYQtlZZ"
   },
   "outputs": [],
   "source": [
    "from sklearn.decomposition import PCA"
   ]
  },
  {
   "cell_type": "code",
   "execution_count": 19,
   "metadata": {},
   "outputs": [
    {
     "name": "stdout",
     "output_type": "stream",
     "text": [
      "\tDados x features antes do PCA:  (205, 561)\n",
      "\tDados x features obtidas após PCA:  (205, 2)\n"
     ]
    }
   ],
   "source": [
    "# Projetando os 2 componentes principais para o conjunto \"S\" original com 561 d\n",
    "pca = PCA(n_components=2)\n",
    "pca.fit(x_trainS)\n",
    "pca_train = pca.transform(x_trainS)\n",
    "\n",
    "print('\\tDados x features antes do PCA: ', x_trainS.shape)\n",
    "print('\\tDados x features obtidas após PCA: ', pca_train.shape)"
   ]
  },
  {
   "cell_type": "code",
   "execution_count": 20,
   "metadata": {},
   "outputs": [
    {
     "data": {
      "image/png": "[encoded data removed]",
      "text/plain": [
       "<Figure size 432x288 with 1 Axes>"
      ]
     },
     "metadata": {
      "needs_background": "light"
     },
     "output_type": "display_data"
    }
   ],
   "source": [
    "# código exemplo para scatterplot (sendo pca_train o array com dados projetados, e rot_train rotulos discretos)\n",
    "fig, ax = plt.subplots()\n",
    "scatter = ax.scatter(pca_train[:,0], pca_train[:,1], c=rot_trainS, cmap=\"jet\")\n",
    "legend1 = ax.legend(*scatter.legend_elements(), loc=\"upper right\", title=\"Classes\")\n",
    "ax.add_artist(legend1)\n",
    "plt.title('PCA=2 - Conjunto \"S\" original com 561d');"
   ]
  },
  {
   "cell_type": "code",
   "execution_count": 21,
   "metadata": {},
   "outputs": [
    {
     "name": "stdout",
     "output_type": "stream",
     "text": [
      "\tDados x features antes do PCA:  (205, 64)\n",
      "\tDados x features obtidas após PCA:  (205, 2)\n"
     ]
    }
   ],
   "source": [
    "# Projetando os 2 componentes principais para o conjunto \"S\" com o código do modelo A com 64 d\n",
    "pca = PCA(n_components=2)\n",
    "pca.fit(code_train_model_A_cjto_S)\n",
    "pca_train = pca.transform(code_train_model_A_cjto_S)\n",
    "\n",
    "print('\\tDados x features antes do PCA: ', code_train_model_A_cjto_S.shape)\n",
    "print('\\tDados x features obtidas após PCA: ', pca_train.shape)"
   ]
  },
  {
   "cell_type": "code",
   "execution_count": 22,
   "metadata": {},
   "outputs": [
    {
     "data": {
      "image/png": "[encoded data removed]",
      "text/plain": [
       "<Figure size 432x288 with 1 Axes>"
      ]
     },
     "metadata": {
      "needs_background": "light"
     },
     "output_type": "display_data"
    }
   ],
   "source": [
    "# código exemplo para scatterplot (sendo pca_train o array com dados projetados, e rot_train rotulos discretos)\n",
    "fig, ax = plt.subplots()\n",
    "scatter = ax.scatter(pca_train[:,0], pca_train[:,1], c=rot_trainS, cmap=\"jet\")\n",
    "legend1 = ax.legend(*scatter.legend_elements(), loc=\"upper right\", title=\"Classes\")\n",
    "ax.add_artist(legend1)\n",
    "plt.title('PCA=2 - Conjunto \"S\" com código do Modelo A com 64d');"
   ]
  },
  {
   "cell_type": "code",
   "execution_count": 23,
   "metadata": {},
   "outputs": [
    {
     "name": "stdout",
     "output_type": "stream",
     "text": [
      "\tDados x features antes do PCA:  (205, 64)\n",
      "\tDados x features obtidas após PCA:  (205, 2)\n"
     ]
    }
   ],
   "source": [
    "# Projetando os 2 componentes principais para o conjunto \"S\" com o código do modelo B com 64 d\n",
    "pca = PCA(n_components=2)\n",
    "pca.fit(code_train_model_B_cjto_S)\n",
    "pca_train = pca.transform(code_train_model_B_cjto_S)\n",
    "\n",
    "print('\\tDados x features antes do PCA: ', code_train_model_B_cjto_S.shape)\n",
    "print('\\tDados x features obtidas após PCA: ', pca_train.shape)"
   ]
  },
  {
   "cell_type": "code",
   "execution_count": 24,
   "metadata": {},
   "outputs": [
    {
     "data": {
      "image/png": "[encoded data removed]",
      "text/plain": [
       "<Figure size 432x288 with 1 Axes>"
      ]
     },
     "metadata": {
      "needs_background": "light"
     },
     "output_type": "display_data"
    }
   ],
   "source": [
    "# código exemplo para scatterplot (sendo pca_train o array com dados projetados, e rot_train rotulos discretos)\n",
    "fig, ax = plt.subplots()\n",
    "scatter = ax.scatter(pca_train[:,0], pca_train[:,1], c=rot_trainS, cmap=\"jet\")\n",
    "legend1 = ax.legend(*scatter.legend_elements(), loc=\"upper right\", title=\"Classes\")\n",
    "ax.add_artist(legend1)\n",
    "plt.title('PCA=2 - Conjunto \"S\" com código do Modelo B com 64d');"
   ]
  },
  {
   "cell_type": "markdown",
   "metadata": {
    "id": "WL9xXjoktlZZ"
   },
   "source": [
    "#### 2: SVM no código aprendido (0,5 pt)"
   ]
  },
  {
   "cell_type": "markdown",
   "metadata": {},
   "source": [
    "(0,5) Obtenha um classificador SVM com kernel linear, treinado nos dados S obtendo sua representação do código (64 dimensões) da rede de classificação (modelo B). Avalie precisão e revocação no treinamento S e teste T."
   ]
  },
  {
   "cell_type": "code",
   "execution_count": 25,
   "metadata": {
    "id": "eHNNEC9DtlZZ",
    "scrolled": true
   },
   "outputs": [],
   "source": [
    "from sklearn import svm\n",
    "from sklearn.svm import SVC\n",
    "from sklearn.metrics import precision_score\n",
    "from sklearn.metrics import recall_score"
   ]
  },
  {
   "cell_type": "code",
   "execution_count": 26,
   "metadata": {},
   "outputs": [
    {
     "data": {
      "text/plain": [
       "SVC(kernel='linear')"
      ]
     },
     "execution_count": 26,
     "metadata": {},
     "output_type": "execute_result"
    }
   ],
   "source": [
    "clf = SVC (kernel='linear')\n",
    "clf.fit(code_train_model_B_cjto_S, rot_trainS)"
   ]
  },
  {
   "cell_type": "code",
   "execution_count": 27,
   "metadata": {},
   "outputs": [],
   "source": [
    "y_pred_S = clf.predict(code_train_model_B_cjto_S)\n",
    "y_pred_T = clf.predict(code_train_model_B_cjto_T)"
   ]
  },
  {
   "cell_type": "code",
   "execution_count": 28,
   "metadata": {},
   "outputs": [
    {
     "name": "stdout",
     "output_type": "stream",
     "text": [
      "Precisão treinamento - conjunto S: 1.0000\n",
      "Revocação treinamento - conjunto S: 1.0000\n",
      "\n",
      "Precisão teste - conjunto T: 0.7637\n",
      "Revocação teste - conjunto T: 0.7637\n"
     ]
    }
   ],
   "source": [
    "# Métricas\n",
    "prec_S = precision_score(rot_trainS, y_pred_S, average='micro')\n",
    "rev_S = recall_score(rot_trainS, y_pred_S, average='micro')\n",
    "prec_T = precision_score(rot_test, y_pred_T, average='micro')\n",
    "rev_T = recall_score(rot_test, y_pred_T, average='micro')\n",
    "\n",
    "print(\"Precisão treinamento - conjunto S: %.4f\" % (prec_S))\n",
    "print(\"Revocação treinamento - conjunto S: %.4f\" % (rev_S))\n",
    "print()\n",
    "print(\"Precisão teste - conjunto T: %.4f\" % (prec_T))\n",
    "print(\"Revocação teste - conjunto T: %.4f\" % (rev_T))"
   ]
  }
 ],
 "metadata": {
  "accelerator": "GPU",
  "colab": {
   "collapsed_sections": [],
   "name": "RNAP-Avaliacao_Final.ipynb",
   "provenance": []
  },
  "kernelspec": {
   "display_name": "Python 3",
   "language": "python",
   "name": "python3"
  },
  "language_info": {
   "codemirror_mode": {
    "name": "ipython",
    "version": 3
   },
   "file_extension": ".py",
   "mimetype": "text/x-python",
   "name": "python",
   "nbconvert_exporter": "python",
   "pygments_lexer": "ipython3",
   "version": "3.8.10"
  }
 },
 "nbformat": 4,
 "nbformat_minor": 1
}
