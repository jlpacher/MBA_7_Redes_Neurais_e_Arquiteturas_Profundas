{
 "cells": [
  {
   "cell_type": "markdown",
   "metadata": {
    "id": "K8CDQUj8yqpq"
   },
   "source": [
    "## MBA em Ciência de Dados\n",
    "# Redes Neurais e Arquiteturas Profundas\n",
    "\n",
    "### <span style=\"color:darkred\">Módulo V - Redes neurais auto-associativas e geradoras</span>\n",
    "\n",
    "\n",
    "### <span style=\"color:darkred\">Exercícios</span>\n",
    "\n",
    "Moacir Antonelli Ponti\n",
    "\n",
    "CeMEAI - ICMC/USP São Carlos\n",
    "\n",
    "---\n",
    "\n",
    "#### <span style=\"color:red\">Recomenda-se fortemente que os exercícios sejam feitos sem consultar as respostas antecipadamente.</span>\n",
    "\n",
    "---"
   ]
  },
  {
   "cell_type": "markdown",
   "metadata": {},
   "source": [
    "## Parte 1 - Exercícios Essenciais"
   ]
  },
  {
   "cell_type": "markdown",
   "metadata": {
    "id": "xMJ4IFd7yqpt"
   },
   "source": [
    "### Exercício 1)\n",
    "\n",
    "Auto-encoders são apropriados para tarefas de aprendizado não supervisionado, em que os dados de entrada são reconstruídos e uma representação compacta destes dados é aprendida. Em relação a esse método, qual afirmação está incorreta?\n",
    "\n",
    "a) A função de custo Mean Square Error deve ser utilizada com o propósito de medir a eficiência do aprendizado da rede, em que se considera seu potencial de obter imagens com alto grau de similaridade em relação às imagens de entrada.\n",
    "\n",
    "b) Podemos utilizar um auto-encoder para ser treinado com exemplos não rotulados e reaproveitar somente o Encoder para formar uma CNN com adição de novas camadas para a predição com posterior fine-tuning. \n",
    "\n",
    "<font color='red'>c) Auto-encoders overcomplete obtém naturalmente códigos compactos e de baixa dimensionalidade, similar a projeção PCA nos principais componentes considerando dimensionalidade menor do que a da entrada.</font>\n",
    "\n",
    "d) Denoising auto-encoderes são arquiteturas que podem ser utilizadas para duas tarefas simultaneamente após o seu treinamento. O primeiro deles é fornecer espaço de características que representam um conjunto de dados. O segundo propósito é funcionar como um filtro para remoção de ruídos."
   ]
  },
  {
   "cell_type": "markdown",
   "metadata": {},
   "source": [
    "Auto-encoders overcomplete aprendem uma transformação para dimensionalidade igual ou maior à da entrada.\n",
    "\n",
    "Auto-encoders undercomplete aprendem uma transformação para dimensionalidade menor que a da entrada."
   ]
  },
  {
   "cell_type": "markdown",
   "metadata": {
    "id": "038CuS5syqqL"
   },
   "source": [
    "---\n",
    "\n",
    "### Exercício 2)\n",
    "\n",
    "É correto afirmar sobre a principal tarefa realizada pela família de métodos do tipo Autoencoder\n",
    "\n",
    "(a) Mapeia os dados de entrada em um espaço latente que melhor permita uma boa classificação dos dados de treinamento, sendo o foco principal do aprendizado aumento de acurácia<br>\n",
    "<font color='red'>(b) Mapeia os dados de entrada em um espaço latente, e posteriormente aprende uma reconstrução desse espaço latente novamente no espaço de entrada, sendo o foco principal do aprendizado obter um espaço latente compacto e representativo.</font><br>\n",
    "(c) Mapeia os dados de entrada no espaço de saída num problema similar à regressão, em que temos informações a priori sobre como reconstruir os dados de entrada<br>\n",
    "(d) Mapeia os dados de entrada com principal objetivo de eliminar o ruído dos dados e portanto é útil para tarefas de limpeza de dados.<br>"
   ]
  },
  {
   "cell_type": "markdown",
   "metadata": {},
   "source": [
    "(a) é incorreta pois não é possível garantir acurácia, já que esses métodos não possuem acesso a rótulos de classes. (c) é incorreta pois o método não possui informações a priori sobre como reconstruir os dados de entrada, finalmente (d) é incorreta pois o objetivo principal dos métodos autoencoder não é eliminar ruído, ainda que isso seja um efeito colateral especificamente do método denoising autoencoder, mas não de toda a família de métodos."
   ]
  },
  {
   "cell_type": "markdown",
   "metadata": {
    "id": "nJQ0-S3myqqL"
   },
   "source": [
    "### Exercício 3)\n",
    "\n",
    "Autoencoders do tipo Overcomplete possuem dimensão latente superior a da entrada. Como garantir o aprendizado sem que haja uma cópia simples dos dados?\n",
    "\n",
    "(a) Utilizando mais camadas, projetando um Autoencoder Overcomplete Profundo que permita obter uma camada latente com maior qualidade<br>\n",
    "(b) Substituindo a função de custo de perda ou erro quadrático pela função de custo de entropia cruzada<br>\n",
    "(d) Utilizando normalização do tipo Batch ou Layer para que os dados sejam modificados ao longo da rede neural, assim evitando que haja uma cópia direta da entrada para o código<br>\n",
    "<font color='red'>(d) Impondo uma restrição na projeção do código que penalize o uso de todas as dimensões do espaço latente e privilegie projeções esparsas para uma dada instância.</font><br>"
   ]
  },
  {
   "cell_type": "markdown",
   "metadata": {},
   "source": [
    "O aprendizado de autoencoder em geral funciona impondo uma restrição no código. No caso dos overcomplete isso funciona impondo restrições no aprendizado do código como por exemplo a de esparsidade via regularização (que faz a soma de um componente de penalização à função custo) e/ou dropout (que esconde aleatoriamente alguns de entrada, pela adição de uma camada antes do código).\n"
   ]
  },
  {
   "cell_type": "markdown",
   "metadata": {},
   "source": [
    "### Exercício 4)\n",
    "\n",
    "Em geral qual modelo: Variational Autoencoder (VAE) ou Generative Adversarial Network (GAN) é mais difícil de treinar e por que?\n",
    "\n",
    "<font color='red'>a) GANs, pois estamos tentando otimizar 2 modelos simultâneamente e de forma adversarial</font><br>\n",
    "b) VAEs, pois sua perda é complexa de calcular<br>\n",
    "c) GANs, pois necessitam de muita aumentação de dados<br>\n",
    "d) VAEs, pois precisam aprender distribuições de dados para dois modelos (encoder e decoder)<br>"
   ]
  },
  {
   "cell_type": "markdown",
   "metadata": {},
   "source": [
    "A alternativa (a) está correta, muitas garantias teóricas que temos dos nossos otimizadores simplesmente desaparecem no cenário de 2 modelos oponentes sendo otimizados ao mesmo tempo, na verdade o mero fato dos dados de entrada do discriminador mudarem ao longo do treino já aumenta a complexidade e instabilidade do treinamento dos modelos. A alternativa (b) está errada pois a perda do VAE não é particularmente complexa ou custosa de calcular. Já na (c) enquanto a área do uso de Data Augmentation em GANs está sendo muito estudada, sabemos com certeza que não é necessário DA para otimizar GANs, e que DA demais pode piorar o treino. Por fim na letra (d) esse fato não é sozinho um grande problema para a convergência de VAEs e enquanto GANs não têm que aprender a distribuição explicitamente, elas terminam tendo que aprendê-la de maneira implícita, com o gerador tendendo a conseguir amostrar a distribuição e o discriminador tendo que aprender a diferenciar se um dado faz ou não parte daquela distribuição. Como uma nota adicional, em aprendizado por reforço alguns algoritmos ficam mais estáveis ao serem modificados para aprender uma distribuição em vez de aprender uma única saída."
   ]
  },
  {
   "cell_type": "markdown",
   "metadata": {
    "id": "Yfnm0YgLyqqU"
   },
   "source": [
    "---\n",
    "\n",
    "### Exercício 5)\n",
    "\n",
    "Carregue a base de dados `smartphone_activity_dataset.csv`, que possui 6 classes, conforme abaixo. Utilizaremos os primeiros 70% exemplos como treinamento e o restante como teste.\n",
    "\n",
    "Defina as sementes `seed(1)` e `set_seed(2)`. Logo após, projete e instancie um Encoder (apenas encoder, não é necessário um AE aqui) com as seguintes camadas, sendo que, após a entrada, todas terão ativação tangente hiperbólica:\n",
    "* Entrada\n",
    "* Densa com metade das dimensões da entrada (use a divisão inteira //2)\n",
    "* Densa com um quarto das dimensões da entrada (use a divisão inteira //4)\n",
    "* Densa com 32 dimensões (use name=\"code\" nessa camada para facilitar)\n",
    "\n",
    "Sem realizar treinamento, passe os dados de treinamento e teste pela rede, obtendo as ativações da última camada, com 32 dimensões. Isso gera uma projeção aleatória.\n",
    "\n",
    "Carregue o classificador SVC da biblioteca sklearn, e treine com parâmetros C=1, random_state=1, kernel=\"linear\" com as características obtidas da rede neural de treinamento, realizando a predição no teste a seguir, medindo a acurácia por meio da função score.\n",
    "\n",
    "Qual foi o resultado de acurácia obtido?\n",
    "\n",
    "(a) Acurácia de um classificador aleatório<br>\n",
    "(b) Acurácia abaixo de 5%<br>\n",
    "(c) Acurácia no intervalo entre 45% e 65%<br>\n",
    "<font color='red'>(d) Acurácia acima de 75%</font><br>\n",
    "\n",
    " **Justificativa**:  Como as características de entrada são bem discriminativas, ao projetá-las de forma aleatória com as camadas densas, ainda mantemos esse poder discriminativo."
   ]
  },
  {
   "cell_type": "code",
   "execution_count": 1,
   "metadata": {},
   "outputs": [],
   "source": [
    "import numpy as np\n",
    "import matplotlib.pyplot as plt\n",
    "import tensorflow as tf\n",
    "import pandas as pd\n",
    "from tensorflow import keras\n",
    "from tensorflow.keras import layers\n",
    "from tensorflow.keras import models\n",
    "from numpy.random import seed\n",
    "from tensorflow.random import set_seed\n",
    "from sklearn.model_selection import train_test_split\n",
    "from sklearn.preprocessing import MinMaxScaler"
   ]
  },
  {
   "cell_type": "code",
   "execution_count": 2,
   "metadata": {},
   "outputs": [
    {
     "data": {
      "text/html": [
       "<div>\n",
       "<style scoped>\n",
       "    .dataframe tbody tr th:only-of-type {\n",
       "        vertical-align: middle;\n",
       "    }\n",
       "\n",
       "    .dataframe tbody tr th {\n",
       "        vertical-align: top;\n",
       "    }\n",
       "\n",
       "    .dataframe thead th {\n",
       "        text-align: right;\n",
       "    }\n",
       "</style>\n",
       "<table border=\"1\" class=\"dataframe\">\n",
       "  <thead>\n",
       "    <tr style=\"text-align: right;\">\n",
       "      <th></th>\n",
       "      <th>feature_1</th>\n",
       "      <th>feature_2</th>\n",
       "      <th>feature_3</th>\n",
       "      <th>feature_4</th>\n",
       "      <th>feature_5</th>\n",
       "      <th>feature_6</th>\n",
       "      <th>feature_7</th>\n",
       "      <th>feature_8</th>\n",
       "      <th>feature_9</th>\n",
       "      <th>feature_10</th>\n",
       "      <th>...</th>\n",
       "      <th>feature_553</th>\n",
       "      <th>feature_554</th>\n",
       "      <th>feature_555</th>\n",
       "      <th>feature_556</th>\n",
       "      <th>feature_557</th>\n",
       "      <th>feature_558</th>\n",
       "      <th>feature_559</th>\n",
       "      <th>feature_560</th>\n",
       "      <th>feature_561</th>\n",
       "      <th>activity</th>\n",
       "    </tr>\n",
       "  </thead>\n",
       "  <tbody>\n",
       "    <tr>\n",
       "      <th>0</th>\n",
       "      <td>0.289</td>\n",
       "      <td>-0.0203</td>\n",
       "      <td>-0.1330</td>\n",
       "      <td>-0.995</td>\n",
       "      <td>-0.9830</td>\n",
       "      <td>-0.914</td>\n",
       "      <td>-0.995</td>\n",
       "      <td>-0.983</td>\n",
       "      <td>-0.924</td>\n",
       "      <td>-0.93500</td>\n",
       "      <td>...</td>\n",
       "      <td>-0.2990</td>\n",
       "      <td>-0.710</td>\n",
       "      <td>-0.1130</td>\n",
       "      <td>0.03040</td>\n",
       "      <td>-0.465</td>\n",
       "      <td>-0.0184</td>\n",
       "      <td>-0.841</td>\n",
       "      <td>0.180</td>\n",
       "      <td>-0.0586</td>\n",
       "      <td>5</td>\n",
       "    </tr>\n",
       "    <tr>\n",
       "      <th>1</th>\n",
       "      <td>0.278</td>\n",
       "      <td>-0.0164</td>\n",
       "      <td>-0.1240</td>\n",
       "      <td>-0.998</td>\n",
       "      <td>-0.9750</td>\n",
       "      <td>-0.960</td>\n",
       "      <td>-0.999</td>\n",
       "      <td>-0.975</td>\n",
       "      <td>-0.958</td>\n",
       "      <td>-0.94300</td>\n",
       "      <td>...</td>\n",
       "      <td>-0.5950</td>\n",
       "      <td>-0.861</td>\n",
       "      <td>0.0535</td>\n",
       "      <td>-0.00743</td>\n",
       "      <td>-0.733</td>\n",
       "      <td>0.7040</td>\n",
       "      <td>-0.845</td>\n",
       "      <td>0.180</td>\n",
       "      <td>-0.0543</td>\n",
       "      <td>5</td>\n",
       "    </tr>\n",
       "    <tr>\n",
       "      <th>2</th>\n",
       "      <td>0.280</td>\n",
       "      <td>-0.0195</td>\n",
       "      <td>-0.1130</td>\n",
       "      <td>-0.995</td>\n",
       "      <td>-0.9670</td>\n",
       "      <td>-0.979</td>\n",
       "      <td>-0.997</td>\n",
       "      <td>-0.964</td>\n",
       "      <td>-0.977</td>\n",
       "      <td>-0.93900</td>\n",
       "      <td>...</td>\n",
       "      <td>-0.3910</td>\n",
       "      <td>-0.760</td>\n",
       "      <td>-0.1190</td>\n",
       "      <td>0.17800</td>\n",
       "      <td>0.101</td>\n",
       "      <td>0.8090</td>\n",
       "      <td>-0.849</td>\n",
       "      <td>0.181</td>\n",
       "      <td>-0.0491</td>\n",
       "      <td>5</td>\n",
       "    </tr>\n",
       "    <tr>\n",
       "      <th>3</th>\n",
       "      <td>0.279</td>\n",
       "      <td>-0.0262</td>\n",
       "      <td>-0.1230</td>\n",
       "      <td>-0.996</td>\n",
       "      <td>-0.9830</td>\n",
       "      <td>-0.991</td>\n",
       "      <td>-0.997</td>\n",
       "      <td>-0.983</td>\n",
       "      <td>-0.989</td>\n",
       "      <td>-0.93900</td>\n",
       "      <td>...</td>\n",
       "      <td>-0.1170</td>\n",
       "      <td>-0.483</td>\n",
       "      <td>-0.0368</td>\n",
       "      <td>-0.01290</td>\n",
       "      <td>0.640</td>\n",
       "      <td>-0.4850</td>\n",
       "      <td>-0.849</td>\n",
       "      <td>0.182</td>\n",
       "      <td>-0.0477</td>\n",
       "      <td>5</td>\n",
       "    </tr>\n",
       "    <tr>\n",
       "      <th>4</th>\n",
       "      <td>0.277</td>\n",
       "      <td>-0.0166</td>\n",
       "      <td>-0.1150</td>\n",
       "      <td>-0.998</td>\n",
       "      <td>-0.9810</td>\n",
       "      <td>-0.990</td>\n",
       "      <td>-0.998</td>\n",
       "      <td>-0.980</td>\n",
       "      <td>-0.990</td>\n",
       "      <td>-0.94200</td>\n",
       "      <td>...</td>\n",
       "      <td>-0.3510</td>\n",
       "      <td>-0.699</td>\n",
       "      <td>0.1230</td>\n",
       "      <td>0.12300</td>\n",
       "      <td>0.694</td>\n",
       "      <td>-0.6160</td>\n",
       "      <td>-0.848</td>\n",
       "      <td>0.185</td>\n",
       "      <td>-0.0439</td>\n",
       "      <td>5</td>\n",
       "    </tr>\n",
       "    <tr>\n",
       "      <th>...</th>\n",
       "      <td>...</td>\n",
       "      <td>...</td>\n",
       "      <td>...</td>\n",
       "      <td>...</td>\n",
       "      <td>...</td>\n",
       "      <td>...</td>\n",
       "      <td>...</td>\n",
       "      <td>...</td>\n",
       "      <td>...</td>\n",
       "      <td>...</td>\n",
       "      <td>...</td>\n",
       "      <td>...</td>\n",
       "      <td>...</td>\n",
       "      <td>...</td>\n",
       "      <td>...</td>\n",
       "      <td>...</td>\n",
       "      <td>...</td>\n",
       "      <td>...</td>\n",
       "      <td>...</td>\n",
       "      <td>...</td>\n",
       "      <td>...</td>\n",
       "    </tr>\n",
       "    <tr>\n",
       "      <th>10294</th>\n",
       "      <td>0.310</td>\n",
       "      <td>-0.0534</td>\n",
       "      <td>-0.0991</td>\n",
       "      <td>-0.288</td>\n",
       "      <td>-0.1410</td>\n",
       "      <td>-0.215</td>\n",
       "      <td>-0.356</td>\n",
       "      <td>-0.149</td>\n",
       "      <td>-0.232</td>\n",
       "      <td>0.18500</td>\n",
       "      <td>...</td>\n",
       "      <td>-0.3760</td>\n",
       "      <td>-0.751</td>\n",
       "      <td>-0.3370</td>\n",
       "      <td>0.34600</td>\n",
       "      <td>0.885</td>\n",
       "      <td>-0.6990</td>\n",
       "      <td>-0.652</td>\n",
       "      <td>0.275</td>\n",
       "      <td>0.1850</td>\n",
       "      <td>2</td>\n",
       "    </tr>\n",
       "    <tr>\n",
       "      <th>10295</th>\n",
       "      <td>0.363</td>\n",
       "      <td>-0.0392</td>\n",
       "      <td>-0.1060</td>\n",
       "      <td>-0.305</td>\n",
       "      <td>0.0281</td>\n",
       "      <td>-0.196</td>\n",
       "      <td>-0.374</td>\n",
       "      <td>-0.030</td>\n",
       "      <td>-0.270</td>\n",
       "      <td>0.18500</td>\n",
       "      <td>...</td>\n",
       "      <td>-0.3200</td>\n",
       "      <td>-0.700</td>\n",
       "      <td>-0.7370</td>\n",
       "      <td>-0.37300</td>\n",
       "      <td>-0.657</td>\n",
       "      <td>0.3230</td>\n",
       "      <td>-0.655</td>\n",
       "      <td>0.274</td>\n",
       "      <td>0.1820</td>\n",
       "      <td>2</td>\n",
       "    </tr>\n",
       "    <tr>\n",
       "      <th>10296</th>\n",
       "      <td>0.350</td>\n",
       "      <td>0.0301</td>\n",
       "      <td>-0.1160</td>\n",
       "      <td>-0.330</td>\n",
       "      <td>-0.0421</td>\n",
       "      <td>-0.250</td>\n",
       "      <td>-0.388</td>\n",
       "      <td>-0.133</td>\n",
       "      <td>-0.347</td>\n",
       "      <td>0.00747</td>\n",
       "      <td>...</td>\n",
       "      <td>-0.1190</td>\n",
       "      <td>-0.467</td>\n",
       "      <td>-0.1820</td>\n",
       "      <td>0.08860</td>\n",
       "      <td>0.697</td>\n",
       "      <td>0.3630</td>\n",
       "      <td>-0.655</td>\n",
       "      <td>0.274</td>\n",
       "      <td>0.1810</td>\n",
       "      <td>2</td>\n",
       "    </tr>\n",
       "    <tr>\n",
       "      <th>10297</th>\n",
       "      <td>0.238</td>\n",
       "      <td>0.0185</td>\n",
       "      <td>-0.0965</td>\n",
       "      <td>-0.323</td>\n",
       "      <td>-0.2300</td>\n",
       "      <td>-0.208</td>\n",
       "      <td>-0.392</td>\n",
       "      <td>-0.280</td>\n",
       "      <td>-0.289</td>\n",
       "      <td>0.00747</td>\n",
       "      <td>...</td>\n",
       "      <td>-0.2050</td>\n",
       "      <td>-0.618</td>\n",
       "      <td>0.4450</td>\n",
       "      <td>-0.81900</td>\n",
       "      <td>0.929</td>\n",
       "      <td>-0.0084</td>\n",
       "      <td>-0.660</td>\n",
       "      <td>0.265</td>\n",
       "      <td>0.1880</td>\n",
       "      <td>2</td>\n",
       "    </tr>\n",
       "    <tr>\n",
       "      <th>10298</th>\n",
       "      <td>0.154</td>\n",
       "      <td>-0.0184</td>\n",
       "      <td>-0.1370</td>\n",
       "      <td>-0.330</td>\n",
       "      <td>-0.1950</td>\n",
       "      <td>-0.164</td>\n",
       "      <td>-0.431</td>\n",
       "      <td>-0.218</td>\n",
       "      <td>-0.230</td>\n",
       "      <td>-0.11200</td>\n",
       "      <td>...</td>\n",
       "      <td>-0.0722</td>\n",
       "      <td>-0.437</td>\n",
       "      <td>0.5990</td>\n",
       "      <td>-0.28800</td>\n",
       "      <td>0.876</td>\n",
       "      <td>-0.0250</td>\n",
       "      <td>-0.660</td>\n",
       "      <td>0.264</td>\n",
       "      <td>0.1880</td>\n",
       "      <td>2</td>\n",
       "    </tr>\n",
       "  </tbody>\n",
       "</table>\n",
       "<p>10299 rows × 562 columns</p>\n",
       "</div>"
      ],
      "text/plain": [
       "       feature_1  feature_2  feature_3  feature_4  feature_5  feature_6  \\\n",
       "0          0.289    -0.0203    -0.1330     -0.995    -0.9830     -0.914   \n",
       "1          0.278    -0.0164    -0.1240     -0.998    -0.9750     -0.960   \n",
       "2          0.280    -0.0195    -0.1130     -0.995    -0.9670     -0.979   \n",
       "3          0.279    -0.0262    -0.1230     -0.996    -0.9830     -0.991   \n",
       "4          0.277    -0.0166    -0.1150     -0.998    -0.9810     -0.990   \n",
       "...          ...        ...        ...        ...        ...        ...   \n",
       "10294      0.310    -0.0534    -0.0991     -0.288    -0.1410     -0.215   \n",
       "10295      0.363    -0.0392    -0.1060     -0.305     0.0281     -0.196   \n",
       "10296      0.350     0.0301    -0.1160     -0.330    -0.0421     -0.250   \n",
       "10297      0.238     0.0185    -0.0965     -0.323    -0.2300     -0.208   \n",
       "10298      0.154    -0.0184    -0.1370     -0.330    -0.1950     -0.164   \n",
       "\n",
       "       feature_7  feature_8  feature_9  feature_10  ...  feature_553  \\\n",
       "0         -0.995     -0.983     -0.924    -0.93500  ...      -0.2990   \n",
       "1         -0.999     -0.975     -0.958    -0.94300  ...      -0.5950   \n",
       "2         -0.997     -0.964     -0.977    -0.93900  ...      -0.3910   \n",
       "3         -0.997     -0.983     -0.989    -0.93900  ...      -0.1170   \n",
       "4         -0.998     -0.980     -0.990    -0.94200  ...      -0.3510   \n",
       "...          ...        ...        ...         ...  ...          ...   \n",
       "10294     -0.356     -0.149     -0.232     0.18500  ...      -0.3760   \n",
       "10295     -0.374     -0.030     -0.270     0.18500  ...      -0.3200   \n",
       "10296     -0.388     -0.133     -0.347     0.00747  ...      -0.1190   \n",
       "10297     -0.392     -0.280     -0.289     0.00747  ...      -0.2050   \n",
       "10298     -0.431     -0.218     -0.230    -0.11200  ...      -0.0722   \n",
       "\n",
       "       feature_554  feature_555  feature_556  feature_557  feature_558  \\\n",
       "0           -0.710      -0.1130      0.03040       -0.465      -0.0184   \n",
       "1           -0.861       0.0535     -0.00743       -0.733       0.7040   \n",
       "2           -0.760      -0.1190      0.17800        0.101       0.8090   \n",
       "3           -0.483      -0.0368     -0.01290        0.640      -0.4850   \n",
       "4           -0.699       0.1230      0.12300        0.694      -0.6160   \n",
       "...            ...          ...          ...          ...          ...   \n",
       "10294       -0.751      -0.3370      0.34600        0.885      -0.6990   \n",
       "10295       -0.700      -0.7370     -0.37300       -0.657       0.3230   \n",
       "10296       -0.467      -0.1820      0.08860        0.697       0.3630   \n",
       "10297       -0.618       0.4450     -0.81900        0.929      -0.0084   \n",
       "10298       -0.437       0.5990     -0.28800        0.876      -0.0250   \n",
       "\n",
       "       feature_559  feature_560  feature_561  activity  \n",
       "0           -0.841        0.180      -0.0586         5  \n",
       "1           -0.845        0.180      -0.0543         5  \n",
       "2           -0.849        0.181      -0.0491         5  \n",
       "3           -0.849        0.182      -0.0477         5  \n",
       "4           -0.848        0.185      -0.0439         5  \n",
       "...            ...          ...          ...       ...  \n",
       "10294       -0.652        0.275       0.1850         2  \n",
       "10295       -0.655        0.274       0.1820         2  \n",
       "10296       -0.655        0.274       0.1810         2  \n",
       "10297       -0.660        0.265       0.1880         2  \n",
       "10298       -0.660        0.264       0.1880         2  \n",
       "\n",
       "[10299 rows x 562 columns]"
      ]
     },
     "execution_count": 2,
     "metadata": {},
     "output_type": "execute_result"
    }
   ],
   "source": [
    "df = pd.read_csv(\"smartphone_activity_dataset.csv\")\n",
    "df"
   ]
  },
  {
   "cell_type": "code",
   "execution_count": 3,
   "metadata": {},
   "outputs": [
    {
     "name": "stdout",
     "output_type": "stream",
     "text": [
      "Exemplos de treinamento: 7209\n",
      "Exemplos de teste: 3090\n"
     ]
    }
   ],
   "source": [
    "rotulos = np.array(df['activity'])\n",
    "features = np.array(df.iloc[:, :-1])\n",
    "\n",
    "x_train, x_test, y_train, y_test = train_test_split(features, rotulos, test_size=0.30, random_state=0)\n",
    "print(\"Exemplos de treinamento:\", len(x_train))\n",
    "print(\"Exemplos de teste:\", len(x_test))"
   ]
  },
  {
   "cell_type": "code",
   "execution_count": 4,
   "metadata": {},
   "outputs": [
    {
     "data": {
      "text/plain": [
       "(7209, 561)"
      ]
     },
     "execution_count": 4,
     "metadata": {},
     "output_type": "execute_result"
    }
   ],
   "source": [
    "x_train.shape"
   ]
  },
  {
   "cell_type": "code",
   "execution_count": 5,
   "metadata": {},
   "outputs": [],
   "source": [
    "def deep_encoder(input_dim, code_dim):\n",
    "    \n",
    "    input_data = keras.layers.Input(shape=(input_dim,))\n",
    "    x = keras.layers.Dense(input_dim//2, activation='tanh')(input_data)\n",
    "    x = keras.layers.Dense(input_dim//4, activation='tanh')(x)\n",
    "    \n",
    "    z = keras.layers.Dense(code_dim, activation='tanh', name='code')(x)\n",
    "    encoder = keras.models.Model(input_data, z)\n",
    "    \n",
    "    return encoder"
   ]
  },
  {
   "cell_type": "code",
   "execution_count": 6,
   "metadata": {},
   "outputs": [],
   "source": [
    "code_dim = 32"
   ]
  },
  {
   "cell_type": "code",
   "execution_count": 7,
   "metadata": {},
   "outputs": [
    {
     "data": {
      "text/plain": [
       "561"
      ]
     },
     "execution_count": 7,
     "metadata": {},
     "output_type": "execute_result"
    }
   ],
   "source": [
    "input_dim=x_train.shape[1]\n",
    "input_dim"
   ]
  },
  {
   "cell_type": "code",
   "execution_count": 8,
   "metadata": {},
   "outputs": [
    {
     "name": "stdout",
     "output_type": "stream",
     "text": [
      "Model: \"model\"\n",
      "_________________________________________________________________\n",
      "Layer (type)                 Output Shape              Param #   \n",
      "=================================================================\n",
      "input_1 (InputLayer)         [(None, 561)]             0         \n",
      "_________________________________________________________________\n",
      "dense (Dense)                (None, 280)               157360    \n",
      "_________________________________________________________________\n",
      "dense_1 (Dense)              (None, 140)               39340     \n",
      "_________________________________________________________________\n",
      "code (Dense)                 (None, 32)                4512      \n",
      "=================================================================\n",
      "Total params: 201,212\n",
      "Trainable params: 201,212\n",
      "Non-trainable params: 0\n",
      "_________________________________________________________________\n",
      "Calculando score...\n",
      "\n",
      "score: 0.87 \n"
     ]
    },
    {
     "data": {
      "image/png": "[encoded data removed]",
      "text/plain": [
       "<Figure size 432x288 with 2 Axes>"
      ]
     },
     "metadata": {
      "needs_background": "light"
     },
     "output_type": "display_data"
    }
   ],
   "source": [
    "seed(1)\n",
    "set_seed(2)\n",
    "autoencoder_1 = deep_encoder(input_dim=x_train.shape[1], code_dim=code_dim)\n",
    "autoencoder_1.summary()\n",
    "\n",
    "# code_train: características obtidas da rede neural de treinamento\n",
    "code_modelenc = keras.models.Model(inputs=autoencoder_1.input, outputs=autoencoder_1.get_layer('code').output)\n",
    "code_train = np.asarray(code_modelenc.predict(x_train))\n",
    "\n",
    "from sklearn import svm\n",
    "from sklearn.metrics import plot_confusion_matrix\n",
    "\n",
    "clf2 = svm.SVC(C=1, kernel=\"linear\", random_state=1)\n",
    "clf2.fit(code_train, y_train)\n",
    "code_test = np.asarray(code_modelenc.predict(x_test))\n",
    "\n",
    "print('Calculando score...')\n",
    "score = clf2.score(code_test, y_test)\n",
    "print('\\nscore: %.2f ' % (score))\n",
    "\n",
    "disp = plot_confusion_matrix(clf2, code_test, y_test)"
   ]
  },
  {
   "cell_type": "markdown",
   "metadata": {},
   "source": [
    "### Parte 2 - Exercícios complementares"
   ]
  },
  {
   "cell_type": "markdown",
   "metadata": {
    "id": "6exl-MrVyqqT"
   },
   "source": [
    "---\n",
    "### Exercício 6)\n",
    "\n",
    "Você treinou uma GAN, porém enquanto a perda do discriminador esteve sempre decrescente a perda do gerador cresceu no treino. Qual dos procedimentos abaixo tem a menor chance de auxiliar no treinamento:\n",
    "\n",
    "a) Reduzir a taxa de aprendizado do discriminador<br>\n",
    "<font color='red'>b) Aumentar a capacidade do discriminador e reduzir a do gerador</font><br>\n",
    "c) Regularizar ou aumentar a regularização do discriminador<br>\n",
    "d) Fazer mais de uma atualização do gerador para cada atualização dos pesos do discriminador<br>"
   ]
  },
  {
   "cell_type": "markdown",
   "metadata": {},
   "source": [
    "A alternativa (a) reduz a velocidade de aprendizado do discriminador, em certo sentido estabilizando o treinamento do gerador, que agora tem que \"vencer\" uma rede mais estática no sentido de velocidade de atualização dos parâmetros; (c) reduz a capacidade de ajuste aos dados reais do discriminador, dando mais espaço para que o gerador consiga bons gradientes no treino; (d) d novamente estabiliza o treinamento do gerador, por um motivo similar ao da letra (a). A (b) não auxiliaria, e na verdade poderia até piorar a situação, pois a tarefa do gerador é mais difícil do que a do discriminador. Ao deixar o discriminador mais complexo e o gerador mais restrito, essa dificuldade se amplifica."
   ]
  },
  {
   "cell_type": "markdown",
   "metadata": {
    "id": "J6VfUMk8yqqW"
   },
   "source": [
    "---\n",
    "\n",
    "### Exercício 7)\n",
    "\n",
    "Uso de GANs para aprendizado de representações. Utilizando a mesma base de dados do exercício anterior, projete e treine uma GAN para gerar exemplos artificiais da base de dados `smartphone_activity_dataset.csv`. Utilizaremos todos os exemplos para treinamento da GAN.\n",
    "\n",
    "Para isso, utilize a GAN similar à proposta em aula, alterada conforme o código abaixo, com as seguintes configurações:\n",
    "* discriminador com uma camada oculta com 32 dimensões (utilize o parâmetro `name='embedding'` nessa camada para facilitar seu uso posterior), deve ser treinado com Adam e taxa de aprendizado 0.0001 (apenas para o discriminador)\n",
    "* gerador com 2 camadas ocultas com 256 neurônios\n",
    "* dimensão de z = 256\n",
    "* dimensão de entrada igual a da base de dados\n",
    "* função de distribuição alvo deve amostrar da base de dados\n",
    "\n",
    "Todas as camadas serão `tanh` exceto a camada de saída do discriminador que é `sigmoid`.\n",
    "\n",
    "Treine a GAN por 1000 épocas com batch size 32 e otimizador Adam com learning rate =0.001.\n",
    "\n",
    "Após, utilize a camada \"embedding\" do discriminador como extratora de características, passando os dados da base de treinamento e teste (na mesma divisão feita na questão anterior) para o discriminador, e pegando a projeção feita pela camada densa. \n",
    "\n",
    "Treine classificadores SVM com parâmetros C=1 e random_state=1, um na base de dados com suas características originais, e o outro nas característias do \"embedding\" do discriminador. Obtenha o score nos respectivos conjuntos de teste. Os resultados estão em qual intervalo? \n",
    "\n",
    "(a) Original = [92,100], Embedding 32d GAN = [92,97], a GAN foi capaz de aprender uma boa representação compacta com acurácia próxima da original sendo a quantidade de épocas suficiente para esse aprendizado<br>\n",
    "(b) Original = [85,91], Embedding 32d GAN = [82,89], a GAN produz representação similar aos dados originais, porém com menor dimensionalidade, indicando que houve convergência<br>\n",
    "(c) Original = [85,91], Embedding 32d GAN = [23,30], a GAN gera uma representação que produz classificação próxima da aleatória<br>\n",
    "<font color='red'>(d)  Original = [92,100], Embedding 32d GAN = [82,89], a GAN gera uma representação compacta com resultado abaixo da original, sendo necessário executar por mais épocas para investigar se é capaz de gerar uma representação mais fiel aos dados</font><br>"
   ]
  },
  {
   "cell_type": "code",
   "execution_count": 9,
   "metadata": {},
   "outputs": [],
   "source": [
    "import numpy as np\n",
    "import matplotlib.pyplot as plt\n",
    "import tensorflow as tf\n",
    "import pandas as pd\n",
    "from tensorflow import keras\n",
    "from tensorflow.keras import layers\n",
    "from tensorflow.keras import models\n",
    "from numpy.random import seed\n",
    "from tensorflow.random import set_seed"
   ]
  },
  {
   "cell_type": "code",
   "execution_count": 10,
   "metadata": {
    "colab": {
     "base_uri": "https://localhost:8080/",
     "height": 54
    },
    "id": "fVUByVse5Rs-",
    "outputId": "aa56f877-b1bb-4506-8364-0cb680267b7a"
   },
   "outputs": [],
   "source": [
    "# modelo discriminador base : classificador\n",
    "def discriminator(dim_input=2, embedding_size=128):\n",
    "    model = models.Sequential()\n",
    "    model.add(layers.Dense(embedding_size, activation='tanh', name='embedding', input_dim=dim_input))\n",
    "    model.add(layers.Dense(1, activation='sigmoid'))\n",
    "    model.compile(loss='binary_crossentropy', optimizer=keras.optimizers.Adam(lr=0.0001), metrics=['accuracy'])\n",
    "    return model\n",
    "\n",
    "def distribuicao_alvo(n, x_train):\n",
    "    labels_reais = np.ones((n,1))\n",
    "    return x_train[np.random.choice(x_train.shape[0], n, replace=False), :], labels_reais\n",
    "\n",
    "# modelo gerador, cuja entrada tem dimensão do espaço latente\n",
    "# sua saída tem dimensão igual a dos exemplos da distribuição alvo\n",
    "def generator(z_dim, dim_output=2, embedding_size1=256, embedding_size2=256):\n",
    "    model = models.Sequential()\n",
    "    model.add(layers.Dense(embedding_size1, activation='tanh', name='embedding1', input_dim=z_dim))\n",
    "    model.add(layers.Dense(embedding_size2, activation='tanh', name='embedding2'))\n",
    "    model.add(layers.Dense(dim_output, activation='tanh'))\n",
    "    return model\n",
    "\n",
    "# funcao para gerar uma amostra com n exemplos da distribuicao latente\n",
    "def amostra_distribuicao_latente(z_dim, n):\n",
    "    exemplos_z = np.random.randn(z_dim * n)\n",
    "    return exemplos_z.reshape(n, z_dim)\n",
    "\n",
    "# funcao para gerar exemplos \"falsos\", aleatorios a partir da\n",
    "# saída do gerador G(z)\n",
    "def gera_exemplos_falsos(model_g, z_dim, n):\n",
    "    exemplos_z = amostra_distribuicao_latente(z_dim, n)\n",
    "    exemplos_falsos = model_g.predict(exemplos_z)\n",
    "    labels_falsos = np.zeros((n,1))\n",
    "    return exemplos_falsos, labels_falsos"
   ]
  },
  {
   "cell_type": "code",
   "execution_count": 11,
   "metadata": {},
   "outputs": [],
   "source": [
    "def GAN(model_gen, model_dis):\n",
    "    # o discriminador sera treinado separadamente, entao marcamos como\n",
    "    # nao treinável dentro desse modelo\n",
    "    model_dis.trainable = False\n",
    "\n",
    "    # criamos modelo que gera exemplos, depois os passa ao discriminador\n",
    "    model_gan = models.Sequential()\n",
    "    model_gan.add(model_gen)\n",
    "    model_gan.add(model_dis)\n",
    "    model_gan.compile(loss='binary_crossentropy', optimizer=keras.optimizers.Adam(lr=0.001), metrics=['accuracy'])\n",
    "    return model_gan\n",
    "\n",
    "def fit_GAN(model_gen, model_dis, model_GAN, z_dim, x_train, epochs=1000, batch_size=32, verbose=False):\n",
    "    histR = np.zeros(epochs)\n",
    "    histF = np.zeros(epochs)\n",
    "    for i in range(epochs):\n",
    "        # amostra exemplos para o discriminador\n",
    "        x_real, y_real = distribuicao_alvo(batch_size//2, x_train)\n",
    "        x_falso, y_falso = gera_exemplos_falsos(model_gen, z_dim, batch_size//2)\n",
    "        # treina modelo em meio batch\n",
    "        model_dis.train_on_batch(x_real, y_real)\n",
    "        model_dis.train_on_batch(x_falso, y_falso)\n",
    "\n",
    "        # exemplos da distribuicao latente\n",
    "        z_batch = amostra_distribuicao_latente(z_dim, batch_size)\n",
    "        # invertemos os labels aqui para treinar de forma a enganar o discriminador\n",
    "        z_labels = np.ones((batch_size,1))\n",
    "        model_GAN.train_on_batch(z_batch, z_labels)\n",
    "\n",
    "        # avalia modelo discriminador atual\n",
    "        loss_real, acc_real = model_dis.evaluate(x_real, y_real, verbose=0)\n",
    "        loss_falso, acc_falso = model_dis.evaluate(x_falso, y_falso, verbose=0)\n",
    "        histR[i] = loss_real\n",
    "        histF[i] = loss_falso\n",
    "        if (verbose and (i % 100 == 0)):\n",
    "            print(\"Epoch: %d, Accuracy- real: %.2f falso: %.2f\" % (i, acc_real, acc_falso))\n",
    "            \n",
    "    return histR, histF"
   ]
  },
  {
   "cell_type": "code",
   "execution_count": 12,
   "metadata": {
    "id": "CBz3dDiX5RtE"
   },
   "outputs": [
    {
     "name": "stderr",
     "output_type": "stream",
     "text": [
      "C:\\Users\\joaop\\anaconda3\\lib\\site-packages\\keras\\optimizer_v2\\optimizer_v2.py:355: UserWarning: The `lr` argument is deprecated, use `learning_rate` instead.\n",
      "  warnings.warn(\n"
     ]
    },
    {
     "name": "stdout",
     "output_type": "stream",
     "text": [
      "Epoch: 0, Accuracy- real: 0.12 falso: 0.56\n",
      "Epoch: 100, Accuracy- real: 1.00 falso: 0.00\n",
      "Epoch: 200, Accuracy- real: 1.00 falso: 0.00\n",
      "Epoch: 300, Accuracy- real: 1.00 falso: 0.00\n",
      "Epoch: 400, Accuracy- real: 1.00 falso: 0.94\n",
      "Epoch: 500, Accuracy- real: 0.94 falso: 0.31\n",
      "Epoch: 600, Accuracy- real: 1.00 falso: 0.62\n",
      "Epoch: 700, Accuracy- real: 1.00 falso: 0.38\n",
      "Epoch: 800, Accuracy- real: 1.00 falso: 0.75\n",
      "Epoch: 900, Accuracy- real: 1.00 falso: 0.94\n"
     ]
    }
   ],
   "source": [
    "seed(1)\n",
    "set_seed(2)\n",
    "\n",
    "z_dim = 256\n",
    "\n",
    "# obter modelo discriminador e gerador\n",
    "model_dis = discriminator(features.shape[1], embedding_size=32) \n",
    "model_gen = generator(z_dim,features.shape[1], embedding_size1=256, embedding_size2=256)\n",
    "# criar modelo GAN\n",
    "model_GAN = GAN(model_gen, model_dis)\n",
    "# treinar GAN\n",
    "histR, histF = fit_GAN(model_gen, model_dis, model_GAN, z_dim, features, epochs=1000, batch_size=32, verbose=True)"
   ]
  },
  {
   "cell_type": "code",
   "execution_count": 13,
   "metadata": {
    "colab": {
     "base_uri": "https://localhost:8080/",
     "height": 920
    },
    "id": "7T_xLExo5RtL",
    "outputId": "29c65006-3203-479e-94f6-c94293d11052"
   },
   "outputs": [],
   "source": [
    "### utilizar GAN treinada para obter embedding para os dados de treinamento e teste\n",
    "code_GAN = keras.models.Model(inputs=model_dis.input, outputs=model_dis.get_layer('embedding').output)\n",
    "code_trainGAN = np.asarray(code_GAN.predict(x_train))\n",
    "code_testGAN = np.asarray(code_GAN.predict(x_test))"
   ]
  },
  {
   "cell_type": "code",
   "execution_count": 14,
   "metadata": {},
   "outputs": [
    {
     "name": "stdout",
     "output_type": "stream",
     "text": [
      "Calculando score embedding GAN...\n",
      "\n",
      "score: 0.85\n"
     ]
    },
    {
     "data": {
      "image/png": "[encoded data removed]",
      "text/plain": [
       "<Figure size 432x288 with 2 Axes>"
      ]
     },
     "metadata": {
      "needs_background": "light"
     },
     "output_type": "display_data"
    }
   ],
   "source": [
    "### testar características obtidas a partir da GAN usando SVM\n",
    "from sklearn import svm\n",
    "from sklearn.metrics import plot_confusion_matrix\n",
    "\n",
    "clf = svm.SVC(C=1, random_state=1, kernel=\"linear\")\n",
    "clf.fit(code_trainGAN, y_train)\n",
    "\n",
    "print('Calculando score embedding GAN...')\n",
    "score = clf.score(code_testGAN, y_test)\n",
    "print('\\nscore: %.2f' % (score))\n",
    "\n",
    "disp = plot_confusion_matrix(clf, code_testGAN, y_test)"
   ]
  },
  {
   "cell_type": "code",
   "execution_count": 15,
   "metadata": {},
   "outputs": [
    {
     "name": "stdout",
     "output_type": "stream",
     "text": [
      "Calculando score dados originais...\n",
      "\n",
      "score: 0.9883495145631068\n"
     ]
    },
    {
     "data": {
      "image/png": "[encoded data removed]",
      "text/plain": [
       "<Figure size 432x288 with 2 Axes>"
      ]
     },
     "metadata": {
      "needs_background": "light"
     },
     "output_type": "display_data"
    }
   ],
   "source": [
    "### testar características obtidas originais usando SVM\n",
    "clf_orig = svm.SVC(C=1, random_state=1, kernel=\"linear\")\n",
    "clf_orig.fit(x_train, y_train)\n",
    "\n",
    "print('Calculando score dados originais...')\n",
    "score = clf_orig.score(x_test, y_test)\n",
    "print('\\nscore: ' + str(score))\n",
    "\n",
    "disp = plot_confusion_matrix(clf, code_testGAN, y_test)"
   ]
  },
  {
   "cell_type": "markdown",
   "metadata": {
    "id": "C1sh5GgYyqqY"
   },
   "source": [
    "---\n",
    "\n",
    "### Exercício 8)\n",
    "\n",
    "Interpolação utilizando código autoencoder. \n",
    "\n",
    "Crie um Autoencoder profundo do tipo Denoising Undercomplete para imagens da base de dados MNIST.\n",
    "\n",
    "Para tornar o treinamento mais rápido utilizaremos apenas as 3000 primeiras imagens da base de dados de treinamento. Crie uma versão ruidosa do conjunto de treinamento conforme indicado no código.\n",
    "\n",
    "O Autoencoder deve possuir a seguinte arquitetura no encoder (todas as camadas com ativação relu):\n",
    "\n",
    "* Conv2D com 32 filtros 3x3, strides 2, zeropadding\n",
    "* Conv2D com 32 filtros 3x3, strides 2, sem zeropadding\n",
    "* MaxPooling2D com poolsize=2\n",
    "* Densa com 32 dimensões (utilize name='code' para facilitar)\n",
    "\n",
    "A seguir, deve possuir um decoder espelhado (com convoluções transpostas e upsampling), resultando na saida de mesma dimensão da entrada.\n",
    "\n",
    "\n",
    "Antes de instanciar o modelo, inicialize as sementes com seed(1), set_seed(2). Depois, compile e treine com perda MSE, Otimizador SGD, taxa 0.01, momentum 0.95, por 25 épocas com batchsize 32.\n",
    "\n",
    "Vamos agora obter interpolações de imagens utilizando os seus códigos. Para isso crie dois modelos, com base no treinado:\n",
    "\n",
    "1. Encoder, que permite recuperar o código de uma imagem (camada 'code')\n",
    "2. Decoder, que permite receber um código e retornar uma imagem\n",
    "\n",
    "O segundo é mais complexo, exige que seja feita a montagem das camadas utilizando a seguinte instrução (estude com calma para entender):"
   ]
  },
  {
   "cell_type": "code",
   "execution_count": null,
   "metadata": {},
   "outputs": [],
   "source": [
    "## cria nova camada de entrada para receber dimensionalidade do código\n",
    "#input_code_layer = keras.layers.Input(shape=(code_dim))\n",
    "\n",
    "## encadeia camadas a partir de 'inicio', nesse caso 6 - ajuste conforme necessário\n",
    "#inicio = 6\n",
    "#x = input_code_layer\n",
    "#for layer in convae.layers[inicio:]:\n",
    "#    x = layer(x)\n",
    "    \n",
    "#decoder = keras.models.Model(inputs=input_code_layer, outputs=x)"
   ]
  },
  {
   "cell_type": "markdown",
   "metadata": {},
   "source": [
    "Obtenha as imagens de teste de índice 128 e 198, e então:\n",
    "1. calcule seus códigos pelo encoder: code128 e code198;\n",
    "2. gere 10 interpolações entre code128 e code198 combinando linearmente cada dimensão do vetor com ponderações entre 0 (que resulta apenas na imagem 128) e 1 (que resulta apenas na imagem 198);\n",
    "3. passe cada vetor interpolado pelo decoder, obtendo imagens intermediárias;\n",
    "\n",
    "OBS: os modelos esperam arrays em formatos específicos para predição, para passar uma única imagem use `model.predict(np.array([x_test[indice_imagem],]))`\n",
    "\n",
    "Quais das imagens abaixo representa a saída da interpolação?\n",
    "\n",
    "(a) <img src=\"ex5_8_alternativa_a.png\" width=620></img><br>\n",
    "(b) <img src=\"ex5_8_alternativa_b.png\" width=620></img><br>\n",
    "<font color='red'>(c)</font> <img src=\"ex5_8_alternativa_c.png\" width=620></img><br>\n",
    "(d) <img src=\"ex5_8_alternativa_d.png\" width=620></img><br>"
   ]
  },
  {
   "cell_type": "code",
   "execution_count": 16,
   "metadata": {
    "id": "vqd_Vgmv5Rtg"
   },
   "outputs": [
    {
     "name": "stdout",
     "output_type": "stream",
     "text": [
      "Dataset size:\n",
      "60000 train samples\n",
      "10000 test samples\n"
     ]
    },
    {
     "data": {
      "image/png": "[encoded data removed]",
      "text/plain": [
       "<Figure size 720x360 with 10 Axes>"
      ]
     },
     "metadata": {
      "needs_background": "light"
     },
     "output_type": "display_data"
    },
    {
     "data": {
      "image/png": "[encoded data removed]",
      "text/plain": [
       "<Figure size 720x360 with 10 Axes>"
      ]
     },
     "metadata": {
      "needs_background": "light"
     },
     "output_type": "display_data"
    }
   ],
   "source": [
    "from tensorflow import keras\n",
    "from tensorflow.keras.datasets import mnist\n",
    "import numpy as np\n",
    "import matplotlib.pyplot as plt\n",
    "from numpy.random import seed\n",
    "from tensorflow.random import set_seed\n",
    "\n",
    "(x_train, y_train), (x_test, y_test) = mnist.load_data()\n",
    "\n",
    "# os pixels das imagens sao reescalados para melhor processamento\n",
    "# em particular divide-se por 255 para que os valores fiquem entre 0 e 1\n",
    "x_train = x_train.astype('float32') / 255.0\n",
    "x_test = x_test.astype('float32') / 255.0\n",
    "print('Dataset size:')\n",
    "print(x_train.shape[0], 'train samples')\n",
    "print(x_test.shape[0], 'test samples')\n",
    "\n",
    "img_rows, img_cols = x_train.shape[1], x_train.shape[2]\n",
    "input_shape = (img_rows, img_cols, 1, )\n",
    "n_classes = 10\n",
    "\n",
    "n=10\n",
    "plt.figure(figsize=(10, 5))\n",
    "for i in range(n):\n",
    "    ax = plt.subplot(2, n, i+1)\n",
    "    plt.imshow(x_test[i].reshape(28, 28))\n",
    "    plt.gray()\n",
    "    ax.get_xaxis().set_visible(False)\n",
    "    ax.get_yaxis().set_visible(False)\n",
    "    \n",
    "plt.show()\n",
    "\n",
    "seed(1)\n",
    "set_seed(2)\n",
    "\n",
    "## gerando dados ruidosos a serem oferecidos na entrada (a saída deve ser x_train[:3000])\n",
    "noisy_train = x_train[:3000] + np.random.random(x_train[:3000].shape)*0.3\n",
    "\n",
    "n=10\n",
    "plt.figure(figsize=(10, 5))\n",
    "for i in range(n):\n",
    "    ax = plt.subplot(2, n, i+1)\n",
    "    plt.imshow(noisy_train[i].reshape(28, 28))\n",
    "    plt.gray()\n",
    "    ax.get_xaxis().set_visible(False)\n",
    "    ax.get_yaxis().set_visible(False)\n",
    "    \n",
    "plt.show()"
   ]
  },
  {
   "cell_type": "code",
   "execution_count": 17,
   "metadata": {},
   "outputs": [],
   "source": [
    "def conv_autoencoder(input_shape, code_dim=10):\n",
    "    input_img = keras.layers.Input(shape=(input_shape))\n",
    "\n",
    "    # encoder\n",
    "    ## conv.layers\n",
    "    x1 = keras.layers.Conv2D(32, kernel_size=(3,3), strides=(2, 2), padding='same', activation='relu')(input_img)\n",
    "    x2 = keras.layers.Conv2D(32, kernel_size=(3,3), padding='valid', activation='relu')(x1)\n",
    "    x2p = keras.layers.MaxPooling2D(pool_size=(2, 2))(x2)\n",
    "    ## achatando\n",
    "    x2f = keras.layers.Flatten()(x2p)\n",
    "    #código\n",
    "    z = keras.layers.Dense(code_dim, activation='relu', name='code')(x2f)\n",
    "\n",
    "    # decoder\n",
    "    ## projetando num espaco de maior dimensionalidade e redimensionando\n",
    "    x2f_hat = keras.layers.Dense(1152, activation='relu', name='input_decoder')(z)\n",
    "    x2r_hat = keras.layers.Reshape((6, 6, 32))(x2f_hat)\n",
    "    ## invertendo o pooling\n",
    "    x2p_hat = keras.layers.UpSampling2D((2,2))(x2r_hat)\n",
    "    ## convolucao transpostas (inversas)\n",
    "    x2_hat = keras.layers.Conv2DTranspose(32, kernel_size=(3,3), padding='valid', activation='relu')(x2p_hat)\n",
    "    x1_hat = keras.layers.Conv2DTranspose(1, kernel_size=(3,3), strides=(2, 2), padding='same', activation='relu')(x2_hat)\n",
    "\n",
    "    autoencoder = keras.models.Model(input_img, x1_hat)\n",
    "    autoencoder.summary()\n",
    "    return autoencoder"
   ]
  },
  {
   "cell_type": "code",
   "execution_count": 18,
   "metadata": {},
   "outputs": [
    {
     "name": "stdout",
     "output_type": "stream",
     "text": [
      "Model: \"model_3\"\n",
      "_________________________________________________________________\n",
      "Layer (type)                 Output Shape              Param #   \n",
      "=================================================================\n",
      "input_2 (InputLayer)         [(None, 28, 28, 1)]       0         \n",
      "_________________________________________________________________\n",
      "conv2d (Conv2D)              (None, 14, 14, 32)        320       \n",
      "_________________________________________________________________\n",
      "conv2d_1 (Conv2D)            (None, 12, 12, 32)        9248      \n",
      "_________________________________________________________________\n",
      "max_pooling2d (MaxPooling2D) (None, 6, 6, 32)          0         \n",
      "_________________________________________________________________\n",
      "flatten (Flatten)            (None, 1152)              0         \n",
      "_________________________________________________________________\n",
      "code (Dense)                 (None, 32)                36896     \n",
      "_________________________________________________________________\n",
      "input_decoder (Dense)        (None, 1152)              38016     \n",
      "_________________________________________________________________\n",
      "reshape (Reshape)            (None, 6, 6, 32)          0         \n",
      "_________________________________________________________________\n",
      "up_sampling2d (UpSampling2D) (None, 12, 12, 32)        0         \n",
      "_________________________________________________________________\n",
      "conv2d_transpose (Conv2DTran (None, 14, 14, 32)        9248      \n",
      "_________________________________________________________________\n",
      "conv2d_transpose_1 (Conv2DTr (None, 28, 28, 1)         289       \n",
      "=================================================================\n",
      "Total params: 94,017\n",
      "Trainable params: 94,017\n",
      "Non-trainable params: 0\n",
      "_________________________________________________________________\n",
      "Epoch 1/25\n",
      "94/94 [==============================] - 3s 21ms/step - loss: 0.0968: 0s - loss:\n",
      "Epoch 2/25\n",
      "94/94 [==============================] - 2s 21ms/step - loss: 0.0898\n",
      "Epoch 3/25\n",
      "94/94 [==============================] - 2s 21ms/step - loss: 0.0701\n",
      "Epoch 4/25\n",
      "94/94 [==============================] - 2s 16ms/step - loss: 0.0643\n",
      "Epoch 5/25\n",
      "94/94 [==============================] - 2s 17ms/step - loss: 0.0628\n",
      "Epoch 6/25\n",
      "94/94 [==============================] - 2s 23ms/step - loss: 0.0612\n",
      "Epoch 7/25\n",
      "94/94 [==============================] - 2s 22ms/step - loss: 0.0586\n",
      "Epoch 8/25\n",
      "94/94 [==============================] - 2s 22ms/step - loss: 0.0545: 1 - ETA: 0s - lo\n",
      "Epoch 9/25\n",
      "94/94 [==============================] - 2s 22ms/step - loss: 0.0499\n",
      "Epoch 10/25\n",
      "94/94 [==============================] - 2s 22ms/step - loss: 0.0463\n",
      "Epoch 11/25\n",
      "94/94 [==============================] - 2s 22ms/step - loss: 0.0433\n",
      "Epoch 12/25\n",
      "94/94 [==============================] - 2s 18ms/step - loss: 0.0408\n",
      "Epoch 13/25\n",
      "94/94 [==============================] - 1s 15ms/step - loss: 0.0387\n",
      "Epoch 14/25\n",
      "94/94 [==============================] - 2s 23ms/step - loss: 0.0369\n",
      "Epoch 15/25\n",
      "94/94 [==============================] - 2s 21ms/step - loss: 0.0352\n",
      "Epoch 16/25\n",
      "94/94 [==============================] - 2s 20ms/step - loss: 0.0338\n",
      "Epoch 17/25\n",
      "94/94 [==============================] - 2s 21ms/step - loss: 0.0325\n",
      "Epoch 18/25\n",
      "94/94 [==============================] - 2s 20ms/step - loss: 0.0314\n",
      "Epoch 19/25\n",
      "94/94 [==============================] - 2s 20ms/step - loss: 0.0303\n",
      "Epoch 20/25\n",
      "94/94 [==============================] - 2s 23ms/step - loss: 0.0294\n",
      "Epoch 21/25\n",
      "94/94 [==============================] - 2s 17ms/step - loss: 0.0287\n",
      "Epoch 22/25\n",
      "94/94 [==============================] - 2s 18ms/step - loss: 0.0280\n",
      "Epoch 23/25\n",
      "94/94 [==============================] - 2s 22ms/step - loss: 0.0272\n",
      "Epoch 24/25\n",
      "94/94 [==============================] - 2s 21ms/step - loss: 0.0266\n",
      "Epoch 25/25\n",
      "94/94 [==============================] - 2s 20ms/step - loss: 0.0261\n"
     ]
    }
   ],
   "source": [
    "epochs= 25\n",
    "batch_size=32\n",
    "code_dim= 32\n",
    "\n",
    "seed(1)\n",
    "set_seed(2)\n",
    "\n",
    "convae = conv_autoencoder(input_shape, code_dim)\n",
    "convae.compile(loss='mse',\n",
    "              optimizer=keras.optimizers.SGD(learning_rate=0.01, momentum=0.95))\n",
    "\n",
    "hist_ae = convae.fit(noisy_train, x_train[:3000], batch_size=batch_size, epochs=epochs)"
   ]
  },
  {
   "cell_type": "code",
   "execution_count": 19,
   "metadata": {},
   "outputs": [],
   "source": [
    "encoder = keras.models.Model(inputs=convae.input, outputs=convae.get_layer('code').output)"
   ]
  },
  {
   "cell_type": "code",
   "execution_count": 20,
   "metadata": {},
   "outputs": [],
   "source": [
    "input_code_layer = keras.layers.Input(shape=(code_dim))\n",
    "x = input_code_layer\n",
    "for layer in convae.layers[6:]:\n",
    "    x = layer(x)\n",
    "decoder = keras.models.Model(inputs=input_code_layer, outputs=x)"
   ]
  },
  {
   "cell_type": "code",
   "execution_count": 21,
   "metadata": {},
   "outputs": [
    {
     "data": {
      "image/png": "[encoded data removed]",
      "text/plain": [
       "<Figure size 432x288 with 4 Axes>"
      ]
     },
     "metadata": {
      "needs_background": "light"
     },
     "output_type": "display_data"
    },
    {
     "name": "stdout",
     "output_type": "stream",
     "text": [
      "[0.         2.4500864  0.         0.         3.376651   1.5754213\n",
      " 2.3438153  2.140219   3.0722842  1.0329102  1.2103148  3.2252908\n",
      " 0.         1.059273   0.         0.         0.7435184  1.2490517\n",
      " 0.         3.0078719  1.5829296  0.40514472 0.13039029 2.5390067\n",
      " 1.8591073  0.         3.9136696  3.879539   0.         0.7473831\n",
      " 0.0860519  0.        ]\n",
      "[0.         1.3559259  0.01268167 0.         2.305584   1.6460829\n",
      " 1.4184778  1.246706   0.5891542  0.         1.1777602  0.1966408\n",
      " 0.         0.         0.         0.         1.0500642  0.03656871\n",
      " 0.         0.9507128  1.6336224  0.         0.         1.9965842\n",
      " 1.6767948  0.         1.7596824  2.7132056  0.         0.77565026\n",
      " 0.4307878  0.        ]\n"
     ]
    }
   ],
   "source": [
    "img1 = 128\n",
    "x_test_dec1 = convae.predict(np.array([x_test[img1],]))\n",
    "img2 = 198\n",
    "x_test_dec2 = convae.predict(np.array([x_test[img2],]))\n",
    "\n",
    "plt.subplot(221); plt.imshow(x_test[img1].reshape(28, 28), cmap=\"gray\")\n",
    "plt.subplot(222); plt.imshow(x_test_dec1[0].reshape(28, 28), cmap=\"gray\")\n",
    "plt.subplot(223); plt.imshow(x_test[img2].reshape(28, 28), cmap=\"gray\")\n",
    "plt.subplot(224); plt.imshow(x_test_dec2[0].reshape(28, 28), cmap=\"gray\")\n",
    "plt.show()\n",
    "\n",
    "code_img1 = encoder.predict(np.array([x_test[img1],]))[0]\n",
    "code_img2 = encoder.predict(np.array([x_test[img2],]))[0]\n",
    "print(code_img1)\n",
    "print(code_img2)"
   ]
  },
  {
   "cell_type": "code",
   "execution_count": 22,
   "metadata": {},
   "outputs": [
    {
     "data": {
      "image/png": "[encoded data removed]",
      "text/plain": [
       "<Figure size 1080x288 with 10 Axes>"
      ]
     },
     "metadata": {
      "needs_background": "light"
     },
     "output_type": "display_data"
    }
   ],
   "source": [
    "values = np.linspace(0,1,10)\n",
    "    \n",
    "plt.figure(figsize=(15, 4))\n",
    "j = 0\n",
    "for x in values:\n",
    "    j = j + 1\n",
    "    alt_code = np.array(code_img1, copy=True)\n",
    "    alt_code = (alt_code*(x))  + (code_img2*(1-x))\n",
    "    alt_img = decoder.predict(np.array([alt_code,]))\n",
    "    plt.subplot(1,10,j)\n",
    "    # a depender da forma como foi implementado talvez necessite inserir dimensao 0\n",
    "    #plt.imshow(alt_img[0][:,:,0], cmap=\"gray\"); plt.axis('off')\n",
    "    plt.imshow(alt_img[0][:,:,0], cmap=\"gray\"); plt.axis('off')"
   ]
  },
  {
   "cell_type": "code",
   "execution_count": null,
   "metadata": {},
   "outputs": [],
   "source": []
  }
 ],
 "metadata": {
  "accelerator": "GPU",
  "colab": {
   "collapsed_sections": [],
   "name": "RNAP-04-Exercicios_solucoes.ipynb",
   "provenance": []
  },
  "kernelspec": {
   "display_name": "Python 3",
   "language": "python",
   "name": "python3"
  },
  "language_info": {
   "codemirror_mode": {
    "name": "ipython",
    "version": 3
   },
   "file_extension": ".py",
   "mimetype": "text/x-python",
   "name": "python",
   "nbconvert_exporter": "python",
   "pygments_lexer": "ipython3",
   "version": "3.8.10"
  }
 },
 "nbformat": 4,
 "nbformat_minor": 1
}
