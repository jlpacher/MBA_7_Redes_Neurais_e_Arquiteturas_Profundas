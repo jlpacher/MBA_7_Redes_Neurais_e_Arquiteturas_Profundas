{
 "cells": [
  {
   "cell_type": "markdown",
   "metadata": {},
   "source": [
    "## MBA em Ciência de Dados\n",
    "# Redes Neurais e Arquiteturas Profundas\n",
    "\n",
    "### <span style=\"color:darkred\">Módulo I - Deep Learning e redes do tipo Perceptron</span>\n",
    "\n",
    "\n",
    "### <span style=\"color:darkred\">Avaliação</span>\n",
    "\n",
    "Moacir Antonelli Ponti\n",
    "\n",
    "CeMEAI - ICMC/USP São Carlos"
   ]
  },
  {
   "cell_type": "markdown",
   "metadata": {},
   "source": [
    "---\n",
    "### Questão 1)\n",
    "\n",
    "Qual **alternativa** melhor define a interpretação de aprendizado profundo (*deep learning*) com relação ao aprendizado de máquina de métodos considerados rasos (*shallow*) num problema de classificação?\n",
    "\n",
    "<font color='red'>(a) Aprendizado profundo utiliza funções que aprendem representações intermediárias dos dados de entrada antes de utilizar uma dessas representações para aprender a saída relacionada a classificação</font><br>\n",
    "(b) Os métodos rasos realizam classificação com métodos estatísticos, enquanto os de aprendizado profundo são unicamente baseados em redes neurais que usam múltiplas funções lineares para aprender a classificação como tarefa alvo<br>\n",
    "(c) Aprendizado profundo utiliza 2 ou mais camadas de classificação sequenciais, enquanto métodos rasos utilizam sempre apenas uma única função classificadora<br>\n",
    "(d) Os métodos rasos trabalham apenas com classificação de dados estruturados, enquanto que os profundos funcionam apenas com classificação de dados não estruturados.<br>"
   ]
  },
  {
   "cell_type": "markdown",
   "metadata": {},
   "source": [
    "---\n",
    "### Questão 2)\n",
    "\n",
    "Seja $\\mathbf{z}$ um vetor de entrada e $\\mathbf{s}$ um vetor de saída de uma camada de rede neural baseada em Perceptron. Essa camada pode ser formulada como:\n",
    "\n",
    "$f(\\mathbf{z}) = a(W\\mathbf{z}+\\mathbf{b}) = \\mathbf{s}$,\n",
    "sendo que $a()$ é a função de ativação. \n",
    "\n",
    "Sabendo que a entrada tem $9$ dimensões e a saída tem $c$ dimensões. Qual o tamanho da matriz $W$ (em linhas e colunas) e do vetor $b$ e quantos parâmetros essa camada possui para serem aprendidos durante o treinamento?\n",
    "\n",
    "\n",
    "(a) $W$ possui $9 \\times c$, e $b$ possui $9$ dimensões, totalizando $9c + 9$ parâmetros<br>\n",
    "(b) $W$ possui $c \\times 9$, e $b$ possui 1 dimensão (escalar), totalizando $9c + 1$ parâmetros<br>\n",
    "(c) $W$ possui $c \\times c$, e $b$ possui 9 dimensões, totalizando $2c + 9$ parâmetros<br>\n",
    "<font color='red'>(d) $W$ possui $c \\times 9$, e $b$ possui $c$ dimensões, totalizando $10c$ parâmetros</font><br>"
   ]
  },
  {
   "cell_type": "markdown",
   "metadata": {},
   "source": [
    "É necessário 1 neurônio para cada dimensão de saída, portanto, são c neurônios.\n",
    "W é o vetor de pesos, portanto 9 dimensões de entrada multiplicada pelo número de dimensões de saída c.\n",
    "b (bias) é um escalar possuindo 1 dimensão para cada dimensão de saída, portanto, c dimensões."
   ]
  },
  {
   "cell_type": "markdown",
   "metadata": {},
   "source": [
    "---\n",
    "### Questão 3)\n",
    "\n",
    "O que é o chamado \"classificador softmax\"?\n",
    "\n",
    "(a) Um classificador linear similar à regressão logística que é utilizado no lugar da última camada densa de uma rede neural profunda<br>\n",
    "(b) Uma função que zera os valores negativos de uma determinada camada da rede neural e preserva todos os valores positivos, selecionando as características geradas por essa camada e portanto fazendo com que sua soma seja unitária<br>\n",
    "(c) Uma função que permite computar a qualidade da classificação de uma rede neural profunda com base no vetor de probabilidade de saída da rede comparado ao vetor de probabilidade alvo (real)<br>\n",
    "<font color='red'>(d) Uma função que transforma a saída de uma camada densa de uma rede neural em um vetor de valores que pode ser representado como uma distribuição de probabilidades das classes do problema</font><br>"
   ]
  },
  {
   "cell_type": "markdown",
   "metadata": {},
   "source": [
    "---\n",
    "### Questão 4)\n",
    "\n",
    "Porque escolhemos um certo número de exemplos para compor um subconjunto ou minibatch para cada iteração do algoritmo de otimização SGD?\n",
    "\n",
    "(a) Pois ao escolher o maior tamanho de minibatch que caiba na memória, melhor o resultado final pois nos aproximamos do resultado do algoritmo Gradient Descent tradicional<br>\n",
    "(b) Pois ao selecionar o menor tamanho de minibatch possível, melhor o resultado final do modelo para a tarefa desejada pois serão feitas mais iterações e portanto mais adaptações na rede neural<br>\n",
    "<font color='red'>(c) Viabilizar um treinamento mais rápido, computando a perda média desse minibatch para cada iteração</font><br>\n",
    "(d) Viabilizar um treinamento de um modelo com maior acurácia pois serão feitas múltiplas adaptações da rede neural para cada minibatch<br>"
   ]
  },
  {
   "cell_type": "markdown",
   "metadata": {},
   "source": [
    "---\n",
    "\n",
    "### Questão 5)\n",
    "\n",
    "Defina as sementes aleatórias do numpy para 1 e do tensorflow para 2, depois carregue a base de dados boston housing da biblioteca Keras, conforme código abaixo. \n",
    "\n",
    "O objetivo dessa base de dados é obter a regressão do preço das casas com base em 13 características de entrada. Assim, os valores alvo (target) são escalares, tipicamente entre 10 e 50 (representando os preços em milhares de dólares).\n",
    "\n",
    "Utilizando a biblioteca Keras, formule um modelo de rede neural sequencial, do tipo MLP, com 4 camadas ocultas contendo, respectivamente, 32, 16, 8 e 4 neurônios, todas com função de ativação do tipo `relu`.\n",
    "\n",
    "Quantos parâmetros essa rede possui na primeira camada, e no total?\n",
    "\n",
    "(a) primeira 33, no total 1148<br>\n",
    "<font color='red'>(b) primeira 448, no total 1153</font><br>\n",
    "(c) primeira 448, no total 1148<br>\n",
    "(d) primeira 33, no total 1153<br>\n"
   ]
  },
  {
   "cell_type": "code",
   "execution_count": 1,
   "metadata": {},
   "outputs": [],
   "source": [
    "from tensorflow import keras\n",
    "\n",
    "from numpy.random import seed\n",
    "seed(1)\n",
    "from tensorflow.random import set_seed\n",
    "set_seed(2)\n",
    "\n",
    "from tensorflow.keras.datasets import boston_housing\n",
    "(x_train, y_train), (x_target, y_target) = boston_housing.load_data()"
   ]
  },
  {
   "cell_type": "code",
   "execution_count": 2,
   "metadata": {},
   "outputs": [
    {
     "name": "stdout",
     "output_type": "stream",
     "text": [
      "Model: \"sequential\"\n",
      "_________________________________________________________________\n",
      "Layer (type)                 Output Shape              Param #   \n",
      "=================================================================\n",
      "dense (Dense)                (None, 32)                448       \n",
      "_________________________________________________________________\n",
      "dense_1 (Dense)              (None, 16)                528       \n",
      "_________________________________________________________________\n",
      "dense_2 (Dense)              (None, 8)                 136       \n",
      "_________________________________________________________________\n",
      "dense_3 (Dense)              (None, 4)                 36        \n",
      "_________________________________________________________________\n",
      "dense_4 (Dense)              (None, 1)                 5         \n",
      "=================================================================\n",
      "Total params: 1,153\n",
      "Trainable params: 1,153\n",
      "Non-trainable params: 0\n",
      "_________________________________________________________________\n"
     ]
    }
   ],
   "source": [
    "\n",
    "model1 = keras.Sequential(\n",
    "    [\n",
    "        keras.layers.Dense(32, activation=\"relu\", input_shape=(13,)),\n",
    "        keras.layers.Dense(16, activation=\"relu\"),\n",
    "        keras.layers.Dense(8, activation=\"relu\"),\n",
    "        keras.layers.Dense(4, activation=\"relu\"),\n",
    "        keras.layers.Dense(1, activation=\"relu\"),\n",
    "    ]\n",
    ")\n",
    "model1.summary()"
   ]
  }
 ],
 "metadata": {
  "kernelspec": {
   "display_name": "Python 3",
   "language": "python",
   "name": "python3"
  },
  "language_info": {
   "codemirror_mode": {
    "name": "ipython",
    "version": 3
   },
   "file_extension": ".py",
   "mimetype": "text/x-python",
   "name": "python",
   "nbconvert_exporter": "python",
   "pygments_lexer": "ipython3",
   "version": "3.8.10"
  }
 },
 "nbformat": 4,
 "nbformat_minor": 4
}
