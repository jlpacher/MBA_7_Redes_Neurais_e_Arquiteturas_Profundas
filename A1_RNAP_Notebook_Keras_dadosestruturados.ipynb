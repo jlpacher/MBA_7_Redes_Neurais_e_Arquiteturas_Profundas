{
 "cells": [
  {
   "cell_type": "markdown",
   "metadata": {
    "id": "zI6LDVYrkk3t"
   },
   "source": [
    "### Redes Neurais e Arquiteturas Profundas\n",
    "#### **MBA em Ciências de Dados**\n",
    "\n",
    "### *Módulo 1 - Introdução ao Aprendizado Profundo*\n",
    "\n",
    "Moacir A. Ponti - ICMC/USP\n",
    "\n",
    "-"
   ]
  },
  {
   "cell_type": "markdown",
   "metadata": {
    "id": "uO3aJvGdlKcR"
   },
   "source": [
    "## Exemplo de uso de redes neurais profundas com dados estruturados\n",
    "\n",
    "### Problema: Classificação de cidades segundo sua população, UF e PIB\n",
    "\n"
   ]
  },
  {
   "cell_type": "code",
   "execution_count": 1,
   "metadata": {
    "id": "55mHEidxkOa8",
    "outputId": "73a5cac5-2d91-441d-a550-3c971f9f35ec"
   },
   "outputs": [],
   "source": [
    "import numpy as np\n",
    "import pandas as pd\n",
    "import matplotlib.pyplot as plt\n",
    "from tensorflow import keras\n",
    "from sklearn.model_selection import train_test_split\n",
    "\n",
    "df = pd.read_csv(\"vw_pib_percapita_clean.csv\")\n",
    "df = df.dropna()"
   ]
  },
  {
   "cell_type": "code",
   "execution_count": 2,
   "metadata": {
    "colab": {
     "base_uri": "https://localhost:8080/",
     "height": 424
    },
    "id": "TeP-d0A3lyBt",
    "outputId": "50a3aa1e-30c2-4eea-e25a-070cfad2eb14"
   },
   "outputs": [
    {
     "data": {
      "text/html": [
       "<div>\n",
       "<style scoped>\n",
       "    .dataframe tbody tr th:only-of-type {\n",
       "        vertical-align: middle;\n",
       "    }\n",
       "\n",
       "    .dataframe tbody tr th {\n",
       "        vertical-align: top;\n",
       "    }\n",
       "\n",
       "    .dataframe thead th {\n",
       "        text-align: right;\n",
       "    }\n",
       "</style>\n",
       "<table border=\"1\" class=\"dataframe\">\n",
       "  <thead>\n",
       "    <tr style=\"text-align: right;\">\n",
       "      <th></th>\n",
       "      <th>UF</th>\n",
       "      <th>PIB</th>\n",
       "      <th>Pop_est_2009</th>\n",
       "      <th>classe</th>\n",
       "    </tr>\n",
       "  </thead>\n",
       "  <tbody>\n",
       "    <tr>\n",
       "      <th>0</th>\n",
       "      <td>BAHIA</td>\n",
       "      <td>5.788399e+04</td>\n",
       "      <td>18433</td>\n",
       "      <td>1</td>\n",
       "    </tr>\n",
       "    <tr>\n",
       "      <th>1</th>\n",
       "      <td>RIO GRANDE DO SUL</td>\n",
       "      <td>4.572388e+04</td>\n",
       "      <td>4000</td>\n",
       "      <td>2</td>\n",
       "    </tr>\n",
       "    <tr>\n",
       "      <th>2</th>\n",
       "      <td>ESPIRITO SANTO</td>\n",
       "      <td>1.978263e+07</td>\n",
       "      <td>320156</td>\n",
       "      <td>4</td>\n",
       "    </tr>\n",
       "    <tr>\n",
       "      <th>3</th>\n",
       "      <td>MINAS GERAIS</td>\n",
       "      <td>2.478160e+05</td>\n",
       "      <td>21424</td>\n",
       "      <td>2</td>\n",
       "    </tr>\n",
       "    <tr>\n",
       "      <th>4</th>\n",
       "      <td>PIAUÍ</td>\n",
       "      <td>2.095138e+04</td>\n",
       "      <td>7895</td>\n",
       "      <td>1</td>\n",
       "    </tr>\n",
       "    <tr>\n",
       "      <th>...</th>\n",
       "      <td>...</td>\n",
       "      <td>...</td>\n",
       "      <td>...</td>\n",
       "      <td>...</td>\n",
       "    </tr>\n",
       "    <tr>\n",
       "      <th>5561</th>\n",
       "      <td>SANTA CATARINA</td>\n",
       "      <td>1.876289e+05</td>\n",
       "      <td>9737</td>\n",
       "      <td>2</td>\n",
       "    </tr>\n",
       "    <tr>\n",
       "      <th>5562</th>\n",
       "      <td>PARANÁ</td>\n",
       "      <td>1.385535e+05</td>\n",
       "      <td>13983</td>\n",
       "      <td>2</td>\n",
       "    </tr>\n",
       "    <tr>\n",
       "      <th>5563</th>\n",
       "      <td>SÃO PAULO</td>\n",
       "      <td>5.320191e+05</td>\n",
       "      <td>29639</td>\n",
       "      <td>2</td>\n",
       "    </tr>\n",
       "    <tr>\n",
       "      <th>5564</th>\n",
       "      <td>RIO GRANDE DO SUL</td>\n",
       "      <td>2.198064e+04</td>\n",
       "      <td>3067</td>\n",
       "      <td>1</td>\n",
       "    </tr>\n",
       "    <tr>\n",
       "      <th>5565</th>\n",
       "      <td>RIO GRANDE DO SUL</td>\n",
       "      <td>5.715017e+04</td>\n",
       "      <td>5623</td>\n",
       "      <td>2</td>\n",
       "    </tr>\n",
       "  </tbody>\n",
       "</table>\n",
       "<p>5566 rows × 4 columns</p>\n",
       "</div>"
      ],
      "text/plain": [
       "                     UF           PIB  Pop_est_2009  classe\n",
       "0                 BAHIA  5.788399e+04         18433       1\n",
       "1     RIO GRANDE DO SUL  4.572388e+04          4000       2\n",
       "2        ESPIRITO SANTO  1.978263e+07        320156       4\n",
       "3          MINAS GERAIS  2.478160e+05         21424       2\n",
       "4                 PIAUÍ  2.095138e+04          7895       1\n",
       "...                 ...           ...           ...     ...\n",
       "5561     SANTA CATARINA  1.876289e+05          9737       2\n",
       "5562             PARANÁ  1.385535e+05         13983       2\n",
       "5563          SÃO PAULO  5.320191e+05         29639       2\n",
       "5564  RIO GRANDE DO SUL  2.198064e+04          3067       1\n",
       "5565  RIO GRANDE DO SUL  5.715017e+04          5623       2\n",
       "\n",
       "[5566 rows x 4 columns]"
      ]
     },
     "execution_count": 2,
     "metadata": {},
     "output_type": "execute_result"
    }
   ],
   "source": [
    "df"
   ]
  },
  {
   "cell_type": "markdown",
   "metadata": {
    "id": "odVxTvCzJScK"
   },
   "source": [
    "Vamos obter uma codificação numérica para o estado (UF)"
   ]
  },
  {
   "cell_type": "code",
   "execution_count": 3,
   "metadata": {
    "colab": {
     "base_uri": "https://localhost:8080/",
     "height": 424
    },
    "id": "hBK8g6Xf29dI",
    "outputId": "983cf0dd-d47a-46e9-c9cd-c5e54d2a3b78"
   },
   "outputs": [
    {
     "data": {
      "text/html": [
       "<div>\n",
       "<style scoped>\n",
       "    .dataframe tbody tr th:only-of-type {\n",
       "        vertical-align: middle;\n",
       "    }\n",
       "\n",
       "    .dataframe tbody tr th {\n",
       "        vertical-align: top;\n",
       "    }\n",
       "\n",
       "    .dataframe thead th {\n",
       "        text-align: right;\n",
       "    }\n",
       "</style>\n",
       "<table border=\"1\" class=\"dataframe\">\n",
       "  <thead>\n",
       "    <tr style=\"text-align: right;\">\n",
       "      <th></th>\n",
       "      <th>UF</th>\n",
       "      <th>UF_code</th>\n",
       "      <th>PIB</th>\n",
       "      <th>Pop_est_2009</th>\n",
       "      <th>classe</th>\n",
       "    </tr>\n",
       "  </thead>\n",
       "  <tbody>\n",
       "    <tr>\n",
       "      <th>0</th>\n",
       "      <td>BAHIA</td>\n",
       "      <td>4.0</td>\n",
       "      <td>5.788399e+04</td>\n",
       "      <td>18433</td>\n",
       "      <td>1</td>\n",
       "    </tr>\n",
       "    <tr>\n",
       "      <th>1</th>\n",
       "      <td>RIO GRANDE DO SUL</td>\n",
       "      <td>20.0</td>\n",
       "      <td>4.572388e+04</td>\n",
       "      <td>4000</td>\n",
       "      <td>2</td>\n",
       "    </tr>\n",
       "    <tr>\n",
       "      <th>2</th>\n",
       "      <td>ESPIRITO SANTO</td>\n",
       "      <td>7.0</td>\n",
       "      <td>1.978263e+07</td>\n",
       "      <td>320156</td>\n",
       "      <td>4</td>\n",
       "    </tr>\n",
       "    <tr>\n",
       "      <th>3</th>\n",
       "      <td>MINAS GERAIS</td>\n",
       "      <td>12.0</td>\n",
       "      <td>2.478160e+05</td>\n",
       "      <td>21424</td>\n",
       "      <td>2</td>\n",
       "    </tr>\n",
       "    <tr>\n",
       "      <th>4</th>\n",
       "      <td>PIAUÍ</td>\n",
       "      <td>17.0</td>\n",
       "      <td>2.095138e+04</td>\n",
       "      <td>7895</td>\n",
       "      <td>1</td>\n",
       "    </tr>\n",
       "    <tr>\n",
       "      <th>...</th>\n",
       "      <td>...</td>\n",
       "      <td>...</td>\n",
       "      <td>...</td>\n",
       "      <td>...</td>\n",
       "      <td>...</td>\n",
       "    </tr>\n",
       "    <tr>\n",
       "      <th>5561</th>\n",
       "      <td>SANTA CATARINA</td>\n",
       "      <td>23.0</td>\n",
       "      <td>1.876289e+05</td>\n",
       "      <td>9737</td>\n",
       "      <td>2</td>\n",
       "    </tr>\n",
       "    <tr>\n",
       "      <th>5562</th>\n",
       "      <td>PARANÁ</td>\n",
       "      <td>13.0</td>\n",
       "      <td>1.385535e+05</td>\n",
       "      <td>13983</td>\n",
       "      <td>2</td>\n",
       "    </tr>\n",
       "    <tr>\n",
       "      <th>5563</th>\n",
       "      <td>SÃO PAULO</td>\n",
       "      <td>25.0</td>\n",
       "      <td>5.320191e+05</td>\n",
       "      <td>29639</td>\n",
       "      <td>2</td>\n",
       "    </tr>\n",
       "    <tr>\n",
       "      <th>5564</th>\n",
       "      <td>RIO GRANDE DO SUL</td>\n",
       "      <td>20.0</td>\n",
       "      <td>2.198064e+04</td>\n",
       "      <td>3067</td>\n",
       "      <td>1</td>\n",
       "    </tr>\n",
       "    <tr>\n",
       "      <th>5565</th>\n",
       "      <td>RIO GRANDE DO SUL</td>\n",
       "      <td>20.0</td>\n",
       "      <td>5.715017e+04</td>\n",
       "      <td>5623</td>\n",
       "      <td>2</td>\n",
       "    </tr>\n",
       "  </tbody>\n",
       "</table>\n",
       "<p>5566 rows × 5 columns</p>\n",
       "</div>"
      ],
      "text/plain": [
       "                     UF  UF_code           PIB  Pop_est_2009  classe\n",
       "0                 BAHIA      4.0  5.788399e+04         18433       1\n",
       "1     RIO GRANDE DO SUL     20.0  4.572388e+04          4000       2\n",
       "2        ESPIRITO SANTO      7.0  1.978263e+07        320156       4\n",
       "3          MINAS GERAIS     12.0  2.478160e+05         21424       2\n",
       "4                 PIAUÍ     17.0  2.095138e+04          7895       1\n",
       "...                 ...      ...           ...           ...     ...\n",
       "5561     SANTA CATARINA     23.0  1.876289e+05          9737       2\n",
       "5562             PARANÁ     13.0  1.385535e+05         13983       2\n",
       "5563          SÃO PAULO     25.0  5.320191e+05         29639       2\n",
       "5564  RIO GRANDE DO SUL     20.0  2.198064e+04          3067       1\n",
       "5565  RIO GRANDE DO SUL     20.0  5.715017e+04          5623       2\n",
       "\n",
       "[5566 rows x 5 columns]"
      ]
     },
     "execution_count": 3,
     "metadata": {},
     "output_type": "execute_result"
    }
   ],
   "source": [
    "ufcode = df['UF'].astype(\"category\").cat.codes\n",
    "df.insert(1,\"UF_code\", ufcode.astype(float))\n",
    "df"
   ]
  },
  {
   "cell_type": "markdown",
   "metadata": {
    "id": "jOnOa3KhoyPM"
   },
   "source": [
    "## Problema: discriminar cidades de classe 1 e 2 das demais"
   ]
  },
  {
   "cell_type": "code",
   "execution_count": 4,
   "metadata": {
    "colab": {
     "base_uri": "https://localhost:8080/",
     "height": 283
    },
    "id": "cOdIcO_Bmc0o",
    "outputId": "8fed4d96-cc39-48e5-e02c-657525a3deb7"
   },
   "outputs": [
    {
     "data": {
      "text/plain": [
       "<AxesSubplot:>"
      ]
     },
     "execution_count": 4,
     "metadata": {},
     "output_type": "execute_result"
    },
    {
     "data": {
      "image/png": "[encoded data removed]",
      "text/plain": [
       "<Figure size 432x288 with 1 Axes>"
      ]
     },
     "metadata": {
      "needs_background": "light"
     },
     "output_type": "display_data"
    }
   ],
   "source": [
    "df['classe'].value_counts().plot(kind = 'bar')"
   ]
  },
  {
   "cell_type": "code",
   "execution_count": 5,
   "metadata": {
    "colab": {
     "base_uri": "https://localhost:8080/",
     "height": 127
    },
    "id": "2o4JiN19mqdY",
    "outputId": "34f51167-aa43-49d6-8dd4-75a943816713"
   },
   "outputs": [
    {
     "data": {
      "text/plain": [
       "1    3157\n",
       "2    1977\n",
       "3     376\n",
       "4      51\n",
       "5       5\n",
       "Name: classe, dtype: int64"
      ]
     },
     "execution_count": 5,
     "metadata": {},
     "output_type": "execute_result"
    }
   ],
   "source": [
    "df['classe'].value_counts()"
   ]
  },
  {
   "cell_type": "markdown",
   "metadata": {
    "id": "tqfg5g1Ro2sY"
   },
   "source": [
    "### Vamos converter o dataframe para numpy array e depois separar as features (entrada) dos alvos (saída)"
   ]
  },
  {
   "cell_type": "code",
   "execution_count": 6,
   "metadata": {
    "id": "Ls0LDOsXm7Yq"
   },
   "outputs": [],
   "source": [
    "nparray = df.to_numpy()"
   ]
  },
  {
   "cell_type": "code",
   "execution_count": 7,
   "metadata": {
    "colab": {
     "base_uri": "https://localhost:8080/",
     "height": 54
    },
    "id": "S2u5HD7eoYUl",
    "outputId": "165e1666-9f24-4a2d-c115-f8ee87cb1985"
   },
   "outputs": [
    {
     "name": "stdout",
     "output_type": "stream",
     "text": [
      "Features =  (5566, 3)\n",
      "Targets =  (5566,)\n"
     ]
    }
   ],
   "source": [
    "features = (nparray[:,1:-1]).astype(float)\n",
    "targets = (nparray[:,-1] > 2).astype(int)\n",
    "print(\"Features = \", features.shape)\n",
    "print(\"Targets = \", targets.shape)"
   ]
  },
  {
   "cell_type": "markdown",
   "metadata": {
    "id": "W7VOgujapRcS"
   },
   "source": [
    "### 1) Preparando conjuntos de treinamento e teste\n",
    "\n",
    "Aqui vou fazer de forma simples pois quero apenas mostrar o treinamento da rede, pegando os 20% primeiros"
   ]
  },
  {
   "cell_type": "code",
   "execution_count": 8,
   "metadata": {
    "colab": {
     "base_uri": "https://localhost:8080/",
     "height": 54
    },
    "id": "MvusEAx0oZbw",
    "outputId": "fc00558c-9735-4dab-925c-31cc9b5d43bd"
   },
   "outputs": [
    {
     "name": "stdout",
     "output_type": "stream",
     "text": [
      "Exemplos de treinamento: 4452\n",
      "Exemplos de teste: 1114\n"
     ]
    }
   ],
   "source": [
    "X_train, X_test, y_train, y_test = train_test_split(features, targets, test_size=0.2, random_state=0)\n",
    "print(\"Exemplos de treinamento:\", len(X_train))\n",
    "print(\"Exemplos de teste:\", len(X_test))"
   ]
  },
  {
   "cell_type": "code",
   "execution_count": 9,
   "metadata": {
    "colab": {
     "base_uri": "https://localhost:8080/",
     "height": 54
    },
    "id": "f_frKjeHpzPg",
    "outputId": "8f51a467-e892-458a-e14c-9221b5f51a5b"
   },
   "outputs": [
    {
     "name": "stdout",
     "output_type": "stream",
     "text": [
      "Porcentagem da classe minoritária treinamento: 351 (7.88% of total)\n",
      "Porcentagem da classe minoritária teste: 81 (7.27% of total)\n"
     ]
    }
   ],
   "source": [
    "counts_train = np.bincount(y_train)\n",
    "counts_test = np.bincount(y_test)\n",
    "\n",
    "print(\"Porcentagem da classe minoritária treinamento: {} ({:.2f}% of total)\".format(\n",
    "        counts_train[1], 100 * float(counts_train[1]) / len(y_train)\n",
    "    ))\n",
    "\n",
    "print(\"Porcentagem da classe minoritária teste: {} ({:.2f}% of total)\".format(\n",
    "        counts_test[1], 100 * float(counts_test[1]) / len(y_test)\n",
    "    ))"
   ]
  },
  {
   "cell_type": "markdown",
   "metadata": {
    "id": "nj7baTNmq2Ic"
   },
   "source": [
    "## 2) Montando a rede neural para classificação\n",
    "\n",
    "Utilizaremos primeiro uma rede rasa (MLP convencional)"
   ]
  },
  {
   "cell_type": "code",
   "execution_count": 10,
   "metadata": {
    "colab": {
     "base_uri": "https://localhost:8080/",
     "height": 237
    },
    "id": "NuMsZENop9-t",
    "outputId": "d9e9eff7-3bd1-4746-ad27-841ea3083a11"
   },
   "outputs": [
    {
     "name": "stdout",
     "output_type": "stream",
     "text": [
      "Model: \"sequential\"\n",
      "_________________________________________________________________\n",
      "Layer (type)                 Output Shape              Param #   \n",
      "=================================================================\n",
      "dense (Dense)                (None, 16)                64        \n",
      "_________________________________________________________________\n",
      "dense_1 (Dense)              (None, 1)                 17        \n",
      "=================================================================\n",
      "Total params: 81\n",
      "Trainable params: 81\n",
      "Non-trainable params: 0\n",
      "_________________________________________________________________\n"
     ]
    }
   ],
   "source": [
    "model1 = keras.Sequential(\n",
    "    [\n",
    "        keras.layers.Dense(\n",
    "            16, activation=\"relu\", input_shape=(X_train.shape[-1],)\n",
    "        ),\n",
    "        keras.layers.Dense(1, activation=\"sigmoid\"),\n",
    "    ]\n",
    ")\n",
    "model1.summary()\n"
   ]
  },
  {
   "cell_type": "markdown",
   "metadata": {
    "id": "EGYnX8v2rO2v"
   },
   "source": [
    "Vamos treinar a rede, mas utilizaremos métricas alternativas que iremos computar como: Precisão e Revocação, pois a base é muito desbalanceada"
   ]
  },
  {
   "cell_type": "code",
   "execution_count": 11,
   "metadata": {
    "id": "9jiq0kejrBBY"
   },
   "outputs": [],
   "source": [
    "metrics = [\n",
    "    keras.metrics.FalseNegatives(name=\"fn\"),\n",
    "    keras.metrics.FalsePositives(name=\"fp\"),\n",
    "    keras.metrics.TrueNegatives(name=\"tn\"),\n",
    "    keras.metrics.TruePositives(name=\"tp\"),\n",
    "    keras.metrics.Precision(name=\"precision\"),\n",
    "    keras.metrics.Recall(name=\"recall\"),\n",
    "]\n",
    "\n",
    "# compilamos o modelo utilizando:\n",
    "#- um otimizador SGD\n",
    "#- a função de perda entropia cruzada\n",
    "#- as métricas acima\n",
    "model1.compile(\n",
    "    optimizer=keras.optimizers.SGD(), loss=\"binary_crossentropy\", metrics=metrics\n",
    ")"
   ]
  },
  {
   "cell_type": "markdown",
   "metadata": {
    "id": "W3rSe3LTrkeA"
   },
   "source": [
    "Ajustando o modelo!\n",
    "\n",
    "Aqui aparecem:\n",
    "* **batchsize**\n",
    "* número de épocas (**epochs**). \n",
    "\n",
    "Uma época ocorre após as iterações (cada batch) completarem o total de exemplos de treinamento\n",
    "\n",
    "Temos 4452 exemplos de treinamento. \n",
    "\n",
    "Por exemplo com batchsize = 10, precisaremos de 4452/10 ~ 445 iterações (mini-batchs selecionados) para perfazer uma **época**\n"
   ]
  },
  {
   "cell_type": "code",
   "execution_count": 12,
   "metadata": {
    "id": "fK757PhHE6WB",
    "outputId": "01d42a90-a907-4704-bbd5-441749ce8d51",
    "scrolled": true
   },
   "outputs": [
    {
     "data": {
      "text/plain": [
       "array([[1.20000000e+01, 7.26587500e+04, 8.68400000e+03],\n",
       "       [1.20000000e+01, 2.50446621e+04, 4.78000000e+03],\n",
       "       [2.50000000e+01, 9.13807375e+05, 4.36580000e+04],\n",
       "       ...,\n",
       "       [1.60000000e+01, 4.30601312e+05, 9.99450000e+04],\n",
       "       [1.40000000e+01, 6.10408945e+04, 1.76540000e+04],\n",
       "       [1.00000000e+00, 1.65897688e+06, 2.10521000e+05]])"
      ]
     },
     "execution_count": 12,
     "metadata": {},
     "output_type": "execute_result"
    }
   ],
   "source": [
    "X_train"
   ]
  },
  {
   "cell_type": "code",
   "execution_count": 13,
   "metadata": {
    "id": "jlj_uUr8E6WC",
    "outputId": "899c386a-5429-4303-f219-10da19cd6573"
   },
   "outputs": [
    {
     "data": {
      "text/plain": [
       "array([0, 0, 0, ..., 0, 0, 0])"
      ]
     },
     "execution_count": 13,
     "metadata": {},
     "output_type": "execute_result"
    }
   ],
   "source": [
    "y_train"
   ]
  },
  {
   "cell_type": "code",
   "execution_count": 14,
   "metadata": {
    "colab": {
     "base_uri": "https://localhost:8080/",
     "height": 35
    },
    "id": "M16Uwl6qxJ7d",
    "outputId": "8212c939-5da7-4684-8976-f1a6cbbe9399"
   },
   "outputs": [
    {
     "data": {
      "text/plain": [
       "445.2"
      ]
     },
     "execution_count": 14,
     "metadata": {},
     "output_type": "execute_result"
    }
   ],
   "source": [
    "len(X_train)/10"
   ]
  },
  {
   "cell_type": "code",
   "execution_count": 15,
   "metadata": {
    "id": "JbLpp0RiE6WD"
   },
   "outputs": [],
   "source": [
    "# vamos usar batch_size 50 e 30 épocas\n",
    "batch_size = 50\n",
    "epochs = 30"
   ]
  },
  {
   "cell_type": "code",
   "execution_count": 16,
   "metadata": {
    "colab": {
     "base_uri": "https://localhost:8080/",
     "height": 1000
    },
    "id": "q1G4RN3wrgoJ",
    "outputId": "2f7fb449-4e79-4450-811a-c4294307e831"
   },
   "outputs": [
    {
     "name": "stdout",
     "output_type": "stream",
     "text": [
      "Epoch 1/30\n",
      "90/90 [==============================] - 5s 24ms/step - loss: 3541325056.0000 - fn: 350.0000 - fp: 49.0000 - tn: 4052.0000 - tp: 1.0000 - precision: 0.0200 - recall: 0.0028 - val_loss: 0.5634 - val_fn: 81.0000 - val_fp: 0.0000e+00 - val_tn: 1033.0000 - val_tp: 0.0000e+00 - val_precision: 0.0000e+00 - val_recall: 0.0000e+00\n",
      "Epoch 2/30\n",
      "90/90 [==============================] - 0s 2ms/step - loss: 0.5216 - fn: 351.0000 - fp: 0.0000e+00 - tn: 4101.0000 - tp: 0.0000e+00 - precision: 0.0000e+00 - recall: 0.0000e+00 - val_loss: 0.4780 - val_fn: 81.0000 - val_fp: 0.0000e+00 - val_tn: 1033.0000 - val_tp: 0.0000e+00 - val_precision: 0.0000e+00 - val_recall: 0.0000e+00\n",
      "Epoch 3/30\n",
      "90/90 [==============================] - 0s 2ms/step - loss: 0.4528 - fn: 351.0000 - fp: 0.0000e+00 - tn: 4101.0000 - tp: 0.0000e+00 - precision: 0.0000e+00 - recall: 0.0000e+00 - val_loss: 0.4211 - val_fn: 81.0000 - val_fp: 0.0000e+00 - val_tn: 1033.0000 - val_tp: 0.0000e+00 - val_precision: 0.0000e+00 - val_recall: 0.0000e+00\n",
      "Epoch 4/30\n",
      "90/90 [==============================] - 0s 3ms/step - loss: 0.4066 - fn: 351.0000 - fp: 0.0000e+00 - tn: 4101.0000 - tp: 0.0000e+00 - precision: 0.0000e+00 - recall: 0.0000e+00 - val_loss: 0.3821 - val_fn: 81.0000 - val_fp: 0.0000e+00 - val_tn: 1033.0000 - val_tp: 0.0000e+00 - val_precision: 0.0000e+00 - val_recall: 0.0000e+00\n",
      "Epoch 5/30\n",
      "90/90 [==============================] - 0s 2ms/step - loss: 0.3747 - fn: 351.0000 - fp: 0.0000e+00 - tn: 4101.0000 - tp: 0.0000e+00 - precision: 0.0000e+00 - recall: 0.0000e+00 - val_loss: 0.3546 - val_fn: 81.0000 - val_fp: 0.0000e+00 - val_tn: 1033.0000 - val_tp: 0.0000e+00 - val_precision: 0.0000e+00 - val_recall: 0.0000e+00\n",
      "Epoch 6/30\n",
      "90/90 [==============================] - 0s 1ms/step - loss: 0.3520 - fn: 351.0000 - fp: 0.0000e+00 - tn: 4101.0000 - tp: 0.0000e+00 - precision: 0.0000e+00 - recall: 0.0000e+00 - val_loss: 0.3346 - val_fn: 81.0000 - val_fp: 0.0000e+00 - val_tn: 1033.0000 - val_tp: 0.0000e+00 - val_precision: 0.0000e+00 - val_recall: 0.0000e+00\n",
      "Epoch 7/30\n",
      "90/90 [==============================] - 0s 1ms/step - loss: 0.3355 - fn: 351.0000 - fp: 0.0000e+00 - tn: 4101.0000 - tp: 0.0000e+00 - precision: 0.0000e+00 - recall: 0.0000e+00 - val_loss: 0.3204 - val_fn: 81.0000 - val_fp: 0.0000e+00 - val_tn: 1033.0000 - val_tp: 0.0000e+00 - val_precision: 0.0000e+00 - val_recall: 0.0000e+00\n",
      "Epoch 8/30\n",
      "90/90 [==============================] - 0s 2ms/step - loss: 0.3236 - fn: 351.0000 - fp: 0.0000e+00 - tn: 4101.0000 - tp: 0.0000e+00 - precision: 0.0000e+00 - recall: 0.0000e+00 - val_loss: 0.3090 - val_fn: 81.0000 - val_fp: 0.0000e+00 - val_tn: 1033.0000 - val_tp: 0.0000e+00 - val_precision: 0.0000e+00 - val_recall: 0.0000e+00\n",
      "Epoch 9/30\n",
      "90/90 [==============================] - 0s 2ms/step - loss: 0.3142 - fn: 351.0000 - fp: 0.0000e+00 - tn: 4101.0000 - tp: 0.0000e+00 - precision: 0.0000e+00 - recall: 0.0000e+00 - val_loss: 0.3003 - val_fn: 81.0000 - val_fp: 0.0000e+00 - val_tn: 1033.0000 - val_tp: 0.0000e+00 - val_precision: 0.0000e+00 - val_recall: 0.0000e+00\n",
      "Epoch 10/30\n",
      "90/90 [==============================] - 0s 1ms/step - loss: 0.3069 - fn: 351.0000 - fp: 0.0000e+00 - tn: 4101.0000 - tp: 0.0000e+00 - precision: 0.0000e+00 - recall: 0.0000e+00 - val_loss: 0.2934 - val_fn: 81.0000 - val_fp: 0.0000e+00 - val_tn: 1033.0000 - val_tp: 0.0000e+00 - val_precision: 0.0000e+00 - val_recall: 0.0000e+00\n",
      "Epoch 11/30\n",
      "90/90 [==============================] - 0s 3ms/step - loss: 0.3012 - fn: 351.0000 - fp: 0.0000e+00 - tn: 4101.0000 - tp: 0.0000e+00 - precision: 0.0000e+00 - recall: 0.0000e+00 - val_loss: 0.2880 - val_fn: 81.0000 - val_fp: 0.0000e+00 - val_tn: 1033.0000 - val_tp: 0.0000e+00 - val_precision: 0.0000e+00 - val_recall: 0.0000e+00\n",
      "Epoch 12/30\n",
      "90/90 [==============================] - 1s 6ms/step - loss: 0.2967 - fn: 351.0000 - fp: 0.0000e+00 - tn: 4101.0000 - tp: 0.0000e+00 - precision: 0.0000e+00 - recall: 0.0000e+00 - val_loss: 0.2839 - val_fn: 81.0000 - val_fp: 0.0000e+00 - val_tn: 1033.0000 - val_tp: 0.0000e+00 - val_precision: 0.0000e+00 - val_recall: 0.0000e+00\n",
      "Epoch 13/30\n",
      "90/90 [==============================] - 1s 9ms/step - loss: 0.2933 - fn: 351.0000 - fp: 0.0000e+00 - tn: 4101.0000 - tp: 0.0000e+00 - precision: 0.0000e+00 - recall: 0.0000e+00 - val_loss: 0.2803 - val_fn: 81.0000 - val_fp: 0.0000e+00 - val_tn: 1033.0000 - val_tp: 0.0000e+00 - val_precision: 0.0000e+00 - val_recall: 0.0000e+00\n",
      "Epoch 14/30\n",
      "90/90 [==============================] - 1s 6ms/step - loss: 0.2904 - fn: 351.0000 - fp: 0.0000e+00 - tn: 4101.0000 - tp: 0.0000e+00 - precision: 0.0000e+00 - recall: 0.0000e+00 - val_loss: 0.2774 - val_fn: 81.0000 - val_fp: 0.0000e+00 - val_tn: 1033.0000 - val_tp: 0.0000e+00 - val_precision: 0.0000e+00 - val_recall: 0.0000e+00\n",
      "Epoch 15/30\n",
      "90/90 [==============================] - 0s 3ms/step - loss: 0.2880 - fn: 351.0000 - fp: 0.0000e+00 - tn: 4101.0000 - tp: 0.0000e+00 - precision: 0.0000e+00 - recall: 0.0000e+00 - val_loss: 0.2750 - val_fn: 81.0000 - val_fp: 0.0000e+00 - val_tn: 1033.0000 - val_tp: 0.0000e+00 - val_precision: 0.0000e+00 - val_recall: 0.0000e+00\n",
      "Epoch 16/30\n",
      "90/90 [==============================] - 0s 3ms/step - loss: 0.2860 - fn: 351.0000 - fp: 0.0000e+00 - tn: 4101.0000 - tp: 0.0000e+00 - precision: 0.0000e+00 - recall: 0.0000e+00 - val_loss: 0.2729 - val_fn: 81.0000 - val_fp: 0.0000e+00 - val_tn: 1033.0000 - val_tp: 0.0000e+00 - val_precision: 0.0000e+00 - val_recall: 0.0000e+00\n",
      "Epoch 17/30\n",
      "90/90 [==============================] - 0s 3ms/step - loss: 0.2844 - fn: 351.0000 - fp: 0.0000e+00 - tn: 4101.0000 - tp: 0.0000e+00 - precision: 0.0000e+00 - recall: 0.0000e+00 - val_loss: 0.2713 - val_fn: 81.0000 - val_fp: 0.0000e+00 - val_tn: 1033.0000 - val_tp: 0.0000e+00 - val_precision: 0.0000e+00 - val_recall: 0.0000e+00\n",
      "Epoch 18/30\n",
      "90/90 [==============================] - 0s 3ms/step - loss: 0.2831 - fn: 351.0000 - fp: 0.0000e+00 - tn: 4101.0000 - tp: 0.0000e+00 - precision: 0.0000e+00 - recall: 0.0000e+00 - val_loss: 0.2699 - val_fn: 81.0000 - val_fp: 0.0000e+00 - val_tn: 1033.0000 - val_tp: 0.0000e+00 - val_precision: 0.0000e+00 - val_recall: 0.0000e+00\n",
      "Epoch 19/30\n",
      "90/90 [==============================] - 0s 3ms/step - loss: 0.2820 - fn: 351.0000 - fp: 0.0000e+00 - tn: 4101.0000 - tp: 0.0000e+00 - precision: 0.0000e+00 - recall: 0.0000e+00 - val_loss: 0.2687 - val_fn: 81.0000 - val_fp: 0.0000e+00 - val_tn: 1033.0000 - val_tp: 0.0000e+00 - val_precision: 0.0000e+00 - val_recall: 0.0000e+00\n",
      "Epoch 20/30\n",
      "90/90 [==============================] - 0s 3ms/step - loss: 0.2811 - fn: 351.0000 - fp: 0.0000e+00 - tn: 4101.0000 - tp: 0.0000e+00 - precision: 0.0000e+00 - recall: 0.0000e+00 - val_loss: 0.2677 - val_fn: 81.0000 - val_fp: 0.0000e+00 - val_tn: 1033.0000 - val_tp: 0.0000e+00 - val_precision: 0.0000e+00 - val_recall: 0.0000e+00\n",
      "Epoch 21/30\n",
      "90/90 [==============================] - 0s 3ms/step - loss: 0.2803 - fn: 351.0000 - fp: 0.0000e+00 - tn: 4101.0000 - tp: 0.0000e+00 - precision: 0.0000e+00 - recall: 0.0000e+00 - val_loss: 0.2668 - val_fn: 81.0000 - val_fp: 0.0000e+00 - val_tn: 1033.0000 - val_tp: 0.0000e+00 - val_precision: 0.0000e+00 - val_recall: 0.0000e+00\n",
      "Epoch 22/30\n",
      "90/90 [==============================] - 0s 3ms/step - loss: 0.2796 - fn: 351.0000 - fp: 0.0000e+00 - tn: 4101.0000 - tp: 0.0000e+00 - precision: 0.0000e+00 - recall: 0.0000e+00 - val_loss: 0.2661 - val_fn: 81.0000 - val_fp: 0.0000e+00 - val_tn: 1033.0000 - val_tp: 0.0000e+00 - val_precision: 0.0000e+00 - val_recall: 0.0000e+00\n",
      "Epoch 23/30\n",
      "90/90 [==============================] - 0s 3ms/step - loss: 0.2791 - fn: 351.0000 - fp: 0.0000e+00 - tn: 4101.0000 - tp: 0.0000e+00 - precision: 0.0000e+00 - recall: 0.0000e+00 - val_loss: 0.2654 - val_fn: 81.0000 - val_fp: 0.0000e+00 - val_tn: 1033.0000 - val_tp: 0.0000e+00 - val_precision: 0.0000e+00 - val_recall: 0.0000e+00\n",
      "Epoch 24/30\n",
      "90/90 [==============================] - 0s 2ms/step - loss: 0.2786 - fn: 351.0000 - fp: 0.0000e+00 - tn: 4101.0000 - tp: 0.0000e+00 - precision: 0.0000e+00 - recall: 0.0000e+00 - val_loss: 0.2649 - val_fn: 81.0000 - val_fp: 0.0000e+00 - val_tn: 1033.0000 - val_tp: 0.0000e+00 - val_precision: 0.0000e+00 - val_recall: 0.0000e+00\n"
     ]
    },
    {
     "name": "stdout",
     "output_type": "stream",
     "text": [
      "Epoch 25/30\n",
      "90/90 [==============================] - 0s 3ms/step - loss: 0.2782 - fn: 351.0000 - fp: 0.0000e+00 - tn: 4101.0000 - tp: 0.0000e+00 - precision: 0.0000e+00 - recall: 0.0000e+00 - val_loss: 0.2644 - val_fn: 81.0000 - val_fp: 0.0000e+00 - val_tn: 1033.0000 - val_tp: 0.0000e+00 - val_precision: 0.0000e+00 - val_recall: 0.0000e+00\n",
      "Epoch 26/30\n",
      "90/90 [==============================] - 0s 3ms/step - loss: 0.2779 - fn: 351.0000 - fp: 0.0000e+00 - tn: 4101.0000 - tp: 0.0000e+00 - precision: 0.0000e+00 - recall: 0.0000e+00 - val_loss: 0.2640 - val_fn: 81.0000 - val_fp: 0.0000e+00 - val_tn: 1033.0000 - val_tp: 0.0000e+00 - val_precision: 0.0000e+00 - val_recall: 0.0000e+00\n",
      "Epoch 27/30\n",
      "90/90 [==============================] - 0s 3ms/step - loss: 0.2776 - fn: 351.0000 - fp: 0.0000e+00 - tn: 4101.0000 - tp: 0.0000e+00 - precision: 0.0000e+00 - recall: 0.0000e+00 - val_loss: 0.2636 - val_fn: 81.0000 - val_fp: 0.0000e+00 - val_tn: 1033.0000 - val_tp: 0.0000e+00 - val_precision: 0.0000e+00 - val_recall: 0.0000e+00\n",
      "Epoch 28/30\n",
      "90/90 [==============================] - 0s 3ms/step - loss: 0.2774 - fn: 351.0000 - fp: 0.0000e+00 - tn: 4101.0000 - tp: 0.0000e+00 - precision: 0.0000e+00 - recall: 0.0000e+00 - val_loss: 0.2633 - val_fn: 81.0000 - val_fp: 0.0000e+00 - val_tn: 1033.0000 - val_tp: 0.0000e+00 - val_precision: 0.0000e+00 - val_recall: 0.0000e+00\n",
      "Epoch 29/30\n",
      "90/90 [==============================] - 0s 3ms/step - loss: 0.2772 - fn: 351.0000 - fp: 0.0000e+00 - tn: 4101.0000 - tp: 0.0000e+00 - precision: 0.0000e+00 - recall: 0.0000e+00 - val_loss: 0.2631 - val_fn: 81.0000 - val_fp: 0.0000e+00 - val_tn: 1033.0000 - val_tp: 0.0000e+00 - val_precision: 0.0000e+00 - val_recall: 0.0000e+00\n",
      "Epoch 30/30\n",
      "90/90 [==============================] - 0s 3ms/step - loss: 0.2770 - fn: 351.0000 - fp: 0.0000e+00 - tn: 4101.0000 - tp: 0.0000e+00 - precision: 0.0000e+00 - recall: 0.0000e+00 - val_loss: 0.2628 - val_fn: 81.0000 - val_fp: 0.0000e+00 - val_tn: 1033.0000 - val_tp: 0.0000e+00 - val_precision: 0.0000e+00 - val_recall: 0.0000e+00\n"
     ]
    }
   ],
   "source": [
    "history1 = model1.fit(\n",
    "    X_train,\n",
    "    y_train,\n",
    "    batch_size=batch_size,\n",
    "    epochs=epochs,\n",
    "    verbose=1,\n",
    "    validation_data=(X_test, y_test),\n",
    ")"
   ]
  },
  {
   "cell_type": "markdown",
   "metadata": {
    "id": "GD-CviKWsI46"
   },
   "source": [
    "Com o Keras podemos plotar as funções de perda ao longo do treinamento"
   ]
  },
  {
   "cell_type": "code",
   "execution_count": 17,
   "metadata": {
    "colab": {
     "base_uri": "https://localhost:8080/",
     "height": 295
    },
    "id": "vhnGiYjmrmBf",
    "outputId": "2d34bf45-07e1-44ce-8e56-6dfb4f9fee32"
   },
   "outputs": [
    {
     "data": {
      "image/png": "[encoded data removed]",
      "text/plain": [
       "<Figure size 432x288 with 1 Axes>"
      ]
     },
     "metadata": {
      "needs_background": "light"
     },
     "output_type": "display_data"
    }
   ],
   "source": [
    "plt.plot(history1.history[\"loss\"])\n",
    "plt.plot(history1.history[\"val_loss\"])\n",
    "plt.title(\"model loss\")\n",
    "plt.ylabel(\"loss\")\n",
    "plt.xlabel(\"epoch\")\n",
    "plt.legend([\"train\", \"test\"], loc=\"upper left\")\n",
    "plt.show()\n"
   ]
  },
  {
   "cell_type": "code",
   "execution_count": 18,
   "metadata": {
    "id": "qybsE72PsRgl"
   },
   "outputs": [],
   "source": [
    "# Computando as métricas para o teste\n",
    "score = model1.evaluate(X_test, y_test, verbose=0)"
   ]
  },
  {
   "cell_type": "code",
   "execution_count": 19,
   "metadata": {
    "colab": {
     "base_uri": "https://localhost:8080/",
     "height": 127
    },
    "id": "yfj7KmvEsmd7",
    "outputId": "e4891550-0331-4523-925b-55d540974667"
   },
   "outputs": [
    {
     "name": "stdout",
     "output_type": "stream",
     "text": [
      "Falsos negativos:  81.0\n",
      "Falsos positivos:  0.0\n",
      "Verdadeiros negativos:  1033.0\n",
      "Verdadeiros positivos:  0.0\n",
      "Precisao:  0.0\n",
      "Revocacao:  0.0\n"
     ]
    }
   ],
   "source": [
    "print(\"Falsos negativos: \", score[1])\n",
    "print(\"Falsos positivos: \", score[2])\n",
    "print(\"Verdadeiros negativos: \", score[3])\n",
    "print(\"Verdadeiros positivos: \", score[4])\n",
    "print(\"Precisao: \", score[5])\n",
    "print(\"Revocacao: \", score[6])"
   ]
  },
  {
   "cell_type": "code",
   "execution_count": 20,
   "metadata": {
    "id": "1kVzHqBLwkUi"
   },
   "outputs": [],
   "source": [
    "model1.reset_states() "
   ]
  },
  {
   "cell_type": "markdown",
   "metadata": {
    "id": "YiYubRpitshR"
   },
   "source": [
    "## 3) Melhorando o classificador\n",
    "\n",
    "1. Ponderar as classes pois estão muito desbalanceadas\n",
    "2. Normalizar os atributos"
   ]
  },
  {
   "cell_type": "code",
   "execution_count": 21,
   "metadata": {
    "id": "-IvoJtO8tels"
   },
   "outputs": [],
   "source": [
    "# normalizacao z-score\n",
    "# calculamos média e desvio no treinamento e aplicamos em treinamento e teste\n",
    "mean = np.mean(X_train, axis=0)\n",
    "std = np.std(X_train, axis=0)\n",
    "\n",
    "X_train -= mean\n",
    "X_test -= mean\n",
    "\n",
    "X_train /= std\n",
    "X_test /= std"
   ]
  },
  {
   "cell_type": "code",
   "execution_count": 22,
   "metadata": {
    "id": "nP8quMvAuFw-",
    "outputId": "28644e65-2a64-4ced-9796-51a1d6758da0"
   },
   "outputs": [
    {
     "name": "stdout",
     "output_type": "stream",
     "text": [
      "0.5394204851752021 0.8817385444743935\n"
     ]
    }
   ],
   "source": [
    "# vamos ponderar o total de cada classe e formar pesos\n",
    "peso_0 = 1.0 - (counts_train[0]/len(X_train))*0.5\n",
    "peso_1 = 1.0 - (counts_train[1]/len(X_train))*1.5\n",
    "print(peso_0, peso_1)\n",
    "\n",
    "# ponderacao das classes\n",
    "class_weight = {0: peso_0, 1: peso_1}"
   ]
  },
  {
   "cell_type": "code",
   "execution_count": 23,
   "metadata": {
    "colab": {
     "base_uri": "https://localhost:8080/",
     "height": 1000
    },
    "id": "iEKaF2HJuSMr",
    "outputId": "c2acd810-0ce5-4df7-df4d-60aeafd92fd7"
   },
   "outputs": [
    {
     "name": "stdout",
     "output_type": "stream",
     "text": [
      "Model: \"sequential_1\"\n",
      "_________________________________________________________________\n",
      "Layer (type)                 Output Shape              Param #   \n",
      "=================================================================\n",
      "dense_2 (Dense)              (None, 16)                64        \n",
      "_________________________________________________________________\n",
      "dense_3 (Dense)              (None, 1)                 17        \n",
      "=================================================================\n",
      "Total params: 81\n",
      "Trainable params: 81\n",
      "Non-trainable params: 0\n",
      "_________________________________________________________________\n",
      "Epoch 1/30\n",
      "90/90 [==============================] - 5s 24ms/step - loss: 0.2760 - fn: 430.0000 - fp: 53.0000 - tn: 5081.0000 - tp: 2.0000 - precision: 0.0364 - recall: 0.0046 - val_loss: 0.2918 - val_fn: 81.0000 - val_fp: 1.0000 - val_tn: 1032.0000 - val_tp: 0.0000e+00 - val_precision: 0.0000e+00 - val_recall: 0.0000e+00\n",
      "Epoch 2/30\n",
      "90/90 [==============================] - 0s 3ms/step - loss: 0.2016 - fn: 346.0000 - fp: 5.0000 - tn: 4096.0000 - tp: 5.0000 - precision: 0.5000 - recall: 0.0142 - val_loss: 0.2626 - val_fn: 80.0000 - val_fp: 1.0000 - val_tn: 1032.0000 - val_tp: 1.0000 - val_precision: 0.5000 - val_recall: 0.0123\n",
      "Epoch 3/30\n",
      "90/90 [==============================] - 0s 3ms/step - loss: 0.1960 - fn: 340.0000 - fp: 8.0000 - tn: 4093.0000 - tp: 11.0000 - precision: 0.5789 - recall: 0.0313 - val_loss: 0.2528 - val_fn: 79.0000 - val_fp: 1.0000 - val_tn: 1032.0000 - val_tp: 2.0000 - val_precision: 0.6667 - val_recall: 0.0247\n",
      "Epoch 4/30\n",
      "90/90 [==============================] - 0s 4ms/step - loss: 0.1939 - fn: 339.0000 - fp: 9.0000 - tn: 4092.0000 - tp: 12.0000 - precision: 0.5714 - recall: 0.0342 - val_loss: 0.2530 - val_fn: 78.0000 - val_fp: 1.0000 - val_tn: 1032.0000 - val_tp: 3.0000 - val_precision: 0.7500 - val_recall: 0.0370\n",
      "Epoch 5/30\n",
      "90/90 [==============================] - 1s 6ms/step - loss: 0.1923 - fn: 335.0000 - fp: 11.0000 - tn: 4090.0000 - tp: 16.0000 - precision: 0.5926 - recall: 0.0456 - val_loss: 0.2518 - val_fn: 78.0000 - val_fp: 1.0000 - val_tn: 1032.0000 - val_tp: 3.0000 - val_precision: 0.7500 - val_recall: 0.0370\n",
      "Epoch 6/30\n",
      "90/90 [==============================] - 0s 3ms/step - loss: 0.1909 - fn: 334.0000 - fp: 10.0000 - tn: 4091.0000 - tp: 17.0000 - precision: 0.6296 - recall: 0.0484 - val_loss: 0.2467 - val_fn: 78.0000 - val_fp: 1.0000 - val_tn: 1032.0000 - val_tp: 3.0000 - val_precision: 0.7500 - val_recall: 0.0370\n",
      "Epoch 7/30\n",
      "90/90 [==============================] - 0s 3ms/step - loss: 0.1899 - fn: 332.0000 - fp: 10.0000 - tn: 4091.0000 - tp: 19.0000 - precision: 0.6552 - recall: 0.0541 - val_loss: 0.2459 - val_fn: 76.0000 - val_fp: 1.0000 - val_tn: 1032.0000 - val_tp: 5.0000 - val_precision: 0.8333 - val_recall: 0.0617\n",
      "Epoch 8/30\n",
      "90/90 [==============================] - 0s 3ms/step - loss: 0.1888 - fn: 332.0000 - fp: 10.0000 - tn: 4091.0000 - tp: 19.0000 - precision: 0.6552 - recall: 0.0541 - val_loss: 0.2530 - val_fn: 76.0000 - val_fp: 1.0000 - val_tn: 1032.0000 - val_tp: 5.0000 - val_precision: 0.8333 - val_recall: 0.0617\n",
      "Epoch 9/30\n",
      "90/90 [==============================] - 0s 3ms/step - loss: 0.1877 - fn: 332.0000 - fp: 7.0000 - tn: 4094.0000 - tp: 19.0000 - precision: 0.7308 - recall: 0.0541 - val_loss: 0.2450 - val_fn: 76.0000 - val_fp: 1.0000 - val_tn: 1032.0000 - val_tp: 5.0000 - val_precision: 0.8333 - val_recall: 0.0617\n",
      "Epoch 10/30\n",
      "90/90 [==============================] - 0s 3ms/step - loss: 0.1865 - fn: 330.0000 - fp: 9.0000 - tn: 4092.0000 - tp: 21.0000 - precision: 0.7000 - recall: 0.0598 - val_loss: 0.2424 - val_fn: 76.0000 - val_fp: 1.0000 - val_tn: 1032.0000 - val_tp: 5.0000 - val_precision: 0.8333 - val_recall: 0.0617\n",
      "Epoch 11/30\n",
      "90/90 [==============================] - 0s 3ms/step - loss: 0.1856 - fn: 329.0000 - fp: 5.0000 - tn: 4096.0000 - tp: 22.0000 - precision: 0.8148 - recall: 0.0627 - val_loss: 0.2439 - val_fn: 76.0000 - val_fp: 2.0000 - val_tn: 1031.0000 - val_tp: 5.0000 - val_precision: 0.7143 - val_recall: 0.0617\n",
      "Epoch 12/30\n",
      "90/90 [==============================] - 0s 3ms/step - loss: 0.1846 - fn: 324.0000 - fp: 6.0000 - tn: 4095.0000 - tp: 27.0000 - precision: 0.8182 - recall: 0.0769 - val_loss: 0.2384 - val_fn: 79.0000 - val_fp: 0.0000e+00 - val_tn: 1033.0000 - val_tp: 2.0000 - val_precision: 1.0000 - val_recall: 0.0247\n",
      "Epoch 13/30\n",
      "90/90 [==============================] - 0s 3ms/step - loss: 0.1839 - fn: 330.0000 - fp: 2.0000 - tn: 4099.0000 - tp: 21.0000 - precision: 0.9130 - recall: 0.0598 - val_loss: 0.2428 - val_fn: 76.0000 - val_fp: 1.0000 - val_tn: 1032.0000 - val_tp: 5.0000 - val_precision: 0.8333 - val_recall: 0.0617\n",
      "Epoch 14/30\n",
      "90/90 [==============================] - 0s 3ms/step - loss: 0.1826 - fn: 326.0000 - fp: 4.0000 - tn: 4097.0000 - tp: 25.0000 - precision: 0.8621 - recall: 0.0712 - val_loss: 0.2391 - val_fn: 74.0000 - val_fp: 2.0000 - val_tn: 1031.0000 - val_tp: 7.0000 - val_precision: 0.7778 - val_recall: 0.0864\n",
      "Epoch 15/30\n",
      "90/90 [==============================] - 0s 3ms/step - loss: 0.1816 - fn: 322.0000 - fp: 4.0000 - tn: 4097.0000 - tp: 29.0000 - precision: 0.8788 - recall: 0.0826 - val_loss: 0.2353 - val_fn: 74.0000 - val_fp: 1.0000 - val_tn: 1032.0000 - val_tp: 7.0000 - val_precision: 0.8750 - val_recall: 0.0864\n",
      "Epoch 16/30\n",
      "90/90 [==============================] - 0s 3ms/step - loss: 0.1806 - fn: 319.0000 - fp: 3.0000 - tn: 4098.0000 - tp: 32.0000 - precision: 0.9143 - recall: 0.0912 - val_loss: 0.2365 - val_fn: 73.0000 - val_fp: 2.0000 - val_tn: 1031.0000 - val_tp: 8.0000 - val_precision: 0.8000 - val_recall: 0.0988\n",
      "Epoch 17/30\n",
      "90/90 [==============================] - 0s 2ms/step - loss: 0.1796 - fn: 316.0000 - fp: 5.0000 - tn: 4096.0000 - tp: 35.0000 - precision: 0.8750 - recall: 0.0997 - val_loss: 0.2335 - val_fn: 73.0000 - val_fp: 2.0000 - val_tn: 1031.0000 - val_tp: 8.0000 - val_precision: 0.8000 - val_recall: 0.0988\n",
      "Epoch 18/30\n",
      "90/90 [==============================] - 0s 3ms/step - loss: 0.1786 - fn: 316.0000 - fp: 4.0000 - tn: 4097.0000 - tp: 35.0000 - precision: 0.8974 - recall: 0.0997 - val_loss: 0.2363 - val_fn: 73.0000 - val_fp: 2.0000 - val_tn: 1031.0000 - val_tp: 8.0000 - val_precision: 0.8000 - val_recall: 0.0988\n",
      "Epoch 19/30\n",
      "90/90 [==============================] - 0s 2ms/step - loss: 0.1776 - fn: 311.0000 - fp: 5.0000 - tn: 4096.0000 - tp: 40.0000 - precision: 0.8889 - recall: 0.1140 - val_loss: 0.2316 - val_fn: 72.0000 - val_fp: 2.0000 - val_tn: 1031.0000 - val_tp: 9.0000 - val_precision: 0.8182 - val_recall: 0.1111\n",
      "Epoch 20/30\n",
      "90/90 [==============================] - 0s 2ms/step - loss: 0.1768 - fn: 312.0000 - fp: 6.0000 - tn: 4095.0000 - tp: 39.0000 - precision: 0.8667 - recall: 0.1111 - val_loss: 0.2324 - val_fn: 72.0000 - val_fp: 2.0000 - val_tn: 1031.0000 - val_tp: 9.0000 - val_precision: 0.8182 - val_recall: 0.1111\n",
      "Epoch 21/30\n",
      "90/90 [==============================] - 0s 4ms/step - loss: 0.1756 - fn: 310.0000 - fp: 5.0000 - tn: 4096.0000 - tp: 41.0000 - precision: 0.8913 - recall: 0.1168 - val_loss: 0.2483 - val_fn: 70.0000 - val_fp: 5.0000 - val_tn: 1028.0000 - val_tp: 11.0000 - val_precision: 0.6875 - val_recall: 0.1358\n",
      "Epoch 22/30\n",
      "90/90 [==============================] - 0s 4ms/step - loss: 0.1747 - fn: 305.0000 - fp: 7.0000 - tn: 4094.0000 - tp: 46.0000 - precision: 0.8679 - recall: 0.1311 - val_loss: 0.2258 - val_fn: 72.0000 - val_fp: 1.0000 - val_tn: 1032.0000 - val_tp: 9.0000 - val_precision: 0.9000 - val_recall: 0.1111\n",
      "Epoch 23/30\n",
      "90/90 [==============================] - 0s 4ms/step - loss: 0.1735 - fn: 306.0000 - fp: 5.0000 - tn: 4096.0000 - tp: 45.0000 - precision: 0.9000 - recall: 0.1282 - val_loss: 0.2259 - val_fn: 71.0000 - val_fp: 1.0000 - val_tn: 1032.0000 - val_tp: 10.0000 - val_precision: 0.9091 - val_recall: 0.1235\n",
      "Epoch 24/30\n",
      "90/90 [==============================] - 0s 5ms/step - loss: 0.1724 - fn: 303.0000 - fp: 5.0000 - tn: 4096.0000 - tp: 48.0000 - precision: 0.9057 - recall: 0.1368 - val_loss: 0.2392 - val_fn: 70.0000 - val_fp: 2.0000 - val_tn: 1031.0000 - val_tp: 11.0000 - val_precision: 0.8462 - val_recall: 0.1358\n",
      "Epoch 25/30\n"
     ]
    },
    {
     "name": "stdout",
     "output_type": "stream",
     "text": [
      "90/90 [==============================] - 0s 2ms/step - loss: 0.1719 - fn: 299.0000 - fp: 6.0000 - tn: 4095.0000 - tp: 52.0000 - precision: 0.8966 - recall: 0.1481 - val_loss: 0.2277 - val_fn: 70.0000 - val_fp: 1.0000 - val_tn: 1032.0000 - val_tp: 11.0000 - val_precision: 0.9167 - val_recall: 0.1358\n",
      "Epoch 26/30\n",
      "90/90 [==============================] - 0s 3ms/step - loss: 0.1706 - fn: 298.0000 - fp: 6.0000 - tn: 4095.0000 - tp: 53.0000 - precision: 0.8983 - recall: 0.1510 - val_loss: 0.2471 - val_fn: 70.0000 - val_fp: 5.0000 - val_tn: 1028.0000 - val_tp: 11.0000 - val_precision: 0.6875 - val_recall: 0.1358\n",
      "Epoch 27/30\n",
      "90/90 [==============================] - 0s 3ms/step - loss: 0.1706 - fn: 292.0000 - fp: 7.0000 - tn: 4094.0000 - tp: 59.0000 - precision: 0.8939 - recall: 0.1681 - val_loss: 0.2404 - val_fn: 71.0000 - val_fp: 1.0000 - val_tn: 1032.0000 - val_tp: 10.0000 - val_precision: 0.9091 - val_recall: 0.1235\n",
      "Epoch 28/30\n",
      "90/90 [==============================] - 0s 3ms/step - loss: 0.1697 - fn: 296.0000 - fp: 6.0000 - tn: 4095.0000 - tp: 55.0000 - precision: 0.9016 - recall: 0.1567 - val_loss: 0.2198 - val_fn: 71.0000 - val_fp: 1.0000 - val_tn: 1032.0000 - val_tp: 10.0000 - val_precision: 0.9091 - val_recall: 0.1235\n",
      "Epoch 29/30\n",
      "90/90 [==============================] - 0s 3ms/step - loss: 0.1678 - fn: 293.0000 - fp: 4.0000 - tn: 4097.0000 - tp: 58.0000 - precision: 0.9355 - recall: 0.1652 - val_loss: 0.2231 - val_fn: 70.0000 - val_fp: 1.0000 - val_tn: 1032.0000 - val_tp: 11.0000 - val_precision: 0.9167 - val_recall: 0.1358\n",
      "Epoch 30/30\n",
      "90/90 [==============================] - 0s 3ms/step - loss: 0.1670 - fn: 292.0000 - fp: 7.0000 - tn: 4094.0000 - tp: 59.0000 - precision: 0.8939 - recall: 0.1681 - val_loss: 0.2190 - val_fn: 70.0000 - val_fp: 1.0000 - val_tn: 1032.0000 - val_tp: 11.0000 - val_precision: 0.9167 - val_recall: 0.1358\n"
     ]
    }
   ],
   "source": [
    "model2 = keras.Sequential(\n",
    "    [\n",
    "        keras.layers.Dense(\n",
    "            16, activation=\"relu\", input_shape=(X_train.shape[-1],)\n",
    "        ),\n",
    "        keras.layers.Dense(1, activation=\"sigmoid\"),\n",
    "    ]\n",
    ")\n",
    "model2.summary()\n",
    "\n",
    "# compilamos o modelo utilizando:\n",
    "#- um otimizador SGD\n",
    "#- a função de perda entropia cruzada\n",
    "#- as métricas acima\n",
    "model2.compile(\n",
    "    optimizer=keras.optimizers.SGD(1e-1), loss=\"binary_crossentropy\", metrics=metrics\n",
    ")\n",
    "\n",
    "history2 = model2.fit(\n",
    "    X_train,\n",
    "    y_train,\n",
    "    batch_size=batch_size,\n",
    "    epochs=epochs,\n",
    "    verbose=1,\n",
    "    validation_data=(X_test, y_test),\n",
    "    class_weight=class_weight,\n",
    ")"
   ]
  },
  {
   "cell_type": "code",
   "execution_count": 24,
   "metadata": {
    "colab": {
     "base_uri": "https://localhost:8080/",
     "height": 127
    },
    "id": "6bngEVJkvOc3",
    "outputId": "c8b69146-451f-4076-fe17-7c286113df90"
   },
   "outputs": [
    {
     "name": "stdout",
     "output_type": "stream",
     "text": [
      "Falsos negativos:  70.0\n",
      "Falsos positivos:  1.0\n",
      "Verdadeiros negativos:  1032.0\n",
      "Verdadeiros positivos:  11.0\n",
      "Precisao:  0.9166666865348816\n",
      "Revocacao:  0.1358024626970291\n"
     ]
    }
   ],
   "source": [
    "# Computando as métricas para o teste\n",
    "score2 = model2.evaluate(X_test, y_test, verbose=0)\n",
    "print(\"Falsos negativos: \", score2[1])\n",
    "print(\"Falsos positivos: \", score2[2])\n",
    "print(\"Verdadeiros negativos: \", score2[3])\n",
    "print(\"Verdadeiros positivos: \", score2[4])\n",
    "print(\"Precisao: \", score2[5])\n",
    "print(\"Revocacao: \", score2[6])"
   ]
  },
  {
   "cell_type": "code",
   "execution_count": 25,
   "metadata": {
    "id": "8JbpqlJIvcUt"
   },
   "outputs": [],
   "source": [
    "model2.reset_states() "
   ]
  },
  {
   "cell_type": "markdown",
   "metadata": {
    "id": "OSGmRLBfvzTH"
   },
   "source": [
    "## 4) É possível melhorar ainda mais?\n",
    "\n",
    "Vamos montar uma rede profunda!"
   ]
  },
  {
   "cell_type": "code",
   "execution_count": 26,
   "metadata": {
    "colab": {
     "base_uri": "https://localhost:8080/",
     "height": 1000
    },
    "id": "lPzA5QPzv3kd",
    "outputId": "101e414b-b1b8-491c-d835-bf26cd297d1c"
   },
   "outputs": [
    {
     "name": "stdout",
     "output_type": "stream",
     "text": [
      "Model: \"sequential_2\"\n",
      "_________________________________________________________________\n",
      "Layer (type)                 Output Shape              Param #   \n",
      "=================================================================\n",
      "dense_4 (Dense)              (None, 8)                 32        \n",
      "_________________________________________________________________\n",
      "dense_5 (Dense)              (None, 8)                 72        \n",
      "_________________________________________________________________\n",
      "dense_6 (Dense)              (None, 1)                 9         \n",
      "=================================================================\n",
      "Total params: 113\n",
      "Trainable params: 113\n",
      "Non-trainable params: 0\n",
      "_________________________________________________________________\n",
      "Epoch 1/30\n",
      "90/90 [==============================] - 5s 22ms/step - loss: 0.2696 - fn: 372.0000 - fp: 322.0000 - tn: 4812.0000 - tp: 60.0000 - precision: 0.1571 - recall: 0.1389 - val_loss: 0.2965 - val_fn: 80.0000 - val_fp: 0.0000e+00 - val_tn: 1033.0000 - val_tp: 1.0000 - val_precision: 1.0000 - val_recall: 0.0123\n",
      "Epoch 2/30\n",
      "90/90 [==============================] - 0s 3ms/step - loss: 0.1995 - fn: 342.0000 - fp: 0.0000e+00 - tn: 4101.0000 - tp: 9.0000 - precision: 1.0000 - recall: 0.0256 - val_loss: 0.2600 - val_fn: 79.0000 - val_fp: 0.0000e+00 - val_tn: 1033.0000 - val_tp: 2.0000 - val_precision: 1.0000 - val_recall: 0.0247\n",
      "Epoch 3/30\n",
      "90/90 [==============================] - 0s 3ms/step - loss: 0.1934 - fn: 335.0000 - fp: 2.0000 - tn: 4099.0000 - tp: 16.0000 - precision: 0.8889 - recall: 0.0456 - val_loss: 0.2528 - val_fn: 78.0000 - val_fp: 1.0000 - val_tn: 1032.0000 - val_tp: 3.0000 - val_precision: 0.7500 - val_recall: 0.0370\n",
      "Epoch 4/30\n",
      "90/90 [==============================] - 0s 3ms/step - loss: 0.1903 - fn: 331.0000 - fp: 2.0000 - tn: 4099.0000 - tp: 20.0000 - precision: 0.9091 - recall: 0.0570 - val_loss: 0.2473 - val_fn: 76.0000 - val_fp: 1.0000 - val_tn: 1032.0000 - val_tp: 5.0000 - val_precision: 0.8333 - val_recall: 0.0617\n",
      "Epoch 5/30\n",
      "90/90 [==============================] - 0s 3ms/step - loss: 0.1877 - fn: 328.0000 - fp: 3.0000 - tn: 4098.0000 - tp: 23.0000 - precision: 0.8846 - recall: 0.0655 - val_loss: 0.2478 - val_fn: 74.0000 - val_fp: 2.0000 - val_tn: 1031.0000 - val_tp: 7.0000 - val_precision: 0.7778 - val_recall: 0.0864\n",
      "Epoch 6/30\n",
      "90/90 [==============================] - 0s 2ms/step - loss: 0.1859 - fn: 322.0000 - fp: 7.0000 - tn: 4094.0000 - tp: 29.0000 - precision: 0.8056 - recall: 0.0826 - val_loss: 0.2578 - val_fn: 71.0000 - val_fp: 3.0000 - val_tn: 1030.0000 - val_tp: 10.0000 - val_precision: 0.7692 - val_recall: 0.1235\n",
      "Epoch 7/30\n",
      "90/90 [==============================] - 0s 2ms/step - loss: 0.1842 - fn: 315.0000 - fp: 9.0000 - tn: 4092.0000 - tp: 36.0000 - precision: 0.8000 - recall: 0.1026 - val_loss: 0.2382 - val_fn: 73.0000 - val_fp: 2.0000 - val_tn: 1031.0000 - val_tp: 8.0000 - val_precision: 0.8000 - val_recall: 0.0988\n",
      "Epoch 8/30\n",
      "90/90 [==============================] - 0s 3ms/step - loss: 0.1829 - fn: 315.0000 - fp: 8.0000 - tn: 4093.0000 - tp: 36.0000 - precision: 0.8182 - recall: 0.1026 - val_loss: 0.2430 - val_fn: 71.0000 - val_fp: 2.0000 - val_tn: 1031.0000 - val_tp: 10.0000 - val_precision: 0.8333 - val_recall: 0.1235\n",
      "Epoch 9/30\n",
      "90/90 [==============================] - 0s 3ms/step - loss: 0.1808 - fn: 307.0000 - fp: 9.0000 - tn: 4092.0000 - tp: 44.0000 - precision: 0.8302 - recall: 0.1254 - val_loss: 0.2336 - val_fn: 72.0000 - val_fp: 2.0000 - val_tn: 1031.0000 - val_tp: 9.0000 - val_precision: 0.8182 - val_recall: 0.1111\n",
      "Epoch 10/30\n",
      "90/90 [==============================] - 0s 4ms/step - loss: 0.1787 - fn: 304.0000 - fp: 11.0000 - tn: 4090.0000 - tp: 47.0000 - precision: 0.8103 - recall: 0.1339 - val_loss: 0.2307 - val_fn: 71.0000 - val_fp: 2.0000 - val_tn: 1031.0000 - val_tp: 10.0000 - val_precision: 0.8333 - val_recall: 0.1235\n",
      "Epoch 11/30\n",
      "90/90 [==============================] - 0s 4ms/step - loss: 0.1755 - fn: 305.0000 - fp: 6.0000 - tn: 4095.0000 - tp: 46.0000 - precision: 0.8846 - recall: 0.1311 - val_loss: 0.2301 - val_fn: 70.0000 - val_fp: 2.0000 - val_tn: 1031.0000 - val_tp: 11.0000 - val_precision: 0.8462 - val_recall: 0.1358\n",
      "Epoch 12/30\n",
      "90/90 [==============================] - 0s 3ms/step - loss: 0.1724 - fn: 299.0000 - fp: 8.0000 - tn: 4093.0000 - tp: 52.0000 - precision: 0.8667 - recall: 0.1481 - val_loss: 0.2216 - val_fn: 70.0000 - val_fp: 2.0000 - val_tn: 1031.0000 - val_tp: 11.0000 - val_precision: 0.8462 - val_recall: 0.1358\n",
      "Epoch 13/30\n",
      "90/90 [==============================] - 0s 5ms/step - loss: 0.1695 - fn: 296.0000 - fp: 8.0000 - tn: 4093.0000 - tp: 55.0000 - precision: 0.8730 - recall: 0.1567 - val_loss: 0.2282 - val_fn: 70.0000 - val_fp: 2.0000 - val_tn: 1031.0000 - val_tp: 11.0000 - val_precision: 0.8462 - val_recall: 0.1358\n",
      "Epoch 14/30\n",
      "90/90 [==============================] - 0s 4ms/step - loss: 0.1673 - fn: 292.0000 - fp: 8.0000 - tn: 4093.0000 - tp: 59.0000 - precision: 0.8806 - recall: 0.1681 - val_loss: 0.2124 - val_fn: 70.0000 - val_fp: 0.0000e+00 - val_tn: 1033.0000 - val_tp: 11.0000 - val_precision: 1.0000 - val_recall: 0.1358\n",
      "Epoch 15/30\n",
      "90/90 [==============================] - 0s 3ms/step - loss: 0.1642 - fn: 290.0000 - fp: 7.0000 - tn: 4094.0000 - tp: 61.0000 - precision: 0.8971 - recall: 0.1738 - val_loss: 0.2227 - val_fn: 70.0000 - val_fp: 2.0000 - val_tn: 1031.0000 - val_tp: 11.0000 - val_precision: 0.8462 - val_recall: 0.1358\n",
      "Epoch 16/30\n",
      "90/90 [==============================] - 0s 3ms/step - loss: 0.1615 - fn: 286.0000 - fp: 4.0000 - tn: 4097.0000 - tp: 65.0000 - precision: 0.9420 - recall: 0.1852 - val_loss: 0.2113 - val_fn: 70.0000 - val_fp: 1.0000 - val_tn: 1032.0000 - val_tp: 11.0000 - val_precision: 0.9167 - val_recall: 0.1358\n",
      "Epoch 17/30\n",
      "90/90 [==============================] - 0s 3ms/step - loss: 0.1586 - fn: 283.0000 - fp: 9.0000 - tn: 4092.0000 - tp: 68.0000 - precision: 0.8831 - recall: 0.1937 - val_loss: 0.3275 - val_fn: 63.0000 - val_fp: 2.0000 - val_tn: 1031.0000 - val_tp: 18.0000 - val_precision: 0.9000 - val_recall: 0.2222\n",
      "Epoch 18/30\n",
      "90/90 [==============================] - 0s 3ms/step - loss: 0.1572 - fn: 276.0000 - fp: 5.0000 - tn: 4096.0000 - tp: 75.0000 - precision: 0.9375 - recall: 0.2137 - val_loss: 0.2859 - val_fn: 52.0000 - val_fp: 21.0000 - val_tn: 1012.0000 - val_tp: 29.0000 - val_precision: 0.5800 - val_recall: 0.3580\n",
      "Epoch 19/30\n",
      "90/90 [==============================] - 0s 3ms/step - loss: 0.1541 - fn: 274.0000 - fp: 11.0000 - tn: 4090.0000 - tp: 77.0000 - precision: 0.8750 - recall: 0.2194 - val_loss: 0.1934 - val_fn: 69.0000 - val_fp: 1.0000 - val_tn: 1032.0000 - val_tp: 12.0000 - val_precision: 0.9231 - val_recall: 0.1481\n",
      "Epoch 20/30\n",
      "90/90 [==============================] - 0s 3ms/step - loss: 0.1490 - fn: 270.0000 - fp: 7.0000 - tn: 4094.0000 - tp: 81.0000 - precision: 0.9205 - recall: 0.2308 - val_loss: 0.4409 - val_fn: 49.0000 - val_fp: 207.0000 - val_tn: 826.0000 - val_tp: 32.0000 - val_precision: 0.1339 - val_recall: 0.3951\n",
      "Epoch 21/30\n",
      "90/90 [==============================] - 0s 3ms/step - loss: 0.1482 - fn: 264.0000 - fp: 15.0000 - tn: 4086.0000 - tp: 87.0000 - precision: 0.8529 - recall: 0.2479 - val_loss: 0.1852 - val_fn: 68.0000 - val_fp: 0.0000e+00 - val_tn: 1033.0000 - val_tp: 13.0000 - val_precision: 1.0000 - val_recall: 0.1605\n",
      "Epoch 22/30\n",
      "90/90 [==============================] - 0s 3ms/step - loss: 0.1433 - fn: 260.0000 - fp: 6.0000 - tn: 4095.0000 - tp: 91.0000 - precision: 0.9381 - recall: 0.2593 - val_loss: 0.1842 - val_fn: 67.0000 - val_fp: 0.0000e+00 - val_tn: 1033.0000 - val_tp: 14.0000 - val_precision: 1.0000 - val_recall: 0.1728\n",
      "Epoch 23/30\n",
      "90/90 [==============================] - 0s 3ms/step - loss: 0.1405 - fn: 256.0000 - fp: 5.0000 - tn: 4096.0000 - tp: 95.0000 - precision: 0.9500 - recall: 0.2707 - val_loss: 0.1814 - val_fn: 67.0000 - val_fp: 0.0000e+00 - val_tn: 1033.0000 - val_tp: 14.0000 - val_precision: 1.0000 - val_recall: 0.1728\n",
      "Epoch 24/30\n",
      "90/90 [==============================] - 0s 3ms/step - loss: 0.1378 - fn: 252.0000 - fp: 9.0000 - tn: 4092.0000 - tp: 99.0000 - precision: 0.9167 - recall: 0.2821 - val_loss: 0.1766 - val_fn: 61.0000 - val_fp: 1.0000 - val_tn: 1032.0000 - val_tp: 20.0000 - val_precision: 0.9524 - val_recall: 0.2469\n"
     ]
    },
    {
     "name": "stdout",
     "output_type": "stream",
     "text": [
      "Epoch 25/30\n",
      "90/90 [==============================] - 0s 3ms/step - loss: 0.1359 - fn: 252.0000 - fp: 7.0000 - tn: 4094.0000 - tp: 99.0000 - precision: 0.9340 - recall: 0.2821 - val_loss: 0.9949 - val_fn: 15.0000 - val_fp: 447.0000 - val_tn: 586.0000 - val_tp: 66.0000 - val_precision: 0.1287 - val_recall: 0.8148\n",
      "Epoch 26/30\n",
      "90/90 [==============================] - 0s 3ms/step - loss: 0.1403 - fn: 249.0000 - fp: 40.0000 - tn: 4061.0000 - tp: 102.0000 - precision: 0.7183 - recall: 0.2906 - val_loss: 0.1696 - val_fn: 59.0000 - val_fp: 0.0000e+00 - val_tn: 1033.0000 - val_tp: 22.0000 - val_precision: 1.0000 - val_recall: 0.2716\n",
      "Epoch 27/30\n",
      "90/90 [==============================] - 0s 3ms/step - loss: 0.1303 - fn: 243.0000 - fp: 7.0000 - tn: 4094.0000 - tp: 108.0000 - precision: 0.9391 - recall: 0.3077 - val_loss: 0.1646 - val_fn: 59.0000 - val_fp: 0.0000e+00 - val_tn: 1033.0000 - val_tp: 22.0000 - val_precision: 1.0000 - val_recall: 0.2716\n",
      "Epoch 28/30\n",
      "90/90 [==============================] - 0s 3ms/step - loss: 0.1272 - fn: 236.0000 - fp: 3.0000 - tn: 4098.0000 - tp: 115.0000 - precision: 0.9746 - recall: 0.3276 - val_loss: 0.1806 - val_fn: 64.0000 - val_fp: 0.0000e+00 - val_tn: 1033.0000 - val_tp: 17.0000 - val_precision: 1.0000 - val_recall: 0.2099\n",
      "Epoch 29/30\n",
      "90/90 [==============================] - 0s 3ms/step - loss: 0.1266 - fn: 236.0000 - fp: 6.0000 - tn: 4095.0000 - tp: 115.0000 - precision: 0.9504 - recall: 0.3276 - val_loss: 0.1948 - val_fn: 48.0000 - val_fp: 3.0000 - val_tn: 1030.0000 - val_tp: 33.0000 - val_precision: 0.9167 - val_recall: 0.4074\n",
      "Epoch 30/30\n",
      "90/90 [==============================] - 0s 4ms/step - loss: 0.1264 - fn: 230.0000 - fp: 21.0000 - tn: 4080.0000 - tp: 121.0000 - precision: 0.8521 - recall: 0.3447 - val_loss: 0.1553 - val_fn: 59.0000 - val_fp: 0.0000e+00 - val_tn: 1033.0000 - val_tp: 22.0000 - val_precision: 1.0000 - val_recall: 0.2716\n"
     ]
    }
   ],
   "source": [
    "model3 = keras.Sequential(\n",
    "    [\n",
    "        keras.layers.Dense(\n",
    "            8, activation=\"relu\", input_shape=(X_train.shape[-1],)\n",
    "        ),\n",
    "        keras.layers.Dense(8, activation=\"relu\"),\n",
    "        keras.layers.Dense(1, activation=\"sigmoid\"),\n",
    "    ]\n",
    ")\n",
    "model3.summary()\n",
    "\n",
    "# compilamos o modelo utilizando:\n",
    "#- um otimizador SGD\n",
    "#- a função de perda entropia cruzada\n",
    "#- as métricas acima\n",
    "model3.compile(\n",
    "    optimizer=keras.optimizers.SGD(1e-1), loss=\"binary_crossentropy\", metrics=metrics\n",
    ")\n",
    "\n",
    "history3 = model3.fit(\n",
    "    X_train,\n",
    "    y_train,\n",
    "    batch_size=batch_size,\n",
    "    epochs=epochs,\n",
    "    verbose=1,\n",
    "    validation_data=(X_test, y_test),\n",
    "    class_weight=class_weight,\n",
    ")"
   ]
  },
  {
   "cell_type": "code",
   "execution_count": 27,
   "metadata": {
    "colab": {
     "base_uri": "https://localhost:8080/",
     "height": 127
    },
    "id": "b7bZy--DwKQc",
    "outputId": "e3f4588b-e676-4276-a778-fcc3084d5a0b"
   },
   "outputs": [
    {
     "name": "stdout",
     "output_type": "stream",
     "text": [
      "Rede rasa\n",
      "--------\n",
      "Falsos negativos:  70.0\n",
      "Falsos positivos:  1.0\n",
      "Verdadeiros negativos:  1032.0\n",
      "Verdadeiros positivos:  11.0\n",
      "Precisao: 0.917\n",
      "Revocacao: 0.136\n",
      "\n",
      "Rede profunda\n",
      "--------\n",
      "Falsos negativos:  59.0\n",
      "Falsos positivos:  0.0\n",
      "Verdadeiros negativos:  1033.0\n",
      "Verdadeiros positivos:  22.0\n",
      "Precisao: 1.000\n",
      "Revocacao: 0.272\n"
     ]
    }
   ],
   "source": [
    "# Computando as métricas para o teste\n",
    "score3 = model3.evaluate(X_test, y_test, verbose=0)\n",
    "\n",
    "print(\"Rede rasa\")\n",
    "print(\"--------\")\n",
    "print(\"Falsos negativos: \", score2[1])\n",
    "print(\"Falsos positivos: \", score2[2])\n",
    "print(\"Verdadeiros negativos: \", score2[3])\n",
    "print(\"Verdadeiros positivos: \", score2[4])\n",
    "print(\"Precisao: %.3f\" % score2[5])\n",
    "print(\"Revocacao: %.3f\\n\" % score2[6])\n",
    "\n",
    "print(\"Rede profunda\")\n",
    "print(\"--------\")\n",
    "print(\"Falsos negativos: \", score3[1])\n",
    "print(\"Falsos positivos: \", score3[2])\n",
    "print(\"Verdadeiros negativos: \", score3[3])\n",
    "print(\"Verdadeiros positivos: \", score3[4])\n",
    "print(\"Precisao: %.3f\" % score3[5])\n",
    "print(\"Revocacao: %.3f\" % score3[6])"
   ]
  },
  {
   "cell_type": "code",
   "execution_count": 28,
   "metadata": {
    "id": "LcMnFOuxwMOV"
   },
   "outputs": [],
   "source": [
    "model3.reset_states() "
   ]
  },
  {
   "cell_type": "code",
   "execution_count": null,
   "metadata": {
    "id": "7JMRstJa4z7J"
   },
   "outputs": [],
   "source": []
  }
 ],
 "metadata": {
  "colab": {
   "collapsed_sections": [],
   "name": "RNAP-01_Notebook_Keras_dadosestruturados.ipynb",
   "provenance": []
  },
  "kernelspec": {
   "display_name": "Python 3",
   "language": "python",
   "name": "python3"
  },
  "language_info": {
   "codemirror_mode": {
    "name": "ipython",
    "version": 3
   },
   "file_extension": ".py",
   "mimetype": "text/x-python",
   "name": "python",
   "nbconvert_exporter": "python",
   "pygments_lexer": "ipython3",
   "version": "3.8.10"
  }
 },
 "nbformat": 4,
 "nbformat_minor": 1
}
