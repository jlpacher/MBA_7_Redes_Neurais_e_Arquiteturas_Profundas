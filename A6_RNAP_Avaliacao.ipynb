{
 "cells": [
  {
   "cell_type": "markdown",
   "metadata": {
    "id": "K8CDQUj8yqpq"
   },
   "source": [
    "## MBA em Ciência de Dados\n",
    "# Redes Neurais e Arquiteturas Profundas\n",
    "\n",
    "### <span style=\"color:darkred\">Módulo VI - Redes neurais para dados sequenciais</span>\n",
    "\n",
    "\n",
    "### <span style=\"color:darkred\">Avaliação</span>\n",
    "\n",
    "Moacir Antonelli Ponti\n",
    "\n",
    "CeMEAI - ICMC/USP São Carlos\n",
    "\n",
    "---\n",
    "\n",
    "As respostas devem ser dadas no Moodle, use esse notebook apenas para gerar o código necessário para obter as respostas\n",
    "\n",
    "---"
   ]
  },
  {
   "cell_type": "markdown",
   "metadata": {
    "id": "g2rYe1SFHasu"
   },
   "source": [
    "---\n",
    "\n",
    "### Questão 1)\n",
    "\n",
    "**Quais** dos cenários abaixo não necessitam de redes recorrentes que consideram a dependência sequencial dos dados?\n",
    "\n",
    " (a) Classificação de qualidade do ar usando série temporal multivariada a partir de sensores IoT<br>\n",
    "<font color='red'> (b) Regressão do consumo de quilômetros por hora de automóveis fabricados no Brasil com base em suas características: fabricante, modelo, peso do veículo, número de litros do porta-malas e cavalos de potência.</font><br>\n",
    " (c) Tradução automática de uma sentença do Inglês para o Português<br>\n",
    " (d) Regressão a probabilidade de transbordamento de um rio com base em dados do nível do rio obtido por sensor e índices pluviométricos e metereológicos, todos adquiridos a cada 1 segundo.<br>"
   ]
  },
  {
   "cell_type": "markdown",
   "metadata": {
    "id": "C1sh5GgYyqqY"
   },
   "source": [
    "---\n",
    "\n",
    "### Questão 2)\n",
    "\n",
    "**Qual** o mecanismo pelo qual unidades recorrentes GRU e LSTM são capazes de considerar a sequência dos dados durante o aprendizado dos parâmetros do modelo?\n",
    "\n",
    "(a) Mecanismo de atenção que realiza o produto interno entre os elementos de entrada utilizando uma janela definida pelo time step<br>\n",
    "<font color='red'>(b) A saída do neurônio na iteração atual é combinada com a entrada da próxima iteração</font><br>\n",
    "(c) Combinar as features de entrada multiplicando cada feature por um peso independente e passando essa combinação para o próximo neurônio<br>\n",
    "(d) Armazenar em um histórico o valor de entrada em cada iteração $i$, combinando a entrada atual com a entrada na próxima iteração $i+1$<br>\n"
   ]
  },
  {
   "cell_type": "markdown",
   "metadata": {
    "id": "xMJ4IFd7yqpt"
   },
   "source": [
    "### Questão 3)\n",
    "\n",
    "O que significa o *time step* no projeto de uma rede neural recorrente?\n",
    "\n",
    "<font color='red'>(a) Define as observações de entrada ao longo de uma sequência a serem processadas para produzir cada saída.</font><br>\n",
    "(b) A taxa de amostragem dos dados de entrada da rede neural.<br>\n",
    "(c) Parâmetro similar ao *stride* da unidade convolucional o que, na unidade recorrente, significa saltar um número de instâncias para computar a combinação linear das observações de entrada<br>\n",
    "(d) Dimensão do tensor de entrada que indica a quantidade de *features* para cada observação na sequência.<br>"
   ]
  },
  {
   "cell_type": "markdown",
   "metadata": {
    "id": "nJQ0-S3myqqL"
   },
   "source": [
    "---\n",
    "### Questão 4)\n",
    "\n",
    "A abordagem word2vec gera um vetor numérico para cada palavra, permitindo processar texto com redes neurais. Essa abordagem, que utiliza como base a técnica de skipgrams, resulta em representações vetoriais cujo espaço de característica apresenta qual característica principal?\n",
    "\n",
    "<font color='red'> (a) Palavras que aparecem em contextos similares estarão próximas no espaço de características</font><br>\n",
    " (b) Palavras que ocorrem com maior frequência no texto possuem maior importância na representação final<br>\n",
    " (c) Palavras estão organizadas no espaço de forma associada à classe do documento em que foram obtidas no conjunto de treinamento, ou seja, formam grupos com outras palavras de acordo com o rótulo do texto de origem.<br>\n",
    " (d) Palavras que aparecem em uma determinada ordem no texto estarão na mesma ordem em cada direção vetorial do espaço de características.<br>"
   ]
  },
  {
   "cell_type": "markdown",
   "metadata": {},
   "source": [
    "Função custo (que se quer minimizar): é a probabilidade de uma palavra num certo contexto dado que uma palavra atual foi observada."
   ]
  },
  {
   "cell_type": "markdown",
   "metadata": {
    "id": "ifQGbqS05Rts"
   },
   "source": [
    "---\n",
    "\n",
    "### Questão 5)\n",
    "\n",
    "Carregue o word embedding `glove_s50` em Português do NILC, conforme visto em aula, e obtenha os word embeddings das palavras: 'objetivo', 'alvo', 'seta', 'flecha', 'arco', 'intuito', 'arma', 'tiro', 'vida', 'meta'\n",
    "\n",
    "Produza uma projeção em 2 dimensões utilizando o PCA com random_state=0 e visualize os embeddings das palavras em um scatterplot. A seguir, utilize a distância Euclidiana para computar as palavras mais próximas da palavra 'objetivo' (excluindo a própria palavra) utilizando (1) o espaço Glove original de 50 dimensões e (2) o espaço reduzido pelo PCA com 2 dimensões. Quais são essas palavras, em ordem (iniciando pela menor distância)?\n",
    "\n",
    "(a) Espaço 50-d: meta, alvo; Espaço 2-d: intuito, meta <br>\n",
    "(b) Espaço 50-d: alvo, intuito; Espaço 2-d: alvo, tiro <br>\n",
    "(c) Espaço 50-d: intuito, meta; Espaço 2-d: meta, intuito<br>\n",
    "<font color='red'>(d) Espaço 50-d: intuito, alvo; Espaço 2-d: intuito, vida</font><br>"
   ]
  },
  {
   "cell_type": "code",
   "execution_count": 1,
   "metadata": {
    "id": "jZmvsE5hHasy"
   },
   "outputs": [],
   "source": [
    "# 1- carregar glove\n",
    "# descomente para baixar na primeira vez\n",
    "# !wget http://143.107.183.175:22980/download.php?file=embeddings/glove/glove_s50.zip\n",
    "# !mv download.php?file=embeddings%2Fglove%2Fglove_s50.zip glove_s50.zip\n",
    "# !unzip -q glove_s50.zip"
   ]
  },
  {
   "cell_type": "code",
   "execution_count": 2,
   "metadata": {},
   "outputs": [],
   "source": [
    "import os\n",
    "import numpy as np\n",
    "import matplotlib.pyplot as plt\n",
    "import tensorflow as tf\n",
    "import pandas as pd\n",
    "from tensorflow import keras\n",
    "from tensorflow.keras import layers\n",
    "from tensorflow.keras import models\n",
    "from numpy.random import seed\n",
    "from tensorflow.random import set_seed"
   ]
  },
  {
   "cell_type": "code",
   "execution_count": 3,
   "metadata": {},
   "outputs": [
    {
     "name": "stderr",
     "output_type": "stream",
     "text": [
      "<ipython-input-3-5d0a3ea25b0e>:14: DeprecationWarning: string or file could not be read to its end due to unmatched data; this will raise a ValueError in the future.\n",
      "  coefs = np.fromstring(coefs, dtype=\"f\", sep=\" \")  #dtype=\"i\"\n"
     ]
    },
    {
     "name": "stdout",
     "output_type": "stream",
     "text": [
      "Encontrados 929594 word vectors.\n"
     ]
    }
   ],
   "source": [
    "# carregando o corpus \n",
    "# codigo colab\n",
    "# path_to_glove_file = os.path.join(\n",
    "#    os.path.expanduser(\"~\"), \"/content/drive/My Drive/Redes Neurais/data/glove_s50.txt\" # colab\n",
    "# )\n",
    "\n",
    "# codigo execucao local\n",
    "path_to_glove_file = \"./glove_s50.txt\"\n",
    "\n",
    "embeddings_index = {}\n",
    "with open(path_to_glove_file, encoding=\"utf-8\") as f:\n",
    "    for line in f:\n",
    "        word, coefs = line.split(maxsplit=1)\n",
    "        coefs = np.fromstring(coefs, dtype=\"f\", sep=\" \")  #dtype=\"i\"\n",
    "        embeddings_index[word] = coefs\n",
    "\n",
    "print(\"Encontrados %s word vectors.\" % len(embeddings_index))"
   ]
  },
  {
   "cell_type": "code",
   "execution_count": 4,
   "metadata": {},
   "outputs": [
    {
     "name": "stdout",
     "output_type": "stream",
     "text": [
      "Palavra: objetivo  Número de dimensões: 50  Embedding:\n",
      "[-4.430300e-01  1.716350e-01 -2.463840e-01 -2.641544e+00  2.250490e-01\n",
      "  3.246830e-01  3.287290e-01 -6.142380e-01 -4.988900e-01  7.529980e-01\n",
      " -1.168290e-01 -2.720420e-01 -2.067800e-01  1.500030e-01  1.090113e+00\n",
      "  2.306300e-02  5.446050e-01 -9.575190e-01  4.598050e-01  6.770410e-01\n",
      "  1.226816e+00  6.690000e-04 -7.648420e-01 -9.252180e-01 -6.391950e-01\n",
      " -3.898280e-01  6.525890e-01 -9.826100e-02  1.354790e-01 -1.488090e-01\n",
      " -2.089010e-01  8.783570e-01  1.749910e-01  3.164350e-01  2.283010e-01\n",
      " -3.944960e-01 -4.159000e-01  1.357507e+00 -7.422000e-01  2.305630e-01\n",
      " -6.117030e-01  1.051915e+00  3.423940e-01 -2.573810e-01  1.023910e-01\n",
      " -4.521580e-01  1.207511e+00  7.137380e-01 -5.977760e-01 -4.656310e-01]\n",
      "Palavra: alvo  Número de dimensões: 50  Embedding:\n",
      "[ 0.056642  0.015544 -0.141454 -2.442725 -0.306541  0.312559 -0.720949\n",
      " -0.55864  -1.343847  0.492189  0.23534   0.590946 -0.467008 -0.179045\n",
      " -0.047504  0.383282 -0.095568 -0.46778   0.770788  0.947877  0.334957\n",
      "  0.652526 -0.692915 -0.07043  -0.899422 -0.827294  0.342067 -0.535932\n",
      "  0.105901  0.153019  0.114275  0.148719 -0.348375  0.034834 -0.125986\n",
      " -0.783027  0.115882 -0.316858 -0.24944   0.201051 -0.144803  0.449369\n",
      "  0.263507 -0.779296  0.071122 -0.250403 -0.033517  0.411516  0.082505\n",
      " -0.034247]\n",
      "Palavra: seta  Número de dimensões: 50  Embedding:\n",
      "[-0.860681  0.032355  0.338467 -0.287198  0.52523  -0.733403  0.027553\n",
      "  0.019633  0.076914 -0.361883 -0.050115 -0.241177 -0.160178  0.013316\n",
      " -0.802998 -0.118204  0.039583  0.222015  0.065375 -0.031049  0.079543\n",
      "  0.948573  0.842649 -0.134522 -0.004394  0.502618  0.977217  1.08768\n",
      " -0.778494 -0.053613  0.752553 -0.14338   0.216629 -0.683704 -0.276899\n",
      " -0.728477  0.3124   -0.081681 -0.704787  0.947706  0.392883  0.651239\n",
      "  0.303528 -0.207802 -0.978928 -0.394655 -0.793304 -0.634184 -0.002041\n",
      "  0.074195]\n",
      "Palavra: flecha  Número de dimensões: 50  Embedding:\n",
      "[-0.655264 -0.744998  0.448404 -0.604507  0.062328 -0.304238  0.125641\n",
      " -0.209581 -0.168854 -0.296086  0.53324   0.433156  0.213446 -0.707203\n",
      " -0.005361 -0.145716  0.167762  0.01694   0.48891  -0.042079 -0.182851\n",
      "  0.997099  0.574323 -0.085541 -0.151651 -0.439052  0.780777  0.215341\n",
      " -0.912047 -0.171739 -0.433833 -0.661694  0.107456  0.235121 -0.53738\n",
      " -0.352953  0.830938  0.090932 -0.752567  1.186333  0.544809  1.185046\n",
      " -0.046783  0.059372 -0.49246   0.035951 -0.166624 -0.603823  0.291507\n",
      "  0.096879]\n",
      "Palavra: arco  Número de dimensões: 50  Embedding:\n",
      "[-0.259746 -0.218389  0.048156 -1.385883  0.675932  0.156779  0.309662\n",
      " -0.884309 -1.040847  0.552609  0.295092 -0.213784 -0.284215 -0.944101\n",
      "  0.031899 -0.055182  0.2017    0.084751  0.392864 -1.537593 -0.120456\n",
      "  0.477354  0.066137  0.015158  0.056682 -0.187404  0.564643  0.50819\n",
      " -0.494674  1.023765  1.007183 -0.3317    0.001952 -0.144741  0.25599\n",
      " -1.022318 -0.562027 -0.111924 -0.680911  1.544618  0.19934   0.549331\n",
      "  0.003913  0.361973 -0.159281 -0.390256 -0.934852  0.396175  0.709261\n",
      "  0.547565]\n",
      "Palavra: intuito  Número de dimensões: 50  Embedding:\n",
      "[ 0.129727 -0.082581 -0.080033 -1.830389  0.215027  0.453241  0.238645\n",
      " -0.134991 -0.18848   0.577437  0.05125  -0.267113 -0.37527  -0.328322\n",
      "  0.561301 -0.116559  0.256554 -0.971026  0.124101  0.485107  0.858312\n",
      " -0.26477  -0.236295 -0.060809 -0.596855 -0.732782  0.39865   0.380717\n",
      "  0.376297 -0.449542 -0.258483  0.91476   0.098635  0.267803  0.023941\n",
      "  0.146819 -0.185428  0.809417 -0.167193  0.00386  -0.630065  0.603863\n",
      "  0.551015  0.159761 -0.246041 -0.525615  0.601766  0.473261 -0.89627\n",
      " -0.162263]\n",
      "Palavra: arma  Número de dimensões: 50  Embedding:\n",
      "[-0.154093 -0.852917 -0.524022 -2.719674  0.241985 -0.753205  0.299452\n",
      " -0.400619 -0.132854  0.093974 -0.056474  0.622303 -0.144793  0.163361\n",
      "  0.611761  0.366947 -0.381919 -0.344436  1.39062   0.451445  0.197766\n",
      "  1.420533  0.40318  -0.133384  0.109274 -1.06932   0.690065 -0.826026\n",
      " -1.354972  0.338193  0.360596 -0.224167 -0.121791 -0.622525 -0.346155\n",
      " -1.0295    0.390141  0.091964  0.247864  1.208915  0.028186  0.988894\n",
      "  0.831201 -1.28656  -0.986954  1.177875 -0.285077  0.031881 -0.052073\n",
      " -0.063181]\n",
      "Palavra: tiro  Número de dimensões: 50  Embedding:\n",
      "[ 0.739536 -1.11087  -0.353128 -1.848336  0.593752  0.049874  0.110041\n",
      " -0.992766  0.281265  0.392338  0.230857  0.703516 -0.178897 -0.806336\n",
      "  0.341205 -0.063236  0.128237  0.159258  1.115251  0.088469  0.183871\n",
      "  0.538555 -0.505626 -0.404181 -0.653419 -1.225814  0.927224 -0.216496\n",
      " -1.284556  0.294226  0.505719 -0.71332  -0.460736 -0.224639  0.10885\n",
      " -1.29195   0.360121 -0.308506 -0.28077   0.72947   0.293209  0.594274\n",
      " -0.04302  -0.807971 -0.695753  0.66153  -0.196375  0.37633   0.607894\n",
      "  0.464465]\n",
      "Palavra: vida  Número de dimensões: 50  Embedding:\n",
      "[-0.87524  -0.2731   -1.533609 -2.916554  0.616153  0.141602  0.086963\n",
      " -0.245953  0.371422  0.819228 -0.127573  0.197148 -0.267388 -0.537411\n",
      "  1.01758  -0.103754  0.263687 -0.799969 -0.464918  1.13105   0.473803\n",
      " -0.388536  0.146638 -0.465044 -0.533106 -0.461174 -0.481152 -0.783588\n",
      " -0.562234  2.350622 -0.680357  0.172529 -0.053096  1.063261  0.264745\n",
      " -0.249079  0.757518 -0.579731 -0.926444  0.60963   0.292106  0.354261\n",
      " -0.321021 -0.119086  0.196867 -0.582988  0.483115  0.599714 -0.563972\n",
      " -0.854462]\n",
      "Palavra: meta  Número de dimensões: 50  Embedding:\n",
      "[-0.452767 -0.16629   0.697816 -1.559474  0.690833 -1.083779 -0.028838\n",
      " -0.56131  -0.414783  0.33608  -0.145482  0.388526  0.093486  0.848144\n",
      "  0.259466  0.317344  0.201522 -0.042847  0.492112  0.463482  0.918944\n",
      "  0.024961 -0.280044 -0.974974  0.180893  0.314742  1.176615 -0.424691\n",
      " -0.053463 -0.076862 -0.843522  0.136759  0.834669 -0.040216 -0.248267\n",
      " -0.531756  0.243628  1.246398 -2.19289   1.205027  0.115161  0.705328\n",
      " -0.268878 -0.311352  0.448147 -0.468897  1.345341 -0.367899  0.298198\n",
      "  0.904754]\n"
     ]
    }
   ],
   "source": [
    "# 2- obter embeddings com 50 dimensoes\n",
    "# vetores das palavras\n",
    "palavras = ['objetivo', 'alvo', 'seta', 'flecha', 'arco', 'intuito', 'arma', 'tiro', 'vida', 'meta']\n",
    "for p in palavras:\n",
    "    print('Palavra:',p,' Número de dimensões:', len(embeddings_index[p]), ' Embedding:')\n",
    "    print(embeddings_index[p])"
   ]
  },
  {
   "cell_type": "code",
   "execution_count": 5,
   "metadata": {},
   "outputs": [
    {
     "data": {
      "text/plain": [
       "(10, 50)"
      ]
     },
     "execution_count": 5,
     "metadata": {},
     "output_type": "execute_result"
    }
   ],
   "source": [
    "vetor50d = []\n",
    "palavras = ['objetivo', 'alvo', 'seta', 'flecha', 'arco', 'intuito', 'arma', 'tiro', 'vida', 'meta']\n",
    "for p in palavras:\n",
    "    vetor50d.append(embeddings_index[p])\n",
    "vetor50d = np.array(vetor50d)\n",
    "vetor50d.shape"
   ]
  },
  {
   "cell_type": "code",
   "execution_count": 6,
   "metadata": {
    "id": "jZmvsE5hHasy"
   },
   "outputs": [
    {
     "name": "stdout",
     "output_type": "stream",
     "text": [
      "\tDados x features obtidas após PCA:  (10, 2)\n"
     ]
    }
   ],
   "source": [
    "# 3- computar PCA e projetar em 2 dimensoes\n",
    "from sklearn.decomposition import PCA\n",
    "\n",
    "pca = PCA(n_components=2)\n",
    "pca.fit(vetor50d)\n",
    "pca2d = pca.transform(vetor50d)\n",
    "print('\\tDados x features obtidas após PCA: ', pca2d.shape)\n"
   ]
  },
  {
   "cell_type": "code",
   "execution_count": 7,
   "metadata": {
    "id": "YSq21ZH-Hasz"
   },
   "outputs": [
    {
     "data": {
      "image/png": "[encoded data removed]",
      "text/plain": [
       "<Figure size 432x288 with 1 Axes>"
      ]
     },
     "metadata": {
      "needs_background": "light"
     },
     "output_type": "display_data"
    }
   ],
   "source": [
    "# 4- scatterplot dos dados em 2d num array pca2d\n",
    "import matplotlib.pyplot as plt\n",
    "fig, ax = plt.subplots()\n",
    "scatter = ax.scatter(pca2d[:,0], pca2d[:,1])\n",
    "\n",
    "# exibe palavras ao lado dos pontos\n",
    "# - a variavel palavras deve conter a lista de palavras\n",
    "# - a variavel pca2d deve ser o array numpy contendo os dados projetados via PCA\n",
    "for i, txt in enumerate(palavras):\n",
    "    ax.annotate(txt, (pca2d[i,0], pca2d[i,1]))"
   ]
  },
  {
   "cell_type": "code",
   "execution_count": 8,
   "metadata": {},
   "outputs": [
    {
     "name": "stdout",
     "output_type": "stream",
     "text": [
      "[-4.430300e-01  1.716350e-01 -2.463840e-01 -2.641544e+00  2.250490e-01\n",
      "  3.246830e-01  3.287290e-01 -6.142380e-01 -4.988900e-01  7.529980e-01\n",
      " -1.168290e-01 -2.720420e-01 -2.067800e-01  1.500030e-01  1.090113e+00\n",
      "  2.306300e-02  5.446050e-01 -9.575190e-01  4.598050e-01  6.770410e-01\n",
      "  1.226816e+00  6.690000e-04 -7.648420e-01 -9.252180e-01 -6.391950e-01\n",
      " -3.898280e-01  6.525890e-01 -9.826100e-02  1.354790e-01 -1.488090e-01\n",
      " -2.089010e-01  8.783570e-01  1.749910e-01  3.164350e-01  2.283010e-01\n",
      " -3.944960e-01 -4.159000e-01  1.357507e+00 -7.422000e-01  2.305630e-01\n",
      " -6.117030e-01  1.051915e+00  3.423940e-01 -2.573810e-01  1.023910e-01\n",
      " -4.521580e-01  1.207511e+00  7.137380e-01 -5.977760e-01 -4.656310e-01]\n",
      "[2.9068394 0.854547 ]\n"
     ]
    }
   ],
   "source": [
    "# Palavra de referência: 'objetivo'\n",
    "print(vetor50d[0])\n",
    "print(pca2d[0])"
   ]
  },
  {
   "cell_type": "code",
   "execution_count": 9,
   "metadata": {},
   "outputs": [
    {
     "name": "stdout",
     "output_type": "stream",
     "text": [
      "Distâncias 50d: [0.0, 4.01945686340332, 6.287748336791992, 5.742746353149414, 5.812994480133057, 2.5110530853271484, 5.613966941833496, 5.518706321716309, 4.954581260681152, 4.436448097229004]\n",
      "Distâncias 2d: [0.0, 2.802661418914795, 5.653047561645508, 4.930658340454102, 4.800335884094238, 0.9124592542648315, 5.068037033081055, 5.048439979553223, 2.430748462677002, 3.0456278324127197]\n"
     ]
    },
    {
     "data": {
      "text/plain": [
       "['objetivo',\n",
       " 'alvo',\n",
       " 'seta',\n",
       " 'flecha',\n",
       " 'arco',\n",
       " 'intuito',\n",
       " 'arma',\n",
       " 'tiro',\n",
       " 'vida',\n",
       " 'meta']"
      ]
     },
     "execution_count": 9,
     "metadata": {},
     "output_type": "execute_result"
    }
   ],
   "source": [
    "# 5- calcular distancias euclidianas nos espacos 50d e 2d\n",
    "dist_50d = []\n",
    "dist_2d = []\n",
    "from scipy.spatial import distance\n",
    "\n",
    "for i in range(len(palavras)):\n",
    "    a = vetor50d[0]\n",
    "    b = vetor50d[i]\n",
    "    dst = distance.euclidean(a, b)\n",
    "    dist_50d.append(dst)\n",
    "    a = pca2d[0]\n",
    "    b = pca2d[i]\n",
    "    dst = distance.euclidean(a, b)\n",
    "    dist_2d.append(dst)\n",
    "    \n",
    "print('Distâncias 50d:',dist_50d)\n",
    "print('Distâncias 2d:', dist_2d)\n",
    "palavras    "
   ]
  },
  {
   "cell_type": "code",
   "execution_count": 10,
   "metadata": {
    "id": "STEH5OB2Has0"
   },
   "outputs": [
    {
     "data": {
      "text/plain": [
       "array([0, 5, 1, 9, 8, 7, 6, 3, 4, 2], dtype=int64)"
      ]
     },
     "execution_count": 10,
     "metadata": {},
     "output_type": "execute_result"
    }
   ],
   "source": [
    "# 6- obter e exibir palavras mais proximas\n",
    "sorted_index_50d = np.argsort(dist_50d)\n",
    "sorted_index_50d"
   ]
  },
  {
   "cell_type": "code",
   "execution_count": 11,
   "metadata": {},
   "outputs": [
    {
     "data": {
      "text/plain": [
       "array([0, 5, 8, 1, 9, 4, 3, 7, 6, 2], dtype=int64)"
      ]
     },
     "execution_count": 11,
     "metadata": {},
     "output_type": "execute_result"
    }
   ],
   "source": [
    "sorted_index_2d = np.argsort(dist_2d)\n",
    "sorted_index_2d"
   ]
  },
  {
   "cell_type": "code",
   "execution_count": 12,
   "metadata": {},
   "outputs": [
    {
     "name": "stdout",
     "output_type": "stream",
     "text": [
      "Menores distâncias 50d: 2.5110530853271484 4.01945686340332\n",
      "Palavras mais próximas 50d: intuito alvo\n",
      "Menores distâncias 2d: 0.9124592542648315 2.430748462677002\n",
      "Palavras mais próximas 2d: intuito vida\n"
     ]
    }
   ],
   "source": [
    "print('Menores distâncias 50d:', \n",
    "      dist_50d[sorted_index_50d[1]], dist_50d[sorted_index_50d[2]])\n",
    "print('Palavras mais próximas 50d:', \n",
    "      palavras[sorted_index_50d[1]], palavras[sorted_index_50d[2]])\n",
    "\n",
    "print('Menores distâncias 2d:', \n",
    "      dist_2d[sorted_index_2d[1]], dist_2d[sorted_index_2d[2]])\n",
    "print('Palavras mais próximas 2d:', \n",
    "      palavras[sorted_index_2d[1]], palavras[sorted_index_2d[2]])\n"
   ]
  },
  {
   "cell_type": "code",
   "execution_count": null,
   "metadata": {},
   "outputs": [],
   "source": []
  }
 ],
 "metadata": {
  "accelerator": "GPU",
  "colab": {
   "collapsed_sections": [],
   "name": "RNAP-06-Avaliacao.ipynb",
   "provenance": []
  },
  "kernelspec": {
   "display_name": "Python 3",
   "language": "python",
   "name": "python3"
  },
  "language_info": {
   "codemirror_mode": {
    "name": "ipython",
    "version": 3
   },
   "file_extension": ".py",
   "mimetype": "text/x-python",
   "name": "python",
   "nbconvert_exporter": "python",
   "pygments_lexer": "ipython3",
   "version": "3.8.10"
  }
 },
 "nbformat": 4,
 "nbformat_minor": 1
}
