{
 "cells": [
  {
   "cell_type": "markdown",
   "metadata": {
    "id": "fvaEK6Bn-wwG"
   },
   "source": [
    "## MBA em Ciência de Dados\n",
    "# Redes Neurais e Arquiteturas Profundas\n",
    "\n",
    "### <span style=\"color:darkred\">Módulo 6 - Redes neurais para dados sequenciais</span>\n",
    "\n",
    "#### <span style=\"color:darkred\">**Parte 3: Mecanismo de atenção**</span>\n",
    "\n",
    "Moacir Antonelli Ponti\n",
    "\n",
    "CeMEAI - ICMC/USP São Carlos\n",
    "\n",
    "---"
   ]
  },
  {
   "cell_type": "code",
   "execution_count": 1,
   "metadata": {
    "id": "wvtQgvYq_z7v"
   },
   "outputs": [
    {
     "name": "stderr",
     "output_type": "stream",
     "text": [
      "<ipython-input-1-0aa74c90bb7f>:3: FutureWarning: The pandas.datetime class is deprecated and will be removed from pandas in a future version. Import from datetime module instead.\n",
      "  from pandas import datetime\n"
     ]
    }
   ],
   "source": [
    "import numpy as np\n",
    "from pandas import read_csv\n",
    "from pandas import datetime\n",
    "import matplotlib.pyplot as plt\n",
    "import tensorflow as tf\n",
    "from tensorflow import keras\n",
    "from keras import layers\n",
    "from numpy.random import seed\n",
    "from tensorflow.random import set_seed\n"
   ]
  },
  {
   "cell_type": "code",
   "execution_count": 2,
   "metadata": {
    "id": "KgO7dF4s9D7X"
   },
   "outputs": [],
   "source": [
    "def modelo_denso(input_shape):\n",
    "    inputs = layers.Input(shape=(input_shape,))\n",
    "\n",
    "    # Atenção baseada em softmax\n",
    "    attention_probs = layers.Dense(input_shape, activation='softmax', name='attention_vec')(inputs)\n",
    "    attention_mul = layers.Multiply(name='attention_mul')([inputs, attention_probs])\n",
    "    # Fim da camada de atencao\n",
    "\n",
    "    attention_mul = layers.Dense(16)(attention_mul)\n",
    "    output = layers.Dense(1, activation='sigmoid')(attention_mul)\n",
    "    model = keras.models.Model(inputs=[inputs], outputs=output)\n",
    "    return model"
   ]
  },
  {
   "cell_type": "code",
   "execution_count": 3,
   "metadata": {
    "id": "EQ11lJuvFr-i"
   },
   "outputs": [],
   "source": [
    "def dados_atencao(N, dim, atencao=(1, 3)):  \n",
    "    x = (np.random.randn(N*dim)*0.25).reshape([N,dim])\n",
    "    y = np.random.randint(low=0, high=2, size=(N, 1))\n",
    "    for at in atencao:\n",
    "      x[:, at] = y[:, 0]\n",
    "    return x, y"
   ]
  },
  {
   "cell_type": "code",
   "execution_count": 4,
   "metadata": {
    "colab": {
     "base_uri": "https://localhost:8080/",
     "height": 635
    },
    "id": "1w705v9dFnN5",
    "outputId": "78492ca9-2941-477c-d509-fc2412908ee8"
   },
   "outputs": [
    {
     "name": "stdout",
     "output_type": "stream",
     "text": [
      "Model: \"model\"\n",
      "__________________________________________________________________________________________________\n",
      "Layer (type)                    Output Shape         Param #     Connected to                     \n",
      "==================================================================================================\n",
      "input_1 (InputLayer)            [(None, 10)]         0                                            \n",
      "__________________________________________________________________________________________________\n",
      "attention_vec (Dense)           (None, 10)           110         input_1[0][0]                    \n",
      "__________________________________________________________________________________________________\n",
      "attention_mul (Multiply)        (None, 10)           0           input_1[0][0]                    \n",
      "                                                                 attention_vec[0][0]              \n",
      "__________________________________________________________________________________________________\n",
      "dense (Dense)                   (None, 16)           176         attention_mul[0][0]              \n",
      "__________________________________________________________________________________________________\n",
      "dense_1 (Dense)                 (None, 1)            17          dense[0][0]                      \n",
      "==================================================================================================\n",
      "Total params: 303\n",
      "Trainable params: 303\n",
      "Non-trainable params: 0\n",
      "__________________________________________________________________________________________________\n",
      "None\n"
     ]
    },
    {
     "data": {
      "image/png": "[encoded data removed]",
      "text/plain": [
       "<Figure size 432x288 with 1 Axes>"
      ]
     },
     "metadata": {
      "needs_background": "light"
     },
     "output_type": "display_data"
    }
   ],
   "source": [
    "N = 100\n",
    "d = 10\n",
    "\n",
    "seed(10)\n",
    "train_x, train_y = dados_atencao(N, d)\n",
    "test_x, test_y = dados_atencao(1, d)\n",
    "\n",
    "plt.bar(np.arange(d), train_x[0])\n",
    "\n",
    "modelD = modelo_denso(d)\n",
    "modelD.compile(optimizer='adam', loss='binary_crossentropy', metrics=['accuracy'])\n",
    "print(modelD.summary())\n",
    "\n",
    "output_att = keras.models.Model(inputs=modelD.input, outputs=modelD.get_layer('attention_vec').output)\n",
    "output_mul = keras.models.Model(inputs=modelD.input, outputs=modelD.get_layer('attention_mul').output)"
   ]
  },
  {
   "cell_type": "code",
   "execution_count": 5,
   "metadata": {
    "colab": {
     "base_uri": "https://localhost:8080/",
     "height": 359
    },
    "id": "FXMPsyP0PGLR",
    "outputId": "340c3e1b-3071-49b1-9e68-d143e0eba84d"
   },
   "outputs": [
    {
     "name": "stdout",
     "output_type": "stream",
     "text": [
      "Vetor de \"atencao\" = [0.12339707 0.127231   0.10159291 0.09209    0.13397677 0.10938547\n",
      " 0.11070928 0.03234274 0.07032354 0.09895123]\n"
     ]
    },
    {
     "data": {
      "text/plain": [
       "<BarContainer object of 10 artists>"
      ]
     },
     "execution_count": 5,
     "metadata": {},
     "output_type": "execute_result"
    },
    {
     "data": {
      "image/png": "[encoded data removed]",
      "text/plain": [
       "<Figure size 432x288 with 1 Axes>"
      ]
     },
     "metadata": {
      "needs_background": "light"
     },
     "output_type": "display_data"
    }
   ],
   "source": [
    "attention_vector = output_att.predict(test_x)[0]\n",
    "print('Vetor de \"atencao\" =', attention_vector)\n",
    "plt.bar(np.arange(d), attention_vector)"
   ]
  },
  {
   "cell_type": "code",
   "execution_count": 6,
   "metadata": {
    "colab": {
     "base_uri": "https://localhost:8080/",
     "height": 359
    },
    "id": "sTW-TOevGVxl",
    "outputId": "f3630d92-9a96-4023-fc8c-6cbbe00797aa"
   },
   "outputs": [
    {
     "name": "stdout",
     "output_type": "stream",
     "text": [
      "Vetor de \"atencao\" ponderado = [-0.07197671  0.127231   -0.0369064   0.09209    -0.04681109  0.00234884\n",
      "  0.07336399 -0.00392091  0.02408756  0.01124831]\n"
     ]
    },
    {
     "data": {
      "text/plain": [
       "<BarContainer object of 10 artists>"
      ]
     },
     "execution_count": 6,
     "metadata": {},
     "output_type": "execute_result"
    },
    {
     "data": {
      "image/png": "[encoded data removed]",
      "text/plain": [
       "<Figure size 432x288 with 1 Axes>"
      ]
     },
     "metadata": {
      "needs_background": "light"
     },
     "output_type": "display_data"
    }
   ],
   "source": [
    "attention_mul = output_mul.predict(test_x)[0]\n",
    "print('Vetor de \"atencao\" ponderado =', attention_mul)\n",
    "plt.bar(np.arange(d), attention_mul)"
   ]
  },
  {
   "cell_type": "code",
   "execution_count": 7,
   "metadata": {
    "colab": {
     "base_uri": "https://localhost:8080/",
     "height": 36
    },
    "id": "WKNJE4NpHdu0",
    "outputId": "077025c5-706d-4d57-c2b0-2129cb79090c"
   },
   "outputs": [
    {
     "name": "stdout",
     "output_type": "stream",
     "text": [
      "Acurácia treinamento: 100.0\n"
     ]
    }
   ],
   "source": [
    "modelD.fit(train_x, train_y, epochs=50, batch_size=16, verbose=0)\n",
    "score1 = modelD.evaluate(train_x, train_y,  verbose=0)\n",
    "print(\"Acurácia treinamento:\", score1[1]*100)"
   ]
  },
  {
   "cell_type": "code",
   "execution_count": 8,
   "metadata": {
    "colab": {
     "base_uri": "https://localhost:8080/",
     "height": 337
    },
    "id": "SXXlEs4VJcnR",
    "outputId": "8bb4e972-0cd3-428a-f87b-c7b6d456077a"
   },
   "outputs": [
    {
     "name": "stdout",
     "output_type": "stream",
     "text": [
      "[[-0.58329351  1.         -0.36327728  1.         -0.34939707  0.02147302\n",
      "   0.66267247 -0.12122994  0.34252481  0.11367529]]\n"
     ]
    },
    {
     "data": {
      "text/plain": [
       "Text(0.5, 1.0, 'Vetor atencao ponderado')"
      ]
     },
     "execution_count": 8,
     "metadata": {},
     "output_type": "execute_result"
    },
    {
     "data": {
      "image/png": "[encoded data removed]",
      "text/plain": [
       "<Figure size 864x288 with 2 Axes>"
      ]
     },
     "metadata": {
      "needs_background": "light"
     },
     "output_type": "display_data"
    }
   ],
   "source": [
    "print(test_x)\n",
    "attention_vector = output_att.predict(test_x)[0]\n",
    "#print('Vetor de \"atencao\" =', attention_vector)\n",
    "plt.figure(figsize=(12,4))\n",
    "plt.subplot(121); plt.bar(np.arange(d), attention_vector); plt.title(\"Vetor atencao\")\n",
    "attention_mul = output_mul.predict(test_x)[0]\n",
    "#print('Vetor de \"atencao\" ponderado =', attention_mul)\n",
    "plt.subplot(122); plt.bar(np.arange(d), attention_mul); plt.title(\"Vetor atencao ponderado\")"
   ]
  },
  {
   "cell_type": "code",
   "execution_count": null,
   "metadata": {
    "id": "iimkRQpgO5eS"
   },
   "outputs": [],
   "source": []
  }
 ],
 "metadata": {
  "colab": {
   "collapsed_sections": [],
   "name": "RNAP-06-Aula-notebook3_attention.ipynb",
   "provenance": []
  },
  "kernelspec": {
   "display_name": "Python 3",
   "language": "python",
   "name": "python3"
  },
  "language_info": {
   "codemirror_mode": {
    "name": "ipython",
    "version": 3
   },
   "file_extension": ".py",
   "mimetype": "text/x-python",
   "name": "python",
   "nbconvert_exporter": "python",
   "pygments_lexer": "ipython3",
   "version": "3.8.10"
  }
 },
 "nbformat": 4,
 "nbformat_minor": 1
}
