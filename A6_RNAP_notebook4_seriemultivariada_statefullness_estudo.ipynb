{
 "cells": [
  {
   "cell_type": "markdown",
   "metadata": {
    "id": "fvaEK6Bn-wwG"
   },
   "source": [
    "## MBA em Ciência de Dados\n",
    "# Redes Neurais e Arquiteturas Profundas\n",
    "\n",
    "### <span style=\"color:darkred\">Módulo 6 - Redes neurais para dados sequenciais</span>\n",
    "\n",
    "#### Material complementar:  <span style=\"color:darkred\">**Séries Multivariadas e Statefulness**</span>\n",
    "\n",
    "Moacir Antonelli Ponti\n",
    "\n",
    "CeMEAI - ICMC/USP São Carlos\n",
    "\n",
    "---\n",
    "\n",
    "Utilizaremos a base de dados 3W (Petrobrás) que possui séries multivariadas medidas em poços de petróleo"
   ]
  },
  {
   "cell_type": "code",
   "execution_count": 1,
   "metadata": {
    "id": "wvtQgvYq_z7v"
   },
   "outputs": [],
   "source": [
    "import numpy as np\n",
    "from pandas import read_csv\n",
    "import pandas as pd\n",
    "\n",
    "import matplotlib.pyplot as plt\n",
    "import tensorflow as tf\n",
    "from tensorflow import keras\n",
    "\n",
    "from numpy.random import seed\n",
    "from tensorflow.random import set_seed\n",
    "\n",
    "from sklearn.metrics import mean_squared_error\n",
    "from math import sqrt\n",
    "\n",
    "# outros \n",
    "df1 = pd.read_csv(\"data/WELL-00001_20140124213136.csv\")\n",
    "df1.dropna(subset=['class'], inplace = True)"
   ]
  },
  {
   "cell_type": "code",
   "execution_count": 2,
   "metadata": {},
   "outputs": [],
   "source": [
    "series = np.array(df1.iloc[:,2:6])"
   ]
  },
  {
   "cell_type": "code",
   "execution_count": 3,
   "metadata": {
    "colab": {
     "base_uri": "https://localhost:8080/",
     "height": 304
    },
    "id": "KgO7dF4s9D7X",
    "outputId": "cab7acb3-61d1-4736-de0e-57a52957ed9d"
   },
   "outputs": [
    {
     "name": "stdout",
     "output_type": "stream",
     "text": [
      "Tamanho da série:  12440\n"
     ]
    }
   ],
   "source": [
    "N = series.shape[0]\n",
    "print(\"Tamanho da série: \", N)"
   ]
  },
  {
   "cell_type": "markdown",
   "metadata": {
    "id": "lWWx5HaQhh-a"
   },
   "source": [
    "## Parte 1: Preparando os dados\n",
    "\n",
    "1. **Separação em treinamento e teste**: o treinamento sempre deve vir antes do teste no caso de dados sequenciais\n",
    "2. **Normalização**: aqui utilizaremos a normalização Min-Max para 0-1\n",
    "3. **Inserção de ruído opcional**: no treinamento e teste para avaliação da robustez dos modelos\n",
    "4. **Formulação como aprendizado supervisionado**: adequando os arrays de forma a permitir uso nas redes neurais"
   ]
  },
  {
   "cell_type": "code",
   "execution_count": 4,
   "metadata": {},
   "outputs": [],
   "source": [
    "# variaveis que definem divisao em treinamento e teste e controlam adição de ruído\n",
    "porc_treinamento = 32\n",
    "inserir_ruido_serie = False\n",
    "inserir_ruido_teste = False\n",
    "porc_ruido = 1"
   ]
  },
  {
   "cell_type": "code",
   "execution_count": 5,
   "metadata": {},
   "outputs": [
    {
     "name": "stdout",
     "output_type": "stream",
     "text": [
      "Exemplos de Treinamento:  3980\n",
      "Exemplos de Teste:  8461\n"
     ]
    }
   ],
   "source": [
    "# calcula tamanhos dos dados de treinamento (n_train) e teste (n_test)\n",
    "n_train = int(len(series)*(porc_treinamento/100.0))\n",
    "n_test = len(series)-n_train+1\n",
    "\n",
    "train_x = series[:n_train]\n",
    "test_x = series[n_train-1:]\n",
    "\n",
    "train_x_norm = np.zeros(train_x.shape)\n",
    "test_x_norm = np.zeros(test_x.shape)\n",
    "\n",
    "for i in range(series.shape[1]):\n",
    "    vmin = train_x[:,i].min()\n",
    "    vmax = train_x[:,i].max()\n",
    "    train_x_norm[:,i] = (train_x[:,i] - vmin)/(vmax - vmin)\n",
    "    test_x_norm[:,i] = (test_x[:,i] - vmin)/(vmax - vmin)\n",
    "\n",
    "print(\"Exemplos de Treinamento: \", n_train)\n",
    "print(\"Exemplos de Teste: \", n_test)"
   ]
  },
  {
   "cell_type": "code",
   "execution_count": 6,
   "metadata": {
    "colab": {
     "base_uri": "https://localhost:8080/",
     "height": 321
    },
    "id": "H1HLKlEHNvY7",
    "outputId": "205535d1-d5df-465a-a448-1abab0197d2b",
    "scrolled": true
   },
   "outputs": [],
   "source": [
    "seed(1)\n",
    "set_seed(1)\n",
    "\n",
    "# insere ruido na serie\n",
    "if (inserir_ruido_serie):\n",
    "    train_x_norm = train_x_norm + np.random.randn(n_train)*(porc_ruido/100.0)\n",
    "\n",
    "# insere ruido apenas no teste\n",
    "if (inserir_ruido_teste):\n",
    "    test_x_norm = test_x_norm + np.random.randn(n_test)*(porc_ruido/100.0)"
   ]
  },
  {
   "cell_type": "markdown",
   "metadata": {
    "id": "tkAi1yZVBnRN"
   },
   "source": [
    "## Parte 2: problema regressão com entrada multivariada\n",
    "\n",
    "Vamos usar as séries 1, 2 e 3 para prever a série 0."
   ]
  },
  {
   "cell_type": "code",
   "execution_count": 7,
   "metadata": {},
   "outputs": [],
   "source": [
    "# Define target y como a série 0\n",
    "train_y_norm = np.array(train_x_norm[:,0], copy=True)\n",
    "test_y_norm = np.array(test_x_norm[:,0], copy=True)\n",
    "\n",
    "# Retira a série 0 dos atributos de treinamento x\n",
    "train_x_norm = np.delete(train_x_norm, 0, 1)\n",
    "test_x_norm = np.delete(test_x_norm, 0, 1)"
   ]
  },
  {
   "cell_type": "code",
   "execution_count": 8,
   "metadata": {
    "scrolled": true
   },
   "outputs": [
    {
     "data": {
      "text/plain": [
       "<matplotlib.legend.Legend at 0x2549230b3a0>"
      ]
     },
     "execution_count": 8,
     "metadata": {},
     "output_type": "execute_result"
    },
    {
     "data": {
      "image/png": "[encoded data removed]",
      "text/plain": [
       "<Figure size 432x288 with 1 Axes>"
      ]
     },
     "metadata": {
      "needs_background": "light"
     },
     "output_type": "display_data"
    }
   ],
   "source": [
    "for i in range(train_x_norm.shape[1]):\n",
    "    plt.plot(np.arange(0, n_train), train_x_norm[:,i], label=str(i))\n",
    "    plt.plot(np.arange(n_train,n_train+n_test), test_x_norm[:,i])\n",
    "\n",
    "plt.plot(np.arange(0, n_train), train_y_norm, label='target')\n",
    "plt.plot(np.arange(n_train,n_train+n_test), test_y_norm)\n",
    "ax = plt.title('Série preparada para os experimentos')\n",
    "plt.legend()"
   ]
  },
  {
   "cell_type": "code",
   "execution_count": 9,
   "metadata": {},
   "outputs": [
    {
     "data": {
      "text/plain": [
       "array([[ 9.82935154e-01,  0.00000000e+00,  1.00000000e+00],\n",
       "       [ 9.82721843e-01, -1.37516098e-04,  1.00037578e+00],\n",
       "       [ 9.82508532e-01, -2.75032196e-04,  1.00074460e+00],\n",
       "       [ 9.82081911e-01, -4.13552061e-04,  1.00112037e+00]])"
      ]
     },
     "execution_count": 9,
     "metadata": {},
     "output_type": "execute_result"
    }
   ],
   "source": [
    "# visualizando o vetor de treino x (3 valores pois temos 3 séries)\n",
    "test_x_norm[:4]"
   ]
  },
  {
   "cell_type": "code",
   "execution_count": 10,
   "metadata": {},
   "outputs": [
    {
     "data": {
      "text/plain": [
       "array([ 0.        , -0.00035237, -0.00070473, -0.0010571 ])"
      ]
     },
     "execution_count": 10,
     "metadata": {},
     "output_type": "execute_result"
    }
   ],
   "source": [
    "# visualizando o vetor de predição y (1 valor pois estamos prevendo 1 série)\n",
    "test_y_norm[:4]"
   ]
  },
  {
   "cell_type": "code",
   "execution_count": 11,
   "metadata": {},
   "outputs": [],
   "source": [
    "# formato deve ser [samples, time steps, features]\n",
    "# data = série de entrada com número de features data.shape[1]\n",
    "# target = série de saída com número de features 1\n",
    "# time_steps é o número de pontos que será observado antes da predição\n",
    "\n",
    "def recurrent_array(data, target, time_steps=1):\n",
    "    \n",
    "    array_in = np.array(np.reshape(data, (-1, data.shape[1])), copy=True)\n",
    "    array_out= np.array(np.reshape(target, (-1, 1)), copy=True)\n",
    "    \n",
    "    train_y_ts = array_out[time_steps:]\n",
    "    train_x_ts = []\n",
    "    for i in range(0, len(array_in) - time_steps):\n",
    "        train_x_ts.append(array_in[i:i+time_steps])\n",
    "        \n",
    "    train_x_ts = np.array(train_x_ts)\n",
    "    \n",
    "    #rec_array = np.reshape(array, (array.shape[0], time_steps, array.shape[1]))\n",
    "    return train_x_ts, train_y_ts"
   ]
  },
  {
   "cell_type": "code",
   "execution_count": 12,
   "metadata": {
    "colab": {
     "base_uri": "https://localhost:8080/",
     "height": 165
    },
    "id": "VqKwoFi3PbeL",
    "outputId": "ebef5dbc-7ed4-4e73-8a83-bf94d5dc3992"
   },
   "outputs": [],
   "source": [
    "time_steps = 2\n",
    "\n",
    "train_x_rec, train_y_rec = recurrent_array(train_x_norm, train_y_norm, time_steps=time_steps)\n",
    "test_x_rec, test_y_rec = recurrent_array(test_x_norm, test_y_norm, time_steps=time_steps)"
   ]
  },
  {
   "cell_type": "code",
   "execution_count": 13,
   "metadata": {},
   "outputs": [
    {
     "name": "stdout",
     "output_type": "stream",
     "text": [
      "Dados de treinamento para rede recorrente\n",
      "Tamanho dos arrays de teste x e y\n",
      "(3978, 2, 3)\n",
      "(3978, 1)\n",
      "\n",
      "Primeiros 5 elementos de teste x e y\n",
      "[[[ 9.82935154e-01  0.00000000e+00  1.00000000e+00]\n",
      "  [ 9.82721843e-01 -1.37516098e-04  1.00037578e+00]]\n",
      "\n",
      " [[ 9.82721843e-01 -1.37516098e-04  1.00037578e+00]\n",
      "  [ 9.82508532e-01 -2.75032196e-04  1.00074460e+00]]\n",
      "\n",
      " [[ 9.82508532e-01 -2.75032196e-04  1.00074460e+00]\n",
      "  [ 9.82081911e-01 -4.13552061e-04  1.00112037e+00]]\n",
      "\n",
      " [[ 9.82081911e-01 -4.13552061e-04  1.00112037e+00]\n",
      "  [ 9.81868601e-01 -5.51068159e-04  1.00149615e+00]]\n",
      "\n",
      " [[ 9.81868601e-01 -5.51068159e-04  1.00149615e+00]\n",
      "  [ 9.81655290e-01 -6.88584257e-04  1.00187193e+00]]]\n",
      "[[-0.00070473]\n",
      " [-0.0010571 ]\n",
      " [-0.00140947]\n",
      " [-0.00176183]\n",
      " [-0.0021142 ]]\n",
      "\n",
      "Número de features: 3\n"
     ]
    }
   ],
   "source": [
    "print('Dados de treinamento para rede recorrente')\n",
    "print('Tamanho dos arrays de teste x e y')\n",
    "print(train_x_rec.shape)\n",
    "print(train_y_rec.shape)\n",
    "\n",
    "print('\\nPrimeiros 5 elementos de teste x e y')\n",
    "print(test_x_rec[:5])\n",
    "print(test_y_rec[:5])\n",
    "\n",
    "no_features = train_x_rec.shape[2]\n",
    "print('\\nNúmero de features:', no_features)"
   ]
  },
  {
   "cell_type": "markdown",
   "metadata": {
    "id": "5dGpbKZKI5oZ"
   },
   "source": [
    "#### Rede com unidades LSTM"
   ]
  },
  {
   "cell_type": "markdown",
   "metadata": {},
   "source": [
    "stateful=False, nesse exemplo\n",
    "\n",
    "gelu = gaussian error linear unit, similar à relu, mas passa dados negativos também, pode ajudar quando a saída não apresenta resultados compatíveis com o esperado\n",
    "\n",
    "Na camada de saída foi usada a função activation='linear' em lugar da 'relu' porque a série, apesar de normalizada pelos dados de treino, apresenta dados negativos e maiores que 1."
   ]
  },
  {
   "cell_type": "code",
   "execution_count": 14,
   "metadata": {
    "colab": {
     "base_uri": "https://localhost:8080/",
     "height": 276
    },
    "id": "kWGmUwwqH3Tq",
    "outputId": "02439c3c-9977-434e-f5df-c75f29fd633a"
   },
   "outputs": [
    {
     "name": "stdout",
     "output_type": "stream",
     "text": [
      "Model: \"sequential\"\n",
      "_________________________________________________________________\n",
      "Layer (type)                 Output Shape              Param #   \n",
      "=================================================================\n",
      "lstm (LSTM)                  (None, None, 16)          1280      \n",
      "_________________________________________________________________\n",
      "lstm_1 (LSTM)                (None, 32)                6272      \n",
      "_________________________________________________________________\n",
      "dropout (Dropout)            (None, 32)                0         \n",
      "_________________________________________________________________\n",
      "dense (Dense)                (None, 1)                 33        \n",
      "=================================================================\n",
      "Total params: 7,585\n",
      "Trainable params: 7,585\n",
      "Non-trainable params: 0\n",
      "_________________________________________________________________\n"
     ]
    }
   ],
   "source": [
    "seed(1)\n",
    "set_seed(1)\n",
    "\n",
    "modelLSTM = keras.models.Sequential()\n",
    "modelLSTM.add(keras.layers.InputLayer((None, no_features)))\n",
    "modelLSTM.add(keras.layers.LSTM(16, return_sequences=True, stateful=False, \n",
    "                                activation='gelu')) # 32\n",
    "modelLSTM.add(keras.layers.LSTM(32, stateful=False, activation='gelu'))\n",
    "modelLSTM.add(keras.layers.Dropout(0.2))\n",
    "modelLSTM.add(keras.layers.Dense(1, activation='linear'))\n",
    "modelLSTM.summary()"
   ]
  },
  {
   "cell_type": "markdown",
   "metadata": {},
   "source": [
    "Importante: Se usar batch_size > 1, colocar shuffle=False no .fit, pois senão ele pode embaralhar os exemplos!"
   ]
  },
  {
   "cell_type": "code",
   "execution_count": 15,
   "metadata": {
    "id": "u7kS_G-yT4_z",
    "scrolled": true
   },
   "outputs": [
    {
     "name": "stdout",
     "output_type": "stream",
     "text": [
      "Época 0000 - learning rate 0.00010000\n",
      "Época 0005 - learning rate 0.00009901\n",
      "Época 0010 - learning rate 0.00009418\n",
      "Época 0015 - learning rate 0.00008958\n",
      "Época 0020 - learning rate 0.00008521\n"
     ]
    }
   ],
   "source": [
    "epochs = 25\n",
    "batch_size = 6 \n",
    "\n",
    "# decaimento de learning rate\n",
    "def scheduler(epoch, lr):\n",
    "    if (epoch % 5 == 0): print(\"Época %04d - learning rate %.8f\" % (epoch, lr))\n",
    "    if (epoch+1 < 5):\n",
    "        return lr\n",
    "    else:\n",
    "        return np.round(lr * tf.math.exp(-0.01),9)\n",
    "\n",
    "callbacklr = tf.keras.callbacks.LearningRateScheduler(scheduler)\n",
    "\n",
    "# compilacao e treinamento\n",
    "modelLSTM.compile(loss='mean_squared_error', \n",
    "            optimizer=keras.optimizers.Adam(learning_rate=0.0001),\n",
    "            metrics=['mae'])\n",
    "\n",
    "# importante aqui\n",
    "histLSTM = modelLSTM.fit(train_x_rec, train_y_rec,  \n",
    "                  batch_size=batch_size, epochs=epochs,\n",
    "                  callbacks=[callbacklr], shuffle=False,\n",
    "                  verbose=0)"
   ]
  },
  {
   "cell_type": "code",
   "execution_count": 16,
   "metadata": {},
   "outputs": [
    {
     "name": "stdout",
     "output_type": "stream",
     "text": [
      "Scores treinamento\n",
      "MSE: 0.0029\n",
      "MAE: 0.0438\n"
     ]
    },
    {
     "data": {
      "image/png": "[encoded data removed]",
      "text/plain": [
       "<Figure size 432x288 with 1 Axes>"
      ]
     },
     "metadata": {
      "needs_background": "light"
     },
     "output_type": "display_data"
    }
   ],
   "source": [
    "scores = modelLSTM.evaluate(train_x_rec, train_y_rec, verbose=0)\n",
    "print('Scores treinamento')\n",
    "print('MSE: %.4f' % (scores[0]))\n",
    "print('MAE: %.4f' % (scores[1]))\n",
    "\n",
    "plt.plot(histLSTM.history['loss'])\n",
    "ax = plt.title('Convergencia de treinamento LSTM')"
   ]
  },
  {
   "cell_type": "code",
   "execution_count": 17,
   "metadata": {},
   "outputs": [
    {
     "name": "stdout",
     "output_type": "stream",
     "text": [
      "Scores test\n",
      "MSE: 0.3961\n",
      "MAE: 0.5860\n"
     ]
    }
   ],
   "source": [
    "scoresT = modelLSTM.evaluate(test_x_rec, test_y_rec, verbose=0)\n",
    "print('Scores test')\n",
    "print('MSE: %.4f' % (scoresT[0]))\n",
    "print('MAE: %.4f' % (scoresT[1]))"
   ]
  },
  {
   "cell_type": "code",
   "execution_count": 19,
   "metadata": {
    "id": "zYYzkppkeAnb"
   },
   "outputs": [],
   "source": [
    "# realiza predicoes com os dados de treinamento e teste\n",
    "train_y_predL = modelLSTM.predict(train_x_rec)\n",
    "train_y_predL = np.reshape(train_y_predL, (-1, 1))[time_steps:]\n",
    "\n",
    "test_y_predL = modelLSTM.predict(test_x_rec)\n",
    "test_y_predL = np.reshape(test_y_predL, (-1, 1))[time_steps:]"
   ]
  },
  {
   "cell_type": "code",
   "execution_count": 20,
   "metadata": {
    "colab": {
     "base_uri": "https://localhost:8080/",
     "height": 284
    },
    "id": "NkY3bse8KaH8",
    "outputId": "44a7e5cc-c4e1-4f52-d145-d892b4ab581e"
   },
   "outputs": [
    {
     "data": {
      "image/png": "[encoded data removed]",
      "text/plain": [
       "<Figure size 648x432 with 1 Axes>"
      ]
     },
     "metadata": {
      "needs_background": "light"
     },
     "output_type": "display_data"
    }
   ],
   "source": [
    "fig = plt.figure(figsize=(9,6))\n",
    "plt.plot(np.arange(time_steps, len(test_y_predL)+time_steps), \n",
    "         test_y_predL, label='pred test')\n",
    "plt.plot(test_y_norm, '--', label='test')\n",
    "plt.legend()\n",
    "axt = plt.title('Training + Testing')\n",
    "plt.show()"
   ]
  },
  {
   "cell_type": "markdown",
   "metadata": {
    "id": "lRiqHHRW6DOq"
   },
   "source": [
    "## Parte 3: Statefullness\n",
    "\n",
    "Ao considerar uma unidade recorrente como \"*stateful*\" estamos indicando que cada seleção de batch é a continuação da anterior.\n",
    "\n",
    "Isso só é possível se usarmos batches sequenciais e sem embaralhamento (shuffle) por isso a recomendação anterior de usar batchsize 1 para predição do próximo instante de tempo.\n",
    "\n",
    "O *stateful* também permite que a LSTM mantenha a memória mesmo quando usamos time_step=1, desde que os batches sejam sequenciais, de forma que cada posição do batch na iteração $j$ é uma continuação da mesma posição do batch $j-1$\n",
    "\n",
    "Além disso:\n",
    "* é preciso especificar na própria arquitetura o batch size \n",
    "* o batch_size tem que ser divisível pelo total de exemplos de treinamento para não haver sobras no final da época\n",
    "* LayerNormalization passa a ser necessário para evitar problemas com a magnitude do gradiente. Ao retirá-lo obtemos `nan` como valor de custo após algumas épocas"
   ]
  },
  {
   "cell_type": "code",
   "execution_count": 21,
   "metadata": {},
   "outputs": [
    {
     "name": "stdout",
     "output_type": "stream",
     "text": [
      "3978\n",
      "1989.0\n"
     ]
    }
   ],
   "source": [
    "print(train_x_rec.shape[0])\n",
    "batch_size = 2\n",
    "print(train_x_rec.shape[0]/batch_size)"
   ]
  },
  {
   "cell_type": "markdown",
   "metadata": {},
   "source": [
    "Nesse exemplo, stateful=True, significa que vai manter a memória para o próximo batch e para a próxima epoch.\n",
    "\n",
    "Incluída a camada LayerNormalization para manter a energia do sinal, de modo que não perca muito a informação, sem ela a saída função de custo pode dar NaN, a saída da camada anterior estava dando resultados com valores muito pequenos. Não usada a BatchNormalization porque iria normalizar ao longo do batch, e com batch pequeno de tamnaho 2 que está sendo usado não faria sentido (fazer a média e desvio-padrão de 2 elementos). Normalização em camada vai normalizar os 32 features da camada LSTM.\n",
    "\n",
    "LayerNormalization normaliza entre -1 e 1, por isso na camada anterior não foi usada a função de ativação, ele foi colocada e explicitada somente depois da normalização.\n"
   ]
  },
  {
   "cell_type": "code",
   "execution_count": 22,
   "metadata": {
    "colab": {
     "base_uri": "https://localhost:8080/",
     "height": 276
    },
    "id": "6dqW-ikP6Db6",
    "outputId": "946f8853-e701-4da7-b722-481e5c1a75f6"
   },
   "outputs": [
    {
     "name": "stdout",
     "output_type": "stream",
     "text": [
      "Model: \"sequential_1\"\n",
      "_________________________________________________________________\n",
      "Layer (type)                 Output Shape              Param #   \n",
      "=================================================================\n",
      "lstm_2 (LSTM)                (2, 2, 16)                1280      \n",
      "_________________________________________________________________\n",
      "activation (Activation)      (2, 2, 16)                0         \n",
      "_________________________________________________________________\n",
      "lstm_3 (LSTM)                (2, 32)                   6272      \n",
      "_________________________________________________________________\n",
      "layer_normalization (LayerNo (2, 32)                   64        \n",
      "_________________________________________________________________\n",
      "activation_1 (Activation)    (2, 32)                   0         \n",
      "_________________________________________________________________\n",
      "dropout_1 (Dropout)          (2, 32)                   0         \n",
      "_________________________________________________________________\n",
      "dense_1 (Dense)              (2, 1)                    33        \n",
      "=================================================================\n",
      "Total params: 7,649\n",
      "Trainable params: 7,649\n",
      "Non-trainable params: 0\n",
      "_________________________________________________________________\n"
     ]
    }
   ],
   "source": [
    "no_features = 3\n",
    "\n",
    "seed(1)\n",
    "set_seed(1)\n",
    "\n",
    "modelLSTMs = keras.models.Sequential()\n",
    "# notar a especificacao da entrada\n",
    "modelLSTMs.add(keras.layers.InputLayer(\n",
    "    batch_input_shape=(batch_size, train_x_rec.shape[1], train_x_rec.shape[2])))\n",
    "modelLSTMs.add(keras.layers.LSTM(16, return_sequences=True, stateful=True))\n",
    "modelLSTMs.add(keras.layers.Activation('gelu'))\n",
    "modelLSTMs.add(keras.layers.LSTM(32, stateful=True))\n",
    "modelLSTMs.add(keras.layers.LayerNormalization())\n",
    "modelLSTMs.add(keras.layers.Activation('gelu'))\n",
    "modelLSTMs.add(keras.layers.Dropout(0.5))\n",
    "modelLSTMs.add(keras.layers.Dense(1, activation='linear'))\n",
    "modelLSTMs.summary()"
   ]
  },
  {
   "cell_type": "markdown",
   "metadata": {},
   "source": [
    "Nesse tipo de modelo, é mais indicado resetar os estados das unidades LSTM a cada época.\n",
    "- caso queiramos fazer decrescer o learning rate, então também é preciso re-compilar o modelo com o valor a cada época"
   ]
  },
  {
   "cell_type": "markdown",
   "metadata": {},
   "source": [
    "Não é bom memorizar por muitas épocas, então no treinamento coloca-se o reset_states, para não reutilizar numa próxima vez.\n",
    "\n",
    "Reseta os estados das camadas recorrentes após 1 época (epochs=1), não reseta os pesos da rede."
   ]
  },
  {
   "cell_type": "code",
   "execution_count": 23,
   "metadata": {
    "id": "2BYxFsqC6Ig2"
   },
   "outputs": [
    {
     "name": "stdout",
     "output_type": "stream",
     "text": [
      "Época 0000 - learning rate 0.00005000\n",
      "1989/1989 [==============================] - 6s 2ms/step - loss: 0.1090 - mae: 0.2308\n",
      "1989/1989 [==============================] - 6s 2ms/step - loss: 0.0544 - mae: 0.1499\n",
      "1989/1989 [==============================] - 7s 2ms/step - loss: 0.0249 - mae: 0.1074\n",
      "1989/1989 [==============================] - 7s 2ms/step - loss: 0.0187 - mae: 0.0942\n",
      "1989/1989 [==============================] - 7s 2ms/step - loss: 0.0161 - mae: 0.0874\n",
      "Época 0005 - learning rate 0.00004950\n",
      "1989/1989 [==============================] - 7s 2ms/step - loss: 0.0147 - mae: 0.0833\n",
      "1989/1989 [==============================] - 7s 2ms/step - loss: 0.0138 - mae: 0.0804\n",
      "1989/1989 [==============================] - 7s 2ms/step - loss: 0.0131 - mae: 0.0780\n",
      "1989/1989 [==============================] - 7s 2ms/step - loss: 0.0126 - mae: 0.0760\n",
      "1989/1989 [==============================] - 7s 2ms/step - loss: 0.0121 - mae: 0.0742\n",
      "Época 0010 - learning rate 0.00004709\n",
      "1989/1989 [==============================] - 7s 2ms/step - loss: 0.0116 - mae: 0.0726\n",
      "1989/1989 [==============================] - 8s 2ms/step - loss: 0.0112 - mae: 0.0711\n",
      "1989/1989 [==============================] - 8s 3ms/step - loss: 0.0108 - mae: 0.0697\n",
      "1989/1989 [==============================] - 6s 2ms/step - loss: 0.0105 - mae: 0.0684\n",
      "1989/1989 [==============================] - 8s 3ms/step - loss: 0.0101 - mae: 0.0673\n"
     ]
    }
   ],
   "source": [
    "epochs = 15\n",
    "\n",
    "# compilacao e treinamento\n",
    "lr = 0.00005\n",
    "histLSTMs = []\n",
    "for i in range(epochs):\n",
    "    lr = scheduler(i, lr)\n",
    "    modelLSTMs.compile(loss='mean_squared_error', \n",
    "            optimizer=keras.optimizers.Adam(learning_rate=lr),\n",
    "            metrics=['mae'])\n",
    "    hist = modelLSTMs.fit(train_x_rec, train_y_rec,  \n",
    "                  batch_size=batch_size, epochs=1,\n",
    "                  shuffle=False,\n",
    "                  verbose=1)\n",
    "    modelLSTMs.reset_states()\n",
    "    \n",
    "    histLSTMs.append(hist.history['loss'])"
   ]
  },
  {
   "cell_type": "code",
   "execution_count": 24,
   "metadata": {},
   "outputs": [
    {
     "name": "stdout",
     "output_type": "stream",
     "text": [
      "Scores treinamento\n",
      "MSE: 0.0055\n",
      "MAE: 0.0580\n"
     ]
    }
   ],
   "source": [
    "scores = modelLSTMs.evaluate(train_x_rec, train_y_rec, batch_size=batch_size, verbose=0)\n",
    "print('Scores treinamento')\n",
    "print('MSE: %.4f' % (scores[0]))\n",
    "print('MAE: %.4f' % (scores[1]))"
   ]
  },
  {
   "cell_type": "code",
   "execution_count": 25,
   "metadata": {},
   "outputs": [
    {
     "ename": "NameError",
     "evalue": "name 'new_batch_size' is not defined",
     "output_type": "error",
     "traceback": [
      "\u001b[1;31m---------------------------------------------------------------------------\u001b[0m",
      "\u001b[1;31mNameError\u001b[0m                                 Traceback (most recent call last)",
      "\u001b[1;32m<ipython-input-25-953c7fb53efb>\u001b[0m in \u001b[0;36m<module>\u001b[1;34m\u001b[0m\n\u001b[0;32m      1\u001b[0m scoresT = modelLSTMs.evaluate(test_x_rec, test_y_rec, \n\u001b[1;32m----> 2\u001b[1;33m                               batch_size=new_batch_size, verbose=0)\n\u001b[0m\u001b[0;32m      3\u001b[0m \u001b[0mprint\u001b[0m\u001b[1;33m(\u001b[0m\u001b[1;34m'Scores test'\u001b[0m\u001b[1;33m)\u001b[0m\u001b[1;33m\u001b[0m\u001b[1;33m\u001b[0m\u001b[0m\n\u001b[0;32m      4\u001b[0m \u001b[0mprint\u001b[0m\u001b[1;33m(\u001b[0m\u001b[1;34m'MSE: %.4f'\u001b[0m \u001b[1;33m%\u001b[0m \u001b[1;33m(\u001b[0m\u001b[0mscoresT\u001b[0m\u001b[1;33m[\u001b[0m\u001b[1;36m0\u001b[0m\u001b[1;33m]\u001b[0m\u001b[1;33m)\u001b[0m\u001b[1;33m)\u001b[0m\u001b[1;33m\u001b[0m\u001b[1;33m\u001b[0m\u001b[0m\n\u001b[0;32m      5\u001b[0m \u001b[0mprint\u001b[0m\u001b[1;33m(\u001b[0m\u001b[1;34m'MAE: %.4f'\u001b[0m \u001b[1;33m%\u001b[0m \u001b[1;33m(\u001b[0m\u001b[0mscoresT\u001b[0m\u001b[1;33m[\u001b[0m\u001b[1;36m1\u001b[0m\u001b[1;33m]\u001b[0m\u001b[1;33m)\u001b[0m\u001b[1;33m)\u001b[0m\u001b[1;33m\u001b[0m\u001b[1;33m\u001b[0m\u001b[0m\n",
      "\u001b[1;31mNameError\u001b[0m: name 'new_batch_size' is not defined"
     ]
    }
   ],
   "source": [
    "scoresT = modelLSTMs.evaluate(test_x_rec, test_y_rec, \n",
    "                              batch_size=new_batch_size, verbose=0)\n",
    "print('Scores test')\n",
    "print('MSE: %.4f' % (scoresT[0]))\n",
    "print('MAE: %.4f' % (scoresT[1]))"
   ]
  },
  {
   "cell_type": "markdown",
   "metadata": {},
   "source": [
    "Como o modelo foi criado com batch_size fixo e relacionado ao conjunto de treinamento, depois não conseguimos usá-lo para outras inferências e testes\n",
    "\n",
    "Assim é preciso criar um novo modelo com batch_size=1 e setar os pesos do modelo treinado"
   ]
  },
  {
   "cell_type": "code",
   "execution_count": 26,
   "metadata": {},
   "outputs": [
    {
     "name": "stdout",
     "output_type": "stream",
     "text": [
      "Model: \"sequential_2\"\n",
      "_________________________________________________________________\n",
      "Layer (type)                 Output Shape              Param #   \n",
      "=================================================================\n",
      "lstm_4 (LSTM)                (1, 2, 16)                1280      \n",
      "_________________________________________________________________\n",
      "activation_2 (Activation)    (1, 2, 16)                0         \n",
      "_________________________________________________________________\n",
      "lstm_5 (LSTM)                (1, 32)                   6272      \n",
      "_________________________________________________________________\n",
      "layer_normalization_1 (Layer (1, 32)                   64        \n",
      "_________________________________________________________________\n",
      "activation_3 (Activation)    (1, 32)                   0         \n",
      "_________________________________________________________________\n",
      "dense_2 (Dense)              (1, 1)                    33        \n",
      "=================================================================\n",
      "Total params: 7,649\n",
      "Trainable params: 7,649\n",
      "Non-trainable params: 0\n",
      "_________________________________________________________________\n"
     ]
    }
   ],
   "source": [
    "new_batch_size = 1\n",
    "\n",
    "# redefinir batch_size de entrada requer montar um novo modelo, \n",
    "# deve ser identico ao outro exceto pela entrada\n",
    "inference_model = keras.models.Sequential()\n",
    "inference_model.add(keras.layers.InputLayer(\n",
    "    batch_input_shape=(new_batch_size, train_x_rec.shape[1], train_x_rec.shape[2])))\n",
    "inference_model.add(keras.layers.LSTM(16, return_sequences=True, stateful=True))\n",
    "inference_model.add(keras.layers.Activation('gelu'))\n",
    "inference_model.add(keras.layers.LSTM(32, stateful=True))\n",
    "inference_model.add(keras.layers.LayerNormalization())\n",
    "inference_model.add(keras.layers.Activation('gelu'))\n",
    "inference_model.add(keras.layers.Dense(1, activation='linear'))\n",
    "inference_model.summary()\n",
    "\n",
    "inference_model.compile(loss='mean_squared_error', \n",
    "            optimizer=keras.optimizers.Adam(learning_rate=0.0001),\n",
    "            metrics=['mae'])\n",
    "\n",
    "# copia pesos do modelo anterior\n",
    "pesos_modelo = modelLSTMs.get_weights()\n",
    "inference_model.set_weights(pesos_modelo)"
   ]
  },
  {
   "cell_type": "code",
   "execution_count": 27,
   "metadata": {},
   "outputs": [
    {
     "name": "stdout",
     "output_type": "stream",
     "text": [
      "Scores test\n",
      "MSE: 0.0050\n",
      "MAE: 0.0616\n"
     ]
    }
   ],
   "source": [
    "scoresT = inference_model.evaluate(test_x_rec, test_y_rec, \n",
    "                                   batch_size=new_batch_size, verbose=0)\n",
    "print('Scores test')\n",
    "print('MSE: %.4f' % (scoresT[0]))\n",
    "print('MAE: %.4f' % (scoresT[1]))"
   ]
  },
  {
   "cell_type": "code",
   "execution_count": 28,
   "metadata": {
    "id": "K8W2s1Mx6N35"
   },
   "outputs": [
    {
     "data": {
      "image/png": "[encoded data removed]",
      "text/plain": [
       "<Figure size 432x288 with 1 Axes>"
      ]
     },
     "metadata": {
      "needs_background": "light"
     },
     "output_type": "display_data"
    }
   ],
   "source": [
    "plt.plot(histLSTMs)\n",
    "ax = plt.title('Convergencia de treinamento modelLSTMs')"
   ]
  },
  {
   "cell_type": "code",
   "execution_count": 29,
   "metadata": {
    "colab": {
     "base_uri": "https://localhost:8080/",
     "height": 284
    },
    "id": "9V3C-8ML6Qsz",
    "outputId": "f3510dcd-f8bd-477b-dba4-52d27a9f8f6f"
   },
   "outputs": [],
   "source": [
    "# realiza predicoes com os dados de treinamento e teste\n",
    "train_y_predS = inference_model.predict(train_x_rec, batch_size=new_batch_size)\n",
    "train_y_predS = np.reshape(train_y_predS, (-1, 1))[time_steps:]\n",
    "\n",
    "test_y_predS = inference_model.predict(test_x_rec, batch_size=new_batch_size)\n",
    "test_y_predS = np.reshape(test_y_predS, (-1, 1))[time_steps:]"
   ]
  },
  {
   "cell_type": "code",
   "execution_count": 30,
   "metadata": {
    "colab": {
     "base_uri": "https://localhost:8080/",
     "height": 36
    },
    "id": "I-uAA6hRGfcz",
    "outputId": "1cc6f2fd-c307-41ea-bc50-166922984d4c"
   },
   "outputs": [
    {
     "data": {
      "image/png": "[encoded data removed]",
      "text/plain": [
       "<Figure size 648x432 with 1 Axes>"
      ]
     },
     "metadata": {
      "needs_background": "light"
     },
     "output_type": "display_data"
    }
   ],
   "source": [
    "fig = plt.figure(figsize=(9,6))\n",
    "plt.plot(np.arange(time_steps,len(test_y_predS)+time_steps),\n",
    "         test_y_predS, label='pred test')\n",
    "plt.plot(test_y_norm, '--', label='test')\n",
    "plt.legend()\n",
    "axt = plt.title('Training + Testing')\n",
    "plt.show()"
   ]
  },
  {
   "cell_type": "code",
   "execution_count": null,
   "metadata": {},
   "outputs": [],
   "source": []
  }
 ],
 "metadata": {
  "accelerator": "GPU",
  "colab": {
   "collapsed_sections": [],
   "name": "RNAP-06-Aula-notebook1_lstm.ipynb",
   "provenance": []
  },
  "kernelspec": {
   "display_name": "Python 3",
   "language": "python",
   "name": "python3"
  },
  "language_info": {
   "codemirror_mode": {
    "name": "ipython",
    "version": 3
   },
   "file_extension": ".py",
   "mimetype": "text/x-python",
   "name": "python",
   "nbconvert_exporter": "python",
   "pygments_lexer": "ipython3",
   "version": "3.8.10"
  }
 },
 "nbformat": 4,
 "nbformat_minor": 1
}
